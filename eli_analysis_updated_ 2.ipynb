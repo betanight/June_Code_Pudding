{
 "cells": [
  {
   "cell_type": "markdown",
   "metadata": {},
   "source": [
    "# June Code Pudding Analysis"
   ]
  },
  {
   "cell_type": "markdown",
   "metadata": {},
   "source": [
    "## Spotify Music Analysis Project"
   ]
  },
  {
   "cell_type": "markdown",
   "metadata": {},
   "source": [
    "Data Overview:\n",
    "We're analyzing a dataset of `1,994` songs from Spotify spanning from `1956` to `2019`. The dataset includes key musical features like tempo, energy, danceability, and popularity scores.\n",
    "\n",
    "Our Process:\n",
    "1. Data Loading & Cleaning\n",
    "   - Loaded Spotify dataset containing `15` different features\n",
    "   - Verified data quality (no missing values)\n",
    "   - Cleaned numerical data for analysis\n",
    "\n",
    "2. Initial Analysis\n",
    "   - Explored genre distribution (dominated by `album rock` with `413` songs)\n",
    "   - Identified top artists (`Queen` leads with `37` songs)\n",
    "   - Examined popularity patterns across different genres\n",
    "\n",
    "3. Deep Dive\n",
    "   - Created correlation matrices to understand feature relationships\n",
    "   - Analyzed distribution patterns of key musical elements\n",
    "   - Discovered that popularity isn't strongly tied to any single feature\n",
    "\n",
    "Next Steps:\n",
    "We'll create an interactive Dash-Plotly dashboard to:\n",
    "- Visualize trends over time\n",
    "- Allow users to explore relationships between musical features\n",
    "- Compare different genres and artists\n",
    "- Provide insights into what makes songs popular\n",
    "\n",
    "This will help both music enthusiasts and industry professionals understand patterns in popular music over the past six decades."
   ]
  },
  {
   "cell_type": "markdown",
   "metadata": {},
   "source": [
    "### Data Loading and Cleaning"
   ]
  },
  {
   "cell_type": "code",
   "execution_count": 1,
   "metadata": {},
   "outputs": [],
   "source": [
    "import pandas as pd\n",
    "import numpy as np\n",
    "import os\n",
    "import plotly.express as px\n",
    "import plotly.graph_objects as go\n",
    "from dash import Dash, dcc, html\n",
    "#import spotipy\n",
    "from sklearn import preprocessing, metrics\n",
    "import seaborn as sns\n",
    "import matplotlib.pyplot as plt"
   ]
  },
  {
   "cell_type": "code",
   "execution_count": 2,
   "metadata": {},
   "outputs": [
    {
     "data": {
      "application/vnd.microsoft.datawrangler.viewer.v0+json": {
       "columns": [
        {
         "name": "index",
         "rawType": "int64",
         "type": "integer"
        },
        {
         "name": "Index",
         "rawType": "int64",
         "type": "integer"
        },
        {
         "name": "Title",
         "rawType": "object",
         "type": "string"
        },
        {
         "name": "Artist",
         "rawType": "object",
         "type": "string"
        },
        {
         "name": "Top Genre",
         "rawType": "object",
         "type": "string"
        },
        {
         "name": "Year",
         "rawType": "int64",
         "type": "integer"
        },
        {
         "name": "Beats Per Minute (BPM)",
         "rawType": "int64",
         "type": "integer"
        },
        {
         "name": "Energy",
         "rawType": "int64",
         "type": "integer"
        },
        {
         "name": "Danceability",
         "rawType": "int64",
         "type": "integer"
        },
        {
         "name": "Loudness (dB)",
         "rawType": "int64",
         "type": "integer"
        },
        {
         "name": "Liveness",
         "rawType": "int64",
         "type": "integer"
        },
        {
         "name": "Valence",
         "rawType": "int64",
         "type": "integer"
        },
        {
         "name": "Length (Duration)",
         "rawType": "object",
         "type": "string"
        },
        {
         "name": "Acousticness",
         "rawType": "int64",
         "type": "integer"
        },
        {
         "name": "Speechiness",
         "rawType": "int64",
         "type": "integer"
        },
        {
         "name": "Popularity",
         "rawType": "int64",
         "type": "integer"
        }
       ],
       "ref": "e98b15ac-76a7-4f24-aa6a-dc586f826f9e",
       "rows": [
        [
         "0",
         "1",
         "Sunrise",
         "Norah Jones",
         "adult standards",
         "2004",
         "157",
         "30",
         "53",
         "-14",
         "11",
         "68",
         "201",
         "94",
         "3",
         "71"
        ],
        [
         "1",
         "2",
         "Black Night",
         "Deep Purple",
         "album rock",
         "2000",
         "135",
         "79",
         "50",
         "-11",
         "17",
         "81",
         "207",
         "17",
         "7",
         "39"
        ],
        [
         "2",
         "3",
         "Clint Eastwood",
         "Gorillaz",
         "alternative hip hop",
         "2001",
         "168",
         "69",
         "66",
         "-9",
         "7",
         "52",
         "341",
         "2",
         "17",
         "69"
        ],
        [
         "3",
         "4",
         "The Pretender",
         "Foo Fighters",
         "alternative metal",
         "2007",
         "173",
         "96",
         "43",
         "-4",
         "3",
         "37",
         "269",
         "0",
         "4",
         "76"
        ],
        [
         "4",
         "5",
         "Waitin' On A Sunny Day",
         "Bruce Springsteen",
         "classic rock",
         "2002",
         "106",
         "82",
         "58",
         "-5",
         "10",
         "87",
         "256",
         "1",
         "3",
         "59"
        ]
       ],
       "shape": {
        "columns": 15,
        "rows": 5
       }
      },
      "text/html": [
       "<div>\n",
       "<style scoped>\n",
       "    .dataframe tbody tr th:only-of-type {\n",
       "        vertical-align: middle;\n",
       "    }\n",
       "\n",
       "    .dataframe tbody tr th {\n",
       "        vertical-align: top;\n",
       "    }\n",
       "\n",
       "    .dataframe thead th {\n",
       "        text-align: right;\n",
       "    }\n",
       "</style>\n",
       "<table border=\"1\" class=\"dataframe\">\n",
       "  <thead>\n",
       "    <tr style=\"text-align: right;\">\n",
       "      <th></th>\n",
       "      <th>Index</th>\n",
       "      <th>Title</th>\n",
       "      <th>Artist</th>\n",
       "      <th>Top Genre</th>\n",
       "      <th>Year</th>\n",
       "      <th>Beats Per Minute (BPM)</th>\n",
       "      <th>Energy</th>\n",
       "      <th>Danceability</th>\n",
       "      <th>Loudness (dB)</th>\n",
       "      <th>Liveness</th>\n",
       "      <th>Valence</th>\n",
       "      <th>Length (Duration)</th>\n",
       "      <th>Acousticness</th>\n",
       "      <th>Speechiness</th>\n",
       "      <th>Popularity</th>\n",
       "    </tr>\n",
       "  </thead>\n",
       "  <tbody>\n",
       "    <tr>\n",
       "      <th>0</th>\n",
       "      <td>1</td>\n",
       "      <td>Sunrise</td>\n",
       "      <td>Norah Jones</td>\n",
       "      <td>adult standards</td>\n",
       "      <td>2004</td>\n",
       "      <td>157</td>\n",
       "      <td>30</td>\n",
       "      <td>53</td>\n",
       "      <td>-14</td>\n",
       "      <td>11</td>\n",
       "      <td>68</td>\n",
       "      <td>201</td>\n",
       "      <td>94</td>\n",
       "      <td>3</td>\n",
       "      <td>71</td>\n",
       "    </tr>\n",
       "    <tr>\n",
       "      <th>1</th>\n",
       "      <td>2</td>\n",
       "      <td>Black Night</td>\n",
       "      <td>Deep Purple</td>\n",
       "      <td>album rock</td>\n",
       "      <td>2000</td>\n",
       "      <td>135</td>\n",
       "      <td>79</td>\n",
       "      <td>50</td>\n",
       "      <td>-11</td>\n",
       "      <td>17</td>\n",
       "      <td>81</td>\n",
       "      <td>207</td>\n",
       "      <td>17</td>\n",
       "      <td>7</td>\n",
       "      <td>39</td>\n",
       "    </tr>\n",
       "    <tr>\n",
       "      <th>2</th>\n",
       "      <td>3</td>\n",
       "      <td>Clint Eastwood</td>\n",
       "      <td>Gorillaz</td>\n",
       "      <td>alternative hip hop</td>\n",
       "      <td>2001</td>\n",
       "      <td>168</td>\n",
       "      <td>69</td>\n",
       "      <td>66</td>\n",
       "      <td>-9</td>\n",
       "      <td>7</td>\n",
       "      <td>52</td>\n",
       "      <td>341</td>\n",
       "      <td>2</td>\n",
       "      <td>17</td>\n",
       "      <td>69</td>\n",
       "    </tr>\n",
       "    <tr>\n",
       "      <th>3</th>\n",
       "      <td>4</td>\n",
       "      <td>The Pretender</td>\n",
       "      <td>Foo Fighters</td>\n",
       "      <td>alternative metal</td>\n",
       "      <td>2007</td>\n",
       "      <td>173</td>\n",
       "      <td>96</td>\n",
       "      <td>43</td>\n",
       "      <td>-4</td>\n",
       "      <td>3</td>\n",
       "      <td>37</td>\n",
       "      <td>269</td>\n",
       "      <td>0</td>\n",
       "      <td>4</td>\n",
       "      <td>76</td>\n",
       "    </tr>\n",
       "    <tr>\n",
       "      <th>4</th>\n",
       "      <td>5</td>\n",
       "      <td>Waitin' On A Sunny Day</td>\n",
       "      <td>Bruce Springsteen</td>\n",
       "      <td>classic rock</td>\n",
       "      <td>2002</td>\n",
       "      <td>106</td>\n",
       "      <td>82</td>\n",
       "      <td>58</td>\n",
       "      <td>-5</td>\n",
       "      <td>10</td>\n",
       "      <td>87</td>\n",
       "      <td>256</td>\n",
       "      <td>1</td>\n",
       "      <td>3</td>\n",
       "      <td>59</td>\n",
       "    </tr>\n",
       "  </tbody>\n",
       "</table>\n",
       "</div>"
      ],
      "text/plain": [
       "   Index                   Title             Artist            Top Genre  \\\n",
       "0      1                 Sunrise        Norah Jones      adult standards   \n",
       "1      2             Black Night        Deep Purple           album rock   \n",
       "2      3          Clint Eastwood           Gorillaz  alternative hip hop   \n",
       "3      4           The Pretender       Foo Fighters    alternative metal   \n",
       "4      5  Waitin' On A Sunny Day  Bruce Springsteen         classic rock   \n",
       "\n",
       "   Year  Beats Per Minute (BPM)  Energy  Danceability  Loudness (dB)  \\\n",
       "0  2004                     157      30            53            -14   \n",
       "1  2000                     135      79            50            -11   \n",
       "2  2001                     168      69            66             -9   \n",
       "3  2007                     173      96            43             -4   \n",
       "4  2002                     106      82            58             -5   \n",
       "\n",
       "   Liveness  Valence Length (Duration)  Acousticness  Speechiness  Popularity  \n",
       "0        11       68               201            94            3          71  \n",
       "1        17       81               207            17            7          39  \n",
       "2         7       52               341             2           17          69  \n",
       "3         3       37               269             0            4          76  \n",
       "4        10       87               256             1            3          59  "
      ]
     },
     "execution_count": 2,
     "metadata": {},
     "output_type": "execute_result"
    }
   ],
   "source": [
    "dataset_path = os.path.join('data', 'spotify-2000.csv')\n",
    "df = pd.read_csv(dataset_path)\n",
    "\n",
    "df.head()\n",
    "\n"
   ]
  },
  {
   "cell_type": "code",
   "execution_count": 3,
   "metadata": {},
   "outputs": [
    {
     "name": "stdout",
     "output_type": "stream",
     "text": [
      "Dataset Shape: (1994, 15)\n",
      "\n",
      "Basic Statistics:\n",
      "\n",
      "Missing Values:\n"
     ]
    },
    {
     "data": {
      "application/vnd.microsoft.datawrangler.viewer.v0+json": {
       "columns": [
        {
         "name": "index",
         "rawType": "object",
         "type": "string"
        },
        {
         "name": "0",
         "rawType": "int64",
         "type": "integer"
        }
       ],
       "ref": "fb8f0dd7-cf52-4a4c-a3dc-b61f8875571a",
       "rows": [
        [
         "Index",
         "0"
        ],
        [
         "Title",
         "0"
        ],
        [
         "Artist",
         "0"
        ],
        [
         "Top Genre",
         "0"
        ],
        [
         "Year",
         "0"
        ],
        [
         "Beats Per Minute (BPM)",
         "0"
        ],
        [
         "Energy",
         "0"
        ],
        [
         "Danceability",
         "0"
        ],
        [
         "Loudness (dB)",
         "0"
        ],
        [
         "Liveness",
         "0"
        ],
        [
         "Valence",
         "0"
        ],
        [
         "Length (Duration)",
         "0"
        ],
        [
         "Acousticness",
         "0"
        ],
        [
         "Speechiness",
         "0"
        ],
        [
         "Popularity",
         "0"
        ]
       ],
       "shape": {
        "columns": 1,
        "rows": 15
       }
      },
      "text/plain": [
       "Index                     0\n",
       "Title                     0\n",
       "Artist                    0\n",
       "Top Genre                 0\n",
       "Year                      0\n",
       "Beats Per Minute (BPM)    0\n",
       "Energy                    0\n",
       "Danceability              0\n",
       "Loudness (dB)             0\n",
       "Liveness                  0\n",
       "Valence                   0\n",
       "Length (Duration)         0\n",
       "Acousticness              0\n",
       "Speechiness               0\n",
       "Popularity                0\n",
       "dtype: int64"
      ]
     },
     "execution_count": 3,
     "metadata": {},
     "output_type": "execute_result"
    }
   ],
   "source": [
    "# Basic statistics per each numerical columns\n",
    "print(\"Dataset Shape:\", df.shape)\n",
    "print(\"\\nBasic Statistics:\")\n",
    "df.describe()\n",
    "\n",
    "# Check for any missing values\n",
    "print(\"\\nMissing Values:\")\n",
    "df.isnull().sum()"
   ]
  },
  {
   "cell_type": "markdown",
   "metadata": {},
   "source": [
    "The initial data exploration revealed that we have a clean, complete dataset of `1,994 `songs with no missing values across 15 features. This is significant because:\n",
    "1. No `data cleaning` or handling of `missing values` is required\n",
    "2. All `15 features `can be used for analysis without `data loss`\n",
    "3. The dataset `size` is substantial enough for meaningful `statistical analysis`\n",
    "4. The features cover both `numerical` (`BPM`, `Energy`, etc.) and categorical (`Artist`, Gen`re) data types\n",
    "\n",
    "This clean state means we can proceed directly with more complex analyses without preprocessing steps."
   ]
  },
  {
   "cell_type": "markdown",
   "metadata": {},
   "source": [
    "### Initial Analysis"
   ]
  },
  {
   "cell_type": "code",
   "execution_count": 4,
   "metadata": {},
   "outputs": [
    {
     "name": "stdout",
     "output_type": "stream",
     "text": [
      "\n",
      "Detailed Statistics of Numerical Features:\n"
     ]
    },
    {
     "data": {
      "application/vnd.microsoft.datawrangler.viewer.v0+json": {
       "columns": [
        {
         "name": "index",
         "rawType": "object",
         "type": "string"
        },
        {
         "name": "Index",
         "rawType": "float64",
         "type": "float"
        },
        {
         "name": "Year",
         "rawType": "float64",
         "type": "float"
        },
        {
         "name": "Beats Per Minute (BPM)",
         "rawType": "float64",
         "type": "float"
        },
        {
         "name": "Energy",
         "rawType": "float64",
         "type": "float"
        },
        {
         "name": "Danceability",
         "rawType": "float64",
         "type": "float"
        },
        {
         "name": "Loudness (dB)",
         "rawType": "float64",
         "type": "float"
        },
        {
         "name": "Liveness",
         "rawType": "float64",
         "type": "float"
        },
        {
         "name": "Valence",
         "rawType": "float64",
         "type": "float"
        },
        {
         "name": "Acousticness",
         "rawType": "float64",
         "type": "float"
        },
        {
         "name": "Speechiness",
         "rawType": "float64",
         "type": "float"
        },
        {
         "name": "Popularity",
         "rawType": "float64",
         "type": "float"
        }
       ],
       "ref": "779438f6-eb0d-4baf-950a-3ada7f320f98",
       "rows": [
        [
         "count",
         "1994.0",
         "1994.0",
         "1994.0",
         "1994.0",
         "1994.0",
         "1994.0",
         "1994.0",
         "1994.0",
         "1994.0",
         "1994.0",
         "1994.0"
        ],
        [
         "mean",
         "997.5",
         "1992.9929789368105",
         "120.21564694082247",
         "59.67953861584754",
         "53.2382146439318",
         "-9.008525576730191",
         "19.012036108324974",
         "49.40872617853561",
         "28.858074222668005",
         "4.994984954864594",
         "59.52657973921765"
        ],
        [
         "std",
         "575.7625378574053",
         "16.116047757941004",
         "28.0280956437765",
         "22.154321507391007",
         "15.351506919469236",
         "3.6478763739656612",
         "16.727377967708073",
         "24.858211953751383",
         "29.011986337233495",
         "4.401565990173831",
         "14.351600438974408"
        ],
        [
         "min",
         "1.0",
         "1956.0",
         "37.0",
         "3.0",
         "10.0",
         "-27.0",
         "2.0",
         "3.0",
         "0.0",
         "2.0",
         "11.0"
        ],
        [
         "25%",
         "499.25",
         "1979.0",
         "99.0",
         "42.0",
         "43.0",
         "-11.0",
         "9.0",
         "29.0",
         "3.0",
         "3.0",
         "49.25"
        ],
        [
         "50%",
         "997.5",
         "1993.0",
         "119.0",
         "61.0",
         "53.0",
         "-8.0",
         "12.0",
         "47.0",
         "18.0",
         "4.0",
         "62.0"
        ],
        [
         "75%",
         "1495.75",
         "2007.0",
         "136.0",
         "78.0",
         "64.0",
         "-6.0",
         "23.0",
         "69.75",
         "50.0",
         "5.0",
         "71.0"
        ],
        [
         "max",
         "1994.0",
         "2019.0",
         "206.0",
         "100.0",
         "96.0",
         "-2.0",
         "99.0",
         "99.0",
         "99.0",
         "55.0",
         "100.0"
        ]
       ],
       "shape": {
        "columns": 11,
        "rows": 8
       }
      },
      "text/html": [
       "<div>\n",
       "<style scoped>\n",
       "    .dataframe tbody tr th:only-of-type {\n",
       "        vertical-align: middle;\n",
       "    }\n",
       "\n",
       "    .dataframe tbody tr th {\n",
       "        vertical-align: top;\n",
       "    }\n",
       "\n",
       "    .dataframe thead th {\n",
       "        text-align: right;\n",
       "    }\n",
       "</style>\n",
       "<table border=\"1\" class=\"dataframe\">\n",
       "  <thead>\n",
       "    <tr style=\"text-align: right;\">\n",
       "      <th></th>\n",
       "      <th>Index</th>\n",
       "      <th>Year</th>\n",
       "      <th>Beats Per Minute (BPM)</th>\n",
       "      <th>Energy</th>\n",
       "      <th>Danceability</th>\n",
       "      <th>Loudness (dB)</th>\n",
       "      <th>Liveness</th>\n",
       "      <th>Valence</th>\n",
       "      <th>Acousticness</th>\n",
       "      <th>Speechiness</th>\n",
       "      <th>Popularity</th>\n",
       "    </tr>\n",
       "  </thead>\n",
       "  <tbody>\n",
       "    <tr>\n",
       "      <th>count</th>\n",
       "      <td>1994.000000</td>\n",
       "      <td>1994.000000</td>\n",
       "      <td>1994.000000</td>\n",
       "      <td>1994.000000</td>\n",
       "      <td>1994.000000</td>\n",
       "      <td>1994.000000</td>\n",
       "      <td>1994.000000</td>\n",
       "      <td>1994.000000</td>\n",
       "      <td>1994.000000</td>\n",
       "      <td>1994.000000</td>\n",
       "      <td>1994.00000</td>\n",
       "    </tr>\n",
       "    <tr>\n",
       "      <th>mean</th>\n",
       "      <td>997.500000</td>\n",
       "      <td>1992.992979</td>\n",
       "      <td>120.215647</td>\n",
       "      <td>59.679539</td>\n",
       "      <td>53.238215</td>\n",
       "      <td>-9.008526</td>\n",
       "      <td>19.012036</td>\n",
       "      <td>49.408726</td>\n",
       "      <td>28.858074</td>\n",
       "      <td>4.994985</td>\n",
       "      <td>59.52658</td>\n",
       "    </tr>\n",
       "    <tr>\n",
       "      <th>std</th>\n",
       "      <td>575.762538</td>\n",
       "      <td>16.116048</td>\n",
       "      <td>28.028096</td>\n",
       "      <td>22.154322</td>\n",
       "      <td>15.351507</td>\n",
       "      <td>3.647876</td>\n",
       "      <td>16.727378</td>\n",
       "      <td>24.858212</td>\n",
       "      <td>29.011986</td>\n",
       "      <td>4.401566</td>\n",
       "      <td>14.35160</td>\n",
       "    </tr>\n",
       "    <tr>\n",
       "      <th>min</th>\n",
       "      <td>1.000000</td>\n",
       "      <td>1956.000000</td>\n",
       "      <td>37.000000</td>\n",
       "      <td>3.000000</td>\n",
       "      <td>10.000000</td>\n",
       "      <td>-27.000000</td>\n",
       "      <td>2.000000</td>\n",
       "      <td>3.000000</td>\n",
       "      <td>0.000000</td>\n",
       "      <td>2.000000</td>\n",
       "      <td>11.00000</td>\n",
       "    </tr>\n",
       "    <tr>\n",
       "      <th>25%</th>\n",
       "      <td>499.250000</td>\n",
       "      <td>1979.000000</td>\n",
       "      <td>99.000000</td>\n",
       "      <td>42.000000</td>\n",
       "      <td>43.000000</td>\n",
       "      <td>-11.000000</td>\n",
       "      <td>9.000000</td>\n",
       "      <td>29.000000</td>\n",
       "      <td>3.000000</td>\n",
       "      <td>3.000000</td>\n",
       "      <td>49.25000</td>\n",
       "    </tr>\n",
       "    <tr>\n",
       "      <th>50%</th>\n",
       "      <td>997.500000</td>\n",
       "      <td>1993.000000</td>\n",
       "      <td>119.000000</td>\n",
       "      <td>61.000000</td>\n",
       "      <td>53.000000</td>\n",
       "      <td>-8.000000</td>\n",
       "      <td>12.000000</td>\n",
       "      <td>47.000000</td>\n",
       "      <td>18.000000</td>\n",
       "      <td>4.000000</td>\n",
       "      <td>62.00000</td>\n",
       "    </tr>\n",
       "    <tr>\n",
       "      <th>75%</th>\n",
       "      <td>1495.750000</td>\n",
       "      <td>2007.000000</td>\n",
       "      <td>136.000000</td>\n",
       "      <td>78.000000</td>\n",
       "      <td>64.000000</td>\n",
       "      <td>-6.000000</td>\n",
       "      <td>23.000000</td>\n",
       "      <td>69.750000</td>\n",
       "      <td>50.000000</td>\n",
       "      <td>5.000000</td>\n",
       "      <td>71.00000</td>\n",
       "    </tr>\n",
       "    <tr>\n",
       "      <th>max</th>\n",
       "      <td>1994.000000</td>\n",
       "      <td>2019.000000</td>\n",
       "      <td>206.000000</td>\n",
       "      <td>100.000000</td>\n",
       "      <td>96.000000</td>\n",
       "      <td>-2.000000</td>\n",
       "      <td>99.000000</td>\n",
       "      <td>99.000000</td>\n",
       "      <td>99.000000</td>\n",
       "      <td>55.000000</td>\n",
       "      <td>100.00000</td>\n",
       "    </tr>\n",
       "  </tbody>\n",
       "</table>\n",
       "</div>"
      ],
      "text/plain": [
       "             Index         Year  Beats Per Minute (BPM)       Energy  \\\n",
       "count  1994.000000  1994.000000             1994.000000  1994.000000   \n",
       "mean    997.500000  1992.992979              120.215647    59.679539   \n",
       "std     575.762538    16.116048               28.028096    22.154322   \n",
       "min       1.000000  1956.000000               37.000000     3.000000   \n",
       "25%     499.250000  1979.000000               99.000000    42.000000   \n",
       "50%     997.500000  1993.000000              119.000000    61.000000   \n",
       "75%    1495.750000  2007.000000              136.000000    78.000000   \n",
       "max    1994.000000  2019.000000              206.000000   100.000000   \n",
       "\n",
       "       Danceability  Loudness (dB)     Liveness      Valence  Acousticness  \\\n",
       "count   1994.000000    1994.000000  1994.000000  1994.000000   1994.000000   \n",
       "mean      53.238215      -9.008526    19.012036    49.408726     28.858074   \n",
       "std       15.351507       3.647876    16.727378    24.858212     29.011986   \n",
       "min       10.000000     -27.000000     2.000000     3.000000      0.000000   \n",
       "25%       43.000000     -11.000000     9.000000    29.000000      3.000000   \n",
       "50%       53.000000      -8.000000    12.000000    47.000000     18.000000   \n",
       "75%       64.000000      -6.000000    23.000000    69.750000     50.000000   \n",
       "max       96.000000      -2.000000    99.000000    99.000000     99.000000   \n",
       "\n",
       "       Speechiness  Popularity  \n",
       "count  1994.000000  1994.00000  \n",
       "mean      4.994985    59.52658  \n",
       "std       4.401566    14.35160  \n",
       "min       2.000000    11.00000  \n",
       "25%       3.000000    49.25000  \n",
       "50%       4.000000    62.00000  \n",
       "75%       5.000000    71.00000  \n",
       "max      55.000000   100.00000  "
      ]
     },
     "execution_count": 4,
     "metadata": {},
     "output_type": "execute_result"
    }
   ],
   "source": [
    "# Get detailed stats of numerical features\n",
    "numerical_stats = df.describe()\n",
    "print(\"\\nDetailed Statistics of Numerical Features:\")\n",
    "numerical_stats"
   ]
  },
  {
   "cell_type": "markdown",
   "metadata": {},
   "source": [
    "The numerical statistics reveal key insights about the musical characteristics in our dataset:\n",
    "\n",
    "Time Range:\n",
    "- Songs span from `1956` to `2019` (`63` years)\n",
    "- Median year is `1993`, showing balanced representation of older and newer music\n",
    "\n",
    "Musical Features:\n",
    "- `BPM` ranges from `37` to `206`, with median at `119` - typical for popular music\n",
    "- `Energy` and `Danceability` are measured on `0-100` scale:\n",
    "  * `Energy` median: `61` (moderate energy levels)\n",
    "  * `Danceability` median: `53` (songs are moderately danceable)\n",
    "- `Loudness` ranges from `-27dB` to `-2dB`, median at `-8dB`\n",
    "- Most songs have low to moderate `Liveness` (median: `12`) and `Speechiness` (median: `4`)\n",
    "- `Popularity` ranges from `11` to `100`, with median of `62`, suggesting a slight bias toward more popular songs\n",
    "\n",
    "This distribution gives us a solid foundation for analyzing trends and patterns in popular music over time."
   ]
  },
  {
   "cell_type": "code",
   "execution_count": 5,
   "metadata": {},
   "outputs": [
    {
     "name": "stdout",
     "output_type": "stream",
     "text": [
      "\n",
      "Unique Artists: 731\n",
      "Unique Genres: 149\n",
      "\n",
      "Year Range: 1956 to 2019\n",
      "\n",
      "Top 10 Artists by Number of Songs:\n",
      "Artist\n",
      "Queen                 37\n",
      "The Beatles           36\n",
      "Coldplay              27\n",
      "U2                    26\n",
      "The Rolling Stones    24\n",
      "Bruce Springsteen     23\n",
      "Michael Jackson       23\n",
      "ABBA                  22\n",
      "David Bowie           21\n",
      "Fleetwood Mac         18\n",
      "Name: count, dtype: int64\n",
      "\n",
      "Top 10 Genres by Number of Songs:\n",
      "Top Genre\n",
      "album rock           413\n",
      "adult standards      123\n",
      "dutch pop             88\n",
      "alternative rock      86\n",
      "dance pop             83\n",
      "dutch indie           75\n",
      "alternative metal     70\n",
      "dance rock            52\n",
      "classic rock          51\n",
      "dutch cabaret         51\n",
      "Name: count, dtype: int64\n"
     ]
    }
   ],
   "source": [
    "# Get unique counts for categorical columns\n",
    "print(\"\\nUnique Artists:\", df['Artist'].nunique())\n",
    "print(\"Unique Genres:\", df['Top Genre'].nunique())\n",
    "print(\"\\nYear Range:\", df['Year'].min(), \"to\", df['Year'].max())\n",
    "\n",
    "# Top 10 artists by number of songs\n",
    "print(\"\\nTop 10 Artists by Number of Songs:\")\n",
    "print(df['Artist'].value_counts().head(10))\n",
    "\n",
    "# Top 10 genres by number of songs\n",
    "print(\"\\nTop 10 Genres by Number of Songs:\")\n",
    "print(df['Top Genre'].value_counts().head(10))"
   ]
  },
  {
   "cell_type": "markdown",
   "metadata": {},
   "source": [
    "The artist and genre analysis reveals important characteristics about the dataset's composition:\n",
    "\n",
    "Artist Distribution:\n",
    "- `731` unique artists across `1,994` songs indicates a good variety\n",
    "- Top artists are predominantly classic rock bands/artists (`Queen`, `Beatles`, `U2`)\n",
    "- The most represented artist (`Queen`) has only `37` songs (`1.86%` of dataset), showing balanced representation\n",
    "\n",
    "Genre Distribution:\n",
    "- `149` unique genres shows diverse musical styles\n",
    "- Strong bias towards rock genres:\n",
    "  * `Album rock` dominates (`413` songs, `~20.7%` of dataset)\n",
    "  * Multiple rock subgenres in top `10` (`alternative`, `classic`, `dance rock`)\n",
    "- Significant Dutch music influence (`dutch pop`, `dutch indie`, `dutch cabaret`)\n",
    "- `Adult standards` and `dance pop` represent non-rock mainstream genres\n",
    "\n",
    "This distribution suggests the dataset has a Western rock music focus with particular emphasis on European artists, which should be considered when drawing conclusions from further analyses."
   ]
  },
  {
   "cell_type": "code",
   "execution_count": 6,
   "metadata": {},
   "outputs": [
    {
     "data": {
      "application/vnd.plotly.v1+json": {
       "config": {
        "plotlyServerURL": "https://plot.ly"
       },
       "data": [
        {
         "hovertemplate": "variable=Energy<br>Year=%{x}<br>value=%{y}<extra></extra>",
         "legendgroup": "Energy",
         "line": {
          "color": "#636efa",
          "dash": "solid"
         },
         "marker": {
          "symbol": "circle"
         },
         "mode": "lines",
         "name": "Energy",
         "orientation": "v",
         "showlegend": true,
         "type": "scatter",
         "x": [
          1956,
          1958,
          1959,
          1960,
          1961,
          1962,
          1963,
          1964,
          1965,
          1966,
          1967,
          1968,
          1969,
          1970,
          1971,
          1972,
          1973,
          1974,
          1975,
          1976,
          1977,
          1978,
          1979,
          1980,
          1981,
          1982,
          1983,
          1984,
          1985,
          1986,
          1987,
          1988,
          1989,
          1990,
          1991,
          1992,
          1993,
          1994,
          1995,
          1996,
          1997,
          1998,
          1999,
          2000,
          2001,
          2002,
          2003,
          2004,
          2005,
          2006,
          2007,
          2008,
          2009,
          2010,
          2011,
          2012,
          2013,
          2014,
          2015,
          2016,
          2017,
          2018,
          2019
         ],
         "xaxis": "x",
         "y": [
          66,
          37.2,
          52,
          35,
          29,
          39,
          44.42857142857143,
          53.55555555555556,
          45.86666666666667,
          47.15,
          49.972972972972975,
          52.96296296296296,
          50.71052631578947,
          50.95,
          51.27906976744186,
          52.37931034482759,
          50.06896551724138,
          48.04347826086956,
          54.166666666666664,
          62.58064516129032,
          62.31372549019608,
          61.935483870967744,
          63.525,
          63.78378378378378,
          54.266666666666666,
          57.09375,
          65.96666666666667,
          64.8409090909091,
          58.705882352941174,
          61,
          62.26086956521739,
          54.36666666666667,
          62.029411764705884,
          55.8421052631579,
          65.5,
          60.457142857142856,
          56.75,
          63.72,
          56.17948717948718,
          56.041666666666664,
          58.628571428571426,
          57.13333333333333,
          65.13793103448276,
          63.696969696969695,
          63.63333333333333,
          60.659574468085104,
          63.82142857142857,
          66.33333333333333,
          60.93181818181818,
          69.325,
          71.30555555555556,
          61.907407407407405,
          63.86046511627907,
          63.27272727272727,
          62.47826086956522,
          56.41463414634146,
          64.29268292682927,
          64.65116279069767,
          62,
          52.74285714285714,
          63.333333333333336,
          60.75,
          58.666666666666664
         ],
         "yaxis": "y"
        },
        {
         "hovertemplate": "variable=Danceability<br>Year=%{x}<br>value=%{y}<extra></extra>",
         "legendgroup": "Danceability",
         "line": {
          "color": "#EF553B",
          "dash": "solid"
         },
         "marker": {
          "symbol": "circle"
         },
         "mode": "lines",
         "name": "Danceability",
         "orientation": "v",
         "showlegend": true,
         "type": "scatter",
         "x": [
          1956,
          1958,
          1959,
          1960,
          1961,
          1962,
          1963,
          1964,
          1965,
          1966,
          1967,
          1968,
          1969,
          1970,
          1971,
          1972,
          1973,
          1974,
          1975,
          1976,
          1977,
          1978,
          1979,
          1980,
          1981,
          1982,
          1983,
          1984,
          1985,
          1986,
          1987,
          1988,
          1989,
          1990,
          1991,
          1992,
          1993,
          1994,
          1995,
          1996,
          1997,
          1998,
          1999,
          2000,
          2001,
          2002,
          2003,
          2004,
          2005,
          2006,
          2007,
          2008,
          2009,
          2010,
          2011,
          2012,
          2013,
          2014,
          2015,
          2016,
          2017,
          2018,
          2019
         ],
         "xaxis": "x",
         "y": [
          56,
          52.6,
          49,
          27,
          40,
          64.66666666666667,
          49.57142857142857,
          48.666666666666664,
          47.8,
          52.3,
          48.32432432432432,
          46.44444444444444,
          46.421052631578945,
          50.525,
          47.30232558139535,
          50.48275862068966,
          46.758620689655174,
          45.869565217391305,
          49.888888888888886,
          51.193548387096776,
          53.64705882352941,
          57.32258064516129,
          59.575,
          58.513513513513516,
          54.93333333333333,
          60.25,
          58.9,
          52.56818181818182,
          59.73529411764706,
          56.023809523809526,
          55.02173913043478,
          57.43333333333333,
          58.23529411764706,
          52.31578947368421,
          51.38461538461539,
          49.857142857142854,
          50.892857142857146,
          48.76,
          52.53846153846154,
          55.458333333333336,
          50.17142857142857,
          51.84444444444444,
          52.206896551724135,
          55.93939393939394,
          54.5,
          54.06382978723404,
          50.392857142857146,
          49.93333333333333,
          51.81818181818182,
          52.475,
          51.111111111111114,
          56.611111111111114,
          55.95348837209303,
          58.515151515151516,
          51.41304347826087,
          51.170731707317074,
          56.63414634146341,
          57.44186046511628,
          52.92857142857143,
          53.285714285714285,
          56.333333333333336,
          54.98076923076923,
          56.38095238095238
         ],
         "yaxis": "y"
        },
        {
         "hovertemplate": "variable=Popularity<br>Year=%{x}<br>value=%{y}<extra></extra>",
         "legendgroup": "Popularity",
         "line": {
          "color": "#00cc96",
          "dash": "solid"
         },
         "marker": {
          "symbol": "circle"
         },
         "mode": "lines",
         "name": "Popularity",
         "orientation": "v",
         "showlegend": true,
         "type": "scatter",
         "x": [
          1956,
          1958,
          1959,
          1960,
          1961,
          1962,
          1963,
          1964,
          1965,
          1966,
          1967,
          1968,
          1969,
          1970,
          1971,
          1972,
          1973,
          1974,
          1975,
          1976,
          1977,
          1978,
          1979,
          1980,
          1981,
          1982,
          1983,
          1984,
          1985,
          1986,
          1987,
          1988,
          1989,
          1990,
          1991,
          1992,
          1993,
          1994,
          1995,
          1996,
          1997,
          1998,
          1999,
          2000,
          2001,
          2002,
          2003,
          2004,
          2005,
          2006,
          2007,
          2008,
          2009,
          2010,
          2011,
          2012,
          2013,
          2014,
          2015,
          2016,
          2017,
          2018,
          2019
         ],
         "xaxis": "x",
         "y": [
          62,
          67.8,
          65,
          74,
          78,
          75.66666666666667,
          66.57142857142857,
          63.44444444444444,
          66.73333333333333,
          65.5,
          65.05405405405405,
          62.370370370370374,
          61.05263157894737,
          63.575,
          63.04651162790697,
          62.62068965517241,
          65.24137931034483,
          59.43478260869565,
          59.5,
          63.12903225806452,
          62.705882352941174,
          60.58064516129032,
          60.7,
          59.24324324324324,
          59.666666666666664,
          56.875,
          60.2,
          63.13636363636363,
          58.05882352941177,
          60.61904761904762,
          60.73913043478261,
          55.03333333333333,
          58.64705882352941,
          61.68421052631579,
          62.71153846153846,
          61.48571428571429,
          61.535714285714285,
          66.2,
          58.64102564102564,
          57.083333333333336,
          58.68571428571428,
          51.82222222222222,
          57.89655172413793,
          60.666666666666664,
          57.666666666666664,
          60.659574468085104,
          60.17857142857143,
          57.91111111111111,
          56.52272727272727,
          59.4,
          54.97222222222222,
          55.111111111111114,
          58.093023255813954,
          49.333333333333336,
          58,
          58.1219512195122,
          58.707317073170735,
          60.53488372093023,
          53.5,
          57.34285714285714,
          62.8,
          49.86538461538461,
          63.95238095238095
         ],
         "yaxis": "y"
        }
       ],
       "layout": {
        "legend": {
         "title": {
          "text": "variable"
         },
         "tracegroupgap": 0
        },
        "template": {
         "data": {
          "bar": [
           {
            "error_x": {
             "color": "#2a3f5f"
            },
            "error_y": {
             "color": "#2a3f5f"
            },
            "marker": {
             "line": {
              "color": "#E5ECF6",
              "width": 0.5
             },
             "pattern": {
              "fillmode": "overlay",
              "size": 10,
              "solidity": 0.2
             }
            },
            "type": "bar"
           }
          ],
          "barpolar": [
           {
            "marker": {
             "line": {
              "color": "#E5ECF6",
              "width": 0.5
             },
             "pattern": {
              "fillmode": "overlay",
              "size": 10,
              "solidity": 0.2
             }
            },
            "type": "barpolar"
           }
          ],
          "carpet": [
           {
            "aaxis": {
             "endlinecolor": "#2a3f5f",
             "gridcolor": "white",
             "linecolor": "white",
             "minorgridcolor": "white",
             "startlinecolor": "#2a3f5f"
            },
            "baxis": {
             "endlinecolor": "#2a3f5f",
             "gridcolor": "white",
             "linecolor": "white",
             "minorgridcolor": "white",
             "startlinecolor": "#2a3f5f"
            },
            "type": "carpet"
           }
          ],
          "choropleth": [
           {
            "colorbar": {
             "outlinewidth": 0,
             "ticks": ""
            },
            "type": "choropleth"
           }
          ],
          "contour": [
           {
            "colorbar": {
             "outlinewidth": 0,
             "ticks": ""
            },
            "colorscale": [
             [
              0,
              "#0d0887"
             ],
             [
              0.1111111111111111,
              "#46039f"
             ],
             [
              0.2222222222222222,
              "#7201a8"
             ],
             [
              0.3333333333333333,
              "#9c179e"
             ],
             [
              0.4444444444444444,
              "#bd3786"
             ],
             [
              0.5555555555555556,
              "#d8576b"
             ],
             [
              0.6666666666666666,
              "#ed7953"
             ],
             [
              0.7777777777777778,
              "#fb9f3a"
             ],
             [
              0.8888888888888888,
              "#fdca26"
             ],
             [
              1,
              "#f0f921"
             ]
            ],
            "type": "contour"
           }
          ],
          "contourcarpet": [
           {
            "colorbar": {
             "outlinewidth": 0,
             "ticks": ""
            },
            "type": "contourcarpet"
           }
          ],
          "heatmap": [
           {
            "colorbar": {
             "outlinewidth": 0,
             "ticks": ""
            },
            "colorscale": [
             [
              0,
              "#0d0887"
             ],
             [
              0.1111111111111111,
              "#46039f"
             ],
             [
              0.2222222222222222,
              "#7201a8"
             ],
             [
              0.3333333333333333,
              "#9c179e"
             ],
             [
              0.4444444444444444,
              "#bd3786"
             ],
             [
              0.5555555555555556,
              "#d8576b"
             ],
             [
              0.6666666666666666,
              "#ed7953"
             ],
             [
              0.7777777777777778,
              "#fb9f3a"
             ],
             [
              0.8888888888888888,
              "#fdca26"
             ],
             [
              1,
              "#f0f921"
             ]
            ],
            "type": "heatmap"
           }
          ],
          "heatmapgl": [
           {
            "colorbar": {
             "outlinewidth": 0,
             "ticks": ""
            },
            "colorscale": [
             [
              0,
              "#0d0887"
             ],
             [
              0.1111111111111111,
              "#46039f"
             ],
             [
              0.2222222222222222,
              "#7201a8"
             ],
             [
              0.3333333333333333,
              "#9c179e"
             ],
             [
              0.4444444444444444,
              "#bd3786"
             ],
             [
              0.5555555555555556,
              "#d8576b"
             ],
             [
              0.6666666666666666,
              "#ed7953"
             ],
             [
              0.7777777777777778,
              "#fb9f3a"
             ],
             [
              0.8888888888888888,
              "#fdca26"
             ],
             [
              1,
              "#f0f921"
             ]
            ],
            "type": "heatmapgl"
           }
          ],
          "histogram": [
           {
            "marker": {
             "pattern": {
              "fillmode": "overlay",
              "size": 10,
              "solidity": 0.2
             }
            },
            "type": "histogram"
           }
          ],
          "histogram2d": [
           {
            "colorbar": {
             "outlinewidth": 0,
             "ticks": ""
            },
            "colorscale": [
             [
              0,
              "#0d0887"
             ],
             [
              0.1111111111111111,
              "#46039f"
             ],
             [
              0.2222222222222222,
              "#7201a8"
             ],
             [
              0.3333333333333333,
              "#9c179e"
             ],
             [
              0.4444444444444444,
              "#bd3786"
             ],
             [
              0.5555555555555556,
              "#d8576b"
             ],
             [
              0.6666666666666666,
              "#ed7953"
             ],
             [
              0.7777777777777778,
              "#fb9f3a"
             ],
             [
              0.8888888888888888,
              "#fdca26"
             ],
             [
              1,
              "#f0f921"
             ]
            ],
            "type": "histogram2d"
           }
          ],
          "histogram2dcontour": [
           {
            "colorbar": {
             "outlinewidth": 0,
             "ticks": ""
            },
            "colorscale": [
             [
              0,
              "#0d0887"
             ],
             [
              0.1111111111111111,
              "#46039f"
             ],
             [
              0.2222222222222222,
              "#7201a8"
             ],
             [
              0.3333333333333333,
              "#9c179e"
             ],
             [
              0.4444444444444444,
              "#bd3786"
             ],
             [
              0.5555555555555556,
              "#d8576b"
             ],
             [
              0.6666666666666666,
              "#ed7953"
             ],
             [
              0.7777777777777778,
              "#fb9f3a"
             ],
             [
              0.8888888888888888,
              "#fdca26"
             ],
             [
              1,
              "#f0f921"
             ]
            ],
            "type": "histogram2dcontour"
           }
          ],
          "mesh3d": [
           {
            "colorbar": {
             "outlinewidth": 0,
             "ticks": ""
            },
            "type": "mesh3d"
           }
          ],
          "parcoords": [
           {
            "line": {
             "colorbar": {
              "outlinewidth": 0,
              "ticks": ""
             }
            },
            "type": "parcoords"
           }
          ],
          "pie": [
           {
            "automargin": true,
            "type": "pie"
           }
          ],
          "scatter": [
           {
            "fillpattern": {
             "fillmode": "overlay",
             "size": 10,
             "solidity": 0.2
            },
            "type": "scatter"
           }
          ],
          "scatter3d": [
           {
            "line": {
             "colorbar": {
              "outlinewidth": 0,
              "ticks": ""
             }
            },
            "marker": {
             "colorbar": {
              "outlinewidth": 0,
              "ticks": ""
             }
            },
            "type": "scatter3d"
           }
          ],
          "scattercarpet": [
           {
            "marker": {
             "colorbar": {
              "outlinewidth": 0,
              "ticks": ""
             }
            },
            "type": "scattercarpet"
           }
          ],
          "scattergeo": [
           {
            "marker": {
             "colorbar": {
              "outlinewidth": 0,
              "ticks": ""
             }
            },
            "type": "scattergeo"
           }
          ],
          "scattergl": [
           {
            "marker": {
             "colorbar": {
              "outlinewidth": 0,
              "ticks": ""
             }
            },
            "type": "scattergl"
           }
          ],
          "scattermapbox": [
           {
            "marker": {
             "colorbar": {
              "outlinewidth": 0,
              "ticks": ""
             }
            },
            "type": "scattermapbox"
           }
          ],
          "scatterpolar": [
           {
            "marker": {
             "colorbar": {
              "outlinewidth": 0,
              "ticks": ""
             }
            },
            "type": "scatterpolar"
           }
          ],
          "scatterpolargl": [
           {
            "marker": {
             "colorbar": {
              "outlinewidth": 0,
              "ticks": ""
             }
            },
            "type": "scatterpolargl"
           }
          ],
          "scatterternary": [
           {
            "marker": {
             "colorbar": {
              "outlinewidth": 0,
              "ticks": ""
             }
            },
            "type": "scatterternary"
           }
          ],
          "surface": [
           {
            "colorbar": {
             "outlinewidth": 0,
             "ticks": ""
            },
            "colorscale": [
             [
              0,
              "#0d0887"
             ],
             [
              0.1111111111111111,
              "#46039f"
             ],
             [
              0.2222222222222222,
              "#7201a8"
             ],
             [
              0.3333333333333333,
              "#9c179e"
             ],
             [
              0.4444444444444444,
              "#bd3786"
             ],
             [
              0.5555555555555556,
              "#d8576b"
             ],
             [
              0.6666666666666666,
              "#ed7953"
             ],
             [
              0.7777777777777778,
              "#fb9f3a"
             ],
             [
              0.8888888888888888,
              "#fdca26"
             ],
             [
              1,
              "#f0f921"
             ]
            ],
            "type": "surface"
           }
          ],
          "table": [
           {
            "cells": {
             "fill": {
              "color": "#EBF0F8"
             },
             "line": {
              "color": "white"
             }
            },
            "header": {
             "fill": {
              "color": "#C8D4E3"
             },
             "line": {
              "color": "white"
             }
            },
            "type": "table"
           }
          ]
         },
         "layout": {
          "annotationdefaults": {
           "arrowcolor": "#2a3f5f",
           "arrowhead": 0,
           "arrowwidth": 1
          },
          "autotypenumbers": "strict",
          "coloraxis": {
           "colorbar": {
            "outlinewidth": 0,
            "ticks": ""
           }
          },
          "colorscale": {
           "diverging": [
            [
             0,
             "#8e0152"
            ],
            [
             0.1,
             "#c51b7d"
            ],
            [
             0.2,
             "#de77ae"
            ],
            [
             0.3,
             "#f1b6da"
            ],
            [
             0.4,
             "#fde0ef"
            ],
            [
             0.5,
             "#f7f7f7"
            ],
            [
             0.6,
             "#e6f5d0"
            ],
            [
             0.7,
             "#b8e186"
            ],
            [
             0.8,
             "#7fbc41"
            ],
            [
             0.9,
             "#4d9221"
            ],
            [
             1,
             "#276419"
            ]
           ],
           "sequential": [
            [
             0,
             "#0d0887"
            ],
            [
             0.1111111111111111,
             "#46039f"
            ],
            [
             0.2222222222222222,
             "#7201a8"
            ],
            [
             0.3333333333333333,
             "#9c179e"
            ],
            [
             0.4444444444444444,
             "#bd3786"
            ],
            [
             0.5555555555555556,
             "#d8576b"
            ],
            [
             0.6666666666666666,
             "#ed7953"
            ],
            [
             0.7777777777777778,
             "#fb9f3a"
            ],
            [
             0.8888888888888888,
             "#fdca26"
            ],
            [
             1,
             "#f0f921"
            ]
           ],
           "sequentialminus": [
            [
             0,
             "#0d0887"
            ],
            [
             0.1111111111111111,
             "#46039f"
            ],
            [
             0.2222222222222222,
             "#7201a8"
            ],
            [
             0.3333333333333333,
             "#9c179e"
            ],
            [
             0.4444444444444444,
             "#bd3786"
            ],
            [
             0.5555555555555556,
             "#d8576b"
            ],
            [
             0.6666666666666666,
             "#ed7953"
            ],
            [
             0.7777777777777778,
             "#fb9f3a"
            ],
            [
             0.8888888888888888,
             "#fdca26"
            ],
            [
             1,
             "#f0f921"
            ]
           ]
          },
          "colorway": [
           "#636efa",
           "#EF553B",
           "#00cc96",
           "#ab63fa",
           "#FFA15A",
           "#19d3f3",
           "#FF6692",
           "#B6E880",
           "#FF97FF",
           "#FECB52"
          ],
          "font": {
           "color": "#2a3f5f"
          },
          "geo": {
           "bgcolor": "white",
           "lakecolor": "white",
           "landcolor": "#E5ECF6",
           "showlakes": true,
           "showland": true,
           "subunitcolor": "white"
          },
          "hoverlabel": {
           "align": "left"
          },
          "hovermode": "closest",
          "mapbox": {
           "style": "light"
          },
          "paper_bgcolor": "white",
          "plot_bgcolor": "#E5ECF6",
          "polar": {
           "angularaxis": {
            "gridcolor": "white",
            "linecolor": "white",
            "ticks": ""
           },
           "bgcolor": "#E5ECF6",
           "radialaxis": {
            "gridcolor": "white",
            "linecolor": "white",
            "ticks": ""
           }
          },
          "scene": {
           "xaxis": {
            "backgroundcolor": "#E5ECF6",
            "gridcolor": "white",
            "gridwidth": 2,
            "linecolor": "white",
            "showbackground": true,
            "ticks": "",
            "zerolinecolor": "white"
           },
           "yaxis": {
            "backgroundcolor": "#E5ECF6",
            "gridcolor": "white",
            "gridwidth": 2,
            "linecolor": "white",
            "showbackground": true,
            "ticks": "",
            "zerolinecolor": "white"
           },
           "zaxis": {
            "backgroundcolor": "#E5ECF6",
            "gridcolor": "white",
            "gridwidth": 2,
            "linecolor": "white",
            "showbackground": true,
            "ticks": "",
            "zerolinecolor": "white"
           }
          },
          "shapedefaults": {
           "line": {
            "color": "#2a3f5f"
           }
          },
          "ternary": {
           "aaxis": {
            "gridcolor": "white",
            "linecolor": "white",
            "ticks": ""
           },
           "baxis": {
            "gridcolor": "white",
            "linecolor": "white",
            "ticks": ""
           },
           "bgcolor": "#E5ECF6",
           "caxis": {
            "gridcolor": "white",
            "linecolor": "white",
            "ticks": ""
           }
          },
          "title": {
           "x": 0.05
          },
          "xaxis": {
           "automargin": true,
           "gridcolor": "white",
           "linecolor": "white",
           "ticks": "",
           "title": {
            "standoff": 15
           },
           "zerolinecolor": "white",
           "zerolinewidth": 2
          },
          "yaxis": {
           "automargin": true,
           "gridcolor": "white",
           "linecolor": "white",
           "ticks": "",
           "title": {
            "standoff": 15
           },
           "zerolinecolor": "white",
           "zerolinewidth": 2
          }
         }
        },
        "title": {
         "text": "Musical Attributes Over Time"
        },
        "xaxis": {
         "anchor": "y",
         "domain": [
          0,
          1
         ],
         "range": [
          1956,
          2020
         ],
         "title": {
          "text": "Year"
         }
        },
        "yaxis": {
         "anchor": "x",
         "domain": [
          0,
          1
         ],
         "title": {
          "text": "Score (0-100)"
         }
        }
       }
      }
     },
     "metadata": {},
     "output_type": "display_data"
    }
   ],
   "source": [
    "# Average metrics for every year\n",
    "yearly_trends = df.groupby('Year').agg({\n",
    "    'Energy': 'mean',\n",
    "    'Danceability': 'mean',\n",
    "    'Loudness (dB)': 'mean',\n",
    "    'Popularity': 'mean'\n",
    "}).reset_index()\n",
    "\n",
    "# Plot trends with range limititations\n",
    "fig = px.line(yearly_trends, x='Year', \n",
    "              y=['Energy', 'Danceability', 'Popularity'],\n",
    "              title='Musical Attributes Over Time')\n",
    "\n",
    "# x-axis range\n",
    "fig.update_layout(\n",
    "    xaxis_range=[1956, 2020],\n",
    "    yaxis_title='Score (0-100)',\n",
    "    xaxis_title='Year'\n",
    ")\n",
    "\n",
    "fig.show()"
   ]
  },
  {
   "cell_type": "markdown",
   "metadata": {},
   "source": [
    "Musical Attributes from `1956-2020`:\n",
    "\n",
    "Key Trends:\n",
    "1. Early Years (`1956-1965`):\n",
    "   - Dramatic fluctuations in all metrics\n",
    "   - Notable dip in `Danceability` to `~30` around `1960`\n",
    "   - `Popularity` peaked at `~77` in early `1960s`\n",
    "\n",
    "2. Mid-Period (`1970-1990`):\n",
    "   - More stable patterns emerge\n",
    "   - All metrics converge around `50-60` range\n",
    "   - `Energy` shows increasing trend, reaching `~65` by late `1980s`\n",
    "\n",
    "3. Modern Era (`1990-2020`):\n",
    "   - `Energy` becomes more volatile, with notable peaks around `2010` (`~70`)\n",
    "   - `Danceability` remains most stable, consistently around `50-55`\n",
    "   - `Popularity` shows gradual decline from `~65` to `~55`\n",
    "\n",
    "Notable Observations:\n",
    "- Highest `Energy` levels appear in the `2010s` (`~71`)\n",
    "- Most stable period for all metrics is `1970-1990`\n",
    "- Recent years show convergence of all metrics around `55-60` range\n",
    "- `Popularity` shows less extreme fluctuations in later years compared to the `1960s`\n",
    "\n",
    "This suggests a standardization of musical attributes over time, with modern music showing more consistent patterns compared to the experimental nature of early rock and pop."
   ]
  },
  {
   "cell_type": "code",
   "execution_count": 7,
   "metadata": {},
   "outputs": [
    {
     "data": {
      "application/vnd.plotly.v1+json": {
       "config": {
        "plotlyServerURL": "https://plot.ly"
       },
       "data": [
        {
         "alignmentgroup": "True",
         "hovertemplate": "Genre=%{x}<br>Number of Songs=%{y}<extra></extra>",
         "legendgroup": "",
         "marker": {
          "color": "#636efa",
          "pattern": {
           "shape": ""
          }
         },
         "name": "",
         "offsetgroup": "",
         "orientation": "v",
         "showlegend": false,
         "textposition": "auto",
         "type": "bar",
         "x": [
          "album rock",
          "adult standards",
          "dutch pop",
          "alternative rock",
          "dance pop",
          "dutch indie",
          "alternative metal",
          "dance rock",
          "classic rock",
          "dutch cabaret"
         ],
         "xaxis": "x",
         "y": [
          413,
          123,
          88,
          86,
          83,
          75,
          70,
          52,
          51,
          51
         ],
         "yaxis": "y"
        }
       ],
       "layout": {
        "barmode": "relative",
        "legend": {
         "tracegroupgap": 0
        },
        "template": {
         "data": {
          "bar": [
           {
            "error_x": {
             "color": "#2a3f5f"
            },
            "error_y": {
             "color": "#2a3f5f"
            },
            "marker": {
             "line": {
              "color": "#E5ECF6",
              "width": 0.5
             },
             "pattern": {
              "fillmode": "overlay",
              "size": 10,
              "solidity": 0.2
             }
            },
            "type": "bar"
           }
          ],
          "barpolar": [
           {
            "marker": {
             "line": {
              "color": "#E5ECF6",
              "width": 0.5
             },
             "pattern": {
              "fillmode": "overlay",
              "size": 10,
              "solidity": 0.2
             }
            },
            "type": "barpolar"
           }
          ],
          "carpet": [
           {
            "aaxis": {
             "endlinecolor": "#2a3f5f",
             "gridcolor": "white",
             "linecolor": "white",
             "minorgridcolor": "white",
             "startlinecolor": "#2a3f5f"
            },
            "baxis": {
             "endlinecolor": "#2a3f5f",
             "gridcolor": "white",
             "linecolor": "white",
             "minorgridcolor": "white",
             "startlinecolor": "#2a3f5f"
            },
            "type": "carpet"
           }
          ],
          "choropleth": [
           {
            "colorbar": {
             "outlinewidth": 0,
             "ticks": ""
            },
            "type": "choropleth"
           }
          ],
          "contour": [
           {
            "colorbar": {
             "outlinewidth": 0,
             "ticks": ""
            },
            "colorscale": [
             [
              0,
              "#0d0887"
             ],
             [
              0.1111111111111111,
              "#46039f"
             ],
             [
              0.2222222222222222,
              "#7201a8"
             ],
             [
              0.3333333333333333,
              "#9c179e"
             ],
             [
              0.4444444444444444,
              "#bd3786"
             ],
             [
              0.5555555555555556,
              "#d8576b"
             ],
             [
              0.6666666666666666,
              "#ed7953"
             ],
             [
              0.7777777777777778,
              "#fb9f3a"
             ],
             [
              0.8888888888888888,
              "#fdca26"
             ],
             [
              1,
              "#f0f921"
             ]
            ],
            "type": "contour"
           }
          ],
          "contourcarpet": [
           {
            "colorbar": {
             "outlinewidth": 0,
             "ticks": ""
            },
            "type": "contourcarpet"
           }
          ],
          "heatmap": [
           {
            "colorbar": {
             "outlinewidth": 0,
             "ticks": ""
            },
            "colorscale": [
             [
              0,
              "#0d0887"
             ],
             [
              0.1111111111111111,
              "#46039f"
             ],
             [
              0.2222222222222222,
              "#7201a8"
             ],
             [
              0.3333333333333333,
              "#9c179e"
             ],
             [
              0.4444444444444444,
              "#bd3786"
             ],
             [
              0.5555555555555556,
              "#d8576b"
             ],
             [
              0.6666666666666666,
              "#ed7953"
             ],
             [
              0.7777777777777778,
              "#fb9f3a"
             ],
             [
              0.8888888888888888,
              "#fdca26"
             ],
             [
              1,
              "#f0f921"
             ]
            ],
            "type": "heatmap"
           }
          ],
          "heatmapgl": [
           {
            "colorbar": {
             "outlinewidth": 0,
             "ticks": ""
            },
            "colorscale": [
             [
              0,
              "#0d0887"
             ],
             [
              0.1111111111111111,
              "#46039f"
             ],
             [
              0.2222222222222222,
              "#7201a8"
             ],
             [
              0.3333333333333333,
              "#9c179e"
             ],
             [
              0.4444444444444444,
              "#bd3786"
             ],
             [
              0.5555555555555556,
              "#d8576b"
             ],
             [
              0.6666666666666666,
              "#ed7953"
             ],
             [
              0.7777777777777778,
              "#fb9f3a"
             ],
             [
              0.8888888888888888,
              "#fdca26"
             ],
             [
              1,
              "#f0f921"
             ]
            ],
            "type": "heatmapgl"
           }
          ],
          "histogram": [
           {
            "marker": {
             "pattern": {
              "fillmode": "overlay",
              "size": 10,
              "solidity": 0.2
             }
            },
            "type": "histogram"
           }
          ],
          "histogram2d": [
           {
            "colorbar": {
             "outlinewidth": 0,
             "ticks": ""
            },
            "colorscale": [
             [
              0,
              "#0d0887"
             ],
             [
              0.1111111111111111,
              "#46039f"
             ],
             [
              0.2222222222222222,
              "#7201a8"
             ],
             [
              0.3333333333333333,
              "#9c179e"
             ],
             [
              0.4444444444444444,
              "#bd3786"
             ],
             [
              0.5555555555555556,
              "#d8576b"
             ],
             [
              0.6666666666666666,
              "#ed7953"
             ],
             [
              0.7777777777777778,
              "#fb9f3a"
             ],
             [
              0.8888888888888888,
              "#fdca26"
             ],
             [
              1,
              "#f0f921"
             ]
            ],
            "type": "histogram2d"
           }
          ],
          "histogram2dcontour": [
           {
            "colorbar": {
             "outlinewidth": 0,
             "ticks": ""
            },
            "colorscale": [
             [
              0,
              "#0d0887"
             ],
             [
              0.1111111111111111,
              "#46039f"
             ],
             [
              0.2222222222222222,
              "#7201a8"
             ],
             [
              0.3333333333333333,
              "#9c179e"
             ],
             [
              0.4444444444444444,
              "#bd3786"
             ],
             [
              0.5555555555555556,
              "#d8576b"
             ],
             [
              0.6666666666666666,
              "#ed7953"
             ],
             [
              0.7777777777777778,
              "#fb9f3a"
             ],
             [
              0.8888888888888888,
              "#fdca26"
             ],
             [
              1,
              "#f0f921"
             ]
            ],
            "type": "histogram2dcontour"
           }
          ],
          "mesh3d": [
           {
            "colorbar": {
             "outlinewidth": 0,
             "ticks": ""
            },
            "type": "mesh3d"
           }
          ],
          "parcoords": [
           {
            "line": {
             "colorbar": {
              "outlinewidth": 0,
              "ticks": ""
             }
            },
            "type": "parcoords"
           }
          ],
          "pie": [
           {
            "automargin": true,
            "type": "pie"
           }
          ],
          "scatter": [
           {
            "fillpattern": {
             "fillmode": "overlay",
             "size": 10,
             "solidity": 0.2
            },
            "type": "scatter"
           }
          ],
          "scatter3d": [
           {
            "line": {
             "colorbar": {
              "outlinewidth": 0,
              "ticks": ""
             }
            },
            "marker": {
             "colorbar": {
              "outlinewidth": 0,
              "ticks": ""
             }
            },
            "type": "scatter3d"
           }
          ],
          "scattercarpet": [
           {
            "marker": {
             "colorbar": {
              "outlinewidth": 0,
              "ticks": ""
             }
            },
            "type": "scattercarpet"
           }
          ],
          "scattergeo": [
           {
            "marker": {
             "colorbar": {
              "outlinewidth": 0,
              "ticks": ""
             }
            },
            "type": "scattergeo"
           }
          ],
          "scattergl": [
           {
            "marker": {
             "colorbar": {
              "outlinewidth": 0,
              "ticks": ""
             }
            },
            "type": "scattergl"
           }
          ],
          "scattermapbox": [
           {
            "marker": {
             "colorbar": {
              "outlinewidth": 0,
              "ticks": ""
             }
            },
            "type": "scattermapbox"
           }
          ],
          "scatterpolar": [
           {
            "marker": {
             "colorbar": {
              "outlinewidth": 0,
              "ticks": ""
             }
            },
            "type": "scatterpolar"
           }
          ],
          "scatterpolargl": [
           {
            "marker": {
             "colorbar": {
              "outlinewidth": 0,
              "ticks": ""
             }
            },
            "type": "scatterpolargl"
           }
          ],
          "scatterternary": [
           {
            "marker": {
             "colorbar": {
              "outlinewidth": 0,
              "ticks": ""
             }
            },
            "type": "scatterternary"
           }
          ],
          "surface": [
           {
            "colorbar": {
             "outlinewidth": 0,
             "ticks": ""
            },
            "colorscale": [
             [
              0,
              "#0d0887"
             ],
             [
              0.1111111111111111,
              "#46039f"
             ],
             [
              0.2222222222222222,
              "#7201a8"
             ],
             [
              0.3333333333333333,
              "#9c179e"
             ],
             [
              0.4444444444444444,
              "#bd3786"
             ],
             [
              0.5555555555555556,
              "#d8576b"
             ],
             [
              0.6666666666666666,
              "#ed7953"
             ],
             [
              0.7777777777777778,
              "#fb9f3a"
             ],
             [
              0.8888888888888888,
              "#fdca26"
             ],
             [
              1,
              "#f0f921"
             ]
            ],
            "type": "surface"
           }
          ],
          "table": [
           {
            "cells": {
             "fill": {
              "color": "#EBF0F8"
             },
             "line": {
              "color": "white"
             }
            },
            "header": {
             "fill": {
              "color": "#C8D4E3"
             },
             "line": {
              "color": "white"
             }
            },
            "type": "table"
           }
          ]
         },
         "layout": {
          "annotationdefaults": {
           "arrowcolor": "#2a3f5f",
           "arrowhead": 0,
           "arrowwidth": 1
          },
          "autotypenumbers": "strict",
          "coloraxis": {
           "colorbar": {
            "outlinewidth": 0,
            "ticks": ""
           }
          },
          "colorscale": {
           "diverging": [
            [
             0,
             "#8e0152"
            ],
            [
             0.1,
             "#c51b7d"
            ],
            [
             0.2,
             "#de77ae"
            ],
            [
             0.3,
             "#f1b6da"
            ],
            [
             0.4,
             "#fde0ef"
            ],
            [
             0.5,
             "#f7f7f7"
            ],
            [
             0.6,
             "#e6f5d0"
            ],
            [
             0.7,
             "#b8e186"
            ],
            [
             0.8,
             "#7fbc41"
            ],
            [
             0.9,
             "#4d9221"
            ],
            [
             1,
             "#276419"
            ]
           ],
           "sequential": [
            [
             0,
             "#0d0887"
            ],
            [
             0.1111111111111111,
             "#46039f"
            ],
            [
             0.2222222222222222,
             "#7201a8"
            ],
            [
             0.3333333333333333,
             "#9c179e"
            ],
            [
             0.4444444444444444,
             "#bd3786"
            ],
            [
             0.5555555555555556,
             "#d8576b"
            ],
            [
             0.6666666666666666,
             "#ed7953"
            ],
            [
             0.7777777777777778,
             "#fb9f3a"
            ],
            [
             0.8888888888888888,
             "#fdca26"
            ],
            [
             1,
             "#f0f921"
            ]
           ],
           "sequentialminus": [
            [
             0,
             "#0d0887"
            ],
            [
             0.1111111111111111,
             "#46039f"
            ],
            [
             0.2222222222222222,
             "#7201a8"
            ],
            [
             0.3333333333333333,
             "#9c179e"
            ],
            [
             0.4444444444444444,
             "#bd3786"
            ],
            [
             0.5555555555555556,
             "#d8576b"
            ],
            [
             0.6666666666666666,
             "#ed7953"
            ],
            [
             0.7777777777777778,
             "#fb9f3a"
            ],
            [
             0.8888888888888888,
             "#fdca26"
            ],
            [
             1,
             "#f0f921"
            ]
           ]
          },
          "colorway": [
           "#636efa",
           "#EF553B",
           "#00cc96",
           "#ab63fa",
           "#FFA15A",
           "#19d3f3",
           "#FF6692",
           "#B6E880",
           "#FF97FF",
           "#FECB52"
          ],
          "font": {
           "color": "#2a3f5f"
          },
          "geo": {
           "bgcolor": "white",
           "lakecolor": "white",
           "landcolor": "#E5ECF6",
           "showlakes": true,
           "showland": true,
           "subunitcolor": "white"
          },
          "hoverlabel": {
           "align": "left"
          },
          "hovermode": "closest",
          "mapbox": {
           "style": "light"
          },
          "paper_bgcolor": "white",
          "plot_bgcolor": "#E5ECF6",
          "polar": {
           "angularaxis": {
            "gridcolor": "white",
            "linecolor": "white",
            "ticks": ""
           },
           "bgcolor": "#E5ECF6",
           "radialaxis": {
            "gridcolor": "white",
            "linecolor": "white",
            "ticks": ""
           }
          },
          "scene": {
           "xaxis": {
            "backgroundcolor": "#E5ECF6",
            "gridcolor": "white",
            "gridwidth": 2,
            "linecolor": "white",
            "showbackground": true,
            "ticks": "",
            "zerolinecolor": "white"
           },
           "yaxis": {
            "backgroundcolor": "#E5ECF6",
            "gridcolor": "white",
            "gridwidth": 2,
            "linecolor": "white",
            "showbackground": true,
            "ticks": "",
            "zerolinecolor": "white"
           },
           "zaxis": {
            "backgroundcolor": "#E5ECF6",
            "gridcolor": "white",
            "gridwidth": 2,
            "linecolor": "white",
            "showbackground": true,
            "ticks": "",
            "zerolinecolor": "white"
           }
          },
          "shapedefaults": {
           "line": {
            "color": "#2a3f5f"
           }
          },
          "ternary": {
           "aaxis": {
            "gridcolor": "white",
            "linecolor": "white",
            "ticks": ""
           },
           "baxis": {
            "gridcolor": "white",
            "linecolor": "white",
            "ticks": ""
           },
           "bgcolor": "#E5ECF6",
           "caxis": {
            "gridcolor": "white",
            "linecolor": "white",
            "ticks": ""
           }
          },
          "title": {
           "x": 0.05
          },
          "xaxis": {
           "automargin": true,
           "gridcolor": "white",
           "linecolor": "white",
           "ticks": "",
           "title": {
            "standoff": 15
           },
           "zerolinecolor": "white",
           "zerolinewidth": 2
          },
          "yaxis": {
           "automargin": true,
           "gridcolor": "white",
           "linecolor": "white",
           "ticks": "",
           "title": {
            "standoff": 15
           },
           "zerolinecolor": "white",
           "zerolinewidth": 2
          }
         }
        },
        "title": {
         "text": "Top 10 Genres in the Dataset"
        },
        "xaxis": {
         "anchor": "y",
         "domain": [
          0,
          1
         ],
         "title": {
          "text": "Genre"
         }
        },
        "yaxis": {
         "anchor": "x",
         "domain": [
          0,
          1
         ],
         "title": {
          "text": "Number of Songs"
         }
        }
       }
      }
     },
     "metadata": {},
     "output_type": "display_data"
    }
   ],
   "source": [
    "# Top genres based on number of songs\n",
    "genre_counts = df['Top Genre'].value_counts().head(10)\n",
    "fig = px.bar(x=genre_counts.index, y=genre_counts.values,\n",
    "             title='Top 10 Genres in the Dataset',\n",
    "             labels={'x': 'Genre', 'y': 'Number of Songs'})\n",
    "fig.show()"
   ]
  },
  {
   "cell_type": "markdown",
   "metadata": {},
   "source": [
    "Top 10 Genres Analysis:\n",
    "\n",
    "Rock Dominates:\n",
    "- `Album rock` leads with `413` songs (`20%` of dataset)\n",
    "- Combined with other rock genres totals `549` songs (`27.5%`)\n",
    "\n",
    "Interesting Regional Influence:\n",
    "- Strong Dutch presence with `3` genres totaling `214` songs\n",
    "- Shows dataset has European music bias\n",
    "\n",
    "Genre Diversity:\n",
    "- Mix of traditional (`adult standards`: `123` songs)\n",
    "- Modern (`alternative metal`: `70` songs)\n",
    "- Dance-influenced (`dance pop` & `dance rock`: `135` songs)\n",
    "\n",
    "While rock music dominates this dataset, there's significant variety including regional Dutch music and different musical eras, giving us a good mix of styles to analyze, though with a clear Western music bias."
   ]
  },
  {
   "cell_type": "markdown",
   "metadata": {},
   "source": [
    "### Deep Dive"
   ]
  },
  {
   "cell_type": "code",
   "execution_count": 8,
   "metadata": {},
   "outputs": [
    {
     "name": "stdout",
     "output_type": "stream",
     "text": [
      "\n",
      "Top 10 Genres by Popularity with their characteristics:\n",
      "                     Energy  Danceability  Popularity\n",
      "Top Genre                                            \n",
      "celtic punk       65.000000     32.000000   83.000000\n",
      "indie pop         79.000000     65.500000   83.000000\n",
      "australian psych  81.000000     62.000000   80.500000\n",
      "ccm               63.000000     49.000000   80.000000\n",
      "electro house     63.000000     47.000000   80.000000\n",
      "danish pop        47.000000     77.000000   80.000000\n",
      "atl hip hop       97.000000     73.000000   79.000000\n",
      "pop punk          90.000000     43.000000   79.000000\n",
      "electropop        58.333333     61.333333   78.333333\n",
      "la pop            72.000000     43.000000   78.000000\n"
     ]
    },
    {
     "data": {
      "application/vnd.plotly.v1+json": {
       "config": {
        "plotlyServerURL": "https://plot.ly"
       },
       "data": [
        {
         "alignmentgroup": "True",
         "hovertemplate": "Attribute=Energy<br>Top Genre=%{x}<br>Score (0-100)=%{y}<extra></extra>",
         "legendgroup": "Energy",
         "marker": {
          "color": "#636efa",
          "pattern": {
           "shape": ""
          }
         },
         "name": "Energy",
         "offsetgroup": "Energy",
         "orientation": "v",
         "showlegend": true,
         "textposition": "auto",
         "type": "bar",
         "x": [
          "celtic punk",
          "indie pop",
          "australian psych",
          "ccm",
          "electro house",
          "danish pop",
          "atl hip hop",
          "pop punk",
          "electropop",
          "la pop"
         ],
         "xaxis": "x",
         "y": [
          65,
          79,
          81,
          63,
          63,
          47,
          97,
          90,
          58.333333333333336,
          72
         ],
         "yaxis": "y"
        },
        {
         "alignmentgroup": "True",
         "hovertemplate": "Attribute=Danceability<br>Top Genre=%{x}<br>Score (0-100)=%{y}<extra></extra>",
         "legendgroup": "Danceability",
         "marker": {
          "color": "#EF553B",
          "pattern": {
           "shape": ""
          }
         },
         "name": "Danceability",
         "offsetgroup": "Danceability",
         "orientation": "v",
         "showlegend": true,
         "textposition": "auto",
         "type": "bar",
         "x": [
          "celtic punk",
          "indie pop",
          "australian psych",
          "ccm",
          "electro house",
          "danish pop",
          "atl hip hop",
          "pop punk",
          "electropop",
          "la pop"
         ],
         "xaxis": "x",
         "y": [
          32,
          65.5,
          62,
          49,
          47,
          77,
          73,
          43,
          61.333333333333336,
          43
         ],
         "yaxis": "y"
        },
        {
         "alignmentgroup": "True",
         "hovertemplate": "Attribute=Popularity<br>Top Genre=%{x}<br>Score (0-100)=%{y}<extra></extra>",
         "legendgroup": "Popularity",
         "marker": {
          "color": "#00cc96",
          "pattern": {
           "shape": ""
          }
         },
         "name": "Popularity",
         "offsetgroup": "Popularity",
         "orientation": "v",
         "showlegend": true,
         "textposition": "auto",
         "type": "bar",
         "x": [
          "celtic punk",
          "indie pop",
          "australian psych",
          "ccm",
          "electro house",
          "danish pop",
          "atl hip hop",
          "pop punk",
          "electropop",
          "la pop"
         ],
         "xaxis": "x",
         "y": [
          83,
          83,
          80.5,
          80,
          80,
          80,
          79,
          79,
          78.33333333333333,
          78
         ],
         "yaxis": "y"
        }
       ],
       "layout": {
        "barmode": "group",
        "legend": {
         "title": {
          "text": "Attribute"
         },
         "tracegroupgap": 0
        },
        "template": {
         "data": {
          "bar": [
           {
            "error_x": {
             "color": "#2a3f5f"
            },
            "error_y": {
             "color": "#2a3f5f"
            },
            "marker": {
             "line": {
              "color": "#E5ECF6",
              "width": 0.5
             },
             "pattern": {
              "fillmode": "overlay",
              "size": 10,
              "solidity": 0.2
             }
            },
            "type": "bar"
           }
          ],
          "barpolar": [
           {
            "marker": {
             "line": {
              "color": "#E5ECF6",
              "width": 0.5
             },
             "pattern": {
              "fillmode": "overlay",
              "size": 10,
              "solidity": 0.2
             }
            },
            "type": "barpolar"
           }
          ],
          "carpet": [
           {
            "aaxis": {
             "endlinecolor": "#2a3f5f",
             "gridcolor": "white",
             "linecolor": "white",
             "minorgridcolor": "white",
             "startlinecolor": "#2a3f5f"
            },
            "baxis": {
             "endlinecolor": "#2a3f5f",
             "gridcolor": "white",
             "linecolor": "white",
             "minorgridcolor": "white",
             "startlinecolor": "#2a3f5f"
            },
            "type": "carpet"
           }
          ],
          "choropleth": [
           {
            "colorbar": {
             "outlinewidth": 0,
             "ticks": ""
            },
            "type": "choropleth"
           }
          ],
          "contour": [
           {
            "colorbar": {
             "outlinewidth": 0,
             "ticks": ""
            },
            "colorscale": [
             [
              0,
              "#0d0887"
             ],
             [
              0.1111111111111111,
              "#46039f"
             ],
             [
              0.2222222222222222,
              "#7201a8"
             ],
             [
              0.3333333333333333,
              "#9c179e"
             ],
             [
              0.4444444444444444,
              "#bd3786"
             ],
             [
              0.5555555555555556,
              "#d8576b"
             ],
             [
              0.6666666666666666,
              "#ed7953"
             ],
             [
              0.7777777777777778,
              "#fb9f3a"
             ],
             [
              0.8888888888888888,
              "#fdca26"
             ],
             [
              1,
              "#f0f921"
             ]
            ],
            "type": "contour"
           }
          ],
          "contourcarpet": [
           {
            "colorbar": {
             "outlinewidth": 0,
             "ticks": ""
            },
            "type": "contourcarpet"
           }
          ],
          "heatmap": [
           {
            "colorbar": {
             "outlinewidth": 0,
             "ticks": ""
            },
            "colorscale": [
             [
              0,
              "#0d0887"
             ],
             [
              0.1111111111111111,
              "#46039f"
             ],
             [
              0.2222222222222222,
              "#7201a8"
             ],
             [
              0.3333333333333333,
              "#9c179e"
             ],
             [
              0.4444444444444444,
              "#bd3786"
             ],
             [
              0.5555555555555556,
              "#d8576b"
             ],
             [
              0.6666666666666666,
              "#ed7953"
             ],
             [
              0.7777777777777778,
              "#fb9f3a"
             ],
             [
              0.8888888888888888,
              "#fdca26"
             ],
             [
              1,
              "#f0f921"
             ]
            ],
            "type": "heatmap"
           }
          ],
          "heatmapgl": [
           {
            "colorbar": {
             "outlinewidth": 0,
             "ticks": ""
            },
            "colorscale": [
             [
              0,
              "#0d0887"
             ],
             [
              0.1111111111111111,
              "#46039f"
             ],
             [
              0.2222222222222222,
              "#7201a8"
             ],
             [
              0.3333333333333333,
              "#9c179e"
             ],
             [
              0.4444444444444444,
              "#bd3786"
             ],
             [
              0.5555555555555556,
              "#d8576b"
             ],
             [
              0.6666666666666666,
              "#ed7953"
             ],
             [
              0.7777777777777778,
              "#fb9f3a"
             ],
             [
              0.8888888888888888,
              "#fdca26"
             ],
             [
              1,
              "#f0f921"
             ]
            ],
            "type": "heatmapgl"
           }
          ],
          "histogram": [
           {
            "marker": {
             "pattern": {
              "fillmode": "overlay",
              "size": 10,
              "solidity": 0.2
             }
            },
            "type": "histogram"
           }
          ],
          "histogram2d": [
           {
            "colorbar": {
             "outlinewidth": 0,
             "ticks": ""
            },
            "colorscale": [
             [
              0,
              "#0d0887"
             ],
             [
              0.1111111111111111,
              "#46039f"
             ],
             [
              0.2222222222222222,
              "#7201a8"
             ],
             [
              0.3333333333333333,
              "#9c179e"
             ],
             [
              0.4444444444444444,
              "#bd3786"
             ],
             [
              0.5555555555555556,
              "#d8576b"
             ],
             [
              0.6666666666666666,
              "#ed7953"
             ],
             [
              0.7777777777777778,
              "#fb9f3a"
             ],
             [
              0.8888888888888888,
              "#fdca26"
             ],
             [
              1,
              "#f0f921"
             ]
            ],
            "type": "histogram2d"
           }
          ],
          "histogram2dcontour": [
           {
            "colorbar": {
             "outlinewidth": 0,
             "ticks": ""
            },
            "colorscale": [
             [
              0,
              "#0d0887"
             ],
             [
              0.1111111111111111,
              "#46039f"
             ],
             [
              0.2222222222222222,
              "#7201a8"
             ],
             [
              0.3333333333333333,
              "#9c179e"
             ],
             [
              0.4444444444444444,
              "#bd3786"
             ],
             [
              0.5555555555555556,
              "#d8576b"
             ],
             [
              0.6666666666666666,
              "#ed7953"
             ],
             [
              0.7777777777777778,
              "#fb9f3a"
             ],
             [
              0.8888888888888888,
              "#fdca26"
             ],
             [
              1,
              "#f0f921"
             ]
            ],
            "type": "histogram2dcontour"
           }
          ],
          "mesh3d": [
           {
            "colorbar": {
             "outlinewidth": 0,
             "ticks": ""
            },
            "type": "mesh3d"
           }
          ],
          "parcoords": [
           {
            "line": {
             "colorbar": {
              "outlinewidth": 0,
              "ticks": ""
             }
            },
            "type": "parcoords"
           }
          ],
          "pie": [
           {
            "automargin": true,
            "type": "pie"
           }
          ],
          "scatter": [
           {
            "fillpattern": {
             "fillmode": "overlay",
             "size": 10,
             "solidity": 0.2
            },
            "type": "scatter"
           }
          ],
          "scatter3d": [
           {
            "line": {
             "colorbar": {
              "outlinewidth": 0,
              "ticks": ""
             }
            },
            "marker": {
             "colorbar": {
              "outlinewidth": 0,
              "ticks": ""
             }
            },
            "type": "scatter3d"
           }
          ],
          "scattercarpet": [
           {
            "marker": {
             "colorbar": {
              "outlinewidth": 0,
              "ticks": ""
             }
            },
            "type": "scattercarpet"
           }
          ],
          "scattergeo": [
           {
            "marker": {
             "colorbar": {
              "outlinewidth": 0,
              "ticks": ""
             }
            },
            "type": "scattergeo"
           }
          ],
          "scattergl": [
           {
            "marker": {
             "colorbar": {
              "outlinewidth": 0,
              "ticks": ""
             }
            },
            "type": "scattergl"
           }
          ],
          "scattermapbox": [
           {
            "marker": {
             "colorbar": {
              "outlinewidth": 0,
              "ticks": ""
             }
            },
            "type": "scattermapbox"
           }
          ],
          "scatterpolar": [
           {
            "marker": {
             "colorbar": {
              "outlinewidth": 0,
              "ticks": ""
             }
            },
            "type": "scatterpolar"
           }
          ],
          "scatterpolargl": [
           {
            "marker": {
             "colorbar": {
              "outlinewidth": 0,
              "ticks": ""
             }
            },
            "type": "scatterpolargl"
           }
          ],
          "scatterternary": [
           {
            "marker": {
             "colorbar": {
              "outlinewidth": 0,
              "ticks": ""
             }
            },
            "type": "scatterternary"
           }
          ],
          "surface": [
           {
            "colorbar": {
             "outlinewidth": 0,
             "ticks": ""
            },
            "colorscale": [
             [
              0,
              "#0d0887"
             ],
             [
              0.1111111111111111,
              "#46039f"
             ],
             [
              0.2222222222222222,
              "#7201a8"
             ],
             [
              0.3333333333333333,
              "#9c179e"
             ],
             [
              0.4444444444444444,
              "#bd3786"
             ],
             [
              0.5555555555555556,
              "#d8576b"
             ],
             [
              0.6666666666666666,
              "#ed7953"
             ],
             [
              0.7777777777777778,
              "#fb9f3a"
             ],
             [
              0.8888888888888888,
              "#fdca26"
             ],
             [
              1,
              "#f0f921"
             ]
            ],
            "type": "surface"
           }
          ],
          "table": [
           {
            "cells": {
             "fill": {
              "color": "#EBF0F8"
             },
             "line": {
              "color": "white"
             }
            },
            "header": {
             "fill": {
              "color": "#C8D4E3"
             },
             "line": {
              "color": "white"
             }
            },
            "type": "table"
           }
          ]
         },
         "layout": {
          "annotationdefaults": {
           "arrowcolor": "#2a3f5f",
           "arrowhead": 0,
           "arrowwidth": 1
          },
          "autotypenumbers": "strict",
          "coloraxis": {
           "colorbar": {
            "outlinewidth": 0,
            "ticks": ""
           }
          },
          "colorscale": {
           "diverging": [
            [
             0,
             "#8e0152"
            ],
            [
             0.1,
             "#c51b7d"
            ],
            [
             0.2,
             "#de77ae"
            ],
            [
             0.3,
             "#f1b6da"
            ],
            [
             0.4,
             "#fde0ef"
            ],
            [
             0.5,
             "#f7f7f7"
            ],
            [
             0.6,
             "#e6f5d0"
            ],
            [
             0.7,
             "#b8e186"
            ],
            [
             0.8,
             "#7fbc41"
            ],
            [
             0.9,
             "#4d9221"
            ],
            [
             1,
             "#276419"
            ]
           ],
           "sequential": [
            [
             0,
             "#0d0887"
            ],
            [
             0.1111111111111111,
             "#46039f"
            ],
            [
             0.2222222222222222,
             "#7201a8"
            ],
            [
             0.3333333333333333,
             "#9c179e"
            ],
            [
             0.4444444444444444,
             "#bd3786"
            ],
            [
             0.5555555555555556,
             "#d8576b"
            ],
            [
             0.6666666666666666,
             "#ed7953"
            ],
            [
             0.7777777777777778,
             "#fb9f3a"
            ],
            [
             0.8888888888888888,
             "#fdca26"
            ],
            [
             1,
             "#f0f921"
            ]
           ],
           "sequentialminus": [
            [
             0,
             "#0d0887"
            ],
            [
             0.1111111111111111,
             "#46039f"
            ],
            [
             0.2222222222222222,
             "#7201a8"
            ],
            [
             0.3333333333333333,
             "#9c179e"
            ],
            [
             0.4444444444444444,
             "#bd3786"
            ],
            [
             0.5555555555555556,
             "#d8576b"
            ],
            [
             0.6666666666666666,
             "#ed7953"
            ],
            [
             0.7777777777777778,
             "#fb9f3a"
            ],
            [
             0.8888888888888888,
             "#fdca26"
            ],
            [
             1,
             "#f0f921"
            ]
           ]
          },
          "colorway": [
           "#636efa",
           "#EF553B",
           "#00cc96",
           "#ab63fa",
           "#FFA15A",
           "#19d3f3",
           "#FF6692",
           "#B6E880",
           "#FF97FF",
           "#FECB52"
          ],
          "font": {
           "color": "#2a3f5f"
          },
          "geo": {
           "bgcolor": "white",
           "lakecolor": "white",
           "landcolor": "#E5ECF6",
           "showlakes": true,
           "showland": true,
           "subunitcolor": "white"
          },
          "hoverlabel": {
           "align": "left"
          },
          "hovermode": "closest",
          "mapbox": {
           "style": "light"
          },
          "paper_bgcolor": "white",
          "plot_bgcolor": "#E5ECF6",
          "polar": {
           "angularaxis": {
            "gridcolor": "white",
            "linecolor": "white",
            "ticks": ""
           },
           "bgcolor": "#E5ECF6",
           "radialaxis": {
            "gridcolor": "white",
            "linecolor": "white",
            "ticks": ""
           }
          },
          "scene": {
           "xaxis": {
            "backgroundcolor": "#E5ECF6",
            "gridcolor": "white",
            "gridwidth": 2,
            "linecolor": "white",
            "showbackground": true,
            "ticks": "",
            "zerolinecolor": "white"
           },
           "yaxis": {
            "backgroundcolor": "#E5ECF6",
            "gridcolor": "white",
            "gridwidth": 2,
            "linecolor": "white",
            "showbackground": true,
            "ticks": "",
            "zerolinecolor": "white"
           },
           "zaxis": {
            "backgroundcolor": "#E5ECF6",
            "gridcolor": "white",
            "gridwidth": 2,
            "linecolor": "white",
            "showbackground": true,
            "ticks": "",
            "zerolinecolor": "white"
           }
          },
          "shapedefaults": {
           "line": {
            "color": "#2a3f5f"
           }
          },
          "ternary": {
           "aaxis": {
            "gridcolor": "white",
            "linecolor": "white",
            "ticks": ""
           },
           "baxis": {
            "gridcolor": "white",
            "linecolor": "white",
            "ticks": ""
           },
           "bgcolor": "#E5ECF6",
           "caxis": {
            "gridcolor": "white",
            "linecolor": "white",
            "ticks": ""
           }
          },
          "title": {
           "x": 0.05
          },
          "xaxis": {
           "automargin": true,
           "gridcolor": "white",
           "linecolor": "white",
           "ticks": "",
           "title": {
            "standoff": 15
           },
           "zerolinecolor": "white",
           "zerolinewidth": 2
          },
          "yaxis": {
           "automargin": true,
           "gridcolor": "white",
           "linecolor": "white",
           "ticks": "",
           "title": {
            "standoff": 15
           },
           "zerolinecolor": "white",
           "zerolinewidth": 2
          }
         }
        },
        "title": {
         "text": "Top 10 Genres by Popularity"
        },
        "xaxis": {
         "anchor": "y",
         "domain": [
          0,
          1
         ],
         "title": {
          "text": "Top Genre"
         }
        },
        "yaxis": {
         "anchor": "x",
         "domain": [
          0,
          1
         ],
         "title": {
          "text": "Score (0-100)"
         }
        }
       }
      }
     },
     "metadata": {},
     "output_type": "display_data"
    }
   ],
   "source": [
    "# Average characteristics for each genre\n",
    "genre_stats = df.groupby('Top Genre').agg({\n",
    "    'Energy': 'mean',\n",
    "    'Danceability': 'mean',\n",
    "    'Popularity': 'mean'\n",
    "}).sort_values('Popularity', ascending=False).head(10)\n",
    "\n",
    "# Display the results\n",
    "print(\"\\nTop 10 Genres by Popularity with their characteristics:\")\n",
    "print(genre_stats)\n",
    "\n",
    "# Or for a nicer visualization\n",
    "fig = px.bar(genre_stats, \n",
    "             title='Top 10 Genres by Popularity',\n",
    "             labels={'value': 'Score (0-100)', 'variable': 'Attribute'},\n",
    "             barmode='group')\n",
    "fig.show()"
   ]
  },
  {
   "cell_type": "markdown",
   "metadata": {},
   "source": [
    "Most Popular Music Genres Analysis:\n",
    "\n",
    "Surprising Leaders:\n",
    "- `Celtic punk` and `indie pop` tie for highest popularity (`83`), despite not being mainstream genres\n",
    "- `Australian psych` ranks third (`80.5`), showing unique genres can be highly popular\n",
    "\n",
    "Energy vs. Danceability:\n",
    "- `ATL hip hop` has highest energy (`97`) but moderate danceability (`73`)\n",
    "- `Danish pop` flips this with high danceability (`77`) but lower energy (`47`)\n",
    "- Most genres maintain high energy (`60-90`) regardless of style\n",
    "\n",
    "Key Insight:\n",
    "While these aren't the most common genres in our dataset, they achieve the highest popularity scores, suggesting that unique, niche genres can be just as successful as mainstream ones. The mix of high-energy and dance-friendly characteristics likely contributes to their appeal."
   ]
  },
  {
   "cell_type": "code",
   "execution_count": 9,
   "metadata": {},
   "outputs": [
    {
     "data": {
      "image/png": "[encoded data removed]",
      "text/plain": [
       "<Figure size 1200x800 with 2 Axes>"
      ]
     },
     "metadata": {},
     "output_type": "display_data"
    }
   ],
   "source": [
    "# Declaring numerical columns\n",
    "numeric_cols = ['Beats Per Minute (BPM)', 'Energy', 'Danceability', 'Loudness (dB)', \n",
    "               'Liveness', 'Valence', 'Length (Duration)', 'Acousticness', \n",
    "               'Speechiness', 'Popularity']\n",
    "\n",
    "# Clean the numeric columns by removing all commas\n",
    "for col in numeric_cols:\n",
    "    if df[col].dtype == 'object':  # if the column contains strings\n",
    "        df[col] = df[col].str.replace(',', '').astype(float)\n",
    "\n",
    "# Correlation matrix\n",
    "correlation_matrix = df[numeric_cols].corr()\n",
    "\n",
    "# Heatmap\n",
    "plt.figure(figsize=(12, 8))\n",
    "sns.heatmap(correlation_matrix, annot=True, cmap='coolwarm', center=0)\n",
    "plt.title('Correlation Matrix of Musical Features')\n",
    "plt.xticks(rotation=45, ha='right')  # Rotate labels for better readability\n",
    "plt.yticks(rotation=0)\n",
    "plt.tight_layout()\n",
    "plt.show()"
   ]
  },
  {
   "cell_type": "markdown",
   "metadata": {},
   "source": [
    "Key Correlations in Music Features:\n",
    "\n",
    "Strongest Relationships:\n",
    "- `Energy` and `Loudness`: Strong positive correlation (`0.74`) - louder songs tend to be more energetic\n",
    "- `Energy` and `Acousticness`: Strong negative correlation (`-0.67`) - energetic songs are typically less acoustic\n",
    "- `Danceability` and `Valence`: Moderate positive correlation (`0.51`) - danceable songs tend to be more positive/upbeat\n",
    "\n",
    "Interesting Findings:\n",
    "- `Popularity` has weak correlations with all features (all below `0.2`), suggesting popular songs can have varied characteristics\n",
    "- `BPM` (tempo) surprisingly shows little correlation with other features, meaning fast or slow songs can have any characteristics\n",
    "- `Length` of songs shows minimal correlation with other features, indicating song duration is independent of musical style\n",
    "\n",
    "The red squares show perfect correlations (features with themselves), while blue indicates negative correlations and pink/red shows positive ones."
   ]
  },
  {
   "cell_type": "code",
   "execution_count": 10,
   "metadata": {},
   "outputs": [
    {
     "name": "stdout",
     "output_type": "stream",
     "text": [
      "\n",
      "Feature relationships with Popularity:\n"
     ]
    },
    {
     "data": {
      "application/vnd.plotly.v1+json": {
       "config": {
        "plotlyServerURL": "https://plot.ly"
       },
       "data": [
        {
         "dimensions": [
          {
           "axis": {
            "matches": true
           },
           "label": "Energy",
           "values": [
            30,
            79,
            69,
            96,
            82,
            46,
            71,
            96,
            92,
            67,
            5,
            46,
            88,
            93,
            81,
            42,
            90,
            54,
            31,
            65,
            42,
            51,
            89,
            99,
            74,
            48,
            68,
            76,
            24,
            70,
            44,
            59,
            47,
            20,
            87,
            53,
            79,
            81,
            60,
            21,
            82,
            64,
            68,
            99,
            85,
            57,
            46,
            64,
            72,
            77,
            35,
            43,
            26,
            77,
            30,
            76,
            60,
            59,
            70,
            59,
            41,
            56,
            75,
            74,
            87,
            86,
            69,
            73,
            43,
            65,
            18,
            58,
            44,
            68,
            48,
            80,
            24,
            96,
            92,
            67,
            71,
            32,
            25,
            60,
            91,
            85,
            76,
            55,
            67,
            91,
            35,
            55,
            40,
            70,
            93,
            74,
            84,
            13,
            90,
            81,
            86,
            44,
            80,
            62,
            61,
            37,
            79,
            69,
            86,
            49,
            76,
            84,
            74,
            72,
            74,
            67,
            42,
            72,
            72,
            82,
            58,
            76,
            44,
            36,
            60,
            77,
            94,
            41,
            85,
            95,
            64,
            38,
            56,
            40,
            77,
            81,
            56,
            63,
            37,
            92,
            77,
            77,
            77,
            47,
            97,
            20,
            30,
            55,
            72,
            55,
            38,
            78,
            46,
            41,
            17,
            56,
            55,
            48,
            93,
            93,
            57,
            39,
            72,
            32,
            91,
            27,
            69,
            69,
            29,
            8,
            19,
            33,
            63,
            30,
            72,
            76,
            76,
            57,
            59,
            83,
            62,
            78,
            20,
            72,
            95,
            56,
            99,
            55,
            97,
            69,
            71,
            70,
            66,
            64,
            61,
            59,
            38,
            87,
            93,
            44,
            41,
            85,
            61,
            92,
            57,
            81,
            92,
            66,
            66,
            33,
            54,
            75,
            81,
            94,
            66,
            62,
            59,
            75,
            63,
            77,
            57,
            33,
            48,
            46,
            34,
            55,
            87,
            59,
            6,
            60,
            55,
            50,
            71,
            26,
            47,
            66,
            25,
            95,
            70,
            66,
            88,
            55,
            70,
            65,
            86,
            87,
            63,
            79,
            57,
            73,
            52,
            82,
            78,
            18,
            84,
            88,
            77,
            34,
            93,
            35,
            87,
            59,
            86,
            36,
            96,
            64,
            44,
            51,
            72,
            76,
            90,
            48,
            13,
            73,
            74,
            58,
            78,
            77,
            88,
            97,
            78,
            41,
            49,
            73,
            47,
            83,
            88,
            93,
            47,
            89,
            74,
            64,
            95,
            39,
            88,
            52,
            92,
            68,
            98,
            65,
            54,
            84,
            96,
            81,
            30,
            63,
            80,
            78,
            14,
            90,
            62,
            93,
            84,
            68,
            68,
            63,
            82,
            97,
            63,
            40,
            56,
            56,
            75,
            58,
            81,
            93,
            54,
            92,
            78,
            67,
            70,
            49,
            87,
            44,
            46,
            68,
            18,
            80,
            77,
            41,
            30,
            86,
            40,
            87,
            59,
            91,
            89,
            25,
            48,
            91,
            48,
            58,
            49,
            91,
            24,
            66,
            73,
            76,
            45,
            83,
            39,
            71,
            77,
            84,
            33,
            54,
            88,
            74,
            84,
            81,
            91,
            50,
            93,
            53,
            92,
            80,
            55,
            36,
            73,
            66,
            89,
            59,
            52,
            18,
            47,
            59,
            70,
            73,
            55,
            81,
            94,
            75,
            77,
            80,
            56,
            17,
            77,
            89,
            64,
            66,
            29,
            79,
            90,
            42,
            77,
            92,
            53,
            30,
            41,
            50,
            57,
            83,
            59,
            59,
            71,
            71,
            80,
            42,
            41,
            84,
            81,
            65,
            84,
            72,
            91,
            61,
            59,
            39,
            56,
            96,
            62,
            19,
            73,
            33,
            68,
            94,
            83,
            50,
            59,
            78,
            46,
            61,
            47,
            87,
            29,
            73,
            69,
            20,
            79,
            93,
            87,
            45,
            82,
            73,
            80,
            52,
            73,
            51,
            33,
            75,
            60,
            71,
            57,
            33,
            83,
            86,
            90,
            35,
            75,
            64,
            29,
            75,
            76,
            66,
            63,
            45,
            32,
            74,
            40,
            55,
            69,
            32,
            78,
            26,
            71,
            28,
            55,
            63,
            76,
            75,
            20,
            20,
            47,
            51,
            42,
            73,
            92,
            69,
            40,
            93,
            24,
            32,
            76,
            87,
            60,
            28,
            30,
            65,
            54,
            71,
            81,
            58,
            39,
            73,
            26,
            31,
            71,
            88,
            76,
            68,
            34,
            88,
            78,
            63,
            53,
            54,
            78,
            5,
            83,
            26,
            95,
            56,
            75,
            55,
            81,
            40,
            93,
            72,
            28,
            81,
            41,
            79,
            87,
            88,
            40,
            33,
            85,
            51,
            66,
            43,
            64,
            76,
            84,
            78,
            87,
            96,
            22,
            58,
            92,
            60,
            68,
            63,
            64,
            76,
            77,
            45,
            66,
            58,
            41,
            95,
            81,
            37,
            82,
            39,
            70,
            71,
            48,
            38,
            86,
            73,
            72,
            70,
            82,
            88,
            34,
            74,
            34,
            69,
            64,
            88,
            89,
            42,
            80,
            52,
            87,
            71,
            44,
            54,
            78,
            72,
            87,
            23,
            85,
            31,
            28,
            44,
            88,
            58,
            13,
            93,
            79,
            79,
            61,
            41,
            39,
            88,
            45,
            74,
            48,
            64,
            41,
            42,
            74,
            92,
            50,
            33,
            82,
            59,
            38,
            46,
            40,
            93,
            37,
            76,
            92,
            90,
            90,
            76,
            62,
            47,
            67,
            65,
            72,
            92,
            38,
            68,
            41,
            40,
            46,
            73,
            45,
            50,
            72,
            59,
            79,
            83,
            55,
            70,
            27,
            74,
            33,
            83,
            21,
            43,
            66,
            49,
            75,
            70,
            53,
            80,
            55,
            84,
            28,
            46,
            26,
            40,
            51,
            51,
            47,
            24,
            7,
            64,
            91,
            45,
            89,
            68,
            59,
            65,
            78,
            71,
            21,
            83,
            60,
            66,
            53,
            69,
            66,
            91,
            61,
            87,
            78,
            20,
            28,
            85,
            93,
            64,
            82,
            63,
            39,
            88,
            71,
            24,
            89,
            40,
            75,
            83,
            31,
            32,
            87,
            30,
            22,
            62,
            68,
            62,
            75,
            72,
            39,
            70,
            44,
            41,
            83,
            36,
            40,
            78,
            60,
            54,
            47,
            66,
            57,
            61,
            73,
            41,
            74,
            64,
            49,
            90,
            60,
            74,
            69,
            63,
            61,
            41,
            89,
            38,
            25,
            63,
            49,
            64,
            58,
            50,
            49,
            74,
            57,
            85,
            52,
            93,
            71,
            84,
            34,
            25,
            76,
            71,
            52,
            61,
            86,
            79,
            68,
            71,
            38,
            33,
            66,
            75,
            32,
            77,
            58,
            83,
            43,
            32,
            76,
            35,
            76,
            90,
            87,
            59,
            56,
            66,
            53,
            80,
            17,
            46,
            40,
            21,
            66,
            47,
            32,
            49,
            45,
            26,
            36,
            93,
            80,
            21,
            28,
            33,
            33,
            47,
            21,
            66,
            84,
            36,
            59,
            39,
            41,
            63,
            70,
            79,
            88,
            35,
            66,
            91,
            17,
            38,
            52,
            50,
            25,
            97,
            36,
            85,
            57,
            34,
            26,
            72,
            32,
            9,
            46,
            72,
            38,
            38,
            42,
            39,
            73,
            82,
            57,
            48,
            43,
            32,
            65,
            51,
            59,
            93,
            26,
            53,
            70,
            31,
            11,
            78,
            28,
            42,
            33,
            76,
            57,
            92,
            31,
            50,
            59,
            89,
            86,
            42,
            4,
            62,
            63,
            71,
            59,
            27,
            53,
            46,
            45,
            67,
            51,
            26,
            51,
            84,
            16,
            32,
            78,
            68,
            56,
            69,
            60,
            34,
            75,
            50,
            22,
            47,
            60,
            58,
            57,
            33,
            78,
            63,
            54,
            72,
            55,
            22,
            43,
            48,
            85,
            54,
            39,
            22,
            64,
            19,
            30,
            60,
            60,
            24,
            40,
            40,
            75,
            47,
            38,
            48,
            45,
            91,
            51,
            57,
            80,
            54,
            29,
            60,
            47,
            54,
            65,
            61,
            93,
            31,
            41,
            18,
            53,
            69,
            42,
            50,
            14,
            54,
            47,
            81,
            36,
            25,
            64,
            44,
            46,
            38,
            32,
            40,
            18,
            29,
            94,
            54,
            68,
            61,
            75,
            16,
            76,
            52,
            49,
            67,
            76,
            58,
            33,
            90,
            37,
            58,
            43,
            37,
            59,
            46,
            25,
            82,
            49,
            70,
            64,
            27,
            42,
            56,
            96,
            73,
            29,
            76,
            25,
            51,
            69,
            88,
            28,
            83,
            68,
            93,
            43,
            56,
            58,
            89,
            53,
            74,
            45,
            79,
            37,
            70,
            83,
            72,
            28,
            71,
            65,
            57,
            78,
            75,
            70,
            41,
            88,
            69,
            17,
            42,
            76,
            87,
            94,
            34,
            31,
            84,
            50,
            67,
            48,
            46,
            32,
            71,
            32,
            84,
            63,
            42,
            21,
            97,
            70,
            54,
            52,
            75,
            9,
            73,
            72,
            71,
            89,
            43,
            69,
            82,
            80,
            66,
            68,
            48,
            50,
            69,
            52,
            49,
            56,
            74,
            46,
            93,
            91,
            48,
            45,
            64,
            65,
            93,
            45,
            98,
            60,
            87,
            87,
            33,
            39,
            61,
            75,
            70,
            26,
            78,
            35,
            38,
            69,
            90,
            67,
            72,
            57,
            34,
            71,
            82,
            56,
            80,
            38,
            85,
            85,
            72,
            88,
            27,
            87,
            62,
            12,
            57,
            37,
            91,
            39,
            23,
            76,
            85,
            49,
            81,
            30,
            94,
            56,
            86,
            36,
            21,
            70,
            66,
            37,
            76,
            84,
            78,
            23,
            67,
            82,
            80,
            97,
            67,
            34,
            87,
            53,
            60,
            52,
            73,
            66,
            74,
            68,
            54,
            57,
            64,
            75,
            93,
            54,
            62,
            79,
            98,
            53,
            70,
            57,
            26,
            77,
            76,
            72,
            70,
            84,
            92,
            32,
            38,
            69,
            38,
            74,
            29,
            72,
            78,
            93,
            63,
            45,
            72,
            28,
            92,
            89,
            89,
            43,
            36,
            53,
            88,
            76,
            42,
            51,
            32,
            24,
            75,
            39,
            38,
            77,
            93,
            40,
            79,
            51,
            24,
            73,
            74,
            60,
            35,
            37,
            59,
            71,
            32,
            10,
            65,
            94,
            76,
            42,
            51,
            42,
            60,
            66,
            73,
            41,
            19,
            66,
            57,
            70,
            94,
            55,
            26,
            60,
            35,
            51,
            71,
            83,
            82,
            92,
            67,
            54,
            26,
            94,
            45,
            88,
            56,
            71,
            90,
            74,
            63,
            80,
            79,
            65,
            96,
            40,
            25,
            63,
            94,
            35,
            52,
            76,
            72,
            7,
            80,
            95,
            76,
            80,
            71,
            14,
            73,
            46,
            79,
            45,
            82,
            34,
            83,
            50,
            74,
            68,
            45,
            84,
            93,
            94,
            48,
            99,
            47,
            95,
            61,
            34,
            85,
            16,
            55,
            57,
            92,
            31,
            82,
            96,
            80,
            59,
            58,
            75,
            42,
            93,
            57,
            27,
            81,
            25,
            78,
            8,
            41,
            70,
            62,
            91,
            68,
            93,
            95,
            44,
            66,
            66,
            55,
            94,
            90,
            46,
            91,
            51,
            55,
            25,
            47,
            66,
            80,
            60,
            28,
            82,
            67,
            41,
            71,
            13,
            52,
            46,
            50,
            94,
            47,
            31,
            83,
            61,
            6,
            45,
            95,
            67,
            81,
            83,
            100,
            89,
            71,
            26,
            6,
            78,
            84,
            31,
            13,
            76,
            42,
            91,
            80,
            77,
            96,
            29,
            92,
            68,
            77,
            53,
            27,
            38,
            80,
            14,
            90,
            8,
            54,
            86,
            32,
            68,
            93,
            69,
            58,
            28,
            63,
            65,
            86,
            27,
            31,
            95,
            88,
            32,
            95,
            43,
            72,
            77,
            98,
            20,
            35,
            31,
            99,
            51,
            98,
            30,
            49,
            90,
            45,
            52,
            50,
            69,
            82,
            8,
            67,
            35,
            94,
            20,
            82,
            41,
            16,
            85,
            84,
            89,
            45,
            64,
            70,
            63,
            84,
            73,
            86,
            64,
            52,
            89,
            76,
            74,
            83,
            55,
            47,
            69,
            29,
            34,
            39,
            65,
            98,
            72,
            62,
            53,
            84,
            69,
            63,
            44,
            18,
            28,
            67,
            74,
            41,
            31,
            58,
            65,
            42,
            31,
            42,
            76,
            69,
            77,
            38,
            37,
            56,
            69,
            56,
            41,
            88,
            91,
            84,
            85,
            52,
            48,
            56,
            74,
            86,
            18,
            33,
            68,
            25,
            61,
            59,
            67,
            35,
            45,
            45,
            89,
            37,
            97,
            80,
            29,
            88,
            81,
            39,
            65,
            79,
            57,
            82,
            89,
            32,
            81,
            39,
            52,
            57,
            63,
            68,
            57,
            59,
            42,
            86,
            51,
            13,
            65,
            19,
            61,
            48,
            79,
            68,
            40,
            64,
            36,
            91,
            73,
            88,
            82,
            40,
            35,
            79,
            69,
            86,
            82,
            85,
            53,
            74,
            60,
            40,
            66,
            49,
            76,
            94,
            79,
            85,
            61,
            59,
            37,
            75,
            90,
            49,
            85,
            27,
            94,
            26,
            51,
            77,
            78,
            88,
            61,
            91,
            82,
            83,
            64,
            55,
            53,
            60,
            15,
            61,
            66,
            67,
            57,
            83,
            87,
            60,
            32,
            67,
            52,
            21,
            39,
            30,
            83,
            76,
            77,
            70,
            79,
            56,
            55,
            94,
            59,
            31,
            43,
            98,
            28,
            71,
            52,
            47,
            92,
            87,
            44,
            40,
            51,
            55,
            47,
            65,
            97,
            48,
            43,
            50,
            34,
            83,
            43,
            56,
            67,
            37,
            62,
            65,
            42,
            82,
            64,
            70,
            53,
            33,
            26,
            60,
            67,
            41,
            96,
            47,
            43,
            75,
            48,
            54,
            85,
            63,
            64,
            14,
            26,
            43,
            83,
            75,
            94,
            59,
            41,
            53,
            66,
            63,
            82,
            94,
            58,
            43,
            86,
            45,
            99,
            91,
            79,
            57,
            52,
            39,
            87,
            65,
            87,
            92,
            29,
            44,
            45,
            80,
            31,
            80,
            25,
            46,
            61,
            91,
            80,
            34,
            48,
            77,
            82,
            51,
            37,
            71,
            43,
            23,
            40,
            79,
            49,
            83,
            36,
            54,
            43,
            47,
            13,
            33,
            67,
            72,
            56,
            86,
            38,
            73,
            37,
            39,
            58,
            42,
            79,
            82,
            62,
            47,
            35,
            51,
            36,
            36,
            86,
            54,
            29,
            24,
            76,
            65,
            72,
            29,
            88,
            58,
            72,
            88,
            92,
            13,
            92,
            43,
            51,
            88,
            86,
            85,
            33,
            9,
            66,
            37,
            50,
            95,
            88,
            99,
            37,
            43,
            31,
            39,
            64,
            61,
            50,
            28,
            95,
            82,
            90,
            49,
            40,
            21,
            63,
            23,
            77,
            52,
            80,
            86,
            91,
            49,
            63,
            97,
            55,
            85,
            13,
            59,
            80,
            51,
            46,
            20,
            66,
            9,
            29,
            42,
            50,
            39,
            51,
            51,
            50,
            90,
            57,
            48,
            58,
            98,
            84,
            80,
            80,
            22,
            90,
            47,
            74,
            90,
            61,
            48,
            90,
            19,
            89,
            17,
            28,
            27,
            54,
            38,
            59,
            24,
            77,
            40,
            92,
            66,
            72,
            80,
            74,
            96,
            47,
            87,
            10,
            64,
            28,
            62,
            79,
            87,
            62,
            40,
            91,
            17,
            90,
            85,
            43,
            92,
            68,
            65,
            92,
            35,
            29,
            26,
            31,
            60,
            59,
            10,
            44,
            85,
            9,
            80,
            24,
            22,
            58,
            53,
            40,
            38,
            81,
            63,
            58,
            69,
            18,
            86,
            72,
            37,
            73,
            21,
            29,
            33,
            78,
            44,
            28,
            14,
            65,
            43,
            47,
            80,
            49,
            61,
            28,
            75,
            44,
            90,
            25,
            75,
            38,
            49,
            68,
            15,
            47,
            18,
            46,
            35,
            24,
            13,
            63,
            48,
            30,
            46,
            58,
            56,
            29,
            39,
            17,
            77,
            47,
            73,
            50,
            40,
            53,
            26,
            47,
            50,
            67,
            33,
            91,
            55,
            48,
            44,
            24,
            24,
            56,
            66,
            60,
            67,
            21,
            78,
            69,
            48,
            75,
            58,
            41,
            38,
            52,
            37,
            13,
            73,
            65,
            81,
            53,
            36,
            32,
            58,
            46,
            17,
            52,
            55,
            72,
            91,
            62,
            73,
            29,
            44,
            56,
            46,
            34,
            43,
            49,
            97,
            64,
            54,
            44,
            63,
            38,
            90,
            13,
            66,
            27,
            77,
            62,
            43,
            38,
            38,
            34,
            6,
            72,
            76,
            50,
            72,
            45,
            39,
            44,
            59,
            39,
            42,
            46,
            55,
            62,
            30,
            54,
            71,
            3,
            90,
            55,
            66,
            87,
            41,
            36,
            66,
            58,
            24,
            7,
            21,
            76,
            80,
            26,
            50
           ]
          },
          {
           "axis": {
            "matches": true
           },
           "label": "Danceability",
           "values": [
            53,
            50,
            66,
            43,
            58,
            54,
            71,
            37,
            36,
            91,
            44,
            74,
            54,
            38,
            65,
            42,
            52,
            38,
            27,
            62,
            21,
            60,
            63,
            51,
            65,
            55,
            53,
            91,
            34,
            68,
            56,
            56,
            62,
            73,
            64,
            68,
            29,
            32,
            58,
            46,
            67,
            71,
            28,
            38,
            58,
            38,
            83,
            37,
            64,
            46,
            47,
            35,
            43,
            30,
            33,
            52,
            53,
            48,
            69,
            47,
            62,
            44,
            70,
            66,
            55,
            63,
            76,
            68,
            28,
            50,
            55,
            51,
            56,
            30,
            52,
            75,
            42,
            43,
            66,
            43,
            50,
            52,
            42,
            56,
            46,
            55,
            70,
            59,
            72,
            38,
            39,
            85,
            40,
            52,
            23,
            27,
            70,
            27,
            50,
            53,
            56,
            29,
            67,
            32,
            36,
            48,
            69,
            62,
            70,
            35,
            58,
            52,
            64,
            60,
            69,
            30,
            35,
            82,
            28,
            53,
            43,
            37,
            46,
            53,
            85,
            65,
            37,
            67,
            58,
            51,
            59,
            52,
            48,
            25,
            37,
            71,
            41,
            67,
            61,
            51,
            74,
            55,
            52,
            86,
            60,
            34,
            71,
            34,
            49,
            50,
            54,
            44,
            56,
            83,
            33,
            61,
            62,
            59,
            55,
            66,
            62,
            59,
            61,
            53,
            60,
            19,
            67,
            69,
            66,
            53,
            48,
            63,
            61,
            32,
            51,
            79,
            50,
            26,
            56,
            42,
            66,
            70,
            34,
            53,
            66,
            74,
            24,
            59,
            41,
            79,
            78,
            73,
            95,
            52,
            45,
            30,
            57,
            55,
            51,
            29,
            61,
            60,
            67,
            67,
            32,
            86,
            52,
            46,
            66,
            56,
            51,
            61,
            55,
            62,
            50,
            49,
            93,
            51,
            65,
            78,
            46,
            76,
            57,
            53,
            64,
            54,
            34,
            43,
            35,
            88,
            54,
            52,
            66,
            47,
            33,
            51,
            52,
            22,
            83,
            43,
            62,
            67,
            63,
            26,
            54,
            60,
            41,
            35,
            70,
            49,
            64,
            26,
            68,
            26,
            59,
            46,
            53,
            45,
            24,
            54,
            51,
            43,
            50,
            67,
            49,
            47,
            27,
            69,
            87,
            50,
            43,
            48,
            47,
            45,
            71,
            74,
            60,
            44,
            18,
            73,
            58,
            66,
            95,
            60,
            38,
            71,
            63,
            42,
            35,
            74,
            69,
            46,
            54,
            53,
            74,
            63,
            58,
            57,
            54,
            61,
            29,
            62,
            62,
            52,
            48,
            66,
            56,
            65,
            26,
            61,
            49,
            45,
            47,
            38,
            44,
            63,
            42,
            45,
            46,
            32,
            37,
            80,
            62,
            35,
            49,
            54,
            78,
            35,
            36,
            63,
            79,
            60,
            43,
            47,
            69,
            62,
            54,
            71,
            47,
            33,
            70,
            64,
            38,
            25,
            56,
            56,
            59,
            53,
            68,
            55,
            26,
            50,
            41,
            54,
            19,
            45,
            79,
            45,
            46,
            44,
            14,
            82,
            51,
            61,
            51,
            30,
            35,
            59,
            32,
            85,
            47,
            51,
            44,
            66,
            70,
            58,
            56,
            28,
            49,
            54,
            56,
            68,
            32,
            56,
            41,
            43,
            61,
            48,
            74,
            70,
            33,
            58,
            53,
            45,
            41,
            33,
            56,
            69,
            60,
            87,
            54,
            71,
            53,
            74,
            65,
            55,
            59,
            28,
            67,
            45,
            77,
            43,
            79,
            40,
            87,
            70,
            59,
            31,
            71,
            47,
            50,
            64,
            64,
            58,
            48,
            37,
            66,
            62,
            71,
            60,
            48,
            65,
            63,
            56,
            61,
            48,
            60,
            86,
            45,
            48,
            52,
            28,
            37,
            23,
            64,
            50,
            55,
            42,
            60,
            51,
            36,
            31,
            51,
            50,
            74,
            43,
            43,
            44,
            40,
            62,
            51,
            73,
            53,
            53,
            51,
            79,
            73,
            64,
            65,
            59,
            38,
            52,
            34,
            53,
            69,
            49,
            29,
            43,
            37,
            35,
            57,
            65,
            45,
            39,
            51,
            33,
            78,
            67,
            48,
            50,
            28,
            24,
            32,
            35,
            50,
            54,
            64,
            30,
            70,
            64,
            75,
            52,
            51,
            42,
            51,
            61,
            59,
            81,
            27,
            75,
            37,
            27,
            61,
            53,
            46,
            62,
            56,
            66,
            45,
            52,
            47,
            51,
            53,
            51,
            55,
            45,
            55,
            63,
            55,
            42,
            58,
            60,
            45,
            48,
            73,
            57,
            41,
            68,
            36,
            79,
            21,
            57,
            68,
            54,
            56,
            79,
            78,
            57,
            60,
            67,
            70,
            50,
            52,
            52,
            74,
            46,
            46,
            47,
            59,
            85,
            62,
            39,
            55,
            73,
            38,
            78,
            57,
            27,
            67,
            58,
            64,
            56,
            65,
            69,
            49,
            33,
            74,
            61,
            46,
            48,
            76,
            76,
            46,
            64,
            38,
            66,
            44,
            59,
            62,
            66,
            49,
            42,
            65,
            48,
            37,
            66,
            72,
            79,
            65,
            78,
            58,
            40,
            62,
            55,
            32,
            37,
            56,
            57,
            50,
            52,
            36,
            40,
            86,
            17,
            58,
            60,
            54,
            64,
            66,
            73,
            27,
            50,
            49,
            64,
            36,
            65,
            53,
            41,
            35,
            72,
            54,
            48,
            39,
            43,
            45,
            65,
            64,
            43,
            88,
            76,
            57,
            66,
            48,
            56,
            61,
            40,
            46,
            49,
            18,
            67,
            48,
            58,
            68,
            38,
            39,
            67,
            55,
            66,
            72,
            70,
            67,
            38,
            12,
            49,
            46,
            28,
            59,
            68,
            56,
            82,
            37,
            60,
            59,
            60,
            35,
            73,
            36,
            49,
            77,
            61,
            52,
            67,
            57,
            60,
            76,
            50,
            49,
            83,
            78,
            60,
            61,
            46,
            52,
            55,
            26,
            34,
            67,
            55,
            57,
            55,
            67,
            59,
            49,
            68,
            51,
            62,
            61,
            48,
            52,
            62,
            63,
            59,
            55,
            50,
            91,
            52,
            40,
            50,
            51,
            64,
            43,
            41,
            51,
            59,
            56,
            43,
            57,
            54,
            64,
            81,
            69,
            28,
            43,
            81,
            32,
            33,
            72,
            40,
            34,
            70,
            67,
            55,
            66,
            38,
            50,
            58,
            73,
            67,
            83,
            49,
            30,
            50,
            77,
            35,
            41,
            47,
            41,
            18,
            23,
            55,
            57,
            63,
            74,
            60,
            57,
            50,
            42,
            64,
            71,
            49,
            53,
            55,
            77,
            51,
            79,
            60,
            54,
            62,
            40,
            45,
            25,
            67,
            52,
            60,
            74,
            43,
            70,
            76,
            40,
            51,
            61,
            52,
            47,
            82,
            70,
            36,
            59,
            66,
            68,
            34,
            44,
            15,
            42,
            74,
            55,
            44,
            49,
            71,
            41,
            56,
            60,
            59,
            50,
            30,
            50,
            47,
            33,
            22,
            63,
            39,
            76,
            47,
            71,
            61,
            54,
            31,
            76,
            61,
            75,
            60,
            48,
            35,
            61,
            46,
            53,
            54,
            38,
            59,
            37,
            34,
            55,
            55,
            28,
            42,
            45,
            49,
            44,
            25,
            48,
            43,
            35,
            27,
            39,
            53,
            41,
            42,
            65,
            38,
            23,
            63,
            47,
            68,
            32,
            55,
            70,
            56,
            70,
            47,
            27,
            41,
            61,
            69,
            69,
            42,
            56,
            32,
            44,
            81,
            47,
            39,
            41,
            46,
            63,
            40,
            60,
            54,
            49,
            57,
            65,
            54,
            45,
            26,
            44,
            57,
            45,
            66,
            44,
            56,
            65,
            38,
            29,
            53,
            54,
            30,
            22,
            67,
            56,
            56,
            44,
            57,
            68,
            50,
            43,
            23,
            31,
            36,
            28,
            47,
            36,
            28,
            55,
            41,
            36,
            27,
            48,
            25,
            63,
            51,
            66,
            56,
            59,
            69,
            60,
            57,
            51,
            58,
            41,
            58,
            59,
            54,
            37,
            67,
            54,
            60,
            44,
            30,
            66,
            30,
            39,
            64,
            40,
            33,
            45,
            76,
            28,
            60,
            48,
            55,
            51,
            48,
            31,
            23,
            26,
            39,
            33,
            27,
            27,
            48,
            66,
            66,
            75,
            41,
            37,
            40,
            72,
            67,
            52,
            30,
            49,
            47,
            43,
            52,
            22,
            82,
            39,
            43,
            25,
            57,
            38,
            42,
            57,
            62,
            44,
            79,
            68,
            70,
            46,
            84,
            27,
            58,
            50,
            54,
            55,
            51,
            38,
            33,
            65,
            43,
            52,
            33,
            35,
            55,
            44,
            48,
            51,
            68,
            48,
            82,
            30,
            45,
            55,
            59,
            39,
            56,
            46,
            79,
            62,
            78,
            43,
            32,
            49,
            33,
            59,
            39,
            41,
            29,
            69,
            55,
            81,
            27,
            29,
            37,
            48,
            20,
            68,
            29,
            57,
            39,
            48,
            71,
            72,
            61,
            39,
            49,
            67,
            67,
            50,
            39,
            69,
            53,
            67,
            39,
            46,
            59,
            70,
            55,
            73,
            52,
            66,
            60,
            81,
            42,
            27,
            65,
            75,
            91,
            69,
            52,
            59,
            32,
            62,
            73,
            56,
            34,
            48,
            63,
            62,
            49,
            25,
            61,
            50,
            84,
            43,
            47,
            43,
            53,
            54,
            54,
            80,
            67,
            78,
            44,
            76,
            60,
            73,
            36,
            78,
            55,
            70,
            65,
            16,
            80,
            47,
            57,
            69,
            35,
            63,
            77,
            75,
            58,
            59,
            48,
            53,
            72,
            63,
            38,
            41,
            53,
            55,
            80,
            47,
            71,
            42,
            58,
            88,
            65,
            31,
            42,
            51,
            64,
            67,
            83,
            48,
            71,
            79,
            49,
            63,
            81,
            87,
            55,
            36,
            62,
            59,
            63,
            46,
            32,
            93,
            31,
            60,
            67,
            53,
            60,
            68,
            44,
            65,
            64,
            38,
            56,
            49,
            51,
            71,
            30,
            92,
            55,
            49,
            76,
            51,
            31,
            47,
            37,
            64,
            64,
            63,
            53,
            87,
            72,
            56,
            88,
            80,
            50,
            45,
            50,
            80,
            56,
            56,
            63,
            65,
            61,
            52,
            18,
            40,
            73,
            53,
            62,
            67,
            38,
            67,
            38,
            55,
            92,
            25,
            66,
            82,
            38,
            56,
            62,
            58,
            87,
            62,
            69,
            45,
            35,
            75,
            62,
            44,
            52,
            81,
            56,
            62,
            57,
            74,
            89,
            85,
            60,
            58,
            31,
            54,
            82,
            56,
            57,
            69,
            50,
            65,
            65,
            74,
            54,
            60,
            65,
            61,
            49,
            43,
            70,
            72,
            55,
            60,
            60,
            19,
            54,
            26,
            65,
            71,
            66,
            27,
            67,
            93,
            58,
            37,
            70,
            28,
            51,
            74,
            43,
            37,
            62,
            46,
            26,
            53,
            49,
            73,
            48,
            40,
            58,
            65,
            64,
            46,
            52,
            59,
            74,
            40,
            78,
            57,
            63,
            38,
            69,
            73,
            30,
            31,
            62,
            34,
            56,
            39,
            62,
            52,
            75,
            68,
            54,
            59,
            43,
            40,
            35,
            22,
            65,
            67,
            50,
            46,
            57,
            78,
            57,
            71,
            63,
            68,
            73,
            63,
            65,
            82,
            44,
            60,
            76,
            70,
            66,
            60,
            73,
            69,
            29,
            51,
            66,
            50,
            54,
            76,
            41,
            53,
            44,
            60,
            62,
            54,
            28,
            53,
            73,
            54,
            49,
            67,
            54,
            61,
            50,
            78,
            44,
            63,
            53,
            52,
            54,
            55,
            46,
            79,
            56,
            44,
            90,
            44,
            25,
            39,
            40,
            67,
            65,
            56,
            43,
            64,
            64,
            58,
            76,
            52,
            53,
            62,
            50,
            40,
            67,
            65,
            66,
            61,
            45,
            54,
            49,
            56,
            27,
            32,
            67,
            32,
            45,
            60,
            85,
            46,
            73,
            23,
            42,
            70,
            42,
            67,
            29,
            50,
            75,
            39,
            73,
            54,
            71,
            45,
            63,
            88,
            49,
            79,
            60,
            44,
            63,
            71,
            71,
            70,
            54,
            36,
            72,
            38,
            26,
            45,
            55,
            75,
            60,
            44,
            71,
            82,
            74,
            56,
            31,
            59,
            61,
            52,
            60,
            63,
            55,
            24,
            44,
            53,
            65,
            48,
            58,
            69,
            54,
            32,
            52,
            72,
            69,
            64,
            52,
            68,
            68,
            45,
            78,
            57,
            78,
            63,
            49,
            28,
            41,
            53,
            51,
            34,
            72,
            66,
            57,
            36,
            63,
            64,
            96,
            43,
            77,
            51,
            64,
            62,
            69,
            36,
            75,
            71,
            21,
            55,
            66,
            61,
            65,
            48,
            70,
            66,
            72,
            50,
            74,
            64,
            19,
            45,
            51,
            46,
            60,
            37,
            62,
            15,
            74,
            74,
            63,
            52,
            49,
            38,
            62,
            59,
            36,
            52,
            29,
            56,
            50,
            21,
            28,
            58,
            14,
            56,
            46,
            31,
            67,
            50,
            28,
            39,
            50,
            54,
            69,
            68,
            72,
            36,
            39,
            43,
            63,
            53,
            46,
            53,
            35,
            41,
            53,
            58,
            32,
            67,
            52,
            57,
            65,
            26,
            44,
            64,
            45,
            72,
            64,
            48,
            55,
            91,
            66,
            59,
            74,
            67,
            69,
            61,
            47,
            31,
            31,
            47,
            56,
            56,
            31,
            57,
            43,
            31,
            53,
            65,
            67,
            66,
            56,
            33,
            43,
            43,
            65,
            47,
            41,
            39,
            85,
            65,
            35,
            51,
            64,
            42,
            54,
            49,
            27,
            53,
            76,
            57,
            39,
            52,
            40,
            65,
            41,
            44,
            59,
            42,
            54,
            80,
            47,
            53,
            58,
            26,
            62,
            47,
            38,
            33,
            50,
            62,
            85,
            37,
            57,
            57,
            42,
            31,
            64,
            54,
            45,
            31,
            32,
            75,
            39,
            35,
            48,
            44,
            57,
            52,
            58,
            38,
            34,
            40,
            32,
            73,
            51,
            61,
            36,
            64,
            53,
            10,
            58,
            81,
            62,
            55,
            59,
            37,
            33,
            74,
            50,
            49,
            79,
            51,
            76,
            54,
            53,
            28,
            86,
            29,
            44,
            66,
            53,
            55,
            65,
            24,
            52,
            60,
            45,
            41,
            77,
            76,
            59,
            30,
            77,
            42,
            80,
            21,
            52,
            29,
            40,
            36,
            53,
            42,
            72,
            48,
            35,
            79,
            53,
            75,
            55,
            63,
            34,
            53,
            33,
            34,
            57,
            77,
            56,
            77,
            61,
            60,
            87,
            27,
            49,
            80,
            39,
            41,
            58,
            36,
            35,
            64,
            26,
            36,
            41,
            53,
            25,
            43,
            48,
            64,
            53,
            40,
            53,
            49,
            61,
            47,
            48,
            45,
            26,
            56,
            71,
            75,
            43,
            70,
            68,
            43,
            59,
            34,
            49,
            76,
            38,
            41,
            44,
            96,
            33,
            51,
            38,
            57,
            51,
            44,
            54,
            44,
            59,
            52,
            57,
            56,
            37,
            38,
            46,
            27,
            62,
            92,
            48,
            48,
            41,
            27,
            35,
            68,
            50,
            73,
            71,
            72,
            22,
            57,
            69,
            56,
            87,
            67,
            39,
            24,
            30,
            72,
            56,
            60,
            54,
            81,
            39,
            45,
            44,
            44,
            50,
            59,
            62,
            47,
            44,
            60,
            46,
            57,
            46,
            24,
            60,
            34,
            30,
            49,
            77,
            34,
            73,
            60,
            45,
            92,
            50,
            43,
            15,
            44,
            61,
            87,
            58,
            63,
            27,
            40,
            67,
            65,
            62,
            66,
            38,
            50,
            48,
            36,
            49,
            60,
            53,
            30,
            69,
            39,
            21,
            59,
            42,
            65,
            60,
            33,
            72,
            48,
            43,
            53,
            34,
            58,
            40,
            41,
            69,
            33,
            22,
            53,
            72,
            46,
            46,
            52,
            55,
            58,
            39,
            55,
            60,
            34,
            57,
            49,
            73,
            51,
            52,
            60,
            56,
            49,
            48,
            54,
            59,
            39,
            20,
            35,
            36,
            49,
            81,
            55,
            63,
            41,
            35,
            40,
            41,
            39,
            54,
            52,
            36,
            70,
            50,
            45,
            31,
            53,
            52,
            40,
            31,
            70,
            55,
            40,
            60,
            66,
            50,
            38,
            53,
            51,
            68,
            42,
            50,
            54,
            42,
            46,
            77,
            69,
            39,
            45,
            44,
            41,
            59,
            65,
            55,
            61,
            27,
            18,
            63,
            62,
            21,
            44,
            44,
            26,
            48,
            45,
            31,
            25,
            48,
            51,
            48,
            52,
            56,
            30,
            63,
            49,
            41,
            53,
            64,
            40,
            51,
            32,
            31,
            40,
            53,
            40,
            32,
            27,
            69,
            40,
            54,
            39,
            72,
            54,
            47,
            68,
            48,
            55,
            27,
            48,
            40,
            86,
            31,
            31,
            43,
            38,
            40,
            41,
            46,
            45,
            56,
            65,
            75,
            17,
            70,
            36,
            53,
            45,
            49
           ]
          },
          {
           "axis": {
            "matches": true
           },
           "label": "Loudness (dB)",
           "values": [
            -14,
            -11,
            -9,
            -4,
            -5,
            -9,
            -6,
            -5,
            -4,
            -3,
            -16,
            -8,
            -6,
            -2,
            -5,
            -10,
            -7,
            -5,
            -13,
            -7,
            -9,
            -10,
            -6,
            -3,
            -7,
            -8,
            -4,
            -5,
            -11,
            -10,
            -7,
            -9,
            -6,
            -12,
            -3,
            -12,
            -6,
            -7,
            -6,
            -11,
            -9,
            -10,
            -9,
            -2,
            -5,
            -5,
            -10,
            -6,
            -7,
            -5,
            -11,
            -11,
            -13,
            -3,
            -7,
            -5,
            -6,
            -5,
            -6,
            -8,
            -14,
            -7,
            -9,
            -7,
            -6,
            -7,
            -5,
            -8,
            -7,
            -7,
            -11,
            -5,
            -8,
            -8,
            -8,
            -5,
            -11,
            -4,
            -6,
            -6,
            -8,
            -11,
            -14,
            -7,
            -4,
            -8,
            -5,
            -12,
            -12,
            -4,
            -10,
            -5,
            -9,
            -7,
            -5,
            -5,
            -5,
            -14,
            -7,
            -4,
            -6,
            -7,
            -5,
            -6,
            -6,
            -8,
            -4,
            -7,
            -4,
            -7,
            -6,
            -4,
            -4,
            -4,
            -5,
            -5,
            -8,
            -9,
            -5,
            -7,
            -5,
            -9,
            -9,
            -7,
            -12,
            -7,
            -5,
            -8,
            -6,
            -5,
            -10,
            -9,
            -6,
            -9,
            -6,
            -4,
            -11,
            -12,
            -9,
            -5,
            -6,
            -9,
            -11,
            -9,
            -6,
            -11,
            -12,
            -8,
            -6,
            -7,
            -7,
            -5,
            -7,
            -14,
            -14,
            -6,
            -8,
            -10,
            -4,
            -6,
            -8,
            -14,
            -8,
            -17,
            -4,
            -9,
            -7,
            -5,
            -11,
            -16,
            -15,
            -9,
            -5,
            -13,
            -6,
            -7,
            -8,
            -8,
            -10,
            -5,
            -9,
            -8,
            -14,
            -6,
            -5,
            -10,
            -4,
            -8,
            -4,
            -4,
            -9,
            -8,
            -4,
            -5,
            -7,
            -10,
            -10,
            -4,
            -3,
            -7,
            -9,
            -6,
            -11,
            -4,
            -5,
            -8,
            -7,
            -9,
            -10,
            -11,
            -7,
            -9,
            -5,
            -3,
            -9,
            -7,
            -12,
            -7,
            -7,
            -4,
            -4,
            -10,
            -6,
            -10,
            -11,
            -7,
            -3,
            -6,
            -17,
            -11,
            -7,
            -11,
            -7,
            -11,
            -9,
            -7,
            -10,
            -4,
            -3,
            -7,
            -5,
            -8,
            -5,
            -7,
            -6,
            -5,
            -7,
            -5,
            -8,
            -3,
            -10,
            -6,
            -6,
            -10,
            -6,
            -3,
            -7,
            -9,
            -3,
            -9,
            -5,
            -5,
            -4,
            -9,
            -2,
            -6,
            -9,
            -10,
            -10,
            -6,
            -4,
            -7,
            -14,
            -7,
            -8,
            -12,
            -6,
            -4,
            -4,
            -2,
            -5,
            -9,
            -8,
            -7,
            -12,
            -5,
            -5,
            -4,
            -9,
            -4,
            -6,
            -6,
            -4,
            -8,
            -6,
            -6,
            -5,
            -8,
            -8,
            -8,
            -8,
            -5,
            -5,
            -4,
            -9,
            -10,
            -8,
            -5,
            -14,
            -7,
            -7,
            -4,
            -4,
            -9,
            -7,
            -12,
            -4,
            -5,
            -7,
            -9,
            -11,
            -10,
            -6,
            -8,
            -5,
            -6,
            -6,
            -2,
            -8,
            -7,
            -10,
            -7,
            -3,
            -11,
            -8,
            -6,
            -13,
            -6,
            -7,
            -7,
            -17,
            -7,
            -7,
            -4,
            -5,
            -2,
            -6,
            -16,
            -10,
            -4,
            -8,
            -11,
            -9,
            -6,
            -13,
            -4,
            -5,
            -5,
            -11,
            -7,
            -13,
            -7,
            -6,
            -7,
            -11,
            -8,
            -5,
            -8,
            -4,
            -5,
            -7,
            -8,
            -3,
            -9,
            -4,
            -8,
            -7,
            -13,
            -9,
            -8,
            -5,
            -7,
            -7,
            -13,
            -7,
            -6,
            -9,
            -8,
            -9,
            -5,
            -3,
            -7,
            -5,
            -9,
            -5,
            -13,
            -7,
            -6,
            -7,
            -7,
            -10,
            -4,
            -9,
            -10,
            -6,
            -11,
            -10,
            -13,
            -9,
            -7,
            -6,
            -7,
            -9,
            -9,
            -6,
            -5,
            -7,
            -9,
            -14,
            -6,
            -6,
            -6,
            -5,
            -4,
            -4,
            -7,
            -12,
            -12,
            -7,
            -4,
            -7,
            -14,
            -6,
            -8,
            -4,
            -7,
            -7,
            -7,
            -7,
            -8,
            -16,
            -5,
            -8,
            -5,
            -10,
            -6,
            -4,
            -15,
            -4,
            -3,
            -8,
            -6,
            -11,
            -6,
            -8,
            -9,
            -7,
            -8,
            -11,
            -5,
            -9,
            -6,
            -10,
            -10,
            -5,
            -6,
            -4,
            -14,
            -5,
            -8,
            -8,
            -7,
            -7,
            -4,
            -7,
            -9,
            -8,
            -7,
            -13,
            -7,
            -7,
            -11,
            -4,
            -10,
            -3,
            -13,
            -7,
            -7,
            -5,
            -6,
            -17,
            -14,
            -7,
            -8,
            -8,
            -6,
            -4,
            -7,
            -14,
            -6,
            -13,
            -11,
            -7,
            -4,
            -14,
            -9,
            -10,
            -7,
            -7,
            -10,
            -6,
            -8,
            -11,
            -5,
            -8,
            -10,
            -5,
            -5,
            -5,
            -5,
            -8,
            -5,
            -6,
            -9,
            -8,
            -9,
            -5,
            -21,
            -5,
            -7,
            -4,
            -7,
            -6,
            -7,
            -7,
            -11,
            -5,
            -6,
            -12,
            -9,
            -10,
            -4,
            -6,
            -5,
            -8,
            -13,
            -4,
            -7,
            -6,
            -10,
            -9,
            -5,
            -7,
            -4,
            -3,
            -4,
            -10,
            -7,
            -5,
            -5,
            -8,
            -7,
            -7,
            -5,
            -6,
            -6,
            -5,
            -9,
            -12,
            -9,
            -6,
            -10,
            -5,
            -11,
            -8,
            -7,
            -9,
            -10,
            -6,
            -5,
            -8,
            -9,
            -6,
            -4,
            -11,
            -7,
            -11,
            -7,
            -7,
            -3,
            -4,
            -6,
            -5,
            -12,
            -5,
            -5,
            -9,
            -7,
            -7,
            -6,
            -4,
            -9,
            -6,
            -10,
            -9,
            -15,
            -3,
            -9,
            -13,
            -5,
            -8,
            -3,
            -7,
            -8,
            -8,
            -6,
            -9,
            -4,
            -9,
            -6,
            -8,
            -12,
            -5,
            -4,
            -6,
            -11,
            -6,
            -5,
            -8,
            -8,
            -8,
            -5,
            -11,
            -8,
            -5,
            -11,
            -6,
            -9,
            -9,
            -7,
            -10,
            -4,
            -5,
            -4,
            -10,
            -6,
            -8,
            -8,
            -9,
            -7,
            -6,
            -7,
            -9,
            -6,
            -6,
            -6,
            -11,
            -7,
            -8,
            -7,
            -17,
            -7,
            -11,
            -8,
            -8,
            -8,
            -11,
            -9,
            -11,
            -4,
            -8,
            -7,
            -5,
            -12,
            -12,
            -9,
            -8,
            -8,
            -6,
            -17,
            -14,
            -7,
            -5,
            -6,
            -4,
            -4,
            -6,
            -3,
            -4,
            -4,
            -20,
            -5,
            -5,
            -7,
            -6,
            -9,
            -5,
            -5,
            -9,
            -5,
            -5,
            -11,
            -14,
            -11,
            -5,
            -7,
            -5,
            -7,
            -7,
            -3,
            -7,
            -11,
            -3,
            -9,
            -10,
            -4,
            -8,
            -13,
            -7,
            -10,
            -9,
            -6,
            -3,
            -6,
            -8,
            -6,
            -6,
            -6,
            -14,
            -9,
            -7,
            -12,
            -10,
            -4,
            -6,
            -9,
            -7,
            -7,
            -7,
            -6,
            -7,
            -11,
            -10,
            -7,
            -8,
            -3,
            -10,
            -5,
            -8,
            -7,
            -7,
            -6,
            -9,
            -10,
            -13,
            -5,
            -6,
            -7,
            -7,
            -6,
            -11,
            -8,
            -8,
            -5,
            -11,
            -3,
            -11,
            -8,
            -7,
            -11,
            -7,
            -8,
            -4,
            -5,
            -3,
            -6,
            -9,
            -7,
            -10,
            -13,
            -7,
            -9,
            -12,
            -8,
            -9,
            -6,
            -11,
            -7,
            -8,
            -9,
            -9,
            -5,
            -6,
            -6,
            -7,
            -8,
            -7,
            -5,
            -9,
            -11,
            -8,
            -14,
            -12,
            -13,
            -11,
            -14,
            -12,
            -15,
            -13,
            -10,
            -7,
            -15,
            -15,
            -10,
            -11,
            -10,
            -18,
            -10,
            -6,
            -11,
            -10,
            -14,
            -7,
            -8,
            -9,
            -8,
            -9,
            -14,
            -6,
            -7,
            -19,
            -16,
            -10,
            -12,
            -15,
            -6,
            -11,
            -6,
            -9,
            -12,
            -12,
            -12,
            -17,
            -19,
            -11,
            -8,
            -15,
            -14,
            -11,
            -7,
            -9,
            -6,
            -13,
            -12,
            -11,
            -13,
            -10,
            -15,
            -9,
            -4,
            -11,
            -13,
            -8,
            -12,
            -15,
            -7,
            -15,
            -10,
            -11,
            -9,
            -11,
            -6,
            -19,
            -13,
            -7,
            -7,
            -8,
            -15,
            -22,
            -8,
            -10,
            -9,
            -11,
            -12,
            -9,
            -10,
            -10,
            -10,
            -17,
            -12,
            -16,
            -7,
            -11,
            -17,
            -9,
            -8,
            -12,
            -11,
            -13,
            -13,
            -9,
            -11,
            -18,
            -13,
            -11,
            -10,
            -12,
            -16,
            -5,
            -12,
            -10,
            -9,
            -6,
            -13,
            -10,
            -12,
            -8,
            -10,
            -14,
            -14,
            -10,
            -13,
            -15,
            -10,
            -9,
            -14,
            -13,
            -13,
            -11,
            -8,
            -12,
            -12,
            -10,
            -7,
            -14,
            -9,
            -3,
            -13,
            -11,
            -11,
            -15,
            -11,
            -6,
            -12,
            -5,
            -11,
            -14,
            -11,
            -12,
            -16,
            -14,
            -16,
            -13,
            -10,
            -8,
            -5,
            -13,
            -18,
            -12,
            -15,
            -9,
            -14,
            -12,
            -10,
            -12,
            -12,
            -4,
            -11,
            -9,
            -10,
            -7,
            -22,
            -6,
            -16,
            -15,
            -10,
            -7,
            -6,
            -12,
            -7,
            -10,
            -10,
            -9,
            -13,
            -11,
            -12,
            -17,
            -8,
            -9,
            -6,
            -9,
            -17,
            -9,
            -10,
            -6,
            -8,
            -10,
            -5,
            -12,
            -9,
            -7,
            -7,
            -11,
            -8,
            -8,
            -9,
            -10,
            -7,
            -13,
            -6,
            -9,
            -7,
            -7,
            -6,
            -9,
            -10,
            -7,
            -10,
            -13,
            -10,
            -7,
            -10,
            -3,
            -13,
            -10,
            -15,
            -7,
            -7,
            -11,
            -11,
            -6,
            -8,
            -5,
            -10,
            -10,
            -4,
            -7,
            -9,
            -10,
            -7,
            -12,
            -10,
            -11,
            -8,
            -9,
            -9,
            -16,
            -6,
            -8,
            -20,
            -8,
            -9,
            -15,
            -6,
            -8,
            -16,
            -5,
            -11,
            -8,
            -5,
            -9,
            -6,
            -9,
            -9,
            -13,
            -14,
            -10,
            -12,
            -9,
            -11,
            -13,
            -5,
            -5,
            -16,
            -15,
            -11,
            -8,
            -7,
            -9,
            -4,
            -9,
            -7,
            -5,
            -14,
            -11,
            -7,
            -9,
            -12,
            -11,
            -8,
            -14,
            -13,
            -8,
            -6,
            -6,
            -10,
            -8,
            -14,
            -5,
            -7,
            -8,
            -5,
            -15,
            -8,
            -7,
            -10,
            -4,
            -15,
            -6,
            -9,
            -18,
            -13,
            -13,
            -5,
            -16,
            -10,
            -6,
            -6,
            -10,
            -7,
            -15,
            -5,
            -8,
            -6,
            -9,
            -16,
            -9,
            -6,
            -12,
            -11,
            -6,
            -7,
            -17,
            -12,
            -10,
            -7,
            -5,
            -7,
            -13,
            -6,
            -11,
            -14,
            -16,
            -6,
            -11,
            -6,
            -6,
            -13,
            -11,
            -9,
            -9,
            -6,
            -11,
            -11,
            -7,
            -7,
            -6,
            -6,
            -8,
            -11,
            -6,
            -7,
            -8,
            -8,
            -6,
            -6,
            -15,
            -15,
            -11,
            -9,
            -11,
            -16,
            -9,
            -6,
            -4,
            -8,
            -7,
            -6,
            -16,
            -7,
            -5,
            -7,
            -16,
            -11,
            -13,
            -9,
            -7,
            -15,
            -9,
            -14,
            -14,
            -9,
            -15,
            -15,
            -10,
            -4,
            -15,
            -6,
            -8,
            -15,
            -6,
            -8,
            -10,
            -14,
            -18,
            -10,
            -8,
            -12,
            -20,
            -3,
            -5,
            -7,
            -13,
            -13,
            -8,
            -8,
            -14,
            -8,
            -12,
            -19,
            -7,
            -14,
            -9,
            -5,
            -10,
            -14,
            -10,
            -14,
            -10,
            -9,
            -6,
            -5,
            -4,
            -7,
            -8,
            -19,
            -7,
            -10,
            -9,
            -7,
            -7,
            -7,
            -7,
            -10,
            -6,
            -6,
            -11,
            -11,
            -15,
            -14,
            -12,
            -3,
            -11,
            -13,
            -12,
            -8,
            -24,
            -9,
            -6,
            -8,
            -5,
            -9,
            -16,
            -7,
            -9,
            -7,
            -10,
            -7,
            -13,
            -6,
            -8,
            -9,
            -9,
            -14,
            -7,
            -7,
            -6,
            -9,
            -5,
            -10,
            -6,
            -10,
            -12,
            -8,
            -17,
            -14,
            -10,
            -5,
            -10,
            -7,
            -5,
            -8,
            -7,
            -11,
            -10,
            -9,
            -6,
            -12,
            -16,
            -6,
            -11,
            -9,
            -20,
            -15,
            -13,
            -13,
            -8,
            -7,
            -7,
            -5,
            -9,
            -10,
            -9,
            -13,
            -7,
            -8,
            -14,
            -4,
            -9,
            -13,
            -17,
            -13,
            -9,
            -12,
            -9,
            -18,
            -14,
            -13,
            -14,
            -8,
            -21,
            -11,
            -12,
            -14,
            -10,
            -16,
            -16,
            -6,
            -13,
            -22,
            -15,
            -8,
            -8,
            -8,
            -9,
            -4,
            -4,
            -9,
            -16,
            -24,
            -6,
            -7,
            -15,
            -18,
            -8,
            -17,
            -7,
            -8,
            -6,
            -3,
            -17,
            -7,
            -10,
            -9,
            -8,
            -12,
            -16,
            -4,
            -17,
            -5,
            -27,
            -13,
            -8,
            -21,
            -8,
            -6,
            -12,
            -13,
            -18,
            -13,
            -9,
            -6,
            -16,
            -14,
            -7,
            -6,
            -15,
            -5,
            -12,
            -10,
            -9,
            -6,
            -21,
            -18,
            -9,
            -4,
            -11,
            -4,
            -13,
            -11,
            -7,
            -13,
            -7,
            -11,
            -6,
            -7,
            -22,
            -13,
            -7,
            -12,
            -19,
            -9,
            -11,
            -21,
            -5,
            -5,
            -4,
            -13,
            -7,
            -11,
            -10,
            -8,
            -12,
            -6,
            -10,
            -12,
            -9,
            -7,
            -10,
            -11,
            -7,
            -14,
            -9,
            -16,
            -16,
            -17,
            -13,
            -3,
            -13,
            -17,
            -14,
            -13,
            -10,
            -12,
            -11,
            -16,
            -14,
            -11,
            -10,
            -16,
            -17,
            -5,
            -6,
            -13,
            -19,
            -11,
            -12,
            -11,
            -6,
            -10,
            -16,
            -11,
            -11,
            -7,
            -13,
            -5,
            -6,
            -6,
            -12,
            -6,
            -10,
            -11,
            -10,
            -6,
            -19,
            -15,
            -12,
            -13,
            -8,
            -12,
            -5,
            -9,
            -13,
            -13,
            -7,
            -10,
            -5,
            -7,
            -12,
            -4,
            -8,
            -12,
            -6,
            -7,
            -10,
            -6,
            -5,
            -13,
            -8,
            -14,
            -10,
            -7,
            -6,
            -11,
            -11,
            -11,
            -12,
            -8,
            -16,
            -15,
            -7,
            -16,
            -12,
            -9,
            -4,
            -6,
            -13,
            -9,
            -11,
            -5,
            -6,
            -6,
            -9,
            -9,
            -13,
            -10,
            -7,
            -5,
            -6,
            -6,
            -9,
            -7,
            -10,
            -10,
            -6,
            -12,
            -8,
            -7,
            -5,
            -6,
            -10,
            -9,
            -13,
            -7,
            -8,
            -8,
            -7,
            -11,
            -10,
            -17,
            -9,
            -10,
            -9,
            -5,
            -13,
            -4,
            -7,
            -6,
            -12,
            -10,
            -9,
            -9,
            -17,
            -11,
            -8,
            -6,
            -12,
            -4,
            -6,
            -6,
            -10,
            -7,
            -12,
            -13,
            -11,
            -14,
            -8,
            -12,
            -8,
            -8,
            -7,
            -10,
            -6,
            -5,
            -12,
            -12,
            -12,
            -4,
            -13,
            -6,
            -14,
            -14,
            -3,
            -11,
            -9,
            -10,
            -13,
            -8,
            -9,
            -15,
            -4,
            -9,
            -10,
            -11,
            -12,
            -8,
            -15,
            -15,
            -6,
            -10,
            -13,
            -10,
            -10,
            -7,
            -10,
            -10,
            -10,
            -13,
            -15,
            -9,
            -10,
            -12,
            -5,
            -6,
            -9,
            -11,
            -9,
            -13,
            -7,
            -12,
            -9,
            -10,
            -15,
            -9,
            -5,
            -9,
            -3,
            -8,
            -13,
            -7,
            -6,
            -7,
            -7,
            -7,
            -7,
            -10,
            -9,
            -10,
            -7,
            -4,
            -4,
            -8,
            -14,
            -12,
            -4,
            -9,
            -5,
            -4,
            -13,
            -8,
            -12,
            -6,
            -10,
            -6,
            -12,
            -6,
            -8,
            -6,
            -5,
            -13,
            -9,
            -6,
            -9,
            -10,
            -8,
            -7,
            -10,
            -13,
            -8,
            -10,
            -11,
            -6,
            -9,
            -7,
            -12,
            -9,
            -14,
            -14,
            -9,
            -9,
            -6,
            -3,
            -12,
            -6,
            -15,
            -10,
            -10,
            -12,
            -5,
            -7,
            -7,
            -11,
            -15,
            -9,
            -11,
            -10,
            -6,
            -9,
            -17,
            -16,
            -11,
            -5,
            -10,
            -8,
            -7,
            -7,
            -8,
            -7,
            -6,
            -14,
            -6,
            -13,
            -9,
            -6,
            -5,
            -7,
            -9,
            -18,
            -6,
            -12,
            -12,
            -5,
            -5,
            -5,
            -5,
            -8,
            -8,
            -11,
            -8,
            -14,
            -9,
            -12,
            -4,
            -6,
            -4,
            -8,
            -9,
            -11,
            -10,
            -12,
            -8,
            -9,
            -5,
            -7,
            -7,
            -12,
            -9,
            -4,
            -8,
            -6,
            -19,
            -7,
            -6,
            -13,
            -7,
            -14,
            -5,
            -15,
            -10,
            -9,
            -10,
            -11,
            -10,
            -9,
            -9,
            -6,
            -9,
            -8,
            -8,
            -7,
            -5,
            -6,
            -8,
            -15,
            -6,
            -10,
            -8,
            -7,
            -8,
            -12,
            -4,
            -13,
            -9,
            -13,
            -15,
            -14,
            -7,
            -11,
            -7,
            -12,
            -3,
            -10,
            -4,
            -8,
            -5,
            -3,
            -6,
            -5,
            -8,
            -7,
            -16,
            -8,
            -12,
            -8,
            -6,
            -6,
            -7,
            -12,
            -2,
            -16,
            -5,
            -5,
            -10,
            -4,
            -6,
            -8,
            -5,
            -9,
            -14,
            -14,
            -9,
            -9,
            -8,
            -21,
            -10,
            -9,
            -18,
            -10,
            -17,
            -14,
            -7,
            -10,
            -8,
            -10,
            -6,
            -7,
            -8,
            -11,
            -12,
            -8,
            -7,
            -12,
            -8,
            -17,
            -13,
            -9,
            -9,
            -11,
            -11,
            -15,
            -9,
            -12,
            -10,
            -9,
            -8,
            -10,
            -9,
            -7,
            -14,
            -7,
            -16,
            -5,
            -12,
            -14,
            -8,
            -20,
            -8,
            -15,
            -9,
            -10,
            -17,
            -15,
            -7,
            -5,
            -12,
            -14,
            -11,
            -5,
            -13,
            -10,
            -16,
            -6,
            -8,
            -6,
            -12,
            -11,
            -8,
            -11,
            -9,
            -11,
            -9,
            -9,
            -5,
            -11,
            -8,
            -7,
            -13,
            -14,
            -11,
            -13,
            -11,
            -6,
            -12,
            -6,
            -7,
            -13,
            -10,
            -9,
            -13,
            -13,
            -9,
            -11,
            -14,
            -8,
            -9,
            -6,
            -9,
            -14,
            -9,
            -13,
            -14,
            -21,
            -8,
            -9,
            -10,
            -7,
            -11,
            -12,
            -10,
            -14,
            -9,
            -9,
            -16,
            -6,
            -10,
            -7,
            -6,
            -10,
            -13,
            -8,
            -11,
            -12,
            -16,
            -8,
            -17,
            -6,
            -10,
            -11,
            -7,
            -12,
            -11,
            -22,
            -6,
            -6,
            -11,
            -9,
            -10,
            -17,
            -9,
            -10,
            -16,
            -10,
            -9,
            -10,
            -10,
            -15,
            -9,
            -9,
            -22,
            -5,
            -9,
            -10,
            -6,
            -11,
            -13,
            -8,
            -10,
            -15,
            -21,
            -12,
            -8,
            -9,
            -13,
            -10
           ]
          },
          {
           "axis": {
            "matches": true
           },
           "label": "Valence",
           "values": [
            68,
            81,
            52,
            37,
            87,
            14,
            54,
            21,
            23,
            66,
            31,
            32,
            59,
            40,
            82,
            25,
            36,
            19,
            12,
            56,
            12,
            35,
            81,
            65,
            52,
            18,
            55,
            87,
            19,
            51,
            21,
            68,
            33,
            62,
            45,
            68,
            51,
            12,
            65,
            26,
            78,
            10,
            49,
            77,
            58,
            26,
            88,
            20,
            80,
            35,
            28,
            26,
            27,
            9,
            14,
            63,
            35,
            20,
            48,
            18,
            51,
            70,
            91,
            91,
            54,
            73,
            73,
            94,
            7,
            57,
            9,
            67,
            44,
            77,
            46,
            37,
            30,
            56,
            46,
            38,
            33,
            18,
            21,
            44,
            61,
            46,
            68,
            64,
            65,
            27,
            16,
            81,
            22,
            35,
            28,
            42,
            89,
            18,
            67,
            21,
            40,
            16,
            79,
            36,
            49,
            14,
            75,
            56,
            89,
            21,
            66,
            46,
            36,
            37,
            6,
            68,
            27,
            69,
            17,
            34,
            27,
            64,
            15,
            40,
            87,
            68,
            37,
            50,
            58,
            63,
            49,
            13,
            54,
            11,
            42,
            73,
            16,
            86,
            35,
            31,
            61,
            42,
            93,
            84,
            72,
            30,
            48,
            36,
            87,
            63,
            39,
            19,
            19,
            88,
            19,
            24,
            31,
            15,
            81,
            46,
            34,
            15,
            80,
            46,
            41,
            10,
            83,
            49,
            30,
            31,
            6,
            47,
            33,
            44,
            47,
            49,
            58,
            15,
            48,
            61,
            66,
            39,
            7,
            59,
            52,
            98,
            37,
            50,
            35,
            22,
            61,
            41,
            76,
            32,
            48,
            40,
            53,
            32,
            31,
            45,
            23,
            9,
            67,
            78,
            38,
            85,
            73,
            53,
            84,
            30,
            28,
            97,
            15,
            88,
            89,
            8,
            96,
            28,
            71,
            51,
            10,
            24,
            16,
            22,
            55,
            23,
            27,
            25,
            30,
            96,
            48,
            66,
            86,
            27,
            43,
            46,
            14,
            17,
            80,
            28,
            86,
            29,
            53,
            34,
            75,
            44,
            44,
            80,
            71,
            34,
            36,
            40,
            87,
            11,
            43,
            33,
            86,
            21,
            23,
            16,
            43,
            19,
            24,
            29,
            81,
            50,
            8,
            89,
            97,
            33,
            60,
            22,
            36,
            38,
            64,
            78,
            42,
            20,
            39,
            97,
            60,
            37,
            59,
            29,
            31,
            97,
            49,
            29,
            20,
            96,
            84,
            29,
            78,
            16,
            33,
            43,
            77,
            67,
            52,
            79,
            16,
            26,
            97,
            53,
            30,
            84,
            58,
            57,
            14,
            39,
            42,
            17,
            48,
            65,
            19,
            87,
            63,
            20,
            59,
            23,
            42,
            96,
            83,
            11,
            25,
            45,
            68,
            54,
            58,
            48,
            86,
            9,
            73,
            31,
            72,
            41,
            13,
            63,
            9,
            7,
            23,
            47,
            19,
            13,
            14,
            73,
            70,
            34,
            45,
            54,
            7,
            30,
            15,
            37,
            11,
            37,
            94,
            54,
            42,
            65,
            30,
            77,
            57,
            54,
            27,
            54,
            41,
            29,
            22,
            78,
            29,
            42,
            40,
            61,
            71,
            42,
            19,
            33,
            83,
            49,
            96,
            64,
            25,
            25,
            39,
            15,
            48,
            87,
            35,
            58,
            30,
            26,
            30,
            25,
            47,
            10,
            71,
            91,
            35,
            32,
            19,
            90,
            91,
            58,
            38,
            11,
            31,
            26,
            71,
            21,
            61,
            71,
            73,
            37,
            96,
            63,
            32,
            24,
            65,
            74,
            28,
            76,
            43,
            32,
            54,
            19,
            67,
            44,
            23,
            57,
            15,
            23,
            50,
            28,
            47,
            26,
            35,
            72,
            20,
            18,
            89,
            8,
            49,
            19,
            41,
            24,
            56,
            10,
            30,
            48,
            61,
            21,
            7,
            45,
            98,
            56,
            31,
            25,
            46,
            56,
            40,
            97,
            49,
            11,
            56,
            77,
            76,
            59,
            65,
            56,
            17,
            70,
            33,
            22,
            74,
            40,
            20,
            9,
            27,
            8,
            78,
            28,
            24,
            18,
            43,
            28,
            44,
            55,
            45,
            30,
            16,
            27,
            25,
            22,
            22,
            51,
            85,
            37,
            82,
            76,
            67,
            27,
            35,
            63,
            96,
            39,
            14,
            81,
            33,
            90,
            65,
            20,
            22,
            57,
            23,
            13,
            39,
            86,
            42,
            11,
            24,
            68,
            64,
            50,
            41,
            13,
            46,
            20,
            14,
            33,
            78,
            33,
            42,
            24,
            25,
            30,
            39,
            57,
            20,
            86,
            16,
            30,
            4,
            25,
            46,
            53,
            62,
            51,
            29,
            34,
            65,
            61,
            86,
            90,
            59,
            40,
            15,
            37,
            63,
            84,
            53,
            32,
            15,
            54,
            42,
            59,
            44,
            65,
            36,
            30,
            72,
            28,
            96,
            38,
            62,
            19,
            36,
            20,
            37,
            43,
            51,
            30,
            47,
            74,
            8,
            74,
            8,
            19,
            65,
            77,
            64,
            18,
            94,
            10,
            22,
            48,
            32,
            89,
            63,
            71,
            62,
            28,
            64,
            25,
            18,
            45,
            51,
            30,
            28,
            20,
            30,
            57,
            93,
            9,
            16,
            58,
            14,
            79,
            35,
            65,
            32,
            22,
            36,
            53,
            39,
            52,
            69,
            56,
            36,
            39,
            17,
            37,
            51,
            66,
            8,
            61,
            78,
            51,
            30,
            77,
            25,
            37,
            25,
            59,
            52,
            60,
            9,
            15,
            13,
            78,
            29,
            11,
            57,
            27,
            34,
            70,
            42,
            51,
            18,
            20,
            49,
            45,
            5,
            31,
            34,
            53,
            66,
            81,
            67,
            63,
            11,
            47,
            34,
            80,
            48,
            55,
            15,
            34,
            34,
            37,
            27,
            89,
            40,
            17,
            72,
            47,
            19,
            93,
            67,
            55,
            42,
            47,
            22,
            52,
            45,
            21,
            56,
            64,
            69,
            61,
            52,
            17,
            17,
            93,
            67,
            45,
            29,
            16,
            24,
            78,
            24,
            26,
            72,
            15,
            83,
            48,
            31,
            30,
            39,
            44,
            40,
            23,
            36,
            27,
            35,
            69,
            32,
            56,
            15,
            50,
            98,
            36,
            63,
            82,
            18,
            82,
            45,
            39,
            37,
            22,
            15,
            86,
            89,
            8,
            76,
            68,
            96,
            75,
            85,
            8,
            33,
            45,
            97,
            53,
            32,
            16,
            37,
            52,
            49,
            30,
            73,
            67,
            57,
            15,
            33,
            68,
            64,
            89,
            49,
            27,
            84,
            30,
            39,
            23,
            59,
            24,
            47,
            49,
            28,
            27,
            44,
            69,
            31,
            72,
            94,
            35,
            56,
            57,
            49,
            51,
            63,
            24,
            27,
            51,
            51,
            38,
            23,
            84,
            24,
            35,
            41,
            26,
            45,
            89,
            33,
            63,
            46,
            56,
            27,
            62,
            62,
            38,
            67,
            39,
            40,
            57,
            28,
            32,
            88,
            31,
            33,
            55,
            53,
            90,
            58,
            26,
            95,
            36,
            86,
            72,
            19,
            48,
            80,
            53,
            24,
            93,
            24,
            81,
            66,
            20,
            17,
            72,
            14,
            46,
            66,
            15,
            22,
            51,
            51,
            16,
            70,
            81,
            40,
            49,
            28,
            41,
            72,
            40,
            55,
            96,
            46,
            35,
            25,
            41,
            52,
            97,
            45,
            50,
            6,
            39,
            54,
            23,
            52,
            66,
            97,
            87,
            75,
            84,
            18,
            34,
            80,
            41,
            89,
            9,
            34,
            80,
            55,
            74,
            83,
            64,
            56,
            46,
            29,
            39,
            51,
            65,
            50,
            75,
            91,
            69,
            35,
            79,
            31,
            58,
            25,
            82,
            58,
            33,
            61,
            87,
            96,
            18,
            41,
            18,
            22,
            36,
            44,
            78,
            50,
            18,
            61,
            63,
            13,
            29,
            67,
            21,
            73,
            23,
            97,
            40,
            45,
            90,
            80,
            84,
            70,
            82,
            47,
            42,
            73,
            64,
            5,
            81,
            61,
            89,
            78,
            46,
            83,
            9,
            37,
            46,
            23,
            11,
            16,
            96,
            25,
            77,
            32,
            29,
            83,
            76,
            32,
            33,
            17,
            23,
            26,
            4,
            61,
            58,
            59,
            77,
            83,
            42,
            66,
            16,
            80,
            87,
            58,
            18,
            14,
            21,
            19,
            34,
            50,
            29,
            30,
            38,
            32,
            77,
            20,
            56,
            61,
            34,
            45,
            67,
            61,
            64,
            26,
            60,
            13,
            61,
            36,
            75,
            30,
            74,
            29,
            38,
            65,
            28,
            49,
            16,
            47,
            90,
            24,
            79,
            20,
            93,
            82,
            89,
            33,
            77,
            37,
            95,
            90,
            64,
            51,
            39,
            83,
            70,
            14,
            29,
            44,
            49,
            83,
            48,
            7,
            42,
            47,
            48,
            62,
            17,
            38,
            32,
            39,
            39,
            48,
            35,
            49,
            69,
            83,
            64,
            94,
            61,
            36,
            43,
            83,
            96,
            70,
            40,
            93,
            47,
            76,
            46,
            68,
            49,
            68,
            67,
            95,
            47,
            62,
            62,
            74,
            34,
            48,
            80,
            95,
            90,
            71,
            31,
            51,
            17,
            86,
            92,
            60,
            35,
            52,
            55,
            66,
            78,
            20,
            85,
            42,
            89,
            52,
            42,
            61,
            76,
            73,
            30,
            85,
            80,
            76,
            52,
            99,
            64,
            74,
            47,
            89,
            21,
            81,
            64,
            24,
            96,
            17,
            42,
            72,
            18,
            70,
            87,
            53,
            87,
            19,
            94,
            38,
            97,
            67,
            21,
            37,
            76,
            46,
            96,
            69,
            91,
            20,
            45,
            95,
            78,
            60,
            34,
            27,
            81,
            81,
            92,
            90,
            93,
            87,
            46,
            70,
            85,
            56,
            55,
            42,
            55,
            59,
            42,
            52,
            23,
            76,
            76,
            49,
            69,
            76,
            72,
            77,
            78,
            71,
            87,
            41,
            89,
            56,
            26,
            87,
            14,
            76,
            81,
            92,
            96,
            33,
            41,
            33,
            63,
            94,
            97,
            95,
            17,
            96,
            96,
            93,
            97,
            52,
            28,
            30,
            51,
            74,
            60,
            43,
            97,
            86,
            91,
            65,
            12,
            49,
            96,
            71,
            66,
            73,
            28,
            47,
            12,
            7,
            85,
            46,
            54,
            52,
            74,
            45,
            58,
            66,
            63,
            74,
            32,
            78,
            44,
            87,
            76,
            49,
            20,
            75,
            72,
            69,
            67,
            82,
            96,
            90,
            56,
            55,
            19,
            74,
            74,
            67,
            50,
            88,
            77,
            63,
            87,
            89,
            48,
            71,
            94,
            71,
            6,
            74,
            79,
            64,
            60,
            84,
            56,
            4,
            89,
            61,
            61,
            73,
            81,
            13,
            89,
            76,
            91,
            19,
            83,
            23,
            77,
            66,
            23,
            34,
            87,
            71,
            28,
            50,
            33,
            84,
            42,
            58,
            46,
            39,
            84,
            10,
            91,
            47,
            93,
            28,
            91,
            98,
            87,
            34,
            94,
            64,
            33,
            38,
            90,
            14,
            64,
            20,
            63,
            10,
            24,
            69,
            20,
            93,
            51,
            73,
            86,
            13,
            45,
            66,
            45,
            80,
            88,
            66,
            56,
            52,
            20,
            81,
            58,
            75,
            54,
            55,
            20,
            74,
            91,
            26,
            63,
            11,
            96,
            70,
            44,
            50,
            66,
            25,
            71,
            86,
            18,
            29,
            36,
            30,
            58,
            56,
            10,
            80,
            85,
            36,
            6,
            70,
            19,
            28,
            21,
            82,
            55,
            81,
            94,
            88,
            81,
            49,
            33,
            88,
            43,
            35,
            74,
            30,
            25,
            26,
            84,
            28,
            90,
            94,
            52,
            47,
            90,
            53,
            94,
            41,
            75,
            63,
            42,
            29,
            27,
            61,
            84,
            29,
            62,
            11,
            29,
            66,
            40,
            29,
            65,
            18,
            32,
            60,
            60,
            33,
            73,
            49,
            17,
            55,
            27,
            28,
            24,
            13,
            70,
            44,
            92,
            23,
            87,
            32,
            18,
            54,
            56,
            39,
            78,
            25,
            80,
            63,
            86,
            95,
            29,
            45,
            82,
            80,
            43,
            94,
            91,
            45,
            53,
            43,
            19,
            79,
            59,
            60,
            63,
            72,
            96,
            35,
            64,
            89,
            79,
            40,
            35,
            6,
            59,
            60,
            53,
            56,
            34,
            47,
            31,
            51,
            47,
            64,
            93,
            71,
            23,
            26,
            94,
            57,
            37,
            70,
            52,
            26,
            39,
            91,
            23,
            18,
            59,
            75,
            31,
            25,
            64,
            71,
            80,
            37,
            72,
            36,
            20,
            57,
            70,
            26,
            47,
            90,
            68,
            12,
            88,
            82,
            60,
            54,
            56,
            50,
            87,
            26,
            29,
            82,
            32,
            25,
            16,
            10,
            71,
            30,
            65,
            17,
            78,
            90,
            24,
            72,
            21,
            70,
            73,
            96,
            20,
            63,
            23,
            17,
            72,
            17,
            60,
            64,
            4,
            46,
            86,
            18,
            80,
            54,
            29,
            33,
            38,
            25,
            55,
            49,
            97,
            17,
            27,
            51,
            43,
            53,
            24,
            25,
            32,
            67,
            10,
            91,
            15,
            78,
            49,
            33,
            95,
            26,
            51,
            89,
            81,
            82,
            31,
            73,
            29,
            90,
            26,
            11,
            89,
            70,
            71,
            39,
            66,
            23,
            16,
            17,
            60,
            64,
            11,
            57,
            16,
            59,
            51,
            40,
            66,
            71,
            45,
            23,
            47,
            46,
            41,
            24,
            35,
            40,
            82,
            45,
            56,
            46,
            61,
            30,
            24,
            67,
            20,
            12,
            86,
            57,
            57,
            10,
            37,
            32,
            65,
            20,
            84,
            30,
            24,
            64,
            40,
            22,
            73,
            38,
            73,
            77,
            20,
            42,
            47,
            78,
            79,
            44,
            26,
            36,
            23,
            19,
            94,
            31,
            36,
            31,
            8,
            13,
            43,
            15,
            42,
            78,
            36,
            28,
            22,
            33,
            35,
            10,
            54,
            96,
            21,
            64,
            14,
            17,
            81,
            18,
            37,
            59,
            44,
            19,
            39,
            48,
            34,
            44,
            14,
            13,
            27,
            22,
            91,
            14,
            29,
            16,
            73,
            12,
            30,
            64,
            45,
            57,
            39,
            30,
            54,
            27,
            13,
            21,
            96,
            88,
            58,
            15,
            32,
            4,
            59,
            17,
            12,
            22,
            48,
            14,
            44,
            35,
            62,
            17,
            36,
            26,
            19,
            89,
            77,
            50,
            16,
            73,
            29,
            9,
            9,
            89,
            31,
            51,
            16,
            39,
            67,
            34,
            4,
            82,
            38,
            31,
            79,
            52,
            29,
            72,
            55,
            32,
            36,
            86,
            19,
            36,
            22,
            33,
            22,
            68,
            38,
            25,
            23,
            22,
            65,
            37,
            12,
            61,
            88,
            34,
            4,
            89,
            32,
            60,
            35,
            7,
            22,
            93,
            15,
            43,
            18,
            84,
            38,
            46,
            21,
            79,
            53,
            26,
            60,
            13,
            36,
            63,
            28,
            45,
            14,
            14,
            31,
            15,
            22,
            56,
            25,
            51,
            38,
            13,
            53,
            65,
            47,
            55,
            58,
            68,
            26,
            21,
            47,
            80,
            64,
            77,
            20,
            33,
            24,
            96,
            12,
            53,
            24,
            81,
            17,
            61,
            19,
            25,
            31,
            33,
            35,
            54,
            18,
            55,
            51,
            66,
            37,
            39,
            65,
            26,
            33,
            16,
            51,
            43,
            78,
            5,
            17,
            31,
            25,
            68,
            29,
            26,
            96,
            82,
            13,
            36,
            33,
            34,
            37,
            61,
            96,
            78,
            44,
            71,
            94,
            19,
            97,
            47,
            33,
            23,
            78,
            59,
            45,
            80,
            81,
            74,
            76,
            32,
            93,
            56,
            65,
            76,
            29,
            67,
            55,
            71,
            44,
            37,
            13,
            42,
            67,
            64,
            61,
            48,
            64,
            81,
            27,
            63,
            62,
            30,
            90,
            53,
            80,
            79,
            21,
            49,
            37,
            71,
            71,
            57,
            7,
            72,
            17,
            3,
            18,
            91,
            97,
            32,
            65,
            35,
            53,
            39,
            44,
            29,
            23,
            43,
            49,
            76,
            34,
            58,
            67,
            49,
            52,
            65,
            22,
            66,
            33,
            65,
            91,
            80,
            48,
            39,
            96,
            42,
            78,
            79,
            65,
            82,
            52,
            35,
            54,
            37,
            62,
            70,
            56,
            41,
            50,
            28,
            46,
            81,
            20,
            42,
            52,
            89,
            45,
            70,
            54,
            25,
            42,
            61,
            43,
            37,
            61,
            65,
            49,
            66,
            39,
            43,
            49,
            71,
            42,
            58,
            66,
            49,
            94,
            47,
            31,
            23,
            19,
            38,
            26,
            26,
            96,
            82,
            47,
            39,
            79,
            37,
            22,
            55,
            47,
            54,
            43,
            19,
            19,
            87,
            67,
            14,
            77,
            25,
            51,
            65,
            44,
            30,
            96,
            92,
            43,
            10,
            72,
            95,
            97,
            60,
            83
           ]
          },
          {
           "axis": {
            "matches": true
           },
           "label": "Popularity",
           "values": [
            71,
            39,
            69,
            76,
            59,
            45,
            74,
            69,
            77,
            82,
            49,
            74,
            34,
            26,
            66,
            48,
            69,
            57,
            46,
            74,
            81,
            67,
            55,
            69,
            16,
            50,
            56,
            71,
            48,
            59,
            84,
            57,
            63,
            74,
            72,
            44,
            75,
            40,
            72,
            42,
            59,
            53,
            74,
            78,
            65,
            56,
            43,
            65,
            67,
            51,
            69,
            52,
            69,
            52,
            67,
            43,
            57,
            44,
            77,
            38,
            32,
            47,
            48,
            70,
            77,
            63,
            56,
            59,
            55,
            64,
            73,
            65,
            58,
            46,
            67,
            55,
            58,
            57,
            30,
            45,
            45,
            48,
            70,
            58,
            72,
            42,
            42,
            43,
            43,
            65,
            19,
            74,
            49,
            41,
            32,
            75,
            62,
            38,
            30,
            39,
            83,
            44,
            56,
            40,
            58,
            75,
            75,
            47,
            72,
            41,
            74,
            54,
            80,
            59,
            77,
            59,
            51,
            71,
            76,
            64,
            70,
            62,
            39,
            70,
            44,
            75,
            75,
            68,
            42,
            56,
            58,
            36,
            67,
            52,
            59,
            74,
            63,
            54,
            64,
            60,
            69,
            63,
            42,
            74,
            64,
            43,
            44,
            54,
            75,
            62,
            49,
            38,
            38,
            44,
            44,
            64,
            66,
            39,
            59,
            58,
            52,
            46,
            64,
            41,
            76,
            74,
            41,
            73,
            80,
            50,
            56,
            56,
            64,
            75,
            78,
            46,
            40,
            47,
            50,
            49,
            35,
            70,
            56,
            44,
            69,
            49,
            58,
            26,
            53,
            59,
            39,
            52,
            80,
            52,
            36,
            59,
            39,
            73,
            68,
            59,
            63,
            58,
            51,
            73,
            59,
            49,
            34,
            72,
            52,
            67,
            54,
            49,
            77,
            80,
            80,
            51,
            41,
            47,
            47,
            75,
            71,
            75,
            32,
            32,
            69,
            75,
            61,
            45,
            70,
            53,
            64,
            46,
            64,
            55,
            70,
            79,
            51,
            62,
            66,
            82,
            41,
            70,
            74,
            43,
            54,
            30,
            53,
            33,
            51,
            77,
            57,
            53,
            47,
            57,
            69,
            47,
            42,
            59,
            60,
            30,
            43,
            70,
            81,
            76,
            77,
            77,
            46,
            71,
            61,
            53,
            80,
            46,
            69,
            50,
            66,
            64,
            62,
            60,
            61,
            79,
            40,
            43,
            55,
            72,
            34,
            66,
            40,
            80,
            47,
            64,
            42,
            62,
            58,
            75,
            66,
            68,
            40,
            38,
            61,
            52,
            39,
            71,
            47,
            42,
            43,
            53,
            73,
            63,
            65,
            57,
            78,
            76,
            43,
            63,
            57,
            77,
            65,
            74,
            63,
            35,
            54,
            72,
            57,
            61,
            69,
            63,
            48,
            53,
            53,
            43,
            73,
            72,
            74,
            52,
            82,
            59,
            56,
            76,
            63,
            41,
            52,
            52,
            49,
            56,
            78,
            76,
            53,
            61,
            76,
            77,
            62,
            40,
            38,
            79,
            49,
            67,
            55,
            78,
            74,
            66,
            43,
            80,
            36,
            40,
            58,
            50,
            57,
            55,
            43,
            69,
            47,
            47,
            62,
            49,
            79,
            49,
            71,
            33,
            61,
            48,
            41,
            65,
            34,
            34,
            61,
            45,
            75,
            65,
            72,
            59,
            78,
            76,
            54,
            46,
            48,
            57,
            48,
            56,
            84,
            72,
            53,
            48,
            64,
            43,
            54,
            37,
            57,
            27,
            42,
            26,
            36,
            14,
            61,
            28,
            40,
            76,
            38,
            84,
            48,
            37,
            47,
            49,
            80,
            53,
            59,
            66,
            44,
            51,
            75,
            47,
            58,
            48,
            38,
            79,
            75,
            60,
            58,
            76,
            78,
            53,
            18,
            72,
            65,
            69,
            76,
            47,
            42,
            29,
            67,
            53,
            73,
            66,
            51,
            30,
            54,
            52,
            68,
            40,
            33,
            65,
            66,
            84,
            49,
            73,
            69,
            77,
            75,
            33,
            76,
            71,
            75,
            44,
            39,
            64,
            42,
            39,
            49,
            67,
            27,
            74,
            54,
            56,
            73,
            55,
            73,
            64,
            81,
            73,
            69,
            44,
            31,
            19,
            42,
            51,
            70,
            51,
            83,
            57,
            27,
            66,
            52,
            51,
            51,
            70,
            34,
            82,
            72,
            57,
            54,
            41,
            57,
            58,
            67,
            48,
            46,
            66,
            67,
            66,
            75,
            56,
            63,
            57,
            85,
            49,
            82,
            58,
            78,
            64,
            65,
            86,
            40,
            47,
            35,
            76,
            55,
            49,
            32,
            70,
            59,
            77,
            72,
            69,
            65,
            48,
            36,
            67,
            75,
            77,
            80,
            79,
            53,
            33,
            28,
            66,
            62,
            26,
            41,
            49,
            48,
            76,
            30,
            49,
            78,
            61,
            57,
            84,
            77,
            40,
            60,
            65,
            59,
            27,
            80,
            52,
            52,
            60,
            73,
            84,
            47,
            64,
            47,
            42,
            65,
            70,
            39,
            43,
            65,
            43,
            58,
            41,
            75,
            84,
            66,
            63,
            59,
            74,
            72,
            49,
            49,
            70,
            82,
            61,
            43,
            74,
            75,
            15,
            69,
            58,
            29,
            53,
            26,
            71,
            82,
            33,
            20,
            76,
            69,
            85,
            45,
            83,
            21,
            41,
            78,
            74,
            13,
            42,
            16,
            68,
            26,
            68,
            32,
            60,
            78,
            57,
            68,
            54,
            46,
            35,
            63,
            33,
            58,
            73,
            70,
            54,
            83,
            47,
            63,
            67,
            40,
            62,
            73,
            74,
            60,
            73,
            53,
            75,
            36,
            61,
            62,
            74,
            63,
            49,
            54,
            59,
            44,
            66,
            44,
            54,
            41,
            78,
            55,
            67,
            70,
            27,
            24,
            81,
            40,
            76,
            80,
            28,
            34,
            41,
            41,
            87,
            69,
            74,
            76,
            87,
            88,
            78,
            28,
            79,
            80,
            66,
            41,
            32,
            82,
            33,
            41,
            66,
            62,
            75,
            60,
            69,
            63,
            84,
            86,
            59,
            83,
            80,
            54,
            78,
            67,
            25,
            48,
            62,
            40,
            50,
            31,
            36,
            71,
            68,
            64,
            75,
            69,
            78,
            88,
            30,
            68,
            59,
            82,
            30,
            28,
            38,
            30,
            29,
            65,
            27,
            30,
            84,
            65,
            23,
            32,
            83,
            23,
            87,
            23,
            82,
            81,
            80,
            32,
            85,
            16,
            15,
            17,
            80,
            78,
            30,
            31,
            81,
            20,
            44,
            52,
            84,
            17,
            39,
            19,
            26,
            50,
            52,
            33,
            60,
            85,
            12,
            86,
            79,
            21,
            82,
            70,
            73,
            67,
            73,
            37,
            36,
            85,
            50,
            95,
            98,
            37,
            71,
            50,
            72,
            56,
            100,
            68,
            32,
            65,
            80,
            28,
            45,
            79,
            71,
            68,
            71,
            77,
            72,
            53,
            71,
            63,
            77,
            66,
            68,
            63,
            64,
            74,
            62,
            62,
            50,
            47,
            63,
            65,
            63,
            60,
            73,
            76,
            29,
            73,
            73,
            67,
            64,
            57,
            60,
            72,
            58,
            60,
            67,
            38,
            69,
            53,
            79,
            78,
            74,
            58,
            69,
            71,
            77,
            71,
            60,
            76,
            72,
            67,
            69,
            44,
            74,
            79,
            68,
            54,
            55,
            35,
            71,
            68,
            60,
            37,
            66,
            58,
            67,
            68,
            66,
            24,
            66,
            72,
            65,
            62,
            39,
            67,
            67,
            73,
            58,
            63,
            71,
            43,
            50,
            64,
            69,
            82,
            71,
            74,
            75,
            77,
            58,
            29,
            56,
            53,
            75,
            55,
            75,
            64,
            63,
            75,
            65,
            66,
            54,
            51,
            58,
            47,
            69,
            56,
            54,
            47,
            65,
            69,
            57,
            72,
            66,
            78,
            70,
            71,
            73,
            61,
            66,
            74,
            64,
            65,
            41,
            71,
            46,
            62,
            74,
            68,
            68,
            67,
            65,
            75,
            71,
            53,
            64,
            76,
            37,
            68,
            69,
            63,
            74,
            67,
            82,
            58,
            69,
            59,
            57,
            42,
            74,
            43,
            48,
            61,
            64,
            66,
            48,
            43,
            46,
            55,
            69,
            69,
            51,
            59,
            77,
            62,
            66,
            73,
            69,
            70,
            69,
            63,
            77,
            66,
            70,
            68,
            65,
            61,
            51,
            58,
            53,
            68,
            52,
            54,
            69,
            49,
            65,
            37,
            63,
            37,
            49,
            53,
            48,
            63,
            60,
            27,
            66,
            43,
            60,
            61,
            82,
            70,
            72,
            52,
            69,
            78,
            75,
            64,
            74,
            53,
            50,
            56,
            52,
            55,
            75,
            61,
            60,
            67,
            64,
            52,
            74,
            70,
            72,
            71,
            68,
            61,
            59,
            54,
            44,
            54,
            49,
            75,
            67,
            73,
            80,
            56,
            65,
            70,
            78,
            78,
            66,
            72,
            32,
            77,
            60,
            60,
            48,
            73,
            68,
            52,
            60,
            73,
            48,
            56,
            62,
            67,
            46,
            72,
            49,
            63,
            74,
            62,
            50,
            57,
            60,
            68,
            74,
            74,
            68,
            46,
            63,
            70,
            60,
            51,
            58,
            47,
            69,
            72,
            49,
            68,
            54,
            58,
            66,
            76,
            50,
            68,
            48,
            78,
            75,
            53,
            58,
            69,
            67,
            51,
            70,
            55,
            51,
            66,
            49,
            67,
            40,
            76,
            66,
            69,
            38,
            65,
            55,
            74,
            59,
            66,
            56,
            56,
            41,
            75,
            83,
            77,
            67,
            72,
            78,
            64,
            74,
            68,
            42,
            56,
            45,
            77,
            57,
            64,
            70,
            49,
            73,
            63,
            53,
            59,
            52,
            74,
            73,
            34,
            66,
            64,
            70,
            64,
            62,
            44,
            52,
            52,
            44,
            70,
            73,
            49,
            40,
            40,
            39,
            66,
            53,
            59,
            74,
            74,
            83,
            54,
            71,
            78,
            66,
            48,
            39,
            56,
            69,
            32,
            49,
            43,
            50,
            62,
            31,
            77,
            76,
            63,
            60,
            51,
            71,
            68,
            63,
            33,
            69,
            67,
            36,
            50,
            58,
            65,
            61,
            67,
            47,
            77,
            80,
            51,
            67,
            73,
            76,
            59,
            58,
            53,
            56,
            35,
            74,
            43,
            46,
            84,
            41,
            72,
            58,
            38,
            81,
            60,
            47,
            67,
            70,
            35,
            24,
            52,
            68,
            65,
            31,
            68,
            47,
            42,
            76,
            43,
            63,
            71,
            46,
            65,
            62,
            79,
            71,
            64,
            60,
            48,
            22,
            72,
            84,
            45,
            73,
            81,
            79,
            71,
            57,
            70,
            54,
            58,
            45,
            33,
            59,
            65,
            77,
            71,
            40,
            48,
            43,
            38,
            56,
            39,
            62,
            76,
            66,
            46,
            72,
            73,
            53,
            75,
            53,
            67,
            81,
            66,
            46,
            41,
            74,
            59,
            62,
            77,
            74,
            70,
            77,
            75,
            53,
            58,
            54,
            72,
            76,
            59,
            64,
            52,
            55,
            67,
            69,
            76,
            71,
            60,
            72,
            62,
            79,
            44,
            65,
            59,
            57,
            41,
            66,
            61,
            54,
            59,
            54,
            70,
            52,
            52,
            58,
            62,
            53,
            61,
            83,
            26,
            64,
            68,
            67,
            60,
            26,
            68,
            80,
            76,
            50,
            57,
            69,
            46,
            55,
            44,
            60,
            50,
            60,
            71,
            57,
            66,
            54,
            65,
            51,
            70,
            52,
            37,
            56,
            67,
            57,
            83,
            65,
            45,
            53,
            54,
            75,
            47,
            51,
            75,
            72,
            56,
            59,
            73,
            80,
            74,
            49,
            63,
            46,
            50,
            74,
            32,
            73,
            69,
            67,
            42,
            58,
            53,
            41,
            57,
            64,
            66,
            68,
            68,
            65,
            54,
            68,
            49,
            56,
            68,
            60,
            55,
            73,
            80,
            66,
            76,
            71,
            62,
            71,
            51,
            72,
            62,
            76,
            66,
            78,
            42,
            73,
            54,
            44,
            60,
            65,
            41,
            62,
            64,
            66,
            55,
            81,
            51,
            43,
            72,
            63,
            68,
            53,
            42,
            45,
            63,
            62,
            57,
            66,
            55,
            64,
            67,
            58,
            40,
            63,
            59,
            37,
            67,
            77,
            59,
            56,
            63,
            42,
            44,
            54,
            34,
            57,
            59,
            46,
            63,
            40,
            38,
            50,
            45,
            53,
            57,
            76,
            83,
            55,
            45,
            72,
            49,
            59,
            63,
            50,
            49,
            46,
            56,
            74,
            41,
            65,
            70,
            55,
            52,
            49,
            68,
            53,
            64,
            48,
            49,
            39,
            61,
            49,
            66,
            47,
            61,
            72,
            76,
            51,
            68,
            71,
            73,
            62,
            55,
            57,
            60,
            61,
            33,
            47,
            72,
            69,
            81,
            57,
            65,
            65,
            77,
            71,
            61,
            57,
            59,
            60,
            69,
            69,
            54,
            67,
            73,
            31,
            38,
            50,
            68,
            75,
            51,
            80,
            69,
            74,
            49,
            75,
            74,
            51,
            81,
            49,
            58,
            81,
            72,
            73,
            77,
            77,
            65,
            49,
            68,
            39,
            63,
            75,
            55,
            63,
            61,
            74,
            64,
            66,
            61,
            68,
            48,
            56,
            73,
            51,
            69,
            71,
            68,
            64,
            69,
            70,
            49,
            48,
            49,
            47,
            54,
            39,
            66,
            55,
            63,
            61,
            54,
            78,
            55,
            73,
            74,
            58,
            70,
            77,
            62,
            61,
            71,
            67,
            53,
            67,
            44,
            78,
            51,
            61,
            45,
            71,
            62,
            56,
            49,
            74,
            58,
            40,
            59,
            48,
            58,
            73,
            39,
            68,
            64,
            57,
            58,
            73,
            82,
            66,
            69,
            41,
            75,
            38,
            59,
            72,
            60,
            72,
            62,
            76,
            74,
            68,
            57,
            39,
            56,
            48,
            72,
            69,
            58,
            57,
            54,
            64,
            61,
            65,
            42,
            67,
            80,
            73,
            45,
            64,
            76,
            73,
            79,
            68,
            59,
            72,
            76,
            95,
            62,
            71,
            66,
            67,
            56,
            69,
            56,
            75,
            55,
            57,
            45,
            57,
            59,
            58,
            71,
            63,
            70,
            63,
            62,
            64,
            47,
            60,
            52,
            64,
            54,
            69,
            63,
            58,
            73,
            24,
            60,
            80,
            66,
            67,
            49,
            70,
            49,
            74,
            46,
            45,
            58,
            72,
            44,
            58,
            31,
            61,
            68,
            71,
            29,
            46,
            72,
            56,
            40,
            60,
            55,
            62,
            74,
            57,
            58,
            59,
            57,
            53,
            50,
            55,
            80,
            32,
            74,
            53,
            67,
            76,
            35,
            37,
            70,
            63,
            54,
            49,
            78,
            48,
            67,
            77,
            74,
            77,
            46,
            67,
            49,
            65,
            60,
            54,
            68,
            64,
            55,
            65,
            55,
            75,
            53,
            71,
            42,
            44,
            63,
            75,
            50,
            66,
            51,
            35,
            47,
            42,
            45,
            61,
            31,
            64,
            70,
            57,
            33,
            50,
            76,
            61,
            66,
            59,
            51,
            42,
            58,
            43,
            49,
            47,
            76,
            62,
            58,
            69,
            46,
            51,
            54,
            39,
            50,
            73,
            35,
            50,
            40,
            51,
            63,
            37,
            45,
            39,
            50,
            40,
            61,
            60,
            68,
            44,
            72,
            53,
            44,
            11,
            44,
            56,
            62,
            37,
            50,
            61,
            81,
            57,
            74,
            75,
            77,
            78,
            62,
            44,
            62,
            18,
            41,
            54,
            61,
            41,
            56,
            80,
            45,
            24,
            70,
            38,
            79,
            48,
            44,
            70,
            72,
            52,
            65,
            74,
            78,
            77,
            77,
            73,
            71,
            69,
            57,
            74,
            59,
            71,
            65,
            75,
            69,
            58,
            69,
            66,
            69,
            53,
            66,
            46,
            78,
            77,
            71,
            69,
            73,
            70,
            67,
            74,
            71,
            74,
            53,
            62,
            53,
            47,
            62,
            78,
            72,
            76,
            71,
            57,
            75,
            65,
            63,
            61,
            65,
            64,
            58,
            66,
            67,
            48,
            62,
            63,
            63,
            64,
            72,
            68,
            61,
            67,
            79,
            73,
            69,
            45,
            66,
            71,
            71,
            72,
            70,
            62,
            69,
            58,
            70,
            63,
            65,
            69,
            72,
            63,
            68,
            50,
            65,
            37,
            65,
            41,
            80,
            53,
            63,
            73,
            66,
            74,
            72,
            69,
            62,
            66,
            45,
            73,
            74,
            60,
            70,
            77,
            43,
            75,
            69,
            74,
            76,
            68,
            48,
            72,
            48,
            67,
            56,
            67,
            59,
            57,
            43,
            66,
            36,
            67,
            69,
            66,
            59,
            82,
            73,
            76,
            72,
            76,
            78,
            80,
            63,
            77,
            67,
            69,
            73,
            79,
            72,
            50,
            42,
            59,
            61,
            69,
            46,
            60,
            44,
            41,
            59,
            44,
            60,
            63,
            43,
            57,
            73,
            34,
            64,
            68,
            36,
            50,
            45,
            48,
            67,
            62,
            73,
            68,
            66,
            63,
            69,
            74,
            65,
            56
           ]
          }
         ],
         "hovertemplate": "%{xaxis.title.text}=%{x}<br>%{yaxis.title.text}=%{y}<extra></extra>",
         "legendgroup": "",
         "marker": {
          "color": "#636efa",
          "symbol": "circle"
         },
         "name": "",
         "showlegend": false,
         "type": "splom"
        }
       ],
       "layout": {
        "dragmode": "select",
        "legend": {
         "tracegroupgap": 0
        },
        "template": {
         "data": {
          "bar": [
           {
            "error_x": {
             "color": "#2a3f5f"
            },
            "error_y": {
             "color": "#2a3f5f"
            },
            "marker": {
             "line": {
              "color": "#E5ECF6",
              "width": 0.5
             },
             "pattern": {
              "fillmode": "overlay",
              "size": 10,
              "solidity": 0.2
             }
            },
            "type": "bar"
           }
          ],
          "barpolar": [
           {
            "marker": {
             "line": {
              "color": "#E5ECF6",
              "width": 0.5
             },
             "pattern": {
              "fillmode": "overlay",
              "size": 10,
              "solidity": 0.2
             }
            },
            "type": "barpolar"
           }
          ],
          "carpet": [
           {
            "aaxis": {
             "endlinecolor": "#2a3f5f",
             "gridcolor": "white",
             "linecolor": "white",
             "minorgridcolor": "white",
             "startlinecolor": "#2a3f5f"
            },
            "baxis": {
             "endlinecolor": "#2a3f5f",
             "gridcolor": "white",
             "linecolor": "white",
             "minorgridcolor": "white",
             "startlinecolor": "#2a3f5f"
            },
            "type": "carpet"
           }
          ],
          "choropleth": [
           {
            "colorbar": {
             "outlinewidth": 0,
             "ticks": ""
            },
            "type": "choropleth"
           }
          ],
          "contour": [
           {
            "colorbar": {
             "outlinewidth": 0,
             "ticks": ""
            },
            "colorscale": [
             [
              0,
              "#0d0887"
             ],
             [
              0.1111111111111111,
              "#46039f"
             ],
             [
              0.2222222222222222,
              "#7201a8"
             ],
             [
              0.3333333333333333,
              "#9c179e"
             ],
             [
              0.4444444444444444,
              "#bd3786"
             ],
             [
              0.5555555555555556,
              "#d8576b"
             ],
             [
              0.6666666666666666,
              "#ed7953"
             ],
             [
              0.7777777777777778,
              "#fb9f3a"
             ],
             [
              0.8888888888888888,
              "#fdca26"
             ],
             [
              1,
              "#f0f921"
             ]
            ],
            "type": "contour"
           }
          ],
          "contourcarpet": [
           {
            "colorbar": {
             "outlinewidth": 0,
             "ticks": ""
            },
            "type": "contourcarpet"
           }
          ],
          "heatmap": [
           {
            "colorbar": {
             "outlinewidth": 0,
             "ticks": ""
            },
            "colorscale": [
             [
              0,
              "#0d0887"
             ],
             [
              0.1111111111111111,
              "#46039f"
             ],
             [
              0.2222222222222222,
              "#7201a8"
             ],
             [
              0.3333333333333333,
              "#9c179e"
             ],
             [
              0.4444444444444444,
              "#bd3786"
             ],
             [
              0.5555555555555556,
              "#d8576b"
             ],
             [
              0.6666666666666666,
              "#ed7953"
             ],
             [
              0.7777777777777778,
              "#fb9f3a"
             ],
             [
              0.8888888888888888,
              "#fdca26"
             ],
             [
              1,
              "#f0f921"
             ]
            ],
            "type": "heatmap"
           }
          ],
          "heatmapgl": [
           {
            "colorbar": {
             "outlinewidth": 0,
             "ticks": ""
            },
            "colorscale": [
             [
              0,
              "#0d0887"
             ],
             [
              0.1111111111111111,
              "#46039f"
             ],
             [
              0.2222222222222222,
              "#7201a8"
             ],
             [
              0.3333333333333333,
              "#9c179e"
             ],
             [
              0.4444444444444444,
              "#bd3786"
             ],
             [
              0.5555555555555556,
              "#d8576b"
             ],
             [
              0.6666666666666666,
              "#ed7953"
             ],
             [
              0.7777777777777778,
              "#fb9f3a"
             ],
             [
              0.8888888888888888,
              "#fdca26"
             ],
             [
              1,
              "#f0f921"
             ]
            ],
            "type": "heatmapgl"
           }
          ],
          "histogram": [
           {
            "marker": {
             "pattern": {
              "fillmode": "overlay",
              "size": 10,
              "solidity": 0.2
             }
            },
            "type": "histogram"
           }
          ],
          "histogram2d": [
           {
            "colorbar": {
             "outlinewidth": 0,
             "ticks": ""
            },
            "colorscale": [
             [
              0,
              "#0d0887"
             ],
             [
              0.1111111111111111,
              "#46039f"
             ],
             [
              0.2222222222222222,
              "#7201a8"
             ],
             [
              0.3333333333333333,
              "#9c179e"
             ],
             [
              0.4444444444444444,
              "#bd3786"
             ],
             [
              0.5555555555555556,
              "#d8576b"
             ],
             [
              0.6666666666666666,
              "#ed7953"
             ],
             [
              0.7777777777777778,
              "#fb9f3a"
             ],
             [
              0.8888888888888888,
              "#fdca26"
             ],
             [
              1,
              "#f0f921"
             ]
            ],
            "type": "histogram2d"
           }
          ],
          "histogram2dcontour": [
           {
            "colorbar": {
             "outlinewidth": 0,
             "ticks": ""
            },
            "colorscale": [
             [
              0,
              "#0d0887"
             ],
             [
              0.1111111111111111,
              "#46039f"
             ],
             [
              0.2222222222222222,
              "#7201a8"
             ],
             [
              0.3333333333333333,
              "#9c179e"
             ],
             [
              0.4444444444444444,
              "#bd3786"
             ],
             [
              0.5555555555555556,
              "#d8576b"
             ],
             [
              0.6666666666666666,
              "#ed7953"
             ],
             [
              0.7777777777777778,
              "#fb9f3a"
             ],
             [
              0.8888888888888888,
              "#fdca26"
             ],
             [
              1,
              "#f0f921"
             ]
            ],
            "type": "histogram2dcontour"
           }
          ],
          "mesh3d": [
           {
            "colorbar": {
             "outlinewidth": 0,
             "ticks": ""
            },
            "type": "mesh3d"
           }
          ],
          "parcoords": [
           {
            "line": {
             "colorbar": {
              "outlinewidth": 0,
              "ticks": ""
             }
            },
            "type": "parcoords"
           }
          ],
          "pie": [
           {
            "automargin": true,
            "type": "pie"
           }
          ],
          "scatter": [
           {
            "fillpattern": {
             "fillmode": "overlay",
             "size": 10,
             "solidity": 0.2
            },
            "type": "scatter"
           }
          ],
          "scatter3d": [
           {
            "line": {
             "colorbar": {
              "outlinewidth": 0,
              "ticks": ""
             }
            },
            "marker": {
             "colorbar": {
              "outlinewidth": 0,
              "ticks": ""
             }
            },
            "type": "scatter3d"
           }
          ],
          "scattercarpet": [
           {
            "marker": {
             "colorbar": {
              "outlinewidth": 0,
              "ticks": ""
             }
            },
            "type": "scattercarpet"
           }
          ],
          "scattergeo": [
           {
            "marker": {
             "colorbar": {
              "outlinewidth": 0,
              "ticks": ""
             }
            },
            "type": "scattergeo"
           }
          ],
          "scattergl": [
           {
            "marker": {
             "colorbar": {
              "outlinewidth": 0,
              "ticks": ""
             }
            },
            "type": "scattergl"
           }
          ],
          "scattermapbox": [
           {
            "marker": {
             "colorbar": {
              "outlinewidth": 0,
              "ticks": ""
             }
            },
            "type": "scattermapbox"
           }
          ],
          "scatterpolar": [
           {
            "marker": {
             "colorbar": {
              "outlinewidth": 0,
              "ticks": ""
             }
            },
            "type": "scatterpolar"
           }
          ],
          "scatterpolargl": [
           {
            "marker": {
             "colorbar": {
              "outlinewidth": 0,
              "ticks": ""
             }
            },
            "type": "scatterpolargl"
           }
          ],
          "scatterternary": [
           {
            "marker": {
             "colorbar": {
              "outlinewidth": 0,
              "ticks": ""
             }
            },
            "type": "scatterternary"
           }
          ],
          "surface": [
           {
            "colorbar": {
             "outlinewidth": 0,
             "ticks": ""
            },
            "colorscale": [
             [
              0,
              "#0d0887"
             ],
             [
              0.1111111111111111,
              "#46039f"
             ],
             [
              0.2222222222222222,
              "#7201a8"
             ],
             [
              0.3333333333333333,
              "#9c179e"
             ],
             [
              0.4444444444444444,
              "#bd3786"
             ],
             [
              0.5555555555555556,
              "#d8576b"
             ],
             [
              0.6666666666666666,
              "#ed7953"
             ],
             [
              0.7777777777777778,
              "#fb9f3a"
             ],
             [
              0.8888888888888888,
              "#fdca26"
             ],
             [
              1,
              "#f0f921"
             ]
            ],
            "type": "surface"
           }
          ],
          "table": [
           {
            "cells": {
             "fill": {
              "color": "#EBF0F8"
             },
             "line": {
              "color": "white"
             }
            },
            "header": {
             "fill": {
              "color": "#C8D4E3"
             },
             "line": {
              "color": "white"
             }
            },
            "type": "table"
           }
          ]
         },
         "layout": {
          "annotationdefaults": {
           "arrowcolor": "#2a3f5f",
           "arrowhead": 0,
           "arrowwidth": 1
          },
          "autotypenumbers": "strict",
          "coloraxis": {
           "colorbar": {
            "outlinewidth": 0,
            "ticks": ""
           }
          },
          "colorscale": {
           "diverging": [
            [
             0,
             "#8e0152"
            ],
            [
             0.1,
             "#c51b7d"
            ],
            [
             0.2,
             "#de77ae"
            ],
            [
             0.3,
             "#f1b6da"
            ],
            [
             0.4,
             "#fde0ef"
            ],
            [
             0.5,
             "#f7f7f7"
            ],
            [
             0.6,
             "#e6f5d0"
            ],
            [
             0.7,
             "#b8e186"
            ],
            [
             0.8,
             "#7fbc41"
            ],
            [
             0.9,
             "#4d9221"
            ],
            [
             1,
             "#276419"
            ]
           ],
           "sequential": [
            [
             0,
             "#0d0887"
            ],
            [
             0.1111111111111111,
             "#46039f"
            ],
            [
             0.2222222222222222,
             "#7201a8"
            ],
            [
             0.3333333333333333,
             "#9c179e"
            ],
            [
             0.4444444444444444,
             "#bd3786"
            ],
            [
             0.5555555555555556,
             "#d8576b"
            ],
            [
             0.6666666666666666,
             "#ed7953"
            ],
            [
             0.7777777777777778,
             "#fb9f3a"
            ],
            [
             0.8888888888888888,
             "#fdca26"
            ],
            [
             1,
             "#f0f921"
            ]
           ],
           "sequentialminus": [
            [
             0,
             "#0d0887"
            ],
            [
             0.1111111111111111,
             "#46039f"
            ],
            [
             0.2222222222222222,
             "#7201a8"
            ],
            [
             0.3333333333333333,
             "#9c179e"
            ],
            [
             0.4444444444444444,
             "#bd3786"
            ],
            [
             0.5555555555555556,
             "#d8576b"
            ],
            [
             0.6666666666666666,
             "#ed7953"
            ],
            [
             0.7777777777777778,
             "#fb9f3a"
            ],
            [
             0.8888888888888888,
             "#fdca26"
            ],
            [
             1,
             "#f0f921"
            ]
           ]
          },
          "colorway": [
           "#636efa",
           "#EF553B",
           "#00cc96",
           "#ab63fa",
           "#FFA15A",
           "#19d3f3",
           "#FF6692",
           "#B6E880",
           "#FF97FF",
           "#FECB52"
          ],
          "font": {
           "color": "#2a3f5f"
          },
          "geo": {
           "bgcolor": "white",
           "lakecolor": "white",
           "landcolor": "#E5ECF6",
           "showlakes": true,
           "showland": true,
           "subunitcolor": "white"
          },
          "hoverlabel": {
           "align": "left"
          },
          "hovermode": "closest",
          "mapbox": {
           "style": "light"
          },
          "paper_bgcolor": "white",
          "plot_bgcolor": "#E5ECF6",
          "polar": {
           "angularaxis": {
            "gridcolor": "white",
            "linecolor": "white",
            "ticks": ""
           },
           "bgcolor": "#E5ECF6",
           "radialaxis": {
            "gridcolor": "white",
            "linecolor": "white",
            "ticks": ""
           }
          },
          "scene": {
           "xaxis": {
            "backgroundcolor": "#E5ECF6",
            "gridcolor": "white",
            "gridwidth": 2,
            "linecolor": "white",
            "showbackground": true,
            "ticks": "",
            "zerolinecolor": "white"
           },
           "yaxis": {
            "backgroundcolor": "#E5ECF6",
            "gridcolor": "white",
            "gridwidth": 2,
            "linecolor": "white",
            "showbackground": true,
            "ticks": "",
            "zerolinecolor": "white"
           },
           "zaxis": {
            "backgroundcolor": "#E5ECF6",
            "gridcolor": "white",
            "gridwidth": 2,
            "linecolor": "white",
            "showbackground": true,
            "ticks": "",
            "zerolinecolor": "white"
           }
          },
          "shapedefaults": {
           "line": {
            "color": "#2a3f5f"
           }
          },
          "ternary": {
           "aaxis": {
            "gridcolor": "white",
            "linecolor": "white",
            "ticks": ""
           },
           "baxis": {
            "gridcolor": "white",
            "linecolor": "white",
            "ticks": ""
           },
           "bgcolor": "#E5ECF6",
           "caxis": {
            "gridcolor": "white",
            "linecolor": "white",
            "ticks": ""
           }
          },
          "title": {
           "x": 0.05
          },
          "xaxis": {
           "automargin": true,
           "gridcolor": "white",
           "linecolor": "white",
           "ticks": "",
           "title": {
            "standoff": 15
           },
           "zerolinecolor": "white",
           "zerolinewidth": 2
          },
          "yaxis": {
           "automargin": true,
           "gridcolor": "white",
           "linecolor": "white",
           "ticks": "",
           "title": {
            "standoff": 15
           },
           "zerolinecolor": "white",
           "zerolinewidth": 2
          }
         }
        },
        "title": {
         "text": "Relationships between Features and Popularity"
        }
       }
      }
     },
     "metadata": {},
     "output_type": "display_data"
    }
   ],
   "source": [
    "# Scatter plots of different features vs popularity\n",
    "features_to_plot = ['Energy', 'Danceability', 'Loudness (dB)', 'Valence']\n",
    "\n",
    "fig = px.scatter_matrix(df,\n",
    "                       dimensions=features_to_plot + ['Popularity'],\n",
    "                       title='Relationships between Features and Popularity')\n",
    "print(\"\\nFeature relationships with Popularity:\")\n",
    "fig.show()"
   ]
  },
  {
   "cell_type": "markdown",
   "metadata": {},
   "source": [
    "Feature Relationships with Popularity:\n",
    "\n",
    "Key Patterns:\n",
    "- `Energy` shows a slight positive trend with popularity - more energetic songs tend to be somewhat more popular\n",
    "- `Danceability` has a scattered but positive relationship - songs can be popular regardless of how danceable they are\n",
    "- `Loudness` displays an interesting upward trend - louder songs (-10dB to -5dB) generally achieve higher popularity\n",
    "- `Valence` (musical positiveness) shows no clear pattern - suggesting both happy and sad songs can be equally popular\n",
    "\n",
    "Most Important Finding:\n",
    "The scattered nature of all these relationships confirms what we saw in the correlation matrix - there's no single \"formula\" for a popular song. Popular music comes in all varieties of energy levels, danceability, and emotional tones.\n",
    "\n",
    "This suggests that focusing on any one musical feature alone won't guarantee a song's success - it's the unique combination that matters."
   ]
  },
  {
   "cell_type": "code",
   "execution_count": 11,
   "metadata": {},
   "outputs": [
    {
     "name": "stdout",
     "output_type": "stream",
     "text": [
      "\n",
      "Top 10 Most Popular Songs:\n"
     ]
    },
    {
     "data": {
      "image/png": "[encoded data removed]",
      "text/plain": [
       "<Figure size 1500x800 with 4 Axes>"
      ]
     },
     "metadata": {},
     "output_type": "display_data"
    }
   ],
   "source": [
    "# Top 10 most popular songs\n",
    "print(\"\\nTop 10 Most Popular Songs:\")\n",
    "df.nlargest(10, 'Popularity')[['Title', 'Artist', 'Top Genre', 'Popularity']]\n",
    "\n",
    "\n",
    "# Distribution plots for key features\n",
    "features = ['Beats Per Minute (BPM)', 'Energy', 'Danceability', 'Popularity']\n",
    "fig = plt.figure(figsize=(15, 8))\n",
    "\n",
    "for i, feature in enumerate(features, 1):\n",
    "    plt.subplot(2, 2, i)\n",
    "    sns.histplot(df[feature], kde=True)\n",
    "    plt.title(f'Distribution of {feature}')\n",
    "    \n",
    "plt.tight_layout()\n",
    "plt.show()"
   ]
  },
  {
   "cell_type": "markdown",
   "metadata": {},
   "source": [
    "Distribution Analysis of Key Musical Features:\n",
    "\n",
    "Tempo (BPM):\n",
    "- Most songs cluster around `120-130` BPM - a comfortable, mid-tempo range\n",
    "- Shows a classic bell curve with a slight right skew\n",
    "- Few songs below `75` BPM (very slow) or above `175` BPM (very fast)\n",
    "\n",
    "Energy:\n",
    "- Fairly even spread from `20-80` on the scale\n",
    "- Slight preference for higher energy (`60-80` range)\n",
    "- Very few songs at extreme low (`0-10`) or high (`90-100`) energy\n",
    "\n",
    "Danceability:\n",
    "- Bell-shaped distribution centered around `50-60`\n",
    "- Most songs maintain moderate danceability\n",
    "- Very few songs rated as extremely danceable (`80-100`) or not danceable at all (`0-20`)\n",
    "\n",
    "Popularity:\n",
    "- Normal distribution centered around `60`\n",
    "- Most songs fall in the `40-80` range\n",
    "- Very few songs reach extreme popularity (`90-100`) or extreme unpopularity (`0-20`)\n",
    "\n",
    "This suggests that successful songs tend to avoid extremes in these features, instead clustering around moderate, comfortable values."
   ]
  },
  {
   "cell_type": "markdown",
   "metadata": {},
   "source": [
    "### Conclusion to Analysis:"
   ]
  },
  {
   "cell_type": "markdown",
   "metadata": {},
   "source": [
    "Conclusion: Understanding Musical Success Through Data\n",
    "\n",
    "Key Findings:\n",
    "1. Genre & Artist Landscape:\n",
    "   - Despite `731` unique artists, traditional rock dominates\n",
    "   - Surprising popularity of niche genres like `celtic punk` (`83%` popularity)\n",
    "   - Strong European influence with multiple Dutch genres in top 10\n",
    "\n",
    "2. Musical Features:\n",
    "   - Strong correlation between `Energy` and `Loudness` (`0.74`)\n",
    "   - Most songs cluster around `120-130` BPM, ideal for listener engagement\n",
    "   - Popularity shows no strong correlation with any single feature, `**suggesting success comes from balanced combinations**`\n",
    "\n",
    "3. Distribution Patterns:\n",
    "   - Most features follow normal distributions, avoiding extremes\n",
    "   - Energy levels spread evenly (`20-80` range)\n",
    "   - Popularity clusters around `60`, with few reaching extreme popularity\n",
    "\n",
    "Recommended Visualizations for Dashboard:(**This is a temporary addition for the conclusion, to go over with teammates**)\n",
    "1. Time Series:\n",
    "   - Musical attribute trends over years (using our existing line plot)\n",
    "   - Genre popularity evolution\n",
    "\n",
    "2. Interactive Elements:\n",
    "   - Feature correlation heatmap with selectable attributes\n",
    "   - Distribution histograms with adjustable ranges\n",
    "   - Genre comparison tool\n",
    "\n",
    "3. Success Analysis:\n",
    "   - Popular song characteristic explorer\n",
    "   - Genre success rate visualization\n",
    "   - Artist performance metrics\n",
    "\n",
    "**This analysis suggests successful music often balances multiple factors rather than maximizing any single element, a key insight for our interactive dashboard design.**"
   ]
  },
  {
   "cell_type": "markdown",
   "metadata": {},
   "source": []
  },
  {
   "cell_type": "markdown",
   "id": "7c2475bf",
   "metadata": {},
   "source": [
    "# Top 10 Most Popular Songs\n",
    "This section highlights the ten most popular songs in the dataset based on their popularity score."
   ]
  },
  {
   "cell_type": "code",
   "execution_count": 13,
   "id": "75d04902",
   "metadata": {},
   "outputs": [
    {
     "ename": "KeyError",
     "evalue": "'popularity'",
     "output_type": "error",
     "traceback": [
      "\u001b[1;31m---------------------------------------------------------------------------\u001b[0m",
      "\u001b[1;31mKeyError\u001b[0m                                  Traceback (most recent call last)",
      "File \u001b[1;32mc:\\Users\\sohin\\anaconda3\\Lib\\site-packages\\pandas\\core\\indexes\\base.py:3805\u001b[0m, in \u001b[0;36mIndex.get_loc\u001b[1;34m(self, key)\u001b[0m\n\u001b[0;32m   3804\u001b[0m \u001b[38;5;28;01mtry\u001b[39;00m:\n\u001b[1;32m-> 3805\u001b[0m     \u001b[38;5;28;01mreturn\u001b[39;00m \u001b[38;5;28;43mself\u001b[39;49m\u001b[38;5;241;43m.\u001b[39;49m\u001b[43m_engine\u001b[49m\u001b[38;5;241;43m.\u001b[39;49m\u001b[43mget_loc\u001b[49m\u001b[43m(\u001b[49m\u001b[43mcasted_key\u001b[49m\u001b[43m)\u001b[49m\n\u001b[0;32m   3806\u001b[0m \u001b[38;5;28;01mexcept\u001b[39;00m \u001b[38;5;167;01mKeyError\u001b[39;00m \u001b[38;5;28;01mas\u001b[39;00m err:\n",
      "File \u001b[1;32mindex.pyx:167\u001b[0m, in \u001b[0;36mpandas._libs.index.IndexEngine.get_loc\u001b[1;34m()\u001b[0m\n",
      "File \u001b[1;32mindex.pyx:196\u001b[0m, in \u001b[0;36mpandas._libs.index.IndexEngine.get_loc\u001b[1;34m()\u001b[0m\n",
      "File \u001b[1;32mpandas\\\\_libs\\\\hashtable_class_helper.pxi:7081\u001b[0m, in \u001b[0;36mpandas._libs.hashtable.PyObjectHashTable.get_item\u001b[1;34m()\u001b[0m\n",
      "File \u001b[1;32mpandas\\\\_libs\\\\hashtable_class_helper.pxi:7089\u001b[0m, in \u001b[0;36mpandas._libs.hashtable.PyObjectHashTable.get_item\u001b[1;34m()\u001b[0m\n",
      "\u001b[1;31mKeyError\u001b[0m: 'popularity'",
      "\nThe above exception was the direct cause of the following exception:\n",
      "\u001b[1;31mKeyError\u001b[0m                                  Traceback (most recent call last)",
      "Cell \u001b[1;32mIn[13], line 1\u001b[0m\n\u001b[1;32m----> 1\u001b[0m top_popular \u001b[38;5;241m=\u001b[39m \u001b[43mdf\u001b[49m\u001b[38;5;241;43m.\u001b[39;49m\u001b[43mnlargest\u001b[49m\u001b[43m(\u001b[49m\u001b[38;5;241;43m10\u001b[39;49m\u001b[43m,\u001b[49m\u001b[43m \u001b[49m\u001b[38;5;124;43m'\u001b[39;49m\u001b[38;5;124;43mpopularity\u001b[39;49m\u001b[38;5;124;43m'\u001b[39;49m\u001b[43m)\u001b[49m[[\u001b[38;5;124m'\u001b[39m\u001b[38;5;124mtitle\u001b[39m\u001b[38;5;124m'\u001b[39m, \u001b[38;5;124m'\u001b[39m\u001b[38;5;124martist\u001b[39m\u001b[38;5;124m'\u001b[39m, \u001b[38;5;124m'\u001b[39m\u001b[38;5;124mpopularity\u001b[39m\u001b[38;5;124m'\u001b[39m]]\n\u001b[0;32m      2\u001b[0m \u001b[38;5;28mprint\u001b[39m(\u001b[38;5;124m\"\u001b[39m\u001b[38;5;124mTop 10 Most Popular Songs:\u001b[39m\u001b[38;5;124m\"\u001b[39m)\n\u001b[0;32m      3\u001b[0m \u001b[38;5;28mprint\u001b[39m(top_popular)\n",
      "File \u001b[1;32mc:\\Users\\sohin\\anaconda3\\Lib\\site-packages\\pandas\\core\\frame.py:7644\u001b[0m, in \u001b[0;36mDataFrame.nlargest\u001b[1;34m(self, n, columns, keep)\u001b[0m\n\u001b[0;32m   7525\u001b[0m \u001b[38;5;28;01mdef\u001b[39;00m \u001b[38;5;21mnlargest\u001b[39m(\n\u001b[0;32m   7526\u001b[0m     \u001b[38;5;28mself\u001b[39m, n: \u001b[38;5;28mint\u001b[39m, columns: IndexLabel, keep: NsmallestNlargestKeep \u001b[38;5;241m=\u001b[39m \u001b[38;5;124m\"\u001b[39m\u001b[38;5;124mfirst\u001b[39m\u001b[38;5;124m\"\u001b[39m\n\u001b[0;32m   7527\u001b[0m ) \u001b[38;5;241m-\u001b[39m\u001b[38;5;241m>\u001b[39m DataFrame:\n\u001b[0;32m   7528\u001b[0m \u001b[38;5;250m    \u001b[39m\u001b[38;5;124;03m\"\"\"\u001b[39;00m\n\u001b[0;32m   7529\u001b[0m \u001b[38;5;124;03m    Return the first `n` rows ordered by `columns` in descending order.\u001b[39;00m\n\u001b[0;32m   7530\u001b[0m \n\u001b[1;32m   (...)\u001b[0m\n\u001b[0;32m   7642\u001b[0m \u001b[38;5;124;03m    Brunei      434000    12128      BN\u001b[39;00m\n\u001b[0;32m   7643\u001b[0m \u001b[38;5;124;03m    \"\"\"\u001b[39;00m\n\u001b[1;32m-> 7644\u001b[0m     \u001b[38;5;28;01mreturn\u001b[39;00m \u001b[43mselectn\u001b[49m\u001b[38;5;241;43m.\u001b[39;49m\u001b[43mSelectNFrame\u001b[49m\u001b[43m(\u001b[49m\u001b[38;5;28;43mself\u001b[39;49m\u001b[43m,\u001b[49m\u001b[43m \u001b[49m\u001b[43mn\u001b[49m\u001b[38;5;241;43m=\u001b[39;49m\u001b[43mn\u001b[49m\u001b[43m,\u001b[49m\u001b[43m \u001b[49m\u001b[43mkeep\u001b[49m\u001b[38;5;241;43m=\u001b[39;49m\u001b[43mkeep\u001b[49m\u001b[43m,\u001b[49m\u001b[43m \u001b[49m\u001b[43mcolumns\u001b[49m\u001b[38;5;241;43m=\u001b[39;49m\u001b[43mcolumns\u001b[49m\u001b[43m)\u001b[49m\u001b[38;5;241;43m.\u001b[39;49m\u001b[43mnlargest\u001b[49m\u001b[43m(\u001b[49m\u001b[43m)\u001b[49m\n",
      "File \u001b[1;32mc:\\Users\\sohin\\anaconda3\\Lib\\site-packages\\pandas\\core\\methods\\selectn.py:57\u001b[0m, in \u001b[0;36mSelectN.nlargest\u001b[1;34m(self)\u001b[0m\n\u001b[0;32m     55\u001b[0m \u001b[38;5;129m@final\u001b[39m\n\u001b[0;32m     56\u001b[0m \u001b[38;5;28;01mdef\u001b[39;00m \u001b[38;5;21mnlargest\u001b[39m(\u001b[38;5;28mself\u001b[39m):\n\u001b[1;32m---> 57\u001b[0m     \u001b[38;5;28;01mreturn\u001b[39;00m \u001b[38;5;28;43mself\u001b[39;49m\u001b[38;5;241;43m.\u001b[39;49m\u001b[43mcompute\u001b[49m\u001b[43m(\u001b[49m\u001b[38;5;124;43m\"\u001b[39;49m\u001b[38;5;124;43mnlargest\u001b[39;49m\u001b[38;5;124;43m\"\u001b[39;49m\u001b[43m)\u001b[49m\n",
      "File \u001b[1;32mc:\\Users\\sohin\\anaconda3\\Lib\\site-packages\\pandas\\core\\methods\\selectn.py:199\u001b[0m, in \u001b[0;36mSelectNFrame.compute\u001b[1;34m(self, method)\u001b[0m\n\u001b[0;32m    196\u001b[0m columns \u001b[38;5;241m=\u001b[39m \u001b[38;5;28mself\u001b[39m\u001b[38;5;241m.\u001b[39mcolumns\n\u001b[0;32m    198\u001b[0m \u001b[38;5;28;01mfor\u001b[39;00m column \u001b[38;5;129;01min\u001b[39;00m columns:\n\u001b[1;32m--> 199\u001b[0m     dtype \u001b[38;5;241m=\u001b[39m \u001b[43mframe\u001b[49m\u001b[43m[\u001b[49m\u001b[43mcolumn\u001b[49m\u001b[43m]\u001b[49m\u001b[38;5;241m.\u001b[39mdtype\n\u001b[0;32m    200\u001b[0m     \u001b[38;5;28;01mif\u001b[39;00m \u001b[38;5;129;01mnot\u001b[39;00m \u001b[38;5;28mself\u001b[39m\u001b[38;5;241m.\u001b[39mis_valid_dtype_n_method(dtype):\n\u001b[0;32m    201\u001b[0m         \u001b[38;5;28;01mraise\u001b[39;00m \u001b[38;5;167;01mTypeError\u001b[39;00m(\n\u001b[0;32m    202\u001b[0m             \u001b[38;5;124mf\u001b[39m\u001b[38;5;124m\"\u001b[39m\u001b[38;5;124mColumn \u001b[39m\u001b[38;5;132;01m{\u001b[39;00m\u001b[38;5;28mrepr\u001b[39m(column)\u001b[38;5;132;01m}\u001b[39;00m\u001b[38;5;124m has dtype \u001b[39m\u001b[38;5;132;01m{\u001b[39;00mdtype\u001b[38;5;132;01m}\u001b[39;00m\u001b[38;5;124m, \u001b[39m\u001b[38;5;124m\"\u001b[39m\n\u001b[0;32m    203\u001b[0m             \u001b[38;5;124mf\u001b[39m\u001b[38;5;124m\"\u001b[39m\u001b[38;5;124mcannot use method \u001b[39m\u001b[38;5;132;01m{\u001b[39;00m\u001b[38;5;28mrepr\u001b[39m(method)\u001b[38;5;132;01m}\u001b[39;00m\u001b[38;5;124m with this dtype\u001b[39m\u001b[38;5;124m\"\u001b[39m\n\u001b[0;32m    204\u001b[0m         )\n",
      "File \u001b[1;32mc:\\Users\\sohin\\anaconda3\\Lib\\site-packages\\pandas\\core\\frame.py:4102\u001b[0m, in \u001b[0;36mDataFrame.__getitem__\u001b[1;34m(self, key)\u001b[0m\n\u001b[0;32m   4100\u001b[0m \u001b[38;5;28;01mif\u001b[39;00m \u001b[38;5;28mself\u001b[39m\u001b[38;5;241m.\u001b[39mcolumns\u001b[38;5;241m.\u001b[39mnlevels \u001b[38;5;241m>\u001b[39m \u001b[38;5;241m1\u001b[39m:\n\u001b[0;32m   4101\u001b[0m     \u001b[38;5;28;01mreturn\u001b[39;00m \u001b[38;5;28mself\u001b[39m\u001b[38;5;241m.\u001b[39m_getitem_multilevel(key)\n\u001b[1;32m-> 4102\u001b[0m indexer \u001b[38;5;241m=\u001b[39m \u001b[38;5;28;43mself\u001b[39;49m\u001b[38;5;241;43m.\u001b[39;49m\u001b[43mcolumns\u001b[49m\u001b[38;5;241;43m.\u001b[39;49m\u001b[43mget_loc\u001b[49m\u001b[43m(\u001b[49m\u001b[43mkey\u001b[49m\u001b[43m)\u001b[49m\n\u001b[0;32m   4103\u001b[0m \u001b[38;5;28;01mif\u001b[39;00m is_integer(indexer):\n\u001b[0;32m   4104\u001b[0m     indexer \u001b[38;5;241m=\u001b[39m [indexer]\n",
      "File \u001b[1;32mc:\\Users\\sohin\\anaconda3\\Lib\\site-packages\\pandas\\core\\indexes\\base.py:3812\u001b[0m, in \u001b[0;36mIndex.get_loc\u001b[1;34m(self, key)\u001b[0m\n\u001b[0;32m   3807\u001b[0m     \u001b[38;5;28;01mif\u001b[39;00m \u001b[38;5;28misinstance\u001b[39m(casted_key, \u001b[38;5;28mslice\u001b[39m) \u001b[38;5;129;01mor\u001b[39;00m (\n\u001b[0;32m   3808\u001b[0m         \u001b[38;5;28misinstance\u001b[39m(casted_key, abc\u001b[38;5;241m.\u001b[39mIterable)\n\u001b[0;32m   3809\u001b[0m         \u001b[38;5;129;01mand\u001b[39;00m \u001b[38;5;28many\u001b[39m(\u001b[38;5;28misinstance\u001b[39m(x, \u001b[38;5;28mslice\u001b[39m) \u001b[38;5;28;01mfor\u001b[39;00m x \u001b[38;5;129;01min\u001b[39;00m casted_key)\n\u001b[0;32m   3810\u001b[0m     ):\n\u001b[0;32m   3811\u001b[0m         \u001b[38;5;28;01mraise\u001b[39;00m InvalidIndexError(key)\n\u001b[1;32m-> 3812\u001b[0m     \u001b[38;5;28;01mraise\u001b[39;00m \u001b[38;5;167;01mKeyError\u001b[39;00m(key) \u001b[38;5;28;01mfrom\u001b[39;00m \u001b[38;5;21;01merr\u001b[39;00m\n\u001b[0;32m   3813\u001b[0m \u001b[38;5;28;01mexcept\u001b[39;00m \u001b[38;5;167;01mTypeError\u001b[39;00m:\n\u001b[0;32m   3814\u001b[0m     \u001b[38;5;66;03m# If we have a listlike key, _check_indexing_error will raise\u001b[39;00m\n\u001b[0;32m   3815\u001b[0m     \u001b[38;5;66;03m#  InvalidIndexError. Otherwise we fall through and re-raise\u001b[39;00m\n\u001b[0;32m   3816\u001b[0m     \u001b[38;5;66;03m#  the TypeError.\u001b[39;00m\n\u001b[0;32m   3817\u001b[0m     \u001b[38;5;28mself\u001b[39m\u001b[38;5;241m.\u001b[39m_check_indexing_error(key)\n",
      "\u001b[1;31mKeyError\u001b[0m: 'popularity'"
     ]
    }
   ],
   "source": [
    "\n",
    "top_popular = df.nlargest(10, 'popularity')[['title', 'artist', 'popularity']]\n",
    "print(\"Top 10 Most Popular Songs:\")\n",
    "print(top_popular)\n"
   ]
  },
  {
   "cell_type": "markdown",
   "id": "3b189cb7",
   "metadata": {},
   "source": [
    "# Feature Trends by Decade\n",
    "This analysis shows how musical features such as danceability, energy, and valence have changed across decades."
   ]
  },
  {
   "cell_type": "code",
   "execution_count": 14,
   "id": "e47242b4",
   "metadata": {},
   "outputs": [
    {
     "ename": "KeyError",
     "evalue": "'year'",
     "output_type": "error",
     "traceback": [
      "\u001b[1;31m---------------------------------------------------------------------------\u001b[0m",
      "\u001b[1;31mKeyError\u001b[0m                                  Traceback (most recent call last)",
      "File \u001b[1;32mc:\\Users\\sohin\\anaconda3\\Lib\\site-packages\\pandas\\core\\indexes\\base.py:3805\u001b[0m, in \u001b[0;36mIndex.get_loc\u001b[1;34m(self, key)\u001b[0m\n\u001b[0;32m   3804\u001b[0m \u001b[38;5;28;01mtry\u001b[39;00m:\n\u001b[1;32m-> 3805\u001b[0m     \u001b[38;5;28;01mreturn\u001b[39;00m \u001b[38;5;28;43mself\u001b[39;49m\u001b[38;5;241;43m.\u001b[39;49m\u001b[43m_engine\u001b[49m\u001b[38;5;241;43m.\u001b[39;49m\u001b[43mget_loc\u001b[49m\u001b[43m(\u001b[49m\u001b[43mcasted_key\u001b[49m\u001b[43m)\u001b[49m\n\u001b[0;32m   3806\u001b[0m \u001b[38;5;28;01mexcept\u001b[39;00m \u001b[38;5;167;01mKeyError\u001b[39;00m \u001b[38;5;28;01mas\u001b[39;00m err:\n",
      "File \u001b[1;32mindex.pyx:167\u001b[0m, in \u001b[0;36mpandas._libs.index.IndexEngine.get_loc\u001b[1;34m()\u001b[0m\n",
      "File \u001b[1;32mindex.pyx:196\u001b[0m, in \u001b[0;36mpandas._libs.index.IndexEngine.get_loc\u001b[1;34m()\u001b[0m\n",
      "File \u001b[1;32mpandas\\\\_libs\\\\hashtable_class_helper.pxi:7081\u001b[0m, in \u001b[0;36mpandas._libs.hashtable.PyObjectHashTable.get_item\u001b[1;34m()\u001b[0m\n",
      "File \u001b[1;32mpandas\\\\_libs\\\\hashtable_class_helper.pxi:7089\u001b[0m, in \u001b[0;36mpandas._libs.hashtable.PyObjectHashTable.get_item\u001b[1;34m()\u001b[0m\n",
      "\u001b[1;31mKeyError\u001b[0m: 'year'",
      "\nThe above exception was the direct cause of the following exception:\n",
      "\u001b[1;31mKeyError\u001b[0m                                  Traceback (most recent call last)",
      "Cell \u001b[1;32mIn[14], line 1\u001b[0m\n\u001b[1;32m----> 1\u001b[0m df[\u001b[38;5;124m'\u001b[39m\u001b[38;5;124mdecade\u001b[39m\u001b[38;5;124m'\u001b[39m] \u001b[38;5;241m=\u001b[39m (\u001b[43mdf\u001b[49m\u001b[43m[\u001b[49m\u001b[38;5;124;43m'\u001b[39;49m\u001b[38;5;124;43myear\u001b[39;49m\u001b[38;5;124;43m'\u001b[39;49m\u001b[43m]\u001b[49m \u001b[38;5;241m/\u001b[39m\u001b[38;5;241m/\u001b[39m \u001b[38;5;241m10\u001b[39m) \u001b[38;5;241m*\u001b[39m \u001b[38;5;241m10\u001b[39m\n\u001b[0;32m      2\u001b[0m decade_means \u001b[38;5;241m=\u001b[39m df\u001b[38;5;241m.\u001b[39mgroupby(\u001b[38;5;124m'\u001b[39m\u001b[38;5;124mdecade\u001b[39m\u001b[38;5;124m'\u001b[39m)[[\u001b[38;5;124m'\u001b[39m\u001b[38;5;124mdanceability\u001b[39m\u001b[38;5;124m'\u001b[39m, \u001b[38;5;124m'\u001b[39m\u001b[38;5;124menergy\u001b[39m\u001b[38;5;124m'\u001b[39m, \u001b[38;5;124m'\u001b[39m\u001b[38;5;124mvalence\u001b[39m\u001b[38;5;124m'\u001b[39m]]\u001b[38;5;241m.\u001b[39mmean()\n\u001b[0;32m      3\u001b[0m decade_means\u001b[38;5;241m.\u001b[39mplot(marker\u001b[38;5;241m=\u001b[39m\u001b[38;5;124m'\u001b[39m\u001b[38;5;124mo\u001b[39m\u001b[38;5;124m'\u001b[39m, figsize\u001b[38;5;241m=\u001b[39m(\u001b[38;5;241m10\u001b[39m, \u001b[38;5;241m6\u001b[39m), title\u001b[38;5;241m=\u001b[39m\u001b[38;5;124m'\u001b[39m\u001b[38;5;124mMusical Features by Decade\u001b[39m\u001b[38;5;124m'\u001b[39m)\n",
      "File \u001b[1;32mc:\\Users\\sohin\\anaconda3\\Lib\\site-packages\\pandas\\core\\frame.py:4102\u001b[0m, in \u001b[0;36mDataFrame.__getitem__\u001b[1;34m(self, key)\u001b[0m\n\u001b[0;32m   4100\u001b[0m \u001b[38;5;28;01mif\u001b[39;00m \u001b[38;5;28mself\u001b[39m\u001b[38;5;241m.\u001b[39mcolumns\u001b[38;5;241m.\u001b[39mnlevels \u001b[38;5;241m>\u001b[39m \u001b[38;5;241m1\u001b[39m:\n\u001b[0;32m   4101\u001b[0m     \u001b[38;5;28;01mreturn\u001b[39;00m \u001b[38;5;28mself\u001b[39m\u001b[38;5;241m.\u001b[39m_getitem_multilevel(key)\n\u001b[1;32m-> 4102\u001b[0m indexer \u001b[38;5;241m=\u001b[39m \u001b[38;5;28;43mself\u001b[39;49m\u001b[38;5;241;43m.\u001b[39;49m\u001b[43mcolumns\u001b[49m\u001b[38;5;241;43m.\u001b[39;49m\u001b[43mget_loc\u001b[49m\u001b[43m(\u001b[49m\u001b[43mkey\u001b[49m\u001b[43m)\u001b[49m\n\u001b[0;32m   4103\u001b[0m \u001b[38;5;28;01mif\u001b[39;00m is_integer(indexer):\n\u001b[0;32m   4104\u001b[0m     indexer \u001b[38;5;241m=\u001b[39m [indexer]\n",
      "File \u001b[1;32mc:\\Users\\sohin\\anaconda3\\Lib\\site-packages\\pandas\\core\\indexes\\base.py:3812\u001b[0m, in \u001b[0;36mIndex.get_loc\u001b[1;34m(self, key)\u001b[0m\n\u001b[0;32m   3807\u001b[0m     \u001b[38;5;28;01mif\u001b[39;00m \u001b[38;5;28misinstance\u001b[39m(casted_key, \u001b[38;5;28mslice\u001b[39m) \u001b[38;5;129;01mor\u001b[39;00m (\n\u001b[0;32m   3808\u001b[0m         \u001b[38;5;28misinstance\u001b[39m(casted_key, abc\u001b[38;5;241m.\u001b[39mIterable)\n\u001b[0;32m   3809\u001b[0m         \u001b[38;5;129;01mand\u001b[39;00m \u001b[38;5;28many\u001b[39m(\u001b[38;5;28misinstance\u001b[39m(x, \u001b[38;5;28mslice\u001b[39m) \u001b[38;5;28;01mfor\u001b[39;00m x \u001b[38;5;129;01min\u001b[39;00m casted_key)\n\u001b[0;32m   3810\u001b[0m     ):\n\u001b[0;32m   3811\u001b[0m         \u001b[38;5;28;01mraise\u001b[39;00m InvalidIndexError(key)\n\u001b[1;32m-> 3812\u001b[0m     \u001b[38;5;28;01mraise\u001b[39;00m \u001b[38;5;167;01mKeyError\u001b[39;00m(key) \u001b[38;5;28;01mfrom\u001b[39;00m \u001b[38;5;21;01merr\u001b[39;00m\n\u001b[0;32m   3813\u001b[0m \u001b[38;5;28;01mexcept\u001b[39;00m \u001b[38;5;167;01mTypeError\u001b[39;00m:\n\u001b[0;32m   3814\u001b[0m     \u001b[38;5;66;03m# If we have a listlike key, _check_indexing_error will raise\u001b[39;00m\n\u001b[0;32m   3815\u001b[0m     \u001b[38;5;66;03m#  InvalidIndexError. Otherwise we fall through and re-raise\u001b[39;00m\n\u001b[0;32m   3816\u001b[0m     \u001b[38;5;66;03m#  the TypeError.\u001b[39;00m\n\u001b[0;32m   3817\u001b[0m     \u001b[38;5;28mself\u001b[39m\u001b[38;5;241m.\u001b[39m_check_indexing_error(key)\n",
      "\u001b[1;31mKeyError\u001b[0m: 'year'"
     ]
    }
   ],
   "source": [
    "\n",
    "df['decade'] = (df['year'] // 10) * 10\n",
    "decade_means = df.groupby('decade')[['danceability', 'energy', 'valence']].mean()\n",
    "decade_means.plot(marker='o', figsize=(10, 6), title='Musical Features by Decade')\n",
    "plt.xlabel('Decade')\n",
    "plt.ylabel('Average Value')\n",
    "plt.grid(True)\n",
    "plt.tight_layout()\n",
    "plt.show()\n"
   ]
  },
  {
   "cell_type": "markdown",
   "id": "7af66505",
   "metadata": {},
   "source": [
    "# Popularity vs. Tempo\n",
    "A scatterplot showing how tempo relates to popularity, helping identify if faster or slower songs tend to perform better."
   ]
  },
  {
   "cell_type": "code",
   "execution_count": 15,
   "id": "d4d42600",
   "metadata": {},
   "outputs": [
    {
     "ename": "ValueError",
     "evalue": "Could not interpret value `tempo` for `x`. An entry with this name does not appear in `data`.",
     "output_type": "error",
     "traceback": [
      "\u001b[1;31m---------------------------------------------------------------------------\u001b[0m",
      "\u001b[1;31mValueError\u001b[0m                                Traceback (most recent call last)",
      "Cell \u001b[1;32mIn[15], line 2\u001b[0m\n\u001b[0;32m      1\u001b[0m plt\u001b[38;5;241m.\u001b[39mfigure(figsize\u001b[38;5;241m=\u001b[39m(\u001b[38;5;241m10\u001b[39m, \u001b[38;5;241m6\u001b[39m))\n\u001b[1;32m----> 2\u001b[0m \u001b[43msns\u001b[49m\u001b[38;5;241;43m.\u001b[39;49m\u001b[43mscatterplot\u001b[49m\u001b[43m(\u001b[49m\u001b[43mdata\u001b[49m\u001b[38;5;241;43m=\u001b[39;49m\u001b[43mdf\u001b[49m\u001b[43m,\u001b[49m\u001b[43m \u001b[49m\u001b[43mx\u001b[49m\u001b[38;5;241;43m=\u001b[39;49m\u001b[38;5;124;43m'\u001b[39;49m\u001b[38;5;124;43mtempo\u001b[39;49m\u001b[38;5;124;43m'\u001b[39;49m\u001b[43m,\u001b[49m\u001b[43m \u001b[49m\u001b[43my\u001b[49m\u001b[38;5;241;43m=\u001b[39;49m\u001b[38;5;124;43m'\u001b[39;49m\u001b[38;5;124;43mpopularity\u001b[39;49m\u001b[38;5;124;43m'\u001b[39;49m\u001b[43m,\u001b[49m\u001b[43m \u001b[49m\u001b[43malpha\u001b[49m\u001b[38;5;241;43m=\u001b[39;49m\u001b[38;5;241;43m0.6\u001b[39;49m\u001b[43m)\u001b[49m\n\u001b[0;32m      3\u001b[0m plt\u001b[38;5;241m.\u001b[39mtitle(\u001b[38;5;124m'\u001b[39m\u001b[38;5;124mPopularity vs Tempo\u001b[39m\u001b[38;5;124m'\u001b[39m)\n\u001b[0;32m      4\u001b[0m plt\u001b[38;5;241m.\u001b[39mxlabel(\u001b[38;5;124m'\u001b[39m\u001b[38;5;124mTempo\u001b[39m\u001b[38;5;124m'\u001b[39m)\n",
      "File \u001b[1;32mc:\\Users\\sohin\\anaconda3\\Lib\\site-packages\\seaborn\\relational.py:615\u001b[0m, in \u001b[0;36mscatterplot\u001b[1;34m(data, x, y, hue, size, style, palette, hue_order, hue_norm, sizes, size_order, size_norm, markers, style_order, legend, ax, **kwargs)\u001b[0m\n\u001b[0;32m    606\u001b[0m \u001b[38;5;28;01mdef\u001b[39;00m \u001b[38;5;21mscatterplot\u001b[39m(\n\u001b[0;32m    607\u001b[0m     data\u001b[38;5;241m=\u001b[39m\u001b[38;5;28;01mNone\u001b[39;00m, \u001b[38;5;241m*\u001b[39m,\n\u001b[0;32m    608\u001b[0m     x\u001b[38;5;241m=\u001b[39m\u001b[38;5;28;01mNone\u001b[39;00m, y\u001b[38;5;241m=\u001b[39m\u001b[38;5;28;01mNone\u001b[39;00m, hue\u001b[38;5;241m=\u001b[39m\u001b[38;5;28;01mNone\u001b[39;00m, size\u001b[38;5;241m=\u001b[39m\u001b[38;5;28;01mNone\u001b[39;00m, style\u001b[38;5;241m=\u001b[39m\u001b[38;5;28;01mNone\u001b[39;00m,\n\u001b[1;32m   (...)\u001b[0m\n\u001b[0;32m    612\u001b[0m     \u001b[38;5;241m*\u001b[39m\u001b[38;5;241m*\u001b[39mkwargs\n\u001b[0;32m    613\u001b[0m ):\n\u001b[1;32m--> 615\u001b[0m     p \u001b[38;5;241m=\u001b[39m \u001b[43m_ScatterPlotter\u001b[49m\u001b[43m(\u001b[49m\n\u001b[0;32m    616\u001b[0m \u001b[43m        \u001b[49m\u001b[43mdata\u001b[49m\u001b[38;5;241;43m=\u001b[39;49m\u001b[43mdata\u001b[49m\u001b[43m,\u001b[49m\n\u001b[0;32m    617\u001b[0m \u001b[43m        \u001b[49m\u001b[43mvariables\u001b[49m\u001b[38;5;241;43m=\u001b[39;49m\u001b[38;5;28;43mdict\u001b[39;49m\u001b[43m(\u001b[49m\u001b[43mx\u001b[49m\u001b[38;5;241;43m=\u001b[39;49m\u001b[43mx\u001b[49m\u001b[43m,\u001b[49m\u001b[43m \u001b[49m\u001b[43my\u001b[49m\u001b[38;5;241;43m=\u001b[39;49m\u001b[43my\u001b[49m\u001b[43m,\u001b[49m\u001b[43m \u001b[49m\u001b[43mhue\u001b[49m\u001b[38;5;241;43m=\u001b[39;49m\u001b[43mhue\u001b[49m\u001b[43m,\u001b[49m\u001b[43m \u001b[49m\u001b[43msize\u001b[49m\u001b[38;5;241;43m=\u001b[39;49m\u001b[43msize\u001b[49m\u001b[43m,\u001b[49m\u001b[43m \u001b[49m\u001b[43mstyle\u001b[49m\u001b[38;5;241;43m=\u001b[39;49m\u001b[43mstyle\u001b[49m\u001b[43m)\u001b[49m\u001b[43m,\u001b[49m\n\u001b[0;32m    618\u001b[0m \u001b[43m        \u001b[49m\u001b[43mlegend\u001b[49m\u001b[38;5;241;43m=\u001b[39;49m\u001b[43mlegend\u001b[49m\n\u001b[0;32m    619\u001b[0m \u001b[43m    \u001b[49m\u001b[43m)\u001b[49m\n\u001b[0;32m    621\u001b[0m     p\u001b[38;5;241m.\u001b[39mmap_hue(palette\u001b[38;5;241m=\u001b[39mpalette, order\u001b[38;5;241m=\u001b[39mhue_order, norm\u001b[38;5;241m=\u001b[39mhue_norm)\n\u001b[0;32m    622\u001b[0m     p\u001b[38;5;241m.\u001b[39mmap_size(sizes\u001b[38;5;241m=\u001b[39msizes, order\u001b[38;5;241m=\u001b[39msize_order, norm\u001b[38;5;241m=\u001b[39msize_norm)\n",
      "File \u001b[1;32mc:\\Users\\sohin\\anaconda3\\Lib\\site-packages\\seaborn\\relational.py:396\u001b[0m, in \u001b[0;36m_ScatterPlotter.__init__\u001b[1;34m(self, data, variables, legend)\u001b[0m\n\u001b[0;32m    387\u001b[0m \u001b[38;5;28;01mdef\u001b[39;00m \u001b[38;5;21m__init__\u001b[39m(\u001b[38;5;28mself\u001b[39m, \u001b[38;5;241m*\u001b[39m, data\u001b[38;5;241m=\u001b[39m\u001b[38;5;28;01mNone\u001b[39;00m, variables\u001b[38;5;241m=\u001b[39m{}, legend\u001b[38;5;241m=\u001b[39m\u001b[38;5;28;01mNone\u001b[39;00m):\n\u001b[0;32m    388\u001b[0m \n\u001b[0;32m    389\u001b[0m     \u001b[38;5;66;03m# TODO this is messy, we want the mapping to be agnostic about\u001b[39;00m\n\u001b[0;32m    390\u001b[0m     \u001b[38;5;66;03m# the kind of plot to draw, but for the time being we need to set\u001b[39;00m\n\u001b[0;32m    391\u001b[0m     \u001b[38;5;66;03m# this information so the SizeMapping can use it\u001b[39;00m\n\u001b[0;32m    392\u001b[0m     \u001b[38;5;28mself\u001b[39m\u001b[38;5;241m.\u001b[39m_default_size_range \u001b[38;5;241m=\u001b[39m (\n\u001b[0;32m    393\u001b[0m         np\u001b[38;5;241m.\u001b[39mr_[\u001b[38;5;241m.5\u001b[39m, \u001b[38;5;241m2\u001b[39m] \u001b[38;5;241m*\u001b[39m np\u001b[38;5;241m.\u001b[39msquare(mpl\u001b[38;5;241m.\u001b[39mrcParams[\u001b[38;5;124m\"\u001b[39m\u001b[38;5;124mlines.markersize\u001b[39m\u001b[38;5;124m\"\u001b[39m])\n\u001b[0;32m    394\u001b[0m     )\n\u001b[1;32m--> 396\u001b[0m     \u001b[38;5;28;43msuper\u001b[39;49m\u001b[43m(\u001b[49m\u001b[43m)\u001b[49m\u001b[38;5;241;43m.\u001b[39;49m\u001b[38;5;21;43m__init__\u001b[39;49m\u001b[43m(\u001b[49m\u001b[43mdata\u001b[49m\u001b[38;5;241;43m=\u001b[39;49m\u001b[43mdata\u001b[49m\u001b[43m,\u001b[49m\u001b[43m \u001b[49m\u001b[43mvariables\u001b[49m\u001b[38;5;241;43m=\u001b[39;49m\u001b[43mvariables\u001b[49m\u001b[43m)\u001b[49m\n\u001b[0;32m    398\u001b[0m     \u001b[38;5;28mself\u001b[39m\u001b[38;5;241m.\u001b[39mlegend \u001b[38;5;241m=\u001b[39m legend\n",
      "File \u001b[1;32mc:\\Users\\sohin\\anaconda3\\Lib\\site-packages\\seaborn\\_base.py:634\u001b[0m, in \u001b[0;36mVectorPlotter.__init__\u001b[1;34m(self, data, variables)\u001b[0m\n\u001b[0;32m    629\u001b[0m \u001b[38;5;66;03m# var_ordered is relevant only for categorical axis variables, and may\u001b[39;00m\n\u001b[0;32m    630\u001b[0m \u001b[38;5;66;03m# be better handled by an internal axis information object that tracks\u001b[39;00m\n\u001b[0;32m    631\u001b[0m \u001b[38;5;66;03m# such information and is set up by the scale_* methods. The analogous\u001b[39;00m\n\u001b[0;32m    632\u001b[0m \u001b[38;5;66;03m# information for numeric axes would be information about log scales.\u001b[39;00m\n\u001b[0;32m    633\u001b[0m \u001b[38;5;28mself\u001b[39m\u001b[38;5;241m.\u001b[39m_var_ordered \u001b[38;5;241m=\u001b[39m {\u001b[38;5;124m\"\u001b[39m\u001b[38;5;124mx\u001b[39m\u001b[38;5;124m\"\u001b[39m: \u001b[38;5;28;01mFalse\u001b[39;00m, \u001b[38;5;124m\"\u001b[39m\u001b[38;5;124my\u001b[39m\u001b[38;5;124m\"\u001b[39m: \u001b[38;5;28;01mFalse\u001b[39;00m}  \u001b[38;5;66;03m# alt., used DefaultDict\u001b[39;00m\n\u001b[1;32m--> 634\u001b[0m \u001b[38;5;28;43mself\u001b[39;49m\u001b[38;5;241;43m.\u001b[39;49m\u001b[43massign_variables\u001b[49m\u001b[43m(\u001b[49m\u001b[43mdata\u001b[49m\u001b[43m,\u001b[49m\u001b[43m \u001b[49m\u001b[43mvariables\u001b[49m\u001b[43m)\u001b[49m\n\u001b[0;32m    636\u001b[0m \u001b[38;5;66;03m# TODO Lots of tests assume that these are called to initialize the\u001b[39;00m\n\u001b[0;32m    637\u001b[0m \u001b[38;5;66;03m# mappings to default values on class initialization. I'd prefer to\u001b[39;00m\n\u001b[0;32m    638\u001b[0m \u001b[38;5;66;03m# move away from that and only have a mapping when explicitly called.\u001b[39;00m\n\u001b[0;32m    639\u001b[0m \u001b[38;5;28;01mfor\u001b[39;00m var \u001b[38;5;129;01min\u001b[39;00m [\u001b[38;5;124m\"\u001b[39m\u001b[38;5;124mhue\u001b[39m\u001b[38;5;124m\"\u001b[39m, \u001b[38;5;124m\"\u001b[39m\u001b[38;5;124msize\u001b[39m\u001b[38;5;124m\"\u001b[39m, \u001b[38;5;124m\"\u001b[39m\u001b[38;5;124mstyle\u001b[39m\u001b[38;5;124m\"\u001b[39m]:\n",
      "File \u001b[1;32mc:\\Users\\sohin\\anaconda3\\Lib\\site-packages\\seaborn\\_base.py:679\u001b[0m, in \u001b[0;36mVectorPlotter.assign_variables\u001b[1;34m(self, data, variables)\u001b[0m\n\u001b[0;32m    674\u001b[0m \u001b[38;5;28;01melse\u001b[39;00m:\n\u001b[0;32m    675\u001b[0m     \u001b[38;5;66;03m# When dealing with long-form input, use the newer PlotData\u001b[39;00m\n\u001b[0;32m    676\u001b[0m     \u001b[38;5;66;03m# object (internal but introduced for the objects interface)\u001b[39;00m\n\u001b[0;32m    677\u001b[0m     \u001b[38;5;66;03m# to centralize / standardize data consumption logic.\u001b[39;00m\n\u001b[0;32m    678\u001b[0m     \u001b[38;5;28mself\u001b[39m\u001b[38;5;241m.\u001b[39minput_format \u001b[38;5;241m=\u001b[39m \u001b[38;5;124m\"\u001b[39m\u001b[38;5;124mlong\u001b[39m\u001b[38;5;124m\"\u001b[39m\n\u001b[1;32m--> 679\u001b[0m     plot_data \u001b[38;5;241m=\u001b[39m \u001b[43mPlotData\u001b[49m\u001b[43m(\u001b[49m\u001b[43mdata\u001b[49m\u001b[43m,\u001b[49m\u001b[43m \u001b[49m\u001b[43mvariables\u001b[49m\u001b[43m)\u001b[49m\n\u001b[0;32m    680\u001b[0m     frame \u001b[38;5;241m=\u001b[39m plot_data\u001b[38;5;241m.\u001b[39mframe\n\u001b[0;32m    681\u001b[0m     names \u001b[38;5;241m=\u001b[39m plot_data\u001b[38;5;241m.\u001b[39mnames\n",
      "File \u001b[1;32mc:\\Users\\sohin\\anaconda3\\Lib\\site-packages\\seaborn\\_core\\data.py:58\u001b[0m, in \u001b[0;36mPlotData.__init__\u001b[1;34m(self, data, variables)\u001b[0m\n\u001b[0;32m     51\u001b[0m \u001b[38;5;28;01mdef\u001b[39;00m \u001b[38;5;21m__init__\u001b[39m(\n\u001b[0;32m     52\u001b[0m     \u001b[38;5;28mself\u001b[39m,\n\u001b[0;32m     53\u001b[0m     data: DataSource,\n\u001b[0;32m     54\u001b[0m     variables: \u001b[38;5;28mdict\u001b[39m[\u001b[38;5;28mstr\u001b[39m, VariableSpec],\n\u001b[0;32m     55\u001b[0m ):\n\u001b[0;32m     57\u001b[0m     data \u001b[38;5;241m=\u001b[39m handle_data_source(data)\n\u001b[1;32m---> 58\u001b[0m     frame, names, ids \u001b[38;5;241m=\u001b[39m \u001b[38;5;28;43mself\u001b[39;49m\u001b[38;5;241;43m.\u001b[39;49m\u001b[43m_assign_variables\u001b[49m\u001b[43m(\u001b[49m\u001b[43mdata\u001b[49m\u001b[43m,\u001b[49m\u001b[43m \u001b[49m\u001b[43mvariables\u001b[49m\u001b[43m)\u001b[49m\n\u001b[0;32m     60\u001b[0m     \u001b[38;5;28mself\u001b[39m\u001b[38;5;241m.\u001b[39mframe \u001b[38;5;241m=\u001b[39m frame\n\u001b[0;32m     61\u001b[0m     \u001b[38;5;28mself\u001b[39m\u001b[38;5;241m.\u001b[39mnames \u001b[38;5;241m=\u001b[39m names\n",
      "File \u001b[1;32mc:\\Users\\sohin\\anaconda3\\Lib\\site-packages\\seaborn\\_core\\data.py:232\u001b[0m, in \u001b[0;36mPlotData._assign_variables\u001b[1;34m(self, data, variables)\u001b[0m\n\u001b[0;32m    230\u001b[0m     \u001b[38;5;28;01melse\u001b[39;00m:\n\u001b[0;32m    231\u001b[0m         err \u001b[38;5;241m+\u001b[39m\u001b[38;5;241m=\u001b[39m \u001b[38;5;124m\"\u001b[39m\u001b[38;5;124mAn entry with this name does not appear in `data`.\u001b[39m\u001b[38;5;124m\"\u001b[39m\n\u001b[1;32m--> 232\u001b[0m     \u001b[38;5;28;01mraise\u001b[39;00m \u001b[38;5;167;01mValueError\u001b[39;00m(err)\n\u001b[0;32m    234\u001b[0m \u001b[38;5;28;01melse\u001b[39;00m:\n\u001b[0;32m    235\u001b[0m \n\u001b[0;32m    236\u001b[0m     \u001b[38;5;66;03m# Otherwise, assume the value somehow represents data\u001b[39;00m\n\u001b[0;32m    237\u001b[0m \n\u001b[0;32m    238\u001b[0m     \u001b[38;5;66;03m# Ignore empty data structures\u001b[39;00m\n\u001b[0;32m    239\u001b[0m     \u001b[38;5;28;01mif\u001b[39;00m \u001b[38;5;28misinstance\u001b[39m(val, Sized) \u001b[38;5;129;01mand\u001b[39;00m \u001b[38;5;28mlen\u001b[39m(val) \u001b[38;5;241m==\u001b[39m \u001b[38;5;241m0\u001b[39m:\n",
      "\u001b[1;31mValueError\u001b[0m: Could not interpret value `tempo` for `x`. An entry with this name does not appear in `data`."
     ]
    },
    {
     "data": {
      "text/plain": [
       "<Figure size 1000x600 with 0 Axes>"
      ]
     },
     "metadata": {},
     "output_type": "display_data"
    }
   ],
   "source": [
    "\n",
    "plt.figure(figsize=(10, 6))\n",
    "sns.scatterplot(data=df, x='tempo', y='popularity', alpha=0.6)\n",
    "plt.title('Popularity vs Tempo')\n",
    "plt.xlabel('Tempo')\n",
    "plt.ylabel('Popularity')\n",
    "plt.grid(True)\n",
    "plt.tight_layout()\n",
    "plt.show()\n"
   ]
  },
  {
   "cell_type": "code",
   "execution_count": 30,
   "metadata": {},
   "outputs": [
    {
     "data": {
      "image/png": "[encoded data removed]",
      "text/plain": [
       "<Figure size 800x500 with 1 Axes>"
      ]
     },
     "metadata": {},
     "output_type": "display_data"
    },
    {
     "data": {
      "text/html": [
       "<style>#sk-container-id-1 {\n",
       "  /* Definition of color scheme common for light and dark mode */\n",
       "  --sklearn-color-text: black;\n",
       "  --sklearn-color-line: gray;\n",
       "  /* Definition of color scheme for unfitted estimators */\n",
       "  --sklearn-color-unfitted-level-0: #fff5e6;\n",
       "  --sklearn-color-unfitted-level-1: #f6e4d2;\n",
       "  --sklearn-color-unfitted-level-2: #ffe0b3;\n",
       "  --sklearn-color-unfitted-level-3: chocolate;\n",
       "  /* Definition of color scheme for fitted estimators */\n",
       "  --sklearn-color-fitted-level-0: #f0f8ff;\n",
       "  --sklearn-color-fitted-level-1: #d4ebff;\n",
       "  --sklearn-color-fitted-level-2: #b3dbfd;\n",
       "  --sklearn-color-fitted-level-3: cornflowerblue;\n",
       "\n",
       "  /* Specific color for light theme */\n",
       "  --sklearn-color-text-on-default-background: var(--sg-text-color, var(--theme-code-foreground, var(--jp-content-font-color1, black)));\n",
       "  --sklearn-color-background: var(--sg-background-color, var(--theme-background, var(--jp-layout-color0, white)));\n",
       "  --sklearn-color-border-box: var(--sg-text-color, var(--theme-code-foreground, var(--jp-content-font-color1, black)));\n",
       "  --sklearn-color-icon: #696969;\n",
       "\n",
       "  @media (prefers-color-scheme: dark) {\n",
       "    /* Redefinition of color scheme for dark theme */\n",
       "    --sklearn-color-text-on-default-background: var(--sg-text-color, var(--theme-code-foreground, var(--jp-content-font-color1, white)));\n",
       "    --sklearn-color-background: var(--sg-background-color, var(--theme-background, var(--jp-layout-color0, #111)));\n",
       "    --sklearn-color-border-box: var(--sg-text-color, var(--theme-code-foreground, var(--jp-content-font-color1, white)));\n",
       "    --sklearn-color-icon: #878787;\n",
       "  }\n",
       "}\n",
       "\n",
       "#sk-container-id-1 {\n",
       "  color: var(--sklearn-color-text);\n",
       "}\n",
       "\n",
       "#sk-container-id-1 pre {\n",
       "  padding: 0;\n",
       "}\n",
       "\n",
       "#sk-container-id-1 input.sk-hidden--visually {\n",
       "  border: 0;\n",
       "  clip: rect(1px 1px 1px 1px);\n",
       "  clip: rect(1px, 1px, 1px, 1px);\n",
       "  height: 1px;\n",
       "  margin: -1px;\n",
       "  overflow: hidden;\n",
       "  padding: 0;\n",
       "  position: absolute;\n",
       "  width: 1px;\n",
       "}\n",
       "\n",
       "#sk-container-id-1 div.sk-dashed-wrapped {\n",
       "  border: 1px dashed var(--sklearn-color-line);\n",
       "  margin: 0 0.4em 0.5em 0.4em;\n",
       "  box-sizing: border-box;\n",
       "  padding-bottom: 0.4em;\n",
       "  background-color: var(--sklearn-color-background);\n",
       "}\n",
       "\n",
       "#sk-container-id-1 div.sk-container {\n",
       "  /* jupyter's `normalize.less` sets `[hidden] { display: none; }`\n",
       "     but bootstrap.min.css set `[hidden] { display: none !important; }`\n",
       "     so we also need the `!important` here to be able to override the\n",
       "     default hidden behavior on the sphinx rendered scikit-learn.org.\n",
       "     See: https://github.com/scikit-learn/scikit-learn/issues/21755 */\n",
       "  display: inline-block !important;\n",
       "  position: relative;\n",
       "}\n",
       "\n",
       "#sk-container-id-1 div.sk-text-repr-fallback {\n",
       "  display: none;\n",
       "}\n",
       "\n",
       "div.sk-parallel-item,\n",
       "div.sk-serial,\n",
       "div.sk-item {\n",
       "  /* draw centered vertical line to link estimators */\n",
       "  background-image: linear-gradient(var(--sklearn-color-text-on-default-background), var(--sklearn-color-text-on-default-background));\n",
       "  background-size: 2px 100%;\n",
       "  background-repeat: no-repeat;\n",
       "  background-position: center center;\n",
       "}\n",
       "\n",
       "/* Parallel-specific style estimator block */\n",
       "\n",
       "#sk-container-id-1 div.sk-parallel-item::after {\n",
       "  content: \"\";\n",
       "  width: 100%;\n",
       "  border-bottom: 2px solid var(--sklearn-color-text-on-default-background);\n",
       "  flex-grow: 1;\n",
       "}\n",
       "\n",
       "#sk-container-id-1 div.sk-parallel {\n",
       "  display: flex;\n",
       "  align-items: stretch;\n",
       "  justify-content: center;\n",
       "  background-color: var(--sklearn-color-background);\n",
       "  position: relative;\n",
       "}\n",
       "\n",
       "#sk-container-id-1 div.sk-parallel-item {\n",
       "  display: flex;\n",
       "  flex-direction: column;\n",
       "}\n",
       "\n",
       "#sk-container-id-1 div.sk-parallel-item:first-child::after {\n",
       "  align-self: flex-end;\n",
       "  width: 50%;\n",
       "}\n",
       "\n",
       "#sk-container-id-1 div.sk-parallel-item:last-child::after {\n",
       "  align-self: flex-start;\n",
       "  width: 50%;\n",
       "}\n",
       "\n",
       "#sk-container-id-1 div.sk-parallel-item:only-child::after {\n",
       "  width: 0;\n",
       "}\n",
       "\n",
       "/* Serial-specific style estimator block */\n",
       "\n",
       "#sk-container-id-1 div.sk-serial {\n",
       "  display: flex;\n",
       "  flex-direction: column;\n",
       "  align-items: center;\n",
       "  background-color: var(--sklearn-color-background);\n",
       "  padding-right: 1em;\n",
       "  padding-left: 1em;\n",
       "}\n",
       "\n",
       "\n",
       "/* Toggleable style: style used for estimator/Pipeline/ColumnTransformer box that is\n",
       "clickable and can be expanded/collapsed.\n",
       "- Pipeline and ColumnTransformer use this feature and define the default style\n",
       "- Estimators will overwrite some part of the style using the `sk-estimator` class\n",
       "*/\n",
       "\n",
       "/* Pipeline and ColumnTransformer style (default) */\n",
       "\n",
       "#sk-container-id-1 div.sk-toggleable {\n",
       "  /* Default theme specific background. It is overwritten whether we have a\n",
       "  specific estimator or a Pipeline/ColumnTransformer */\n",
       "  background-color: var(--sklearn-color-background);\n",
       "}\n",
       "\n",
       "/* Toggleable label */\n",
       "#sk-container-id-1 label.sk-toggleable__label {\n",
       "  cursor: pointer;\n",
       "  display: block;\n",
       "  width: 100%;\n",
       "  margin-bottom: 0;\n",
       "  padding: 0.5em;\n",
       "  box-sizing: border-box;\n",
       "  text-align: center;\n",
       "}\n",
       "\n",
       "#sk-container-id-1 label.sk-toggleable__label-arrow:before {\n",
       "  /* Arrow on the left of the label */\n",
       "  content: \"▸\";\n",
       "  float: left;\n",
       "  margin-right: 0.25em;\n",
       "  color: var(--sklearn-color-icon);\n",
       "}\n",
       "\n",
       "#sk-container-id-1 label.sk-toggleable__label-arrow:hover:before {\n",
       "  color: var(--sklearn-color-text);\n",
       "}\n",
       "\n",
       "/* Toggleable content - dropdown */\n",
       "\n",
       "#sk-container-id-1 div.sk-toggleable__content {\n",
       "  max-height: 0;\n",
       "  max-width: 0;\n",
       "  overflow: hidden;\n",
       "  text-align: left;\n",
       "  /* unfitted */\n",
       "  background-color: var(--sklearn-color-unfitted-level-0);\n",
       "}\n",
       "\n",
       "#sk-container-id-1 div.sk-toggleable__content.fitted {\n",
       "  /* fitted */\n",
       "  background-color: var(--sklearn-color-fitted-level-0);\n",
       "}\n",
       "\n",
       "#sk-container-id-1 div.sk-toggleable__content pre {\n",
       "  margin: 0.2em;\n",
       "  border-radius: 0.25em;\n",
       "  color: var(--sklearn-color-text);\n",
       "  /* unfitted */\n",
       "  background-color: var(--sklearn-color-unfitted-level-0);\n",
       "}\n",
       "\n",
       "#sk-container-id-1 div.sk-toggleable__content.fitted pre {\n",
       "  /* unfitted */\n",
       "  background-color: var(--sklearn-color-fitted-level-0);\n",
       "}\n",
       "\n",
       "#sk-container-id-1 input.sk-toggleable__control:checked~div.sk-toggleable__content {\n",
       "  /* Expand drop-down */\n",
       "  max-height: 200px;\n",
       "  max-width: 100%;\n",
       "  overflow: auto;\n",
       "}\n",
       "\n",
       "#sk-container-id-1 input.sk-toggleable__control:checked~label.sk-toggleable__label-arrow:before {\n",
       "  content: \"▾\";\n",
       "}\n",
       "\n",
       "/* Pipeline/ColumnTransformer-specific style */\n",
       "\n",
       "#sk-container-id-1 div.sk-label input.sk-toggleable__control:checked~label.sk-toggleable__label {\n",
       "  color: var(--sklearn-color-text);\n",
       "  background-color: var(--sklearn-color-unfitted-level-2);\n",
       "}\n",
       "\n",
       "#sk-container-id-1 div.sk-label.fitted input.sk-toggleable__control:checked~label.sk-toggleable__label {\n",
       "  background-color: var(--sklearn-color-fitted-level-2);\n",
       "}\n",
       "\n",
       "/* Estimator-specific style */\n",
       "\n",
       "/* Colorize estimator box */\n",
       "#sk-container-id-1 div.sk-estimator input.sk-toggleable__control:checked~label.sk-toggleable__label {\n",
       "  /* unfitted */\n",
       "  background-color: var(--sklearn-color-unfitted-level-2);\n",
       "}\n",
       "\n",
       "#sk-container-id-1 div.sk-estimator.fitted input.sk-toggleable__control:checked~label.sk-toggleable__label {\n",
       "  /* fitted */\n",
       "  background-color: var(--sklearn-color-fitted-level-2);\n",
       "}\n",
       "\n",
       "#sk-container-id-1 div.sk-label label.sk-toggleable__label,\n",
       "#sk-container-id-1 div.sk-label label {\n",
       "  /* The background is the default theme color */\n",
       "  color: var(--sklearn-color-text-on-default-background);\n",
       "}\n",
       "\n",
       "/* On hover, darken the color of the background */\n",
       "#sk-container-id-1 div.sk-label:hover label.sk-toggleable__label {\n",
       "  color: var(--sklearn-color-text);\n",
       "  background-color: var(--sklearn-color-unfitted-level-2);\n",
       "}\n",
       "\n",
       "/* Label box, darken color on hover, fitted */\n",
       "#sk-container-id-1 div.sk-label.fitted:hover label.sk-toggleable__label.fitted {\n",
       "  color: var(--sklearn-color-text);\n",
       "  background-color: var(--sklearn-color-fitted-level-2);\n",
       "}\n",
       "\n",
       "/* Estimator label */\n",
       "\n",
       "#sk-container-id-1 div.sk-label label {\n",
       "  font-family: monospace;\n",
       "  font-weight: bold;\n",
       "  display: inline-block;\n",
       "  line-height: 1.2em;\n",
       "}\n",
       "\n",
       "#sk-container-id-1 div.sk-label-container {\n",
       "  text-align: center;\n",
       "}\n",
       "\n",
       "/* Estimator-specific */\n",
       "#sk-container-id-1 div.sk-estimator {\n",
       "  font-family: monospace;\n",
       "  border: 1px dotted var(--sklearn-color-border-box);\n",
       "  border-radius: 0.25em;\n",
       "  box-sizing: border-box;\n",
       "  margin-bottom: 0.5em;\n",
       "  /* unfitted */\n",
       "  background-color: var(--sklearn-color-unfitted-level-0);\n",
       "}\n",
       "\n",
       "#sk-container-id-1 div.sk-estimator.fitted {\n",
       "  /* fitted */\n",
       "  background-color: var(--sklearn-color-fitted-level-0);\n",
       "}\n",
       "\n",
       "/* on hover */\n",
       "#sk-container-id-1 div.sk-estimator:hover {\n",
       "  /* unfitted */\n",
       "  background-color: var(--sklearn-color-unfitted-level-2);\n",
       "}\n",
       "\n",
       "#sk-container-id-1 div.sk-estimator.fitted:hover {\n",
       "  /* fitted */\n",
       "  background-color: var(--sklearn-color-fitted-level-2);\n",
       "}\n",
       "\n",
       "/* Specification for estimator info (e.g. \"i\" and \"?\") */\n",
       "\n",
       "/* Common style for \"i\" and \"?\" */\n",
       "\n",
       ".sk-estimator-doc-link,\n",
       "a:link.sk-estimator-doc-link,\n",
       "a:visited.sk-estimator-doc-link {\n",
       "  float: right;\n",
       "  font-size: smaller;\n",
       "  line-height: 1em;\n",
       "  font-family: monospace;\n",
       "  background-color: var(--sklearn-color-background);\n",
       "  border-radius: 1em;\n",
       "  height: 1em;\n",
       "  width: 1em;\n",
       "  text-decoration: none !important;\n",
       "  margin-left: 1ex;\n",
       "  /* unfitted */\n",
       "  border: var(--sklearn-color-unfitted-level-1) 1pt solid;\n",
       "  color: var(--sklearn-color-unfitted-level-1);\n",
       "}\n",
       "\n",
       ".sk-estimator-doc-link.fitted,\n",
       "a:link.sk-estimator-doc-link.fitted,\n",
       "a:visited.sk-estimator-doc-link.fitted {\n",
       "  /* fitted */\n",
       "  border: var(--sklearn-color-fitted-level-1) 1pt solid;\n",
       "  color: var(--sklearn-color-fitted-level-1);\n",
       "}\n",
       "\n",
       "/* On hover */\n",
       "div.sk-estimator:hover .sk-estimator-doc-link:hover,\n",
       ".sk-estimator-doc-link:hover,\n",
       "div.sk-label-container:hover .sk-estimator-doc-link:hover,\n",
       ".sk-estimator-doc-link:hover {\n",
       "  /* unfitted */\n",
       "  background-color: var(--sklearn-color-unfitted-level-3);\n",
       "  color: var(--sklearn-color-background);\n",
       "  text-decoration: none;\n",
       "}\n",
       "\n",
       "div.sk-estimator.fitted:hover .sk-estimator-doc-link.fitted:hover,\n",
       ".sk-estimator-doc-link.fitted:hover,\n",
       "div.sk-label-container:hover .sk-estimator-doc-link.fitted:hover,\n",
       ".sk-estimator-doc-link.fitted:hover {\n",
       "  /* fitted */\n",
       "  background-color: var(--sklearn-color-fitted-level-3);\n",
       "  color: var(--sklearn-color-background);\n",
       "  text-decoration: none;\n",
       "}\n",
       "\n",
       "/* Span, style for the box shown on hovering the info icon */\n",
       ".sk-estimator-doc-link span {\n",
       "  display: none;\n",
       "  z-index: 9999;\n",
       "  position: relative;\n",
       "  font-weight: normal;\n",
       "  right: .2ex;\n",
       "  padding: .5ex;\n",
       "  margin: .5ex;\n",
       "  width: min-content;\n",
       "  min-width: 20ex;\n",
       "  max-width: 50ex;\n",
       "  color: var(--sklearn-color-text);\n",
       "  box-shadow: 2pt 2pt 4pt #999;\n",
       "  /* unfitted */\n",
       "  background: var(--sklearn-color-unfitted-level-0);\n",
       "  border: .5pt solid var(--sklearn-color-unfitted-level-3);\n",
       "}\n",
       "\n",
       ".sk-estimator-doc-link.fitted span {\n",
       "  /* fitted */\n",
       "  background: var(--sklearn-color-fitted-level-0);\n",
       "  border: var(--sklearn-color-fitted-level-3);\n",
       "}\n",
       "\n",
       ".sk-estimator-doc-link:hover span {\n",
       "  display: block;\n",
       "}\n",
       "\n",
       "/* \"?\"-specific style due to the `<a>` HTML tag */\n",
       "\n",
       "#sk-container-id-1 a.estimator_doc_link {\n",
       "  float: right;\n",
       "  font-size: 1rem;\n",
       "  line-height: 1em;\n",
       "  font-family: monospace;\n",
       "  background-color: var(--sklearn-color-background);\n",
       "  border-radius: 1rem;\n",
       "  height: 1rem;\n",
       "  width: 1rem;\n",
       "  text-decoration: none;\n",
       "  /* unfitted */\n",
       "  color: var(--sklearn-color-unfitted-level-1);\n",
       "  border: var(--sklearn-color-unfitted-level-1) 1pt solid;\n",
       "}\n",
       "\n",
       "#sk-container-id-1 a.estimator_doc_link.fitted {\n",
       "  /* fitted */\n",
       "  border: var(--sklearn-color-fitted-level-1) 1pt solid;\n",
       "  color: var(--sklearn-color-fitted-level-1);\n",
       "}\n",
       "\n",
       "/* On hover */\n",
       "#sk-container-id-1 a.estimator_doc_link:hover {\n",
       "  /* unfitted */\n",
       "  background-color: var(--sklearn-color-unfitted-level-3);\n",
       "  color: var(--sklearn-color-background);\n",
       "  text-decoration: none;\n",
       "}\n",
       "\n",
       "#sk-container-id-1 a.estimator_doc_link.fitted:hover {\n",
       "  /* fitted */\n",
       "  background-color: var(--sklearn-color-fitted-level-3);\n",
       "}\n",
       "</style><div id=\"sk-container-id-1\" class=\"sk-top-container\"><div class=\"sk-text-repr-fallback\"><pre>KMeans(n_clusters=4, random_state=42)</pre><b>In a Jupyter environment, please rerun this cell to show the HTML representation or trust the notebook. <br />On GitHub, the HTML representation is unable to render, please try loading this page with nbviewer.org.</b></div><div class=\"sk-container\" hidden><div class=\"sk-item\"><div class=\"sk-estimator fitted sk-toggleable\"><input class=\"sk-toggleable__control sk-hidden--visually\" id=\"sk-estimator-id-1\" type=\"checkbox\" checked><label for=\"sk-estimator-id-1\" class=\"sk-toggleable__label fitted sk-toggleable__label-arrow fitted\">&nbsp;&nbsp;KMeans<a class=\"sk-estimator-doc-link fitted\" rel=\"noreferrer\" target=\"_blank\" href=\"https://scikit-learn.org/1.4/modules/generated/sklearn.cluster.KMeans.html\">?<span>Documentation for KMeans</span></a><span class=\"sk-estimator-doc-link fitted\">i<span>Fitted</span></span></label><div class=\"sk-toggleable__content fitted\"><pre>KMeans(n_clusters=4, random_state=42)</pre></div> </div></div></div></div>"
      ],
      "text/plain": [
       "KMeans(n_clusters=4, random_state=42)"
      ]
     },
     "execution_count": 30,
     "metadata": {},
     "output_type": "execute_result"
    }
   ],
   "source": [
    "# import os\n",
    "# os.environ[\"LOKY_MAX_CPU_COUNT\"] = \"8\"\n",
    "# os.environ[\"OMP_NUM_THREADS\"] = \"8\" \n",
    "\n",
    "# Importing necessary libraries  \n",
    "from sklearn.preprocessing import StandardScaler\n",
    "from sklearn.preprocessing import LabelEncoder\n",
    "     \n",
    "\n",
    "## kmean clustering\n",
    "from sklearn.cluster import KMeans\n",
    "# Selecting features for clustering\n",
    "features = ['Artist', 'Acousticness', 'Liveness', 'Popularity']\n",
    "\n",
    "df['Artist_encoded'] = LabelEncoder().fit_transform(df['Artist'])\n",
    "features = ['Artist_encoded', 'Acousticness', 'Liveness', 'Popularity']\n",
    "X = df[features].dropna()\n",
    "\n",
    "\n",
    "X = df[features].dropna()\n",
    "# Normalizing the data  \n",
    "scaler = StandardScaler()\n",
    "X_scaled = scaler.fit_transform(X)\n",
    "# Finding the optimal number of clusters using the Elbow method\n",
    "inertia = []\n",
    "for k in range(1, 11):\n",
    "    kmeans = KMeans(n_clusters=k, n_init=10, random_state=42)\n",
    "    kmeans.fit(X_scaled)\n",
    "    inertia.append(kmeans.inertia_)\n",
    "plt.figure(figsize=(8, 5))\n",
    "plt.plot(range(1, 11), inertia, marker='o')\n",
    "plt.title('Elbow Method for Optimal K')\n",
    "plt.xlabel('Number of Clusters (k)')\n",
    "plt.ylabel('Inertia')\n",
    "plt.grid(True)\n",
    "plt.show()\n",
    "# Applying KMeans with the optimal number of clusters\n",
    "optimal_k = 4  # Based on the elbow method\n",
    "kmeans = KMeans(n_clusters=optimal_k, random_state=42)\n",
    "kmeans.fit(X_scaled)\n",
    "\n",
    "\n"
   ]
  },
  {
   "cell_type": "code",
   "execution_count": 32,
   "metadata": {},
   "outputs": [
    {
     "data": {
      "application/vnd.plotly.v1+json": {
       "config": {
        "plotlyServerURL": "https://plot.ly"
       },
       "data": [
        {
         "customdata": [
          [
           "Sunrise"
          ],
          [
           "Black Night"
          ],
          [
           "Clint Eastwood"
          ],
          [
           "The Pretender"
          ],
          [
           "Waitin' On A Sunny Day"
          ],
          [
           "The Road Ahead (Miles Of The Unknown)"
          ],
          [
           "She Will Be Loved"
          ],
          [
           "Knights of Cydonia"
          ],
          [
           "Mr. Brightside"
          ],
          [
           "Without Me"
          ],
          [
           "Love Me Tender"
          ],
          [
           "Seven Nation Army"
          ],
          [
           "Als Het Golft"
          ],
          [
           "I'm going home"
          ],
          [
           "Fluorescent Adolescent"
          ],
          [
           "Zonder Jou"
          ],
          [
           "Speed of Sound"
          ],
          [
           "Uninvited"
          ],
          [
           "Music"
          ],
          [
           "Cry Me a River"
          ],
          [
           "Fix You"
          ],
          [
           "The Cave"
          ],
          [
           "Als De Morgen Is Gekomen"
          ],
          [
           "Somebody Told Me"
          ],
          [
           "Dichterbij Dan Ooit"
          ],
          [
           "Miracle"
          ],
          [
           "Smokers Outside the Hospital Doors"
          ],
          [
           "Cleanin' Out My Closet"
          ],
          [
           "Der Weg"
          ],
          [
           "7 Seconds (feat. Neneh Cherry)"
          ],
          [
           "The Scientist"
          ],
          [
           "Big Log - 2006 Remaster"
          ],
          [
           "Chasing Pavements"
          ],
          [
           "Don't Know Why"
          ],
          [
           "Tears Dry On Their Own"
          ],
          [
           "The Eyes of Jenny"
          ],
          [
           "Iris"
          ],
          [
           "The Saints Are Coming"
          ],
          [
           "All My Life"
          ],
          [
           "De Weg"
          ],
          [
           "Don't Let Me Be Misunderstood"
          ],
          [
           "Traffic - Radio Edit"
          ],
          [
           "Take Me Out"
          ],
          [
           "American Idiot"
          ],
          [
           "Breaking the Habit"
          ],
          [
           "Come Undone"
          ],
          [
           "Sweet Jane"
          ],
          [
           "Run"
          ],
          [
           "You're The First, The Last, My Everything"
          ],
          [
           "The Day After Tomorrow"
          ],
          [
           "Just Breathe"
          ],
          [
           "Dansen Aan Zee"
          ],
          [
           "Goodbye My Lover"
          ],
          [
           "The Unforgiven III"
          ],
          [
           "Hurt"
          ],
          [
           "Grounds for Divorce"
          ],
          [
           "Sometimes You Can't Make It On Your Own"
          ],
          [
           "Listen (From the Motion Picture \"Dreamgirls\")"
          ],
          [
           "I Want It That Way"
          ],
          [
           "Goin To The Run"
          ],
          [
           "De Neus Umhoeg"
          ],
          [
           "Solitary Man"
          ],
          [
           "Smoorverliefd"
          ],
          [
           "Me Gustas Tu"
          ],
          [
           "Kryptonite"
          ],
          [
           "Crazy"
          ],
          [
           "Family Portrait"
          ],
          [
           "In The Army Now"
          ],
          [
           "I Surrender"
          ],
          [
           "Maybe Tomorrow"
          ],
          [
           "Make You Feel My Love"
          ],
          [
           "No One Knows"
          ],
          [
           "Where Do You Go To (My Lovely) - Re-Recorded"
          ],
          [
           "The Wild Rover"
          ],
          [
           "Little Lion Man"
          ],
          [
           "Dirty Diana"
          ],
          [
           "Ne me quitte pas"
          ],
          [
           "Sad Man's Tongue"
          ],
          [
           "Wat Zou Je Doen - Live"
          ],
          [
           "One Day Like This"
          ],
          [
           "Bagagedrager"
          ],
          [
           "Wêr Bisto"
          ],
          [
           "Only Time"
          ],
          [
           "Sorry Seems To Be The Hardest Word"
          ],
          [
           "Self Esteem"
          ],
          [
           "Aanzoek Zonder Ringen"
          ],
          [
           "Modern World"
          ],
          [
           "Rosie"
          ],
          [
           "This Is Not America - 2002 Remaster"
          ],
          [
           "Times Like These"
          ],
          [
           "De Vondeling Van Ameland"
          ],
          [
           "I'm Gonna Be (500 Miles)"
          ],
          [
           "Afscheid Nemen Bestaat Niet"
          ],
          [
           "Blauwe Ruis"
          ],
          [
           "Limburg - Live"
          ],
          [
           "21 Guns"
          ],
          [
           "Valerie (feat. Amy Winehouse) - Version Revisited"
          ],
          [
           "Blaosmuziek"
          ],
          [
           "Binnen"
          ],
          [
           "Motorcycle Emptiness"
          ],
          [
           "In the End"
          ],
          [
           "Halt mich"
          ],
          [
           "Girl"
          ],
          [
           "Trapped - Live at Meadowlands Arena, E. Rutherford, NJ - August 1984"
          ],
          [
           "Ik Wou Dat Ik Jou Was"
          ],
          [
           "Empire State of Mind (Part II) Broken Down"
          ],
          [
           "Numb / Encore"
          ],
          [
           "Ben Ik Te Min"
          ],
          [
           "All Summer Long"
          ],
          [
           "Forever Autumn"
          ],
          [
           "Waiting On the World to Change"
          ],
          [
           "Everybody's Changing"
          ],
          [
           "How to Save a Life"
          ],
          [
           "Bloed, Zweet En Tranen"
          ],
          [
           "Lose Yourself - From \"8 Mile\" Soundtrack"
          ],
          [
           "Europa (Earth's Cry Heaven's Smile)"
          ],
          [
           "Feeling Good"
          ],
          [
           "Harder, Better, Faster, Stronger"
          ],
          [
           "Use Somebody"
          ],
          [
           "Sweet Disposition"
          ],
          [
           "Single Ladies (Put a Ring on It)"
          ],
          [
           "You're the Voice"
          ],
          [
           "Voltooid Verleden Tijd"
          ],
          [
           "Eternal Flame"
          ],
          [
           "Papa Was A Rolling Stone"
          ],
          [
           "Crazy In Love (feat. Jay-Z)"
          ],
          [
           "Best of You"
          ],
          [
           "Daughters"
          ],
          [
           "De wedstrijd"
          ],
          [
           "Papillon"
          ],
          [
           "Sadeness"
          ],
          [
           "Red Mij Niet - Single Edit"
          ],
          [
           "Love Is A Losing Game"
          ],
          [
           "Zij"
          ],
          [
           "Tribute"
          ],
          [
           "You Know I'm No Good"
          ],
          [
           "Talk"
          ],
          [
           "Love Is A Battlefield"
          ],
          [
           "Home"
          ],
          [
           "Sonne"
          ],
          [
           "I Gotta Feeling"
          ],
          [
           "She Sells Sanctuary"
          ],
          [
           "Alie"
          ],
          [
           "Red Red Wine"
          ],
          [
           "A Little Less Conversation - JXL Radio Edit Remix"
          ],
          [
           "Love You More"
          ],
          [
           "Old Man"
          ],
          [
           "Zij Maakt Het Verschil"
          ],
          [
           "I Want To Hold Your Hand - Remastered 2015"
          ],
          [
           "Black Magic Woman"
          ],
          [
           "Set The Fire To The Third Bar"
          ],
          [
           "Ghost Love Score"
          ],
          [
           "Going To A Town"
          ],
          [
           "Is Dit Alles"
          ],
          [
           "A Gentleman's Excuse Me"
          ],
          [
           "God Put a Smile upon Your Face"
          ],
          [
           "Heartbreak Warfare"
          ],
          [
           "Sailing to Philadelphia"
          ],
          [
           "Accidentally In Love"
          ],
          [
           "It's Raining Men"
          ],
          [
           "One Word"
          ],
          [
           "Goodnight Saigon"
          ],
          [
           "Moonlight Shadow"
          ],
          [
           "Zing - Vecht - Huil - Bid - Lach - Werk En Bewonder"
          ],
          [
           "Uprising"
          ],
          [
           "My Immortal"
          ],
          [
           "Feel Like Flying"
          ],
          [
           "Everything"
          ],
          [
           "Hey There Delilah"
          ],
          [
           "Speeltuin"
          ],
          [
           "Comptine d'un autre été, l'après-midi"
          ],
          [
           "Sweet Goodbyes"
          ],
          [
           "The Man Who Can't Be Moved"
          ],
          [
           "Free Fallin' - Live at the Nokia Theatre, Los Angeles, CA - December 2007"
          ],
          [
           "Halo"
          ],
          [
           "Hollereer"
          ],
          [
           "Hier"
          ],
          [
           "Ice Queen"
          ],
          [
           "Another 45 Miles"
          ],
          [
           "Like a Hurricane - 2003 Remaster"
          ],
          [
           "Father & Friend"
          ],
          [
           "(I've Had) The Time of My Life - From \"Dirty Dancing\" Soundtrack"
          ],
          [
           "The Blower's Daughter"
          ],
          [
           "Magnificent"
          ],
          [
           "Virtual Insanity - Remastered"
          ],
          [
           "Belle Hélène"
          ],
          [
           "Go With The Flow"
          ],
          [
           "Sound Of The Screameng Day"
          ],
          [
           "Plug in Baby"
          ],
          [
           "Heavy Cross"
          ],
          [
           "Nederwiet"
          ],
          [
           "Heart Of Glass"
          ],
          [
           "The Real Slim Shady"
          ],
          [
           "Stuck In A Moment You Can't Get Out Of"
          ],
          [
           "Tumble and Fall"
          ],
          [
           "Les lacs du Connemara"
          ],
          [
           "Hier Kom Ik Weg"
          ],
          [
           "Starlight"
          ],
          [
           "Dakota"
          ],
          [
           "Time To Say Goodbye (Con Te Partirò)"
          ],
          [
           "Green Eyes"
          ],
          [
           "Silence (feat. Sarah McLachlan) - DJ Tiësto's In Search of Sunrise Edit"
          ],
          [
           "De Kapitein Deel II"
          ],
          [
           "Supermassive Black Hole"
          ],
          [
           "Pak Maar M'n Hand"
          ],
          [
           "De Bom"
          ],
          [
           "Bombay"
          ],
          [
           "Mary Jane's Last Dance"
          ],
          [
           "Oerend Hard"
          ],
          [
           "Society"
          ],
          [
           "White Flag"
          ],
          [
           "Heaven Must Be Missing An Angel - Pt. 1"
          ],
          [
           "Wake Me up When September Ends"
          ],
          [
           "Can't Stop"
          ],
          [
           "Driving Home for Christmas"
          ],
          [
           "Mutter"
          ],
          [
           "Pa"
          ],
          [
           "Blauw"
          ],
          [
           "Spicks And Specks"
          ],
          [
           "Stan"
          ],
          [
           "Beautiful"
          ],
          [
           "Gravity"
          ],
          [
           "Leave the Light On"
          ],
          [
           "Ruthless Queen"
          ],
          [
           "Everlong - Acoustic Version"
          ],
          [
           "Here Without You"
          ],
          [
           "One"
          ],
          [
           "Mijn Houten Hart"
          ],
          [
           "Mad World (Feat. Michael Andrews)"
          ],
          [
           "Sinds 1 Dag Of 2 (32 Jaar)"
          ],
          [
           "Feeling Good"
          ],
          [
           "The Wall Street Shuffle"
          ],
          [
           "Song 2"
          ],
          [
           "I Would Stay"
          ],
          [
           "Piano Man"
          ],
          [
           "Fireflies"
          ],
          [
           "Lost"
          ],
          [
           "Woman"
          ],
          [
           "Where Is The Love?"
          ],
          [
           "Yellow"
          ],
          [
           "This Is The Life"
          ],
          [
           "Wicked Game"
          ],
          [
           "Breakeven"
          ],
          [
           "Not An Addict"
          ],
          [
           "So Incredible"
          ],
          [
           "Mr Rock & Roll"
          ],
          [
           "Will You Be There - Single Version"
          ],
          [
           "Vlinder"
          ],
          [
           "Cambodia"
          ],
          [
           "Back To Black"
          ],
          [
           "Dochters"
          ],
          [
           "Hocus Pocus"
          ],
          [
           "Mensch"
          ],
          [
           "Amsterdam"
          ],
          [
           "Time Is Running Out"
          ],
          [
           "Rain Down on Me"
          ],
          [
           "Denis"
          ],
          [
           "Hometown Glory"
          ],
          [
           "Live And Let Die - Live"
          ],
          [
           "I Still Cry"
          ],
          [
           "Ren Lenny Ren"
          ],
          [
           "In My Place"
          ],
          [
           "Numb"
          ],
          [
           "Slow Dancing in a Burning Room"
          ],
          [
           "Empire State Of Mind"
          ],
          [
           "Drops of Jupiter"
          ],
          [
           "Omarm"
          ],
          [
           "(What A) Wonderful World"
          ],
          [
           "Teardrops"
          ],
          [
           "The Rising"
          ],
          [
           "Snow (Hey Oh)"
          ],
          [
           "I Don't Wanna Hurt"
          ],
          [
           "Ordinary People"
          ],
          [
           "Iedereen Is Van De Wereld"
          ],
          [
           "Gold"
          ],
          [
           "All Night Long (All Night) - Single Version"
          ],
          [
           "Can't Stop Loving You - 2016 Remaster"
          ],
          [
           "City Of Blinding Lights"
          ],
          [
           "Munich"
          ],
          [
           "Hey Ya!"
          ],
          [
           "There Must Be an Angel (Playing with My Heart)"
          ],
          [
           "Laat Me / Vivre - Lange Versie"
          ],
          [
           "Watskeburt?!"
          ],
          [
           "Feel"
          ],
          [
           "Lady Jane - (Original Single Mono Version)"
          ],
          [
           "La Isla Bonita"
          ],
          [
           "Go Like Elijah"
          ],
          [
           "Chop Suey!"
          ],
          [
           "Sorry - (Live in Tivoli)"
          ],
          [
           "Black or White - Single Version"
          ],
          [
           "Shut Your Eyes"
          ],
          [
           "Ironic"
          ],
          [
           "I Bet You Look Good On The Dancefloor"
          ],
          [
           "Hurt"
          ],
          [
           "Vogue"
          ],
          [
           "If I Were a Boy"
          ],
          [
           "Dyna-Mite"
          ],
          [
           "Une Belle Histoire (Een Mooi Verhaal)"
          ],
          [
           "Sandstorm - Radio Edit"
          ],
          [
           "Right Next Door (Because Of Me)"
          ],
          [
           "Hald Mich 'S Vas"
          ],
          [
           "Like a Prayer"
          ],
          [
           "Rockin' All Over The World"
          ],
          [
           "Blue Hotel"
          ],
          [
           "Dear Mr. President"
          ],
          [
           "Stiekem Gedanst"
          ],
          [
           "Human"
          ],
          [
           "Lady Madonna - Remastered 2015"
          ],
          [
           "Both Sides Now"
          ],
          [
           "God Is a DJ"
          ],
          [
           "Viva La Vida"
          ],
          [
           "Kids"
          ],
          [
           "Bend & Break"
          ],
          [
           "We Can Work It Out - Remastered 2015"
          ],
          [
           "Sing for Absolution"
          ],
          [
           "Superstition - Single Version"
          ],
          [
           "Vertigo"
          ],
          [
           "By the Way"
          ],
          [
           "Hey Jude"
          ],
          [
           "November"
          ],
          [
           "Geef Mij Je Angst"
          ],
          [
           "Stuck In The Middle With You"
          ],
          [
           "Het Regent Zonnestralen"
          ],
          [
           "Violet Hill"
          ],
          [
           "Dog Days Are Over"
          ],
          [
           "Beautiful Day"
          ],
          [
           "Major Tom"
          ],
          [
           "An End Has a Start"
          ],
          [
           "Lost!"
          ],
          [
           "What It Is"
          ],
          [
           "Blue Monday - 2016 Remaster"
          ],
          [
           "Behind Blue Eyes"
          ],
          [
           "Rehab"
          ],
          [
           "Bird of Paradise"
          ],
          [
           "I'm Yours"
          ],
          [
           "Onderweg"
          ],
          [
           "Mr. Bojangles - Single Version"
          ],
          [
           "Unwritten"
          ],
          [
           "Resistance"
          ],
          [
           "Bedshaped"
          ],
          [
           "Mia"
          ],
          [
           "You Oughta Know"
          ],
          [
           "Overcome"
          ],
          [
           "Stand My Ground"
          ],
          [
           "Chasing Cars"
          ],
          [
           "Dani California"
          ],
          [
           "Unfinished Sympathy"
          ],
          [
           "Nine Million Bicycles"
          ],
          [
           "You're Beautiful"
          ],
          [
           "It's My Life"
          ],
          [
           "Politik"
          ],
          [
           "Mooie Dag"
          ],
          [
           "In Nije Dei"
          ],
          [
           "Sex on Fire"
          ],
          [
           "Hallelujah"
          ],
          [
           "Somewhere Only We Know"
          ],
          [
           "Sunrise"
          ],
          [
           "How You Remind Me"
          ],
          [
           "When You Say Nothing At All"
          ],
          [
           "Hard Sun"
          ],
          [
           "Belfast Child"
          ],
          [
           "Feel Good Inc."
          ],
          [
           "Alles Is Liefde"
          ],
          [
           "Jerusalem"
          ],
          [
           "Mr Bojangles"
          ],
          [
           "Tranen Gelachen"
          ],
          [
           "When The Sun Goes Down"
          ],
          [
           "Frozen"
          ],
          [
           "The Racing Rats"
          ],
          [
           "Poker Face"
          ],
          [
           "Life in Technicolor ii"
          ],
          [
           "One"
          ],
          [
           "Ruby"
          ],
          [
           "Het Land Van"
          ],
          [
           "Bad Romance"
          ],
          [
           "Elevation"
          ],
          [
           "Trouble"
          ],
          [
           "De Peel In Brand"
          ],
          [
           "Black Betty"
          ],
          [
           "Wrong"
          ],
          [
           "Never Be Clever"
          ],
          [
           "Undisclosed Desires"
          ],
          [
           "Auto Vliegtuug"
          ],
          [
           "Meer Dan Een Ander"
          ],
          [
           "Brabant"
          ],
          [
           "Mother Earth"
          ],
          [
           "One More Time"
          ],
          [
           "(You're The) Devil in Disguise"
          ],
          [
           "TRUE - Single Edit"
          ],
          [
           "Make It Wit Chu"
          ],
          [
           "Bring Me To Life"
          ],
          [
           "Clocks"
          ],
          [
           "Farewell To The Fairground"
          ],
          [
           "Bliss"
          ],
          [
           "Kijk Omhoog"
          ],
          [
           "9 Crimes"
          ],
          [
           "Working On a Dream"
          ],
          [
           "Nutbush City Limits"
          ],
          [
           "Do They Know It's Christmas? - 1984 Version"
          ],
          [
           "Changes"
          ],
          [
           "Mag Ik Dan Bij Jou"
          ],
          [
           "Sterrenstof"
          ],
          [
           "Love Will Tear Us Apart - 2010 Remaster"
          ],
          [
           "Mag Het Licht Uit"
          ],
          [
           "Why Tell Me Why"
          ],
          [
           "Wonderful Days"
          ],
          [
           "Dat Komt Door Jou"
          ],
          [
           "Don't Give up the Fight"
          ],
          [
           "I Follow Rivers - Live @ Giel!"
          ],
          [
           "Liverpool Rain"
          ],
          [
           "No Mercy"
          ],
          [
           "Peter Gunn Theme"
          ],
          [
           "Alors on danse"
          ],
          [
           "The Eve of the War"
          ],
          [
           "A Night Like This"
          ],
          [
           "Raise Your Glass"
          ],
          [
           "Verdammt ich lieb dich - Remastered"
          ],
          [
           "Christmas Lights"
          ],
          [
           "The Promise You Made"
          ],
          [
           "Back Home"
          ],
          [
           "Times Are Changing"
          ],
          [
           "Proosten"
          ],
          [
           "Just the Way You Are"
          ],
          [
           "Need You Now"
          ],
          [
           "Man Down"
          ],
          [
           "Pyro"
          ],
          [
           "You Got It"
          ],
          [
           "Atmosphere - 2010 Remaster"
          ],
          [
           "Grenade"
          ],
          [
           "Have You Ever Been Mellow"
          ],
          [
           "Back Down South"
          ],
          [
           "Riverside"
          ],
          [
           "Hold On Tight"
          ],
          [
           "Someone Like You"
          ],
          [
           "Set Fire to the Rain"
          ],
          [
           "Rainbow In The Sky - K & A's Radio Blast"
          ],
          [
           "Levels"
          ],
          [
           "Somebody That I Used To Know"
          ],
          [
           "Paradise"
          ],
          [
           "Rood"
          ],
          [
           "A Boy Named Sue (Live)"
          ],
          [
           "Still Loving You"
          ],
          [
           "Little Black Submarines"
          ],
          [
           "Walk"
          ],
          [
           "The A Team"
          ],
          [
           "kom terug"
          ],
          [
           "Prachtig mooie dag"
          ],
          [
           "lippy kids"
          ],
          [
           "Titanium (feat. Sia)"
          ],
          [
           "Faster"
          ],
          [
           "Lonely Boy"
          ],
          [
           "Turning Tables"
          ],
          [
           "Luv U More - K&A's Radio blast"
          ],
          [
           "Kan Ik Iets Voor Je Doen"
          ],
          [
           "Driver's Seat"
          ],
          [
           "Zing Voor Me"
          ],
          [
           "Every Teardrop Is a Waterfall"
          ],
          [
           "Waarom Nou Jij"
          ],
          [
           "Mijn Vlakke Land"
          ],
          [
           "Rumour Has It"
          ],
          [
           "Keep Your Head Up"
          ],
          [
           "Pumped Up Kicks"
          ],
          [
           "Happiness"
          ],
          [
           "Give Me Love"
          ],
          [
           "Gold on the Ceiling"
          ],
          [
           "Ni**as In Paris"
          ],
          [
           "Run the World (Girls)"
          ],
          [
           "I Won' T Let You Down"
          ],
          [
           "Love On Top"
          ],
          [
           "Lego House"
          ],
          [
           "Skinny Love"
          ],
          [
           "Dust Bowl"
          ],
          [
           "Damn Those Eyes"
          ],
          [
           "These Days"
          ],
          [
           "Original Sin"
          ],
          [
           "Terug Naar De Kust"
          ],
          [
           "Georgia on My Mind"
          ],
          [
           "Charlie Brown"
          ],
          [
           "I've Just Lost Somebody"
          ],
          [
           "Skyfall - Full Length"
          ],
          [
           "Zo Stil"
          ],
          [
           "Holiday In Spain"
          ],
          [
           "Radioactive"
          ],
          [
           "Video Games - Remastered"
          ],
          [
           "Demons"
          ],
          [
           "She"
          ],
          [
           "Just Give Me a Reason (feat. Nate Ruess)"
          ],
          [
           "Try"
          ],
          [
           "I Will Wait"
          ],
          [
           "Home Again"
          ],
          [
           "Tubular Bells"
          ],
          [
           "Winter"
          ],
          [
           "Droomland"
          ],
          [
           "Wat Zou Je Doen?"
          ],
          [
           "Madness"
          ],
          [
           "Sovereign Light Café"
          ],
          [
           "Can't Hold Us - feat. Ray Dalton"
          ],
          [
           "Lover of the Light"
          ],
          [
           "San Quentin"
          ],
          [
           "On Top Of The World"
          ],
          [
           "Flappie"
          ],
          [
           "Home Again"
          ],
          [
           "If You Could See Me Now"
          ],
          [
           "Hall of Fame"
          ],
          [
           "Dodenrit"
          ],
          [
           "When I Was Your Man"
          ],
          [
           "I Won't Give Up"
          ],
          [
           "Slapeloze Nachten"
          ],
          [
           "One Moment in Time"
          ],
          [
           "Zaterdag"
          ],
          [
           "Babel"
          ],
          [
           "Hopeless Wanderer"
          ],
          [
           "Follow the Sun"
          ],
          [
           "Later Als Ik Groter Ben"
          ],
          [
           "Clown"
          ],
          [
           "Stay - Album Version (Edited)"
          ],
          [
           "Diamonds"
          ],
          [
           "It's Time"
          ],
          [
           "Little Talks"
          ],
          [
           "Euphoria"
          ],
          [
           "Oceaan"
          ],
          [
           "Lola Montez"
          ],
          [
           "Wake Me Up"
          ],
          [
           "Formidable"
          ],
          [
           "Do I Wanna Know?"
          ],
          [
           "Another Love"
          ],
          [
           "Hey Brother"
          ],
          [
           "I See Fire"
          ],
          [
           "This Is What It Feels Like"
          ],
          [
           "All of Me"
          ],
          [
           "Dansen Op De Vulkaan"
          ],
          [
           "Witch Doctor"
          ],
          [
           "Diamonds"
          ],
          [
           "Let Her Go"
          ],
          [
           "Papaoutai"
          ],
          [
           "Strong"
          ],
          [
           "Layla"
          ],
          [
           "Pompeii"
          ],
          [
           "Waves"
          ],
          [
           "Get Lucky (feat. Pharrell Williams & Nile Rodgers) - Radio Edit"
          ],
          [
           "All I Want"
          ],
          [
           "Addicted To You"
          ],
          [
           "Animals"
          ],
          [
           "Just Say Yes"
          ],
          [
           "Watermensen"
          ],
          [
           "Sky and Sand"
          ],
          [
           "The Monster"
          ],
          [
           "Mirrors"
          ],
          [
           "Story of My Life"
          ],
          [
           "Royals"
          ],
          [
           "tous les mêmes"
          ],
          [
           "Mijn Van Straat Geredde Roos"
          ],
          [
           "Love You Like I Love Myself"
          ],
          [
           "I Sat By The Ocean"
          ],
          [
           "Everybody (Backstreet's Back) - Radio Edit"
          ],
          [
           "A Ton of Love"
          ],
          [
           "Foolish Games"
          ],
          [
           "Grow Old with Me"
          ],
          [
           "Things We Lost In The Fire"
          ],
          [
           "Blurred Lines"
          ],
          [
           "The Road To Mandalay"
          ],
          [
           "Iron Sky"
          ],
          [
           "A Sky Full of Stars"
          ],
          [
           "Rolling In The Deep"
          ],
          [
           "Streets"
          ],
          [
           "Thinking out Loud"
          ],
          [
           "Take Me to Church"
          ],
          [
           "Une belle histoire"
          ],
          [
           "In Your Arms"
          ],
          [
           "Born Slippy (Nuxx)"
          ],
          [
           "War"
          ],
          [
           "Op 't platteland"
          ],
          [
           "Happy - From \"Despicable Me 2\""
          ],
          [
           "Calm After The Storm"
          ],
          [
           "Riddles"
          ],
          [
           "Under The Pressure"
          ],
          [
           "Magic"
          ],
          [
           "Photograph"
          ],
          [
           "All For Nothing"
          ],
          [
           "My Silver Lining"
          ],
          [
           "Zandloper"
          ],
          [
           "Home"
          ],
          [
           "Red Eyes"
          ],
          [
           "L'amour Toujours (Small Mix)"
          ],
          [
           "See Me, Feel Me - Single Version"
          ],
          [
           "Hemel Valt"
          ],
          [
           "Glycerine"
          ],
          [
           "Wit Licht"
          ],
          [
           "Yellow Submarine"
          ],
          [
           "California Love"
          ],
          [
           "Superheroes"
          ],
          [
           "Stay With Me"
          ],
          [
           "Shake It Off"
          ],
          [
           "Looking Too Closely"
          ],
          [
           "No Good in Goodbye"
          ],
          [
           "Counting Stars"
          ],
          [
           "Time After Time"
          ],
          [
           "Sexy Als Ik Dans"
          ],
          [
           "Done With It"
          ],
          [
           "Love Never Felt So Good"
          ],
          [
           "Shut Up and Dance"
          ],
          [
           "Nothing Really Matters"
          ],
          [
           "Promises of No Man's Land"
          ],
          [
           "Let It Go"
          ],
          [
           "The Sound of Silence"
          ],
          [
           "Het Dorp - Live"
          ],
          [
           "Psycho"
          ],
          [
           "Élan"
          ],
          [
           "Dat Ik Je Mis"
          ],
          [
           "Heading Up High"
          ],
          [
           "Zeg Maar Niets Meer - Remastered"
          ],
          [
           "Chandelier"
          ],
          [
           "Uptown Funk"
          ],
          [
           "Birds"
          ],
          [
           "Michel"
          ],
          [
           "Let It Happen"
          ],
          [
           "Everglow"
          ],
          [
           "The Less I Know The Better"
          ],
          [
           "Ordinary Love"
          ],
          [
           "Stressed Out"
          ],
          [
           "For Bitter Or Worse"
          ],
          [
           "All I Need - Edit"
          ],
          [
           "Hymn for the Weekend"
          ],
          [
           "Adventure of a Lifetime"
          ],
          [
           "Three Days In A Row"
          ],
          [
           "Moondance"
          ],
          [
           "R U Kiddin' Me"
          ],
          [
           "Theme From New York, New York"
          ],
          [
           "Hold Me"
          ],
          [
           "Budapest"
          ],
          [
           "Shoes of Lightning"
          ],
          [
           "Mercy"
          ],
          [
           "Tennessee Whiskey"
          ],
          [
           "Oxygene, Pt. 4"
          ],
          [
           "A Head Full of Dreams"
          ],
          [
           "We Come 1 - Radio Edit"
          ],
          [
           "Forever Man - 2015 Remaster"
          ],
          [
           "Down Man"
          ],
          [
           "Liquid Spirit - Claptone Remix"
          ],
          [
           "Living Doll - 2003 Remaster"
          ],
          [
           "Ocean of Night"
          ],
          [
           "Be the One"
          ],
          [
           "Up&Up"
          ],
          [
           "Ship To Wreck"
          ],
          [
           "Love Yourself"
          ],
          [
           "Happy Xmas (War Is Over)"
          ],
          [
           "Sorry"
          ],
          [
           "Cold Little Heart"
          ],
          [
           "Barcelona"
          ],
          [
           "Leef"
          ],
          [
           "Hello"
          ],
          [
           "Against All Odds (Take a Look at Me Now) - 2016 Remaster"
          ],
          [
           "Treur Niet (Ode Aan Het Leven)"
          ],
          [
           "When We Were Young"
          ],
          [
           "Do I Ever"
          ],
          [
           "CAN'T STOP THE FEELING! (Original Song from DreamWorks Animation's \"TROLLS\")"
          ],
          [
           "Whatever You Want"
          ],
          [
           "Lazarus"
          ],
          [
           "Million Years Ago"
          ],
          [
           "Dark Necessities"
          ],
          [
           "You Want It Darker"
          ],
          [
           "Bridges"
          ],
          [
           "Once Upon a Time in the West - Main Theme"
          ],
          [
           "Mooi"
          ],
          [
           "I Just Can't Help Believin'"
          ],
          [
           "Love & Hate"
          ],
          [
           "New Gold Dream (81/82/83/84)"
          ],
          [
           "Disco Inferno"
          ],
          [
           "Someone Somewhere (In Summertime)"
          ],
          [
           "24K Magic"
          ],
          [
           "Blackstar"
          ],
          [
           "Water Under the Bridge"
          ],
          [
           "All I Ask"
          ],
          [
           "The Life I Live"
          ],
          [
           "We All Stand Together - Remastered 2016"
          ],
          [
           "Heathens"
          ],
          [
           "Jacob’s Song"
          ],
          [
           "Way Down We Go"
          ],
          [
           "7 Years"
          ],
          [
           "Forbidden Colours"
          ],
          [
           "The Book Of Love"
          ],
          [
           "Zoutelande - feat. Geike"
          ],
          [
           "Pokémon Theme-New Studio Recording"
          ],
          [
           "Perfect"
          ],
          [
           "Thriller"
          ],
          [
           "Boulevard of Broken Dreams"
          ],
          [
           "What About Us"
          ],
          [
           "Shape of You"
          ],
          [
           "Believer"
          ],
          [
           "Human"
          ],
          [
           "Het het nog nooit zo donker west"
          ],
          [
           "Castle on the Hill"
          ],
          [
           "Sign of the Times"
          ],
          [
           "In the Blood"
          ],
          [
           "Nao ’t Zuuje"
          ],
          [
           "Roll Over Lay Down - Live At The Kursaal, Southend / 1975"
          ],
          [
           "Whatever It Takes"
          ],
          [
           "Amigo"
          ],
          [
           "Iederene Hef Een Reden"
          ],
          [
           "Everything Now"
          ],
          [
           "Sorry"
          ],
          [
           "One More Light"
          ],
          [
           "Through the Barricades - Remastered"
          ],
          [
           "Freedom! '90 - Remastered"
          ],
          [
           "Amsterdam"
          ],
          [
           "Something Just Like This"
          ],
          [
           "Thunder"
          ],
          [
           "Thinking Of A Place"
          ],
          [
           "Happier"
          ],
          [
           "Galway Girl"
          ],
          [
           "Sunny Days"
          ],
          [
           "Supermarket Flowers"
          ],
          [
           "Holiday"
          ],
          [
           "Max"
          ],
          [
           "Rapper's Delight"
          ],
          [
           "Pain"
          ],
          [
           "Love On The Rocks"
          ],
          [
           "Tuesday Afternoon (Forever Afternoon)"
          ],
          [
           "Magnificent (She Says)"
          ],
          [
           "Nicotine"
          ],
          [
           "Homesick"
          ],
          [
           "Beautiful Trauma"
          ],
          [
           "World Gone Mad"
          ],
          [
           "Leave a Light On"
          ],
          [
           "Skin"
          ],
          [
           "Lost on You"
          ],
          [
           "Shallow"
          ],
          [
           "Kleine Jongen"
          ],
          [
           "Duurt Te Lang"
          ],
          [
           "I Want To Break Free"
          ],
          [
           "September"
          ],
          [
           "Voor Haar"
          ],
          [
           "Testament"
          ],
          [
           "Atemlos durch die Nacht"
          ],
          [
           "Zij Gelooft In Mij"
          ],
          [
           "Verdronken Vlinder"
          ],
          [
           "Als Het Avond Is"
          ],
          [
           "De Vlieger"
          ],
          [
           "Geef Mij Je Angst"
          ],
          [
           "Natural"
          ],
          [
           "IJskoud"
          ],
          [
           "Welterusten Mijnheer De President"
          ],
          [
           "Jimmy"
          ],
          [
           "Bad Liar"
          ],
          [
           "Sammy"
          ],
          [
           "High Hopes"
          ],
          [
           "Het Land Van Maas En Waal"
          ],
          [
           "Shotgun"
          ],
          [
           "New Light"
          ],
          [
           "You Say"
          ],
          [
           "Een Beetje Verliefd"
          ],
          [
           "Someone You Loved"
          ],
          [
           "Banger Hart - Radio Mix"
          ],
          [
           "Malle Babbe"
          ],
          [
           "Vluchten Kan Niet Meer"
          ],
          [
           "Faded"
          ],
          [
           "High On Life (feat. Bonn)"
          ],
          [
           "Het Is Koud Zonder Jou"
          ],
          [
           "N Vriend"
          ],
          [
           "Always Remember Us This Way"
          ],
          [
           "Een Meisje Van Zestien"
          ],
          [
           "Why Don't You Do Right"
          ],
          [
           "De Zon Op"
          ],
          [
           "Youngblood"
          ],
          [
           "Prikkebeen"
          ],
          [
           "Outlaw In 'Em"
          ],
          [
           "Als De Rook Om Je Hoofd Is Verdwenen"
          ],
          [
           "Skandal im Sperrbezirk"
          ],
          [
           "Pain and Misery"
          ],
          [
           "I Do"
          ],
          [
           "Het Laatste Rondje - Remastered"
          ],
          [
           "Guiding Light"
          ],
          [
           "Havana (feat. Young Thug)"
          ],
          [
           "Hou Vol Hou Vast"
          ],
          [
           "One Kiss (with Dua Lipa)"
          ],
          [
           "Nothing Breaks Like a Heart (feat. Miley Cyrus)"
          ],
          [
           "Lay Your Weapons Down"
          ],
          [
           "In My Blood"
          ],
          [
           "Roller Coaster"
          ],
          [
           "Arcade"
          ],
          [
           "A Whiter Shade of Pale - Original Single Version"
          ],
          [
           "Don't You (Forget About Me)"
          ],
          [
           "The Load-Out - Remastered"
          ],
          [
           "Stay - Remastered"
          ],
          [
           "Last Christmas"
          ],
          [
           "Time To Give"
          ],
          [
           "bad guy"
          ],
          [
           "Memories"
          ],
          [
           "Love Like Blood"
          ],
          [
           "Reünie"
          ],
          [
           "About A Girl - Live Version"
          ],
          [
           "DEUTSCHLAND"
          ],
          [
           "Phantom Of The Opera"
          ],
          [
           "Dance Monkey"
          ],
          [
           "Blauwe Dag"
          ],
          [
           "Homburg - Single Version - 2009 Remaster - Mono"
          ],
          [
           "Uncharted"
          ],
          [
           "Despacito"
          ],
          [
           "Dancing On My Own"
          ],
          [
           "Child in Time"
          ],
          [
           "Let It Be - Remastered 2009"
          ],
          [
           "Bridge Over Troubled Water"
          ],
          [
           "Paranoid - 2016 Remaster"
          ],
          [
           "Have You Ever Seen The Rain"
          ],
          [
           "Your Song"
          ],
          [
           "The Boxer"
          ],
          [
           "Du"
          ],
          [
           "I Walk the Line"
          ],
          [
           "Samba Pa Ti"
          ],
          [
           "Immigrant Song - Remaster"
          ],
          [
           "Who'll Stop The Rain"
          ],
          [
           "Our House"
          ],
          [
           "Teach Your Children"
          ],
          [
           "The Long And Winding Road - Remastered 2009"
          ],
          [
           "Father And Son"
          ],
          [
           "Almost Cut My Hair"
          ],
          [
           "El Condor Pasa (If I Could)"
          ],
          [
           "Question"
          ],
          [
           "I Heard It Through The Grapevine"
          ],
          [
           "Since I've Been Loving You - 1990 Remaster"
          ],
          [
           "Get Back - Remastered 2009"
          ],
          [
           "The Man Who Sold the World - 2015 Remaster"
          ],
          [
           "Long As I Can See The Light"
          ],
          [
           "Roadhouse Blues"
          ],
          [
           "My Sweet Lord"
          ],
          [
           "Memories"
          ],
          [
           "Cecilia"
          ],
          [
           "Fire and Rain"
          ],
          [
           "Lookin' Out My Back Door"
          ],
          [
           "25 or 6 to 4 - 2002 Remaster"
          ],
          [
           "Working Class Hero - Remastered 2010 / Lennon Legend Version"
          ],
          [
           "Lucky Man - 2012 Remastered Version"
          ],
          [
           "Into the Mystic - 2013 Remaster"
          ],
          [
           "Carry On"
          ],
          [
           "(They Long To Be) Close To You"
          ],
          [
           "Move On Up"
          ],
          [
           "Tears In The Morning - Remastered 2009"
          ],
          [
           "Up Around The Bend"
          ],
          [
           "Southern Man - 2009 Remaster"
          ],
          [
           "Stairway to Heaven - Remaster"
          ],
          [
           "Imagine - Remastered"
          ],
          [
           "Riders on the Storm"
          ],
          [
           "Echoes"
          ],
          [
           "Vincent"
          ],
          [
           "Me and Bobby McGee"
          ],
          [
           "Baba O'Riley"
          ],
          [
           "Life on Mars? - 2015 Remaster"
          ],
          [
           "I Am...I Said - Single Version"
          ],
          [
           "Ain't No Sunshine"
          ],
          [
           "Wild Horses"
          ],
          [
           "L.A. Woman"
          ],
          [
           "What's Going On"
          ],
          [
           "Halo of Flies"
          ],
          [
           "American Pie"
          ],
          [
           "Tiny Dancer"
          ],
          [
           "Morning Has Broken"
          ],
          [
           "One Way Wind"
          ],
          [
           "One of These Days"
          ],
          [
           "Nothing Rhymed"
          ],
          [
           "Brown Sugar - Remastered"
          ],
          [
           "You've Got a Friend"
          ],
          [
           "Locomotive Breath"
          ],
          [
           "She Flies On Strange Wings"
          ],
          [
           "Changes - 2015 Remaster"
          ],
          [
           "Mercedes Benz"
          ],
          [
           "Honky Tonk Women - Mono Version"
          ],
          [
           "You've Got a Friend"
          ],
          [
           "Cry Baby"
          ],
          [
           "Storm And Thunder"
          ],
          [
           "Roundabout - 2003 Remaster"
          ],
          [
           "Maggie May"
          ],
          [
           "Won't Get Fooled Again - Original Album Version"
          ],
          [
           "After Midnight"
          ],
          [
           "Give Up Your Guns"
          ],
          [
           "Love Her Madly"
          ],
          [
           "Rock and Roll - Remaster"
          ],
          [
           "Black Dog - Remaster"
          ],
          [
           "Call Me The Breeze"
          ],
          [
           "Famous Blue Raincoat"
          ],
          [
           "Behind Blue Eyes"
          ],
          [
           "Yours Is No Disgrace - 2003 Remaster"
          ],
          [
           "See Emily Play"
          ],
          [
           "Smoke on the Water"
          ],
          [
           "Perfect Day"
          ],
          [
           "Rocket Man (I Think It's Going To Be A Long, Long Time)"
          ],
          [
           "Heart of Gold - 2009 Remaster"
          ],
          [
           "Starman - 2012 Remaster"
          ],
          [
           "Take It Easy - 2013 Remaster"
          ],
          [
           "A Horse with No Name"
          ],
          [
           "Time In A Bottle"
          ],
          [
           "Lola - Live"
          ],
          [
           "Easy Livin'"
          ],
          [
           "Ben - Single Version"
          ],
          [
           "Walk On the Wild Side"
          ],
          [
           "She's A Rainbow - Full Version / With Intro"
          ],
          [
           "You're so Vain"
          ],
          [
           "Ziggy Stardust - 2012 Remaster"
          ],
          [
           "Whiskey In The Jar"
          ],
          [
           "Listen to the Music"
          ],
          [
           "Top Of The World"
          ],
          [
           "School's Out"
          ],
          [
           "A Thing Called Love"
          ],
          [
           "Harvest - 2009 Remaster"
          ],
          [
           "Sylvia's Mother"
          ],
          [
           "Close to the Edge (i. The Solid Time of Change, ii. Total Mass Retain, iii. I Get up I Get Down, iv. Seasons of Man) - 2003 Remaster"
          ],
          [
           "Ventura Highway"
          ],
          [
           "Witchy Woman - Eagles 2013 Remaster"
          ],
          [
           "Song Sung Blue - Single Version"
          ],
          [
           "Sylvia"
          ],
          [
           "Peaceful Easy Feeling - Eagles 2013 Remaster"
          ],
          [
           "Do It Again"
          ],
          [
           "Radar Love"
          ],
          [
           "Angie"
          ],
          [
           "Desperado - 2013 Remaster"
          ],
          [
           "Dream On"
          ],
          [
           "Time"
          ],
          [
           "Free Bird"
          ],
          [
           "Money"
          ],
          [
           "Always On My Mind"
          ],
          [
           "The Great Gig in the Sky"
          ],
          [
           "La Grange - 2005 Remaster"
          ],
          [
           "Leaving, On a Jet Plane - \"Greatest Hits\" Version"
          ],
          [
           "Us and Them"
          ],
          [
           "Firth of Fifth - New Stereo Mix"
          ],
          [
           "Band On The Run - Remastered 2010"
          ],
          [
           "Sebastian - 2012 Remaster"
          ],
          [
           "Tequila Sunrise - 2013 Remaster"
          ],
          [
           "Knockin' On Heaven's Door - Remastered"
          ],
          [
           "Burning Love"
          ],
          [
           "Goodbye Yellow Brick Road - Remastered 2014"
          ],
          [
           "Midnight Train to Georgia"
          ],
          [
           "Daniel"
          ],
          [
           "The Joker"
          ],
          [
           "Long Train Runnin'"
          ],
          [
           "I'll Have To Say I Love You In A Song"
          ],
          [
           "The Jean Genie - 2013 Remaster"
          ],
          [
           "Merry Xmas Everybody"
          ],
          [
           "Woman from Tokyo"
          ],
          [
           "Don't Let Me Down - Remastered 2009"
          ],
          [
           "Let's Get It On"
          ],
          [
           "School"
          ],
          [
           "Jolene"
          ],
          [
           "Killer Queen - 2011 Mix"
          ],
          [
           "Sweet Home Alabama"
          ],
          [
           "Waterloo"
          ],
          [
           "Annie's Song"
          ],
          [
           "Dreamer"
          ],
          [
           "You Are So Beautiful"
          ],
          [
           "My Boy"
          ],
          [
           "Rebel Rebel - 2016 Remaster"
          ],
          [
           "Crime Of The Century"
          ],
          [
           "Autobahn - 2009 Remaster"
          ],
          [
           "I Will Always Love You"
          ],
          [
           "Thank God I'm a Country Boy"
          ],
          [
           "The Air That I Breathe - 2008 Remaster"
          ],
          [
           "Love Is All"
          ],
          [
           "Hide In Your Shell"
          ],
          [
           "Gute Nacht Freunde"
          ],
          [
           "Fox On The Run"
          ],
          [
           "You Ain't Seen Nothing Yet"
          ],
          [
           "Mandy"
          ],
          [
           "Can't Get It out of My Head"
          ],
          [
           "The Way We Were"
          ],
          [
           "Bohemian Rhapsody - 2011 Mix"
          ],
          [
           "Love Of My Life - Remastered 2011"
          ],
          [
           "Shine On You Crazy Diamond (Pts. 1-5)"
          ],
          [
           "Born to Run"
          ],
          [
           "Kashmir - 1990 Remaster"
          ],
          [
           "No Woman, No Cry - Live At The Lyceum, London/1975"
          ],
          [
           "One of These Nights - 2013 Remaster"
          ],
          [
           "Mamma Mia"
          ],
          [
           "Landslide"
          ],
          [
           "Thunder Road"
          ],
          [
           "I'm Not In Love"
          ],
          [
           "Rhiannon"
          ],
          [
           "Lyin' Eyes - 2013 Remaster"
          ],
          [
           "You're My Best Friend - Remastered 2011"
          ],
          [
           "Jungleland"
          ],
          [
           "Love Hurts"
          ],
          [
           "Down Down"
          ],
          [
           "Sailing"
          ],
          [
           "39 - 2011 Mix"
          ],
          [
           "Calypso"
          ],
          [
           "50 Ways to Leave Your Lover"
          ],
          [
           "It's A Long Way There - 2010 Digital Remaster"
          ],
          [
           "Crazy On You"
          ],
          [
           "Wij Zullen Doorgaan - 1975 Single Version"
          ],
          [
           "Make Me Smile (Come up and See Me) - 2014 Remaster"
          ],
          [
           "House For Sale"
          ],
          [
           "S.O.S."
          ],
          [
           "Nights On Broadway"
          ],
          [
           "At Seventeen - Remastered"
          ],
          [
           "Take It to the Limit - 2013 Remaster"
          ],
          [
           "Fame - 2016 Remaster"
          ],
          [
           "Sex Machine - Pt. 1 & 2"
          ],
          [
           "Show Me The Way"
          ],
          [
           "Meeting Across the River"
          ],
          [
           "Love Is The Drug"
          ],
          [
           "Still Crazy After All These Years"
          ],
          [
           "Hotel California - 2013 Remaster"
          ],
          [
           "Somebody To Love - 2011 Mix"
          ],
          [
           "Dancing Queen"
          ],
          [
           "The Last Resort - 2013 Remaster"
          ],
          [
           "Hurricane"
          ],
          [
           "More Than a Feeling"
          ],
          [
           "(Don't Fear) The Reaper"
          ],
          [
           "New Kid in Town - 2013 Remaster"
          ],
          [
           "If You Leave Me Now"
          ],
          [
           "Wild Is the Wind - 2016 Remaster"
          ],
          [
           "Tie Your Mother Down - Remastered 2011"
          ],
          [
           "Fernando"
          ],
          [
           "Knowing Me, Knowing You"
          ],
          [
           "Fool To Cry - Remastered 2009"
          ],
          [
           "Carry on Wayward Son"
          ],
          [
           "New York State of Mind"
          ],
          [
           "Golden Years - 2016 Remaster"
          ],
          [
           "Isn't She Lovely"
          ],
          [
           "I Wish"
          ],
          [
           "Tom Traubert's Blues (Four Sheets To The Wind In Copenhagen)"
          ],
          [
           "The Boys Are Back In Town"
          ],
          [
           "Livin' Thing"
          ],
          [
           "Sir Duke"
          ],
          [
           "Blitzkrieg Bop - 2016 Remaster"
          ],
          [
           "Fly Like An Eagle"
          ],
          [
           "Blinded By The Light"
          ],
          [
           "Cocaine"
          ],
          [
           "The Ballroom Blitz"
          ],
          [
           "Money, Money, Money"
          ],
          [
           "Wasted Time - 2013 Remaster"
          ],
          [
           "Theme From Mahogany (Do You Know Where You're Going To) - Single Version"
          ],
          [
           "Heroes - 2017 Remaster"
          ],
          [
           "Paradise By the Dashboard Light"
          ],
          [
           "Go Your Own Way - 2004 Remaster"
          ],
          [
           "Mr. Blue Sky"
          ],
          [
           "Fool's Overture"
          ],
          [
           "Whole Lotta Rosie"
          ],
          [
           "We Will Rock You - Remastered"
          ],
          [
           "The Chain - 2004 Remaster"
          ],
          [
           "Three Little Birds"
          ],
          [
           "We Are The Champions - Remastered 2011"
          ],
          [
           "She's Always a Woman"
          ],
          [
           "Worn Down Piano"
          ],
          [
           "Dust in the Wind"
          ],
          [
           "Bat Out of Hell"
          ],
          [
           "Solsbury Hill"
          ],
          [
           "Thank You For The Music"
          ],
          [
           "Wonderful Tonight"
          ],
          [
           "Lust For Life"
          ],
          [
           "She's Not There"
          ],
          [
           "Stayin' Alive"
          ],
          [
           "Psycho Killer - 2005 Remaster"
          ],
          [
           "Fantasy"
          ],
          [
           "Songbird - 2004 Remaster"
          ],
          [
           "Let There Be Rock"
          ],
          [
           "Don't Stop - 2004 Remaster"
          ],
          [
           "I Feel Love"
          ],
          [
           "The Passenger"
          ],
          [
           "Het Werd Zomer"
          ],
          [
           "Take A Chance On Me"
          ],
          [
           "Give A Little Bit"
          ],
          [
           "Sound and Vision - 2017 Remaster"
          ],
          [
           "Spread Your Wings - 2011 Mix"
          ],
          [
           "You Took The Words Right Out of My Mouth (Hot Summer Night)"
          ],
          [
           "Two Out of Three Ain't Bad"
          ],
          [
           "Cocaine"
          ],
          [
           "Barracuda"
          ],
          [
           "One Love / People Get Ready - Medley"
          ],
          [
           "Cold as Ice"
          ],
          [
           "The Name Of The Game"
          ],
          [
           "Mannish Boy"
          ],
          [
           "I Want You to Want Me"
          ],
          [
           "Scenes from an Italian Restaurant"
          ],
          [
           "God Save the Queen"
          ],
          [
           "La vie en rose"
          ],
          [
           "Spanish Stroll"
          ],
          [
           "Le Freak - 2018 Remaster"
          ],
          [
           "Lovely Day"
          ],
          [
           "Isn't It Time"
          ],
          [
           "Just the Way You Are"
          ],
          [
           "Anarchy in the U.K."
          ],
          [
           "You Make Loving Fun - 2004 Remaster"
          ],
          [
           "Sultans of Swing"
          ],
          [
           "Don't Stop Me Now - 2011 Mix"
          ],
          [
           "Laat Me"
          ],
          [
           "Wuthering Heights"
          ],
          [
           "Saturday Night"
          ],
          [
           "Roxanne"
          ],
          [
           "Hold the Line"
          ],
          [
           "The Man with the Child in His Eyes"
          ],
          [
           "Badlands"
          ],
          [
           "Baker Street"
          ],
          [
           "Dreadlock Holiday"
          ],
          [
           "Fat Bottomed Girls - Single Version"
          ],
          [
           "Runnin' with the Devil - 2015 Remaster"
          ],
          [
           "Bicycle Race - Remastered 2011"
          ],
          [
           "Follow You Follow Me - 2007 Remaster"
          ],
          [
           "So Lonely"
          ],
          [
           "How You Gonna See Me Now"
          ],
          [
           "Miss You - Remastered"
          ],
          [
           "Stir It Up - Live At The Pavillon De Paris, 1977"
          ],
          [
           "Is This Love"
          ],
          [
           "Because the Night"
          ],
          [
           "What a Fool Believes"
          ],
          [
           "Still Believe"
          ],
          [
           "Rivers of Babylon"
          ],
          [
           "Don't Look Back"
          ],
          [
           "Beast Of Burden - Remastered"
          ],
          [
           "Honesty"
          ],
          [
           "Born to Be Alive - Original Mix 79"
          ],
          [
           "Fire"
          ],
          [
           "You Don't Bring Me Flowers"
          ],
          [
           "Water of Love"
          ],
          [
           "Comfortably Numb"
          ],
          [
           "Highway to Hell"
          ],
          [
           "Another Brick in the Wall, Pt. 2"
          ],
          [
           "The Rose"
          ],
          [
           "The Logical Song - Remastered 2010"
          ],
          [
           "I Was Made For Lovin' You"
          ],
          [
           "Gimme! Gimme! Gimme! (A Man After Midnight)"
          ],
          [
           "Message In A Bottle"
          ],
          [
           "Hey You"
          ],
          [
           "One Step Beyond"
          ],
          [
           "Chiquitita"
          ],
          [
           "Does Your Mother Know"
          ],
          [
           "How Deep Is Your Love"
          ],
          [
           "Bright Eyes"
          ],
          [
           "Take The Long Way Home - 2010 Remastered"
          ],
          [
           "Breakfast In America - Remastered"
          ],
          [
           "I Have A Dream"
          ],
          [
           "Boogie Wonderland"
          ],
          [
           "Boys Don't Cry - Single Version"
          ],
          [
           "Voulez-Vous"
          ],
          [
           "September Morn"
          ],
          [
           "MacArthur Park - Single Version"
          ],
          [
           "Don't Stop 'Til You Get Enough - Single Version"
          ],
          [
           "London Calling - Remastered"
          ],
          [
           "Night Boat to Cairo"
          ],
          [
           "Goodbye Stranger - 2010 Remastered"
          ],
          [
           "Walking On The Moon"
          ],
          [
           "Don't Bring Me Down"
          ],
          [
           "Tragedy"
          ],
          [
           "Off the Wall"
          ],
          [
           "The Worker"
          ],
          [
           "Sure Know Something"
          ],
          [
           "Relight My Fire - Single Version"
          ],
          [
           "Weekend Love"
          ],
          [
           "More Than A Woman - From \"Saturday Night Fever\" Soundtrack"
          ],
          [
           "Rock with You - Single Version"
          ],
          [
           "Weekend"
          ],
          [
           "Dancin' Fool"
          ],
          [
           "We Belong to the Night"
          ],
          [
           "Sausolito Summernight - Digitally Remastered 2017"
          ],
          [
           "The River"
          ],
          [
           "A Forest - Remastered Version"
          ],
          [
           "The Winner Takes It All"
          ],
          [
           "Ace of Spades"
          ],
          [
           "Another One Bites The Dust - Remastered 2011"
          ],
          [
           "Back In Black"
          ],
          [
           "Romeo and Juliet"
          ],
          [
           "Redemption Song"
          ],
          [
           "You Shook Me All Night Long"
          ],
          [
           "Crazy Little Thing Called Love - Remastered 2011"
          ],
          [
           "Lay All Your Love On Me"
          ],
          [
           "Long Blond Animal"
          ],
          [
           "Think"
          ],
          [
           "Once in a Lifetime - 2005 Remaster"
          ],
          [
           "The Turn of a Friendly Card"
          ],
          [
           "So Long"
          ],
          [
           "Tunnel of Love (Intro: The Carousel Waltz)"
          ],
          [
           "Happy New Year"
          ],
          [
           "Ashes to Ashes - 2017 Remaster"
          ],
          [
           "Foto Van Vroeger"
          ],
          [
           "Could You Be Loved"
          ],
          [
           "9 to 5"
          ],
          [
           "Everybody Needs Somebody to Love"
          ],
          [
           "Super Trouper"
          ],
          [
           "Save Me - Remastered 2011"
          ],
          [
           "Keep on Loving You"
          ],
          [
           "Woman in Love"
          ],
          [
           "The Spirit Of Radio"
          ],
          [
           "Baggy Trousers"
          ],
          [
           "Hungry Heart"
          ],
          [
           "Guilty (feat. Barry Gibb)"
          ],
          [
           "Biko"
          ],
          [
           "Food For Thought"
          ],
          [
           "Late in the Evening"
          ],
          [
           "Enola Gay - Remastered"
          ],
          [
           "Master Blaster (Jammin')"
          ],
          [
           "Don't Stand So Close To Me"
          ],
          [
           "Wish You Were Here"
          ],
          [
           "In The Air Tonight - 2015 Remastered"
          ],
          [
           "Don't Stop Believin'"
          ],
          [
           "The Day Before You Came"
          ],
          [
           "Golden Brown"
          ],
          [
           "Every Little Thing She Does Is Magic"
          ],
          [
           "Start Me Up - Remastered"
          ],
          [
           "One Of Us"
          ],
          [
           "Waiting On A Friend - Remastered 2009"
          ],
          [
           "Tainted Love"
          ],
          [
           "Memory"
          ],
          [
           "Everytime I Think of You - 2000 Remaster"
          ],
          [
           "Don't You Want Me"
          ],
          [
           "I'll Find My Way Home - Remastered"
          ],
          [
           "Je Loog Tegen Mij"
          ],
          [
           "Africa"
          ],
          [
           "Telegraph Road"
          ],
          [
           "Under Pressure - Remastered"
          ],
          [
           "Old and Wise"
          ],
          [
           "Private Investigations"
          ],
          [
           "Billie Jean"
          ],
          [
           "Run to the Hills - 2015 Remaster"
          ],
          [
           "Twilight Zone"
          ],
          [
           "Eye In The Sky"
          ],
          [
           "Rosanna"
          ],
          [
           "Is She Really Going Out With Him? - Live"
          ],
          [
           "Bloedend Hart"
          ],
          [
           "Belgie ... (Is Er Leven Op Pluto ...)"
          ],
          [
           "1999"
          ],
          [
           "Islands In the Stream"
          ],
          [
           "Real Men"
          ],
          [
           "Come On Eileen"
          ],
          [
           "Kristallnaach"
          ],
          [
           "State of Independence"
          ],
          [
           "You Can't Hurry Love - 2016 Remaster"
          ],
          [
           "Burning Heart"
          ],
          [
           "Always On My Mind"
          ],
          [
           "Sexual Healing"
          ],
          [
           "Vriendschap"
          ],
          [
           "Human Nature"
          ],
          [
           "Save a Prayer - 2009 Remaster"
          ],
          [
           "Should I Stay or Should I Go - Remastered"
          ],
          [
           "P.Y.T. (Pretty Young Thing)"
          ],
          [
           "Wanna Be Startin' Somethin'"
          ],
          [
           "It's Raining Again"
          ],
          [
           "Steppin' Out"
          ],
          [
           "A Slow Song"
          ],
          [
           "Sunday Bloody Sunday - Remastered 2008"
          ],
          [
           "Every Breath You Take"
          ],
          [
           "Mama - 2007 Remaster"
          ],
          [
           "99 Luftballons"
          ],
          [
           "Sweet Dreams (Are Made of This) - Remastered"
          ],
          [
           "I'm Still Standing"
          ],
          [
           "Let's Dance - 2018 Remaster"
          ],
          [
           "China Girl - 2002 Remaster"
          ],
          [
           "Owner of a Lonely Heart"
          ],
          [
           "Waterfront - 2002 Remaster"
          ],
          [
           "Our House"
          ],
          [
           "Just Can't Get Enough (Live in Hammersmith) - 2018 Remaster"
          ],
          [
           "Message To My Girl"
          ],
          [
           "Hello"
          ],
          [
           "Pride and Joy"
          ],
          [
           "Uptown Girl"
          ],
          [
           "I Heard It Through The Grapevine"
          ],
          [
           "Nescio"
          ],
          [
           "Uncertain Smile"
          ],
          [
           "Home by the Sea - 2007 Remaster"
          ],
          [
           "Theme from Harry's Game"
          ],
          [
           "Nur geträumt"
          ],
          [
           "Gloria - Live"
          ],
          [
           "Here Comes the Rain Again - Remastered Version"
          ],
          [
           "Girls Just Want to Have Fun"
          ],
          [
           "Club Tropicana"
          ],
          [
           "Papa Can You Hear Me?"
          ],
          [
           "Karma Chameleon - Remastered"
          ],
          [
           "Buffalo Soldier"
          ],
          [
           "Beast of Burden"
          ],
          [
           "Purple Rain"
          ],
          [
           "When The Lady Smiles"
          ],
          [
           "Hallelujah"
          ],
          [
           "Summer Of '69"
          ],
          [
           "Radio Ga Ga - 2011 Mix"
          ],
          [
           "The Unforgettable Fire - Remastered 2009"
          ],
          [
           "Bad - Remastered 2009"
          ],
          [
           "I'm On Fire"
          ],
          [
           "Pride (In The Name Of Love) - Remastered 2009"
          ],
          [
           "Fade To Black (Remastered)"
          ],
          [
           "Dancing In the Dark"
          ],
          [
           "Forever Young"
          ],
          [
           "When Doves Cry"
          ],
          [
           "I Want to Know What Love Is - 1999 Remaster"
          ],
          [
           "Born in the U.S.A."
          ],
          [
           "Vienna"
          ],
          [
           "My Hometown"
          ],
          [
           "Slippery People - Live"
          ],
          [
           "The Power Of Love"
          ],
          [
           "The Boys Of Summer"
          ],
          [
           "Private Dancer - 2015 Remaster"
          ],
          [
           "Easy Lover"
          ],
          [
           "Be My Number Two"
          ],
          [
           "Tinseltown in the Rain"
          ],
          [
           "Glory Days"
          ],
          [
           "It's My Life - 1997 Remaster"
          ],
          [
           "Heaven"
          ],
          [
           "Smalltown Boy"
          ],
          [
           "I Would Die 4 U"
          ],
          [
           "Thank God It's Christmas - 2011 Remaster"
          ],
          [
           "Let's Go Crazy"
          ],
          [
           "Wake Me up Before You Go-Go"
          ],
          [
           "You'll Never Walk Alone"
          ],
          [
           "Run To You"
          ],
          [
           "Perhaps Love"
          ],
          [
           "Don't Answer Me"
          ],
          [
           "Nightporter"
          ],
          [
           "Big in Japan"
          ],
          [
           "Relax"
          ],
          [
           "Two Tribes"
          ],
          [
           "Dancing with Tears in My Eyes"
          ],
          [
           "That Was Yesterday"
          ],
          [
           "How Soon Is Now? - 2011 Remaster"
          ],
          [
           "No Surrender"
          ],
          [
           "Brothers in Arms"
          ],
          [
           "Jeanny"
          ],
          [
           "Money for Nothing"
          ],
          [
           "Kronenburg Park"
          ],
          [
           "Walk of Life"
          ],
          [
           "Take on Me"
          ],
          [
           "Groot Hart"
          ],
          [
           "Alive And Kicking"
          ],
          [
           "Holding Back the Years - 2008 Remaster"
          ],
          [
           "Running Up That Hill (A Deal With God)"
          ],
          [
           "Cloudbusting"
          ],
          [
           "Binnen Zonder Kloppen"
          ],
          [
           "Nikita"
          ],
          [
           "Everybody Wants To Rule The World"
          ],
          [
           "Eye of the Tiger"
          ],
          [
           "Russians"
          ],
          [
           "Dancing in the Street - 2002 Remaster"
          ],
          [
           "Raspberry Beret"
          ],
          [
           "Your Latest Trick"
          ],
          [
           "Road to Nowhere"
          ],
          [
           "Why Worry"
          ],
          [
           "Close to Me - Remastered"
          ],
          [
           "So Far Away"
          ],
          [
           "Broken Wings"
          ],
          [
           "Shout"
          ],
          [
           "Josephine"
          ],
          [
           "Greatest Love of All"
          ],
          [
           "In Between Days - 2006 Remaster"
          ],
          [
           "I Got You Babe"
          ],
          [
           "Moon Over Bourbon Street"
          ],
          [
           "We Are The World"
          ],
          [
           "Out In The Fields"
          ],
          [
           "Hunting High and Low"
          ],
          [
           "Take Me Home - 2016 Remaster"
          ],
          [
           "Master of Puppets (Remastered)"
          ],
          [
           "Angel Of Death"
          ],
          [
           "Livin' On A Prayer"
          ],
          [
           "Graceland"
          ],
          [
           "Don't Give Up - 2012 Remaster"
          ],
          [
           "Sometimes It Snows in April"
          ],
          [
           "A Kind Of Magic - Remastered 2011"
          ],
          [
           "The Final Countdown"
          ],
          [
           "De Verzoening"
          ],
          [
           "I Want You"
          ],
          [
           "You Can Call Me Al"
          ],
          [
           "Don't Dream It's Over"
          ],
          [
           "Land of Confusion - 2007 Remaster"
          ],
          [
           "Life's What You Make It - 1997 Remaster"
          ],
          [
           "There Is a Light That Never Goes Out - 2011 Remaster"
          ],
          [
           "You Give Love A Bad Name"
          ],
          [
           "The Lady In Red"
          ],
          [
           "One Vision - Remastered 2011"
          ],
          [
           "Diamonds on the Soles of Her Shoes"
          ],
          [
           "Absolute Beginners - 2002 Remaster"
          ],
          [
           "Friends Will Be Friends - Remastered 2011"
          ],
          [
           "Kiss"
          ],
          [
           "In A Lifetime"
          ],
          [
           "Wanted Dead Or Alive"
          ],
          [
           "True Colors"
          ],
          [
           "Bigmouth Strikes Again - 2011 Remaster"
          ],
          [
           "Anne"
          ],
          [
           "You Can Leave Your Hat On"
          ],
          [
           "Living in Another World - 1997 Remaster"
          ],
          [
           "Fire - Live at the Winterland, San Francisco, CA - December 1978"
          ],
          [
           "Sledgehammer - 2012 Remaster"
          ],
          [
           "Don't Leave Me This Way (with Sarah Jane Morris)"
          ],
          [
           "The Way It Is"
          ],
          [
           "Walk This Way (feat. Aerosmith)"
          ],
          [
           "I'll Be Over You"
          ],
          [
           "Why Can't This Be Love"
          ],
          [
           "In Your Eyes - 2012 Remaster"
          ],
          [
           "Fight For Your Right"
          ],
          [
           "Homeless (with Ladysmith Black Mambazo)"
          ],
          [
           "Live to Tell"
          ],
          [
           "West End Girls - 2001 Remaster"
          ],
          [
           "Invisible Touch - 2007 Remaster"
          ],
          [
           "Over De Muur"
          ],
          [
           "Sweet Child O' Mine"
          ],
          [
           "With Or Without You - Remastered"
          ],
          [
           "Where The Streets Have No Name - Remastered"
          ],
          [
           "I Still Haven't Found What I'm Looking For"
          ],
          [
           "Paradise City"
          ],
          [
           "Fragile"
          ],
          [
           "Englishman In New York"
          ],
          [
           "Troy"
          ],
          [
           "Welcome To The Jungle"
          ],
          [
           "Tougher Than the Rest"
          ],
          [
           "Smooth Criminal - 2012 Remaster"
          ],
          [
           "Patience"
          ],
          [
           "Everywhere - 2017 Remaster"
          ],
          [
           "I Will Follow - Live"
          ],
          [
           "Alone"
          ],
          [
           "Sign 'O' the Times"
          ],
          [
           "In the Dutch Mountains"
          ],
          [
           "Never Tear Us Apart"
          ],
          [
           "Here I Go Again - 2018 Remaster"
          ],
          [
           "Liefde Van Later"
          ],
          [
           "Unchain My Heart"
          ],
          [
           "Non, je ne regrette rien"
          ],
          [
           "Never Gonna Give You Up"
          ],
          [
           "Running To Stand Still"
          ],
          [
           "I Wanna Dance with Somebody (Who Loves Me)"
          ],
          [
           "Have A Little Faith In Me"
          ],
          [
           "Suzanne"
          ],
          [
           "The Way You Make Me Feel - 2012 Remaster"
          ],
          [
           "The One I Love - Remastered"
          ],
          [
           "Bad - 2012 Remaster"
          ],
          [
           "Apache"
          ],
          [
           "The Cross"
          ],
          [
           "Luka"
          ],
          [
           "Seven Wonders - 2017 Remaster"
          ],
          [
           "Lessons In Love"
          ],
          [
           "Brilliant Disguise"
          ],
          [
           "It's a Sin - 2001 Remaster"
          ],
          [
           "Bullet The Blue Sky"
          ],
          [
           "Wonderful Life"
          ],
          [
           "It's The End Of The World As We Know It (And I Feel Fine)"
          ],
          [
           "Is This Love - 2018 Remaster"
          ],
          [
           "Laat Mij Maar Alleen"
          ],
          [
           "You Win Again"
          ],
          [
           "Liberian Girl - 2012 Remastered Version"
          ],
          [
           "Winter in Hamburg"
          ],
          [
           "One (Remastered)"
          ],
          [
           "Fast Car"
          ],
          [
           "Dreams"
          ],
          [
           "Sara"
          ],
          [
           "Stop Loving You"
          ],
          [
           "Can I Play with Madness - 2015 Remaster"
          ],
          [
           "Tonight (With David Bowie) - Live"
          ],
          [
           "Tusk"
          ],
          [
           "Maid Of Orleans"
          ],
          [
           "Like The Way I Do"
          ],
          [
           "Little Lies"
          ],
          [
           "Zwart Wit"
          ],
          [
           "All I Want Is You"
          ],
          [
           "Take This Waltz"
          ],
          [
           "Musica è"
          ],
          [
           "When Love Comes To Town"
          ],
          [
           "Ich bin wie du"
          ],
          [
           "Pamela"
          ],
          [
           "Orinoco Flow"
          ],
          [
           "Listen to Your Heart"
          ],
          [
           "Fairytale of New York (feat. Kirsty MacColl)"
          ],
          [
           "Living Years"
          ],
          [
           "Mushanga"
          ],
          [
           "Baby Can I Hold You"
          ],
          [
           "Big Love"
          ],
          [
           "Angel Of Harlem"
          ],
          [
           "Handle With Care"
          ],
          [
           "(Something Inside) So Strong"
          ],
          [
           "Into Temptation"
          ],
          [
           "Twist in My Sobriety"
          ],
          [
           "Sympathy For The Devil"
          ],
          [
           "Another Day in Paradise - 2016 Remaster"
          ],
          [
           "Niemand In De Stad"
          ],
          [
           "Rockin' in the Free World"
          ],
          [
           "Poison"
          ],
          [
           "I Want It All - Remastered 2011"
          ],
          [
           "Ik Kan Het Niet Alleen"
          ],
          [
           "Leningrad"
          ],
          [
           "Have I Told You Lately"
          ],
          [
           "Lullaby"
          ],
          [
           "The Best"
          ],
          [
           "Breakthru - Remastered 2011"
          ],
          [
           "Need Your Love So Bad"
          ],
          [
           "Daar Gaat Ze"
          ],
          [
           "Personal Jesus - Original Seven Inch Version"
          ],
          [
           "Kingston Town"
          ],
          [
           "Woman In Chains"
          ],
          [
           "Nergens Goed Voor"
          ],
          [
           "I Wish It Would Rain Down - 2016 Remaster"
          ],
          [
           "If You Don't Know Me by Now - 2008 Remaster"
          ],
          [
           "Free Fallin'"
          ],
          [
           "Let Love Rule"
          ],
          [
           "Epic"
          ],
          [
           "Black Velvet"
          ],
          [
           "We Didn't Start the Fire"
          ],
          [
           "Sowing The Seeds Of Love"
          ],
          [
           "New York Minute"
          ],
          [
           "Something Happened on the Way to Heaven - 2016 Remaster"
          ],
          [
           "Lovesong"
          ],
          [
           "Monkey Gone to Heaven"
          ],
          [
           "The Miracle - Remastered 2011"
          ],
          [
           "The Invisible Man - Remastered 2011"
          ],
          [
           "If I Could Turn Back Time"
          ],
          [
           "Love Shack"
          ],
          [
           "Thunderstruck"
          ],
          [
           "Papa"
          ],
          [
           "Enjoy the Silence - Single Mix"
          ],
          [
           "Still Got The Blues"
          ],
          [
           "Wind Of Change"
          ],
          [
           "Nothing Compares 2 U"
          ],
          [
           "Silent Lucidity - Remastered/2003"
          ],
          [
           "Such a Shame"
          ],
          [
           "Hunger Strike"
          ],
          [
           "Candy"
          ],
          [
           "Send Me An Angel"
          ],
          [
           "Don't Go Breaking My Heart"
          ],
          [
           "Night Fever - From \"Saturday Night Fever\" Soundtrack"
          ],
          [
           "More Than Words"
          ],
          [
           "It Must Have Been Love - From the Film \"Pretty Woman\""
          ],
          [
           "Domino"
          ],
          [
           "Met Hart En Ziel"
          ],
          [
           "Love Rears Its Ugly Head"
          ],
          [
           "Hard To Handle"
          ],
          [
           "Black"
          ],
          [
           "De Boer Is De Keerl"
          ],
          [
           "November Rain"
          ],
          [
           "Nothing Else Matters"
          ],
          [
           "Smells Like Teen Spirit"
          ],
          [
           "Innuendo - Remastered 2011"
          ],
          [
           "Alive"
          ],
          [
           "Enter Sandman"
          ],
          [
           "Who Wants To Live Forever - Remastered 2011"
          ],
          [
           "Under the Bridge"
          ],
          [
           "Deurdonderen"
          ],
          [
           "The Show Must Go On - 2011 Mix"
          ],
          [
           "Losing My Religion"
          ],
          [
           "Come As You Are"
          ],
          [
           "Jeremy"
          ],
          [
           "One"
          ],
          [
           "Knockin' On Heaven's Door"
          ],
          [
           "The Unforgiven"
          ],
          [
           "These Are The Days Of Our Lives - 2011 Remaster"
          ],
          [
           "Lithium"
          ],
          [
           "Lekker Op De Trekker ('n Boerinnen-Wervingslied)"
          ],
          [
           "Estranged"
          ],
          [
           "Even Flow"
          ],
          [
           "Hammer To Fall - Remastered 2011"
          ],
          [
           "Sad But True"
          ],
          [
           "Year of the Cat - 2001 Remaster"
          ],
          [
           "Don't Cry (Original)"
          ],
          [
           "(Everything I Do) I Do It For You"
          ],
          [
           "No More Tears"
          ],
          [
           "You"
          ],
          [
           "Heal the World"
          ],
          [
           "Bestel Mar (edit)"
          ],
          [
           "On Every Street"
          ],
          [
           "Give It Away"
          ],
          [
           "Four Seasons In One Day"
          ],
          [
           "Walking in Memphis"
          ],
          [
           "Learning To Fly"
          ],
          [
           "Live And Let Die"
          ],
          [
           "In Bloom - Nevermind Version"
          ],
          [
           "Weather With You"
          ],
          [
           "Shiny Happy People"
          ],
          [
           "Stars"
          ],
          [
           "I'm Going Slightly Mad - Remastered 2011"
          ],
          [
           "On the Border - 2001 Remaster"
          ],
          [
           "Diamonds and Pearls"
          ],
          [
           "I Can't Dance - 2007 Remaster"
          ],
          [
           "No Son of Mine - 2007 Remaster"
          ],
          [
           "I Can't Make You Love Me"
          ],
          [
           "Love of the Common People"
          ],
          [
           "Mysterious Ways"
          ],
          [
           "We Don't Need Another Hero (Thunderdome)"
          ],
          [
           "Calling Elvis"
          ],
          [
           "Killing In The Name"
          ],
          [
           "Fear of the Dark - 2015 Remaster"
          ],
          [
           "Bed Of Roses"
          ],
          [
           "Everybody Hurts"
          ],
          [
           "Kayleigh"
          ],
          [
           "Layla - Acoustic; Live at MTV Unplugged, Bray Film Studios, Windsor, England, UK, 1/16/1992; 2013 Remaster"
          ],
          [
           "I Will Always Love You"
          ],
          [
           "Nightswimming"
          ],
          [
           "Conquest of Paradise"
          ],
          [
           "Would?"
          ],
          [
           "Friday I'm in Love"
          ],
          [
           "Sharp Dressed Man"
          ],
          [
           "Man On The Moon"
          ],
          [
           "Gimme All Your Lovin'"
          ],
          [
           "What's Up?"
          ],
          [
           "Lavender"
          ],
          [
           "Plush - 2017 Remaster"
          ],
          [
           "Eloise"
          ],
          [
           "Harvest Moon"
          ],
          [
           "Drive"
          ],
          [
           "Remedy"
          ],
          [
           "I've Got Dreams to Remember"
          ],
          [
           "Jump Around"
          ],
          [
           "Human Touch"
          ],
          [
           "Vlieg Met Me Mee - Live"
          ],
          [
           "In These Arms"
          ],
          [
           "Out Of Space"
          ],
          [
           "Find The River"
          ],
          [
           "I Have Nothing"
          ],
          [
           "Rosalyn"
          ],
          [
           "Rooster"
          ],
          [
           "Why"
          ],
          [
           "Rhythm Is A Dancer"
          ],
          [
           "Keep The Faith"
          ],
          [
           "No Rain"
          ],
          [
           "Creep"
          ],
          [
           "Proud Mary"
          ],
          [
           "Fields Of Gold"
          ],
          [
           "Eagle - Short Version"
          ],
          [
           "Linger"
          ],
          [
           "Alles Geprobeerd"
          ],
          [
           "I'd Do Anything For Love (But I Won't Do That) - Single Edit"
          ],
          [
           "Shape Of My Heart"
          ],
          [
           "I Will Survive - Single Version"
          ],
          [
           "Ordinary World"
          ],
          [
           "Disarm - Remastered"
          ],
          [
           "Mr. Jones"
          ],
          [
           "Heart-Shaped Box"
          ],
          [
           "Daughter (Remastered)"
          ],
          [
           "In-A-Gadda-Da-Vida - Single Version"
          ],
          [
           "Gaia"
          ],
          [
           "Mull Of Kintyre - 1993 Digital Remaster"
          ],
          [
           "Cose della vita"
          ],
          [
           "Are You Gonna Go My Way"
          ],
          [
           "What's Love Got to Do with It"
          ],
          [
           "Rearviewmirror (Remastered)"
          ],
          [
           "La solitudine"
          ],
          [
           "Up Where We Belong"
          ],
          [
           "Rape Me"
          ],
          [
           "Round Here"
          ],
          [
           "I Want You Back"
          ],
          [
           "Younger Days"
          ],
          [
           "All Apologies"
          ],
          [
           "Zombie"
          ],
          [
           "Hallelujah"
          ],
          [
           "Oude Maasweg"
          ],
          [
           "Lightning Crashes"
          ],
          [
           "Black Hole Sun"
          ],
          [
           "The Man Who Sold The World"
          ],
          [
           "Basket Case"
          ],
          [
           "Where Did You Sleep Last Night"
          ],
          [
           "High Hopes"
          ],
          [
           "Kiss from a Rose"
          ],
          [
           "Always"
          ],
          [
           "All I Want for Christmas Is You"
          ],
          [
           "I Alone"
          ],
          [
           "Sabotage"
          ],
          [
           "Smooth Operator - Single Version"
          ],
          [
           "Glory Box"
          ],
          [
           "Dromen Zijn Bedrog"
          ],
          [
           "Ode To My Family"
          ],
          [
           "No Good (Start the Dance) [Remastered]"
          ],
          [
           "When I Come Around"
          ],
          [
           "Live Forever - Remastered"
          ],
          [
           "Mmm Mmm Mmm Mmm"
          ],
          [
           "Annabel"
          ],
          [
           "Polly"
          ],
          [
           "Grace"
          ],
          [
           "Stil In Mij"
          ],
          [
           "Wonderwall - Remastered"
          ],
          [
           "Don't Look Back In Anger - Remastered"
          ],
          [
           "Streets of Philadelphia - Single Edit"
          ],
          [
           "Earth Song"
          ],
          [
           "Street Spirit (Fade Out)"
          ],
          [
           "Man in the Mirror"
          ],
          [
           "Aan De Kust"
          ],
          [
           "Beat It"
          ],
          [
           "Margherita"
          ],
          [
           "Vivo per lei"
          ],
          [
           "Circle Of Life"
          ],
          [
           "They Don't Care About Us"
          ],
          [
           "Champagne Supernova - Remastered"
          ],
          [
           "You Do Something To Me"
          ],
          [
           "Lemon Tree"
          ],
          [
           "Weak"
          ],
          [
           "Ik Leef Niet Meer Voor Jou"
          ],
          [
           "Gangsta's Paradise"
          ],
          [
           "Con Te Partirò"
          ],
          [
           "Don't Speak"
          ],
          [
           "Heaven For Everyone - Remastered 2011"
          ],
          [
           "Fake Plastic Trees"
          ],
          [
           "Too Much Love Will Kill You - 2011 Remaster"
          ],
          [
           "1979 - Remastered 2012"
          ],
          [
           "Avalon"
          ],
          [
           "You Don't Fool Me - Remastered 2011"
          ],
          [
           "Can You Feel The Love Tonight"
          ],
          [
           "Dear Mama"
          ],
          [
           "Diane"
          ],
          [
           "Stranger in Moscow"
          ],
          [
           "An American Trilogy"
          ],
          [
           "Secret Garden"
          ],
          [
           "Tonight, Tonight - Remastered 2012"
          ],
          [
           "Bullet With Butterfly Wings - Remastered 2012"
          ],
          [
           "A Winter's Tale - 2011 Remaster"
          ],
          [
           "Gold"
          ],
          [
           "High And Dry"
          ],
          [
           "Fairground"
          ],
          [
           "Avond"
          ],
          [
           "She - Tous les visages de l’amour"
          ],
          [
           "Insomnia"
          ],
          [
           "Jesus to a Child"
          ],
          [
           "Down Under"
          ],
          [
           "Jump"
          ],
          [
           "Het Is Een Nacht... (Levensecht)"
          ],
          [
           "Where the Wild Roses Grow - 2011 - Remaster"
          ],
          [
           "Beautiful Noise"
          ],
          [
           "Yesterday When I Was Young"
          ],
          [
           "De Waarheid"
          ],
          [
           "Wereld Zonder Jou"
          ],
          [
           "Wannabe"
          ],
          [
           "Hedonism (Just Because You Feel Good)"
          ],
          [
           "Killing Me Softly With His Song"
          ],
          [
           "You Have Been Loved"
          ],
          [
           "Children"
          ],
          [
           "No Diggity"
          ],
          [
           "Casser la voix - Live \"Si Ce Soir\""
          ],
          [
           "Beautiful Goodbye"
          ],
          [
           "Ain't Nobody"
          ],
          [
           "A Long December"
          ],
          [
           "Novocaine For The Soul"
          ],
          [
           "Per Spoor (Kedeng Kedeng)"
          ],
          [
           "Bitter Sweet Symphony"
          ],
          [
           "Zeg Me Dat Het Niet Zo Is"
          ],
          [
           "Du hast"
          ],
          [
           "Take Me Home, Country Roads"
          ],
          [
           "Karma Police"
          ],
          [
           "Everlong"
          ],
          [
           "Op Fietse"
          ],
          [
           "Paranoid Android"
          ],
          [
           "Lopen Tot De Zon Komt"
          ],
          [
           "Into My Arms - 2011 Remastered Version"
          ],
          [
           "Engel"
          ],
          [
           "k Heb Je Lief"
          ],
          [
           "Chan Chan"
          ],
          [
           "Firestarter"
          ],
          [
           "The Unforgiven II"
          ],
          [
           "Smack My Bitch Up"
          ],
          [
           "You'll Never Walk Alone"
          ],
          [
           "Good Riddance (Time of Your Life)"
          ],
          [
           "Candle In The Wind 1997"
          ],
          [
           "No Surprises"
          ],
          [
           "Als Het Vuur Gedoofd Is"
          ],
          [
           "Little Green Bag"
          ],
          [
           "Beds Are Burning - Remastered"
          ],
          [
           "My Heart Will Go On - Love Theme from \"Titanic\""
          ],
          [
           "t Dondert En 't Bliksemt"
          ],
          [
           "Breathe"
          ],
          [
           "The Memory Remains"
          ],
          [
           "N'oubliez Jamais"
          ],
          [
           "Tell Him"
          ],
          [
           "Mooi Liedje"
          ],
          [
           "Can't Stand Losing You"
          ],
          [
           "Songbird"
          ],
          [
           "Hier Komt De Storm"
          ],
          [
           "The Drugs Don't Work"
          ],
          [
           "Around the World"
          ],
          [
           "Somebody to Love"
          ],
          [
           "Nobody's Wife"
          ],
          [
           "Als Ze Er Niet Is"
          ],
          [
           "Careless Whisper"
          ],
          [
           "Whiskey In The Jar"
          ],
          [
           "Don't Let the Sun Go Down on Me"
          ],
          [
           "The Whole of the Moon"
          ],
          [
           "Liefs Uit Londen"
          ],
          [
           "Narcotic - Long Version"
          ],
          [
           "New Year's Day"
          ],
          [
           "Cowboys and Angels"
          ],
          [
           "Zelfs Je Naam Is Mooi"
          ],
          [
           "Toen Ik Je Zag - Single Version"
          ],
          [
           "I Don't Want to Miss a Thing - From \"Armageddon\" Soundtrack"
          ],
          [
           "Fields Of Gold"
          ],
          [
           "A Different Corner"
          ],
          [
           "Teardrop"
          ],
          [
           "Faith"
          ],
          [
           "Father Figure"
          ],
          [
           "Niet Of Nooit Geweest"
          ],
          [
           "Is Dit Nu Later"
          ],
          [
           "De Bestemming"
          ],
          [
           "Freak On a Leash"
          ],
          [
           "Onderuit"
          ],
          [
           "Non non rien n'a changé"
          ],
          [
           "I'm Not so Tough"
          ],
          [
           "Killer / Papa Was a Rollin' Stone"
          ],
          [
           "I Knew You Were Waiting (For Me)"
          ],
          [
           "If You Tolerate This Your Children Will Be Next"
          ],
          [
           "Praying for Time"
          ],
          [
           "Hilversum 3"
          ],
          [
           "The Reflex"
          ],
          [
           "World of Hurt"
          ],
          [
           "As"
          ],
          [
           "Pure Morning"
          ],
          [
           "She's The One"
          ],
          [
           "Ik Heb Je Lief"
          ],
          [
           "Pretty Fly (For A White Guy)"
          ],
          [
           "I Can't Make You Love Me"
          ],
          [
           "Praise You"
          ],
          [
           "Sacrifice"
          ],
          [
           "Toveren"
          ],
          [
           "Kissing a Fool"
          ],
          [
           "Hijo de la Luna"
          ],
          [
           "Slaap Zacht , Elisabeth"
          ],
          [
           "Angels"
          ],
          [
           "Tears in Heaven"
          ],
          [
           "Californication"
          ],
          [
           "Harder Dan Ik Hebben Kan"
          ],
          [
           "Learn to Fly"
          ],
          [
           "Total Eclipse of the Heart"
          ],
          [
           "Scar Tissue"
          ],
          [
           "Otherside"
          ],
          [
           "You'll Be In My Heart - From \"Tarzan\"/Soundtrack Version"
          ],
          [
           "Let Me Entertain You"
          ],
          [
           "Road Trippin'"
          ],
          [
           "Jesus He Knows Me"
          ],
          [
           "The Family Tree"
          ],
          [
           "Porcelain"
          ],
          [
           "Unintended"
          ],
          [
           "LA Song"
          ],
          [
           "The Dolphin's Cry"
          ],
          [
           "All Star"
          ],
          [
           "Why Does My Heart Feel So Bad?"
          ],
          [
           "Il Volo"
          ],
          [
           "The Next Episode"
          ],
          [
           "Geen Kind Meer"
          ],
          [
           "All The Small Things"
          ],
          [
           "Run To The Water"
          ],
          [
           "Hart Van Mijn Gevoel"
          ],
          [
           "Smooth (feat. Rob Thomas)"
          ],
          [
           "My Name Is"
          ],
          [
           "Desert Rose"
          ],
          [
           "Hey Boy Hey Girl"
          ],
          [
           "At Last"
          ],
          [
           "Can't Help Falling in Love"
          ],
          [
           "Fly Me To The Moon (In Other Words)"
          ],
          [
           "Stand by Me"
          ],
          [
           "Oh, Pretty Woman"
          ],
          [
           "Ring of Fire"
          ],
          [
           "Blowin' in the Wind"
          ],
          [
           "In Dreams"
          ],
          [
           "Twist And Shout - Remastered 2009"
          ],
          [
           "Are You Lonesome Tonight"
          ],
          [
           "I Saw Her Standing There - Remastered 2009"
          ],
          [
           "Don't Think Twice, It's All Right"
          ],
          [
           "The Sound of Silence - Acoustic Version"
          ],
          [
           "House Of The Rising Sun"
          ],
          [
           "Folsom Prison Blues"
          ],
          [
           "The Times They Are A-Changin'"
          ],
          [
           "A Change Is Gonna Come"
          ],
          [
           "A Hard Day's Night - Remastered 2009"
          ],
          [
           "Nathalie"
          ],
          [
           "Eight Days A Week - Remastered 2009"
          ],
          [
           "It's All Over Now - Mono Version"
          ],
          [
           "Yesterday - Remastered 2009"
          ],
          [
           "(I Can't Get No) Satisfaction - Mono Version"
          ],
          [
           "Like a Rolling Stone"
          ],
          [
           "Norwegian Wood (This Bird Has Flown) - Remastered 2009"
          ],
          [
           "Help! - Remastered 2009"
          ],
          [
           "Unchained Melody"
          ],
          [
           "Michelle - Remastered 2009"
          ],
          [
           "Feeling Good"
          ],
          [
           "My Generation - Stereo Version"
          ],
          [
           "In My Life - Remastered 2009"
          ],
          [
           "As Tears Go By - Mono Version"
          ],
          [
           "It Was A Very Good Year"
          ],
          [
           "Time Is On My Side - Mono Version"
          ],
          [
           "Little Red Rooster - Mono Version"
          ],
          [
           "Mr. Tambourine Man"
          ],
          [
           "Paint It, Black"
          ],
          [
           "God Only Knows - Remastered"
          ],
          [
           "California Dreamin' - Single Version"
          ],
          [
           "Eleanor Rigby - Remastered 2009"
          ],
          [
           "River Deep - Mountain High"
          ],
          [
           "That's Life"
          ],
          [
           "Jumpin' Jack Flash - Mono"
          ],
          [
           "Scarborough Fair / Canticle"
          ],
          [
           "Sloop John B - Remastered"
          ],
          [
           "Homeward Bound"
          ],
          [
           "Under My Thumb"
          ],
          [
           "I Want You"
          ],
          [
           "When a Man Loves a Woman"
          ],
          [
           "Sunny Afternoon - Mono Mix"
          ],
          [
           "How Can We Hang On To A Dream"
          ],
          [
           "Monday, Monday - Single Version"
          ],
          [
           "For No One - Remastered 2009"
          ],
          [
           "It's A Man's, Man's, Man's World"
          ],
          [
           "Try a Little Tenderness"
          ],
          [
           "Wouldn't It Be Nice - Stereo Mix"
          ],
          [
           "Nights In White Satin - Single Version / Mono Mix"
          ],
          [
           "The End"
          ],
          [
           "A Day In The Life - Remastered 2009"
          ],
          [
           "Brown Eyed Girl"
          ],
          [
           "Respect"
          ],
          [
           "White Rabbit"
          ],
          [
           "Penny Lane"
          ],
          [
           "Suzanne"
          ],
          [
           "Hey Joe"
          ],
          [
           "Good Vibrations - Remastered"
          ],
          [
           "Light My Fire"
          ],
          [
           "Strawberry Fields Forever - Remastered 2009"
          ],
          [
           "So Long, Marianne"
          ],
          [
           "Little Wing"
          ],
          [
           "The Fool On The Hill - Remastered 2009"
          ],
          [
           "People Are Strange"
          ],
          [
           "The Wind Cries Mary"
          ],
          [
           "Sgt. Pepper's Lonely Hearts Club Band - Remastered 2009"
          ],
          [
           "Lucy In The Sky With Diamonds - Remastered 2009"
          ],
          [
           "Purple Haze"
          ],
          [
           "Ruby Tuesday"
          ],
          [
           "All You Need Is Love - Remastered 2009"
          ],
          [
           "He Ain't Heavy, He's My Brother"
          ],
          [
           "When I'm Sixty Four - Remastered 2009"
          ],
          [
           "Somebody Will Know Someday"
          ],
          [
           "I Am The Walrus - Remastered 2009"
          ],
          [
           "Guitar Man"
          ],
          [
           "Ain't No Mountain High Enough"
          ],
          [
           "San Francisco (Be Sure to Wear Some Flowers In Your Hair)"
          ],
          [
           "She's Leaving Home - Remastered 2009"
          ],
          [
           "I'm a Believer - 2006 Remaster"
          ],
          [
           "Waterloo Sunset - Mono Mix"
          ],
          [
           "Sunshine Of Your Love"
          ],
          [
           "Break on Through (To the Other Side)"
          ],
          [
           "Somebody to Love"
          ],
          [
           "Green Green Grass Of Home"
          ],
          [
           "To Love Somebody"
          ],
          [
           "Pastorale - Remastered"
          ],
          [
           "(Sittin' On) the Dock of the Bay"
          ],
          [
           "Blackbird - Remastered 2009"
          ],
          [
           "I Put A Spell On You"
          ],
          [
           "While My Guitar Gently Weeps - Remastered 2009"
          ],
          [
           "All Along the Watchtower"
          ],
          [
           "Window Of My Eyes - From \"The American\" Soundtrack"
          ],
          [
           "I Say a Little Prayer"
          ],
          [
           "(You Make Me Feel Like) A Natural Woman"
          ],
          [
           "White Room"
          ],
          [
           "Mrs. Robinson - From \"The Graduate\" Soundtrack"
          ],
          [
           "What A Wonderful World - Single Version"
          ],
          [
           "Lea"
          ],
          [
           "The Weight - Remastered"
          ],
          [
           "Ain't Got No - I Got Life - Remastered"
          ],
          [
           "Voodoo Child (Slight Return)"
          ],
          [
           "Suzie Q"
          ],
          [
           "Born To Be Wild - Single Version"
          ],
          [
           "Words"
          ],
          [
           "Massachussetts"
          ],
          [
           "Times Were When"
          ],
          [
           "I Started A Joke"
          ],
          [
           "MacArthur Park"
          ],
          [
           "I'd Rather Go Blind"
          ],
          [
           "Daydream Believer"
          ],
          [
           "Back In The U.S.S.R. - Remastered 2009"
          ],
          [
           "Girl, You'll Be A Woman Soon"
          ],
          [
           "Here Comes The Sun - Remastered 2009"
          ],
          [
           "Space Oddity - 2015 Remaster"
          ],
          [
           "Gimme Shelter"
          ],
          [
           "Suspicious Minds"
          ],
          [
           "Whole Lotta Love - 1990 Remaster"
          ],
          [
           "Sweet Caroline"
          ],
          [
           "Fortunate Son"
          ],
          [
           "In the Ghetto"
          ],
          [
           "Bad Moon Rising"
          ],
          [
           "You Can't Always Get What You Want"
          ],
          [
           "With A Little Help From My Friends"
          ],
          [
           "My Way"
          ],
          [
           "Come Together - Remastered 2009"
          ],
          [
           "Something - Remastered 2009"
          ],
          [
           "Albatross - 2018 Remaster"
          ],
          [
           "Just A Little Bit Of Peace In My Heart"
          ],
          [
           "Venus"
          ],
          [
           "Son of a Preacher Man"
          ],
          [
           "Pinball Wizard"
          ],
          [
           "Marian"
          ],
          [
           "Proud Mary"
          ],
          [
           "Beautiful People"
          ],
          [
           "Oh Well (Pt. 1) - 2013 Remaster"
          ],
          [
           "Born On The Bayou"
          ],
          [
           "Scarlet Ribbons"
          ],
          [
           "The Thrill Is Gone"
          ],
          [
           "Dazed and Confused"
          ],
          [
           "Overture"
          ],
          [
           "Streets of London"
          ],
          [
           "Down On The Corner"
          ],
          [
           "Appleknockers Flophouse"
          ],
          [
           "The First Time Ever I Saw Your Face"
          ],
          [
           "Touch Me"
          ],
          [
           "Summertime"
          ],
          [
           "Midnight Rambler"
          ],
          [
           "Get Ready"
          ],
          [
           "Black Magic Woman - 2018 Remaster"
          ],
          [
           "Suite: Judy Blue Eyes - Remastered"
          ],
          [
           "Blue Suede Shoes"
          ],
          [
           "Jailhouse Rock"
          ],
          [
           "My Baby Just Cares for Me - 2013 Remastered Version"
          ],
          [
           "Summertime"
          ],
          [
           "Heartbreak Hotel"
          ],
          [
           "Hound Dog"
          ],
          [
           "Johnny B. Goode"
          ],
          [
           "Take Five"
          ],
          [
           "Blueberry Hill"
          ]
         ],
         "hovertemplate": "Artist=%{x}<br>Popularity=%{y}<br>Title=%{customdata[0]}<br>Cluster=%{marker.color}<extra></extra>",
         "legendgroup": "",
         "marker": {
          "color": [
           3,
           1,
           1,
           1,
           1,
           1,
           2,
           2,
           2,
           1,
           3,
           2,
           0,
           0,
           1,
           3,
           1,
           1,
           0,
           3,
           1,
           2,
           1,
           2,
           1,
           3,
           1,
           1,
           3,
           2,
           3,
           2,
           1,
           3,
           1,
           2,
           2,
           2,
           0,
           3,
           2,
           2,
           1,
           1,
           2,
           2,
           0,
           2,
           1,
           2,
           3,
           1,
           3,
           2,
           3,
           0,
           2,
           1,
           1,
           3,
           2,
           1,
           1,
           3,
           1,
           2,
           0,
           2,
           2,
           2,
           3,
           2,
           2,
           3,
           2,
           0,
           3,
           2,
           0,
           1,
           0,
           2,
           3,
           1,
           2,
           1,
           1,
           3,
           1,
           1,
           3,
           2,
           2,
           1,
           0,
           0,
           2,
           3,
           1,
           1,
           2,
           3,
           1,
           0,
           2,
           3,
           0,
           1,
           2,
           3,
           1,
           1,
           2,
           1,
           1,
           2,
           2,
           1,
           2,
           2,
           1,
           0,
           3,
           2,
           2,
           1,
           1,
           3,
           0,
           1,
           1,
           3,
           1,
           3,
           2,
           1,
           1,
           2,
           3,
           2,
           0,
           2,
           2,
           2,
           1,
           3,
           3,
           1,
           2,
           3,
           3,
           2,
           3,
           3,
           3,
           1,
           1,
           3,
           1,
           0,
           1,
           1,
           2,
           0,
           2,
           3,
           2,
           2,
           3,
           3,
           3,
           3,
           2,
           0,
           1,
           1,
           1,
           2,
           1,
           2,
           3,
           1,
           1,
           2,
           1,
           1,
           0,
           1,
           2,
           1,
           3,
           1,
           1,
           2,
           1,
           0,
           3,
           2,
           2,
           3,
           3,
           1,
           1,
           2,
           2,
           1,
           1,
           2,
           2,
           3,
           1,
           2,
           1,
           2,
           1,
           2,
           3,
           2,
           3,
           0,
           3,
           3,
           1,
           1,
           3,
           1,
           2,
           3,
           3,
           1,
           3,
           1,
           1,
           3,
           3,
           2,
           1,
           2,
           2,
           1,
           1,
           3,
           2,
           1,
           0,
           1,
           3,
           0,
           1,
           1,
           3,
           1,
           1,
           3,
           2,
           1,
           1,
           3,
           0,
           1,
           1,
           1,
           0,
           3,
           0,
           2,
           1,
           0,
           2,
           1,
           2,
           3,
           3,
           2,
           2,
           2,
           2,
           2,
           1,
           2,
           1,
           3,
           1,
           2,
           2,
           2,
           1,
           2,
           0,
           2,
           2,
           1,
           1,
           3,
           2,
           1,
           2,
           1,
           1,
           2,
           2,
           2,
           0,
           1,
           3,
           0,
           2,
           2,
           3,
           1,
           1,
           2,
           1,
           2,
           3,
           2,
           2,
           2,
           2,
           3,
           0,
           2,
           1,
           1,
           1,
           2,
           2,
           1,
           1,
           3,
           2,
           3,
           1,
           3,
           3,
           1,
           3,
           2,
           2,
           3,
           1,
           0,
           3,
           2,
           2,
           2,
           0,
           3,
           3,
           1,
           1,
           1,
           0,
           2,
           1,
           2,
           2,
           2,
           2,
           1,
           2,
           0,
           1,
           1,
           3,
           1,
           1,
           3,
           1,
           2,
           1,
           3,
           1,
           3,
           2,
           2,
           1,
           3,
           2,
           0,
           3,
           2,
           3,
           3,
           3,
           2,
           1,
           3,
           2,
           2,
           1,
           3,
           2,
           2,
           2,
           3,
           1,
           1,
           1,
           1,
           0,
           1,
           1,
           1,
           0,
           0,
           1,
           3,
           2,
           2,
           2,
           0,
           2,
           1,
           3,
           2,
           3,
           1,
           1,
           1,
           1,
           3,
           1,
           1,
           2,
           2,
           3,
           1,
           1,
           2,
           1,
           3,
           2,
           3,
           1,
           1,
           1,
           3,
           1,
           2,
           0,
           2,
           2,
           1,
           3,
           2,
           1,
           3,
           1,
           2,
           2,
           3,
           1,
           1,
           2,
           3,
           1,
           1,
           1,
           3,
           1,
           1,
           3,
           3,
           2,
           1,
           1,
           3,
           0,
           3,
           3,
           1,
           1,
           1,
           1,
           0,
           3,
           1,
           1,
           1,
           1,
           3,
           0,
           3,
           1,
           1,
           2,
           2,
           2,
           1,
           3,
           3,
           0,
           0,
           2,
           1,
           2,
           2,
           0,
           1,
           3,
           3,
           2,
           2,
           0,
           3,
           3,
           2,
           2,
           1,
           2,
           2,
           2,
           1,
           3,
           3,
           2,
           1,
           2,
           2,
           3,
           2,
           1,
           2,
           1,
           3,
           1,
           3,
           1,
           3,
           1,
           1,
           2,
           2,
           2,
           3,
           0,
           1,
           3,
           1,
           2,
           1,
           2,
           2,
           3,
           3,
           1,
           2,
           2,
           2,
           2,
           1,
           1,
           2,
           1,
           1,
           3,
           2,
           1,
           2,
           2,
           2,
           1,
           1,
           1,
           1,
           3,
           3,
           3,
           2,
           1,
           3,
           2,
           2,
           1,
           2,
           1,
           3,
           1,
           1,
           0,
           1,
           2,
           1,
           2,
           2,
           1,
           3,
           0,
           0,
           2,
           2,
           2,
           1,
           2,
           2,
           3,
           2,
           1,
           2,
           2,
           3,
           1,
           3,
           1,
           0,
           0,
           2,
           3,
           1,
           0,
           2,
           2,
           3,
           3,
           2,
           1,
           2,
           2,
           2,
           1,
           3,
           1,
           1,
           1,
           2,
           1,
           3,
           3,
           1,
           3,
           2,
           1,
           0,
           1,
           1,
           1,
           1,
           1,
           3,
           1,
           1,
           1,
           1,
           3,
           0,
           3,
           3,
           3,
           1,
           1,
           2,
           1,
           1,
           1,
           2,
           3,
           1,
           3,
           2,
           3,
           1,
           3,
           2,
           1,
           2,
           2,
           2,
           2,
           1,
           1,
           1,
           3,
           2,
           3,
           2,
           1,
           3,
           2,
           3,
           3,
           1,
           1,
           1,
           0,
           1,
           2,
           3,
           1,
           2,
           3,
           1,
           1,
           3,
           3,
           2,
           1,
           1,
           3,
           1,
           2,
           3,
           2,
           1,
           2,
           2,
           1,
           2,
           3,
           1,
           1,
           3,
           0,
           3,
           2,
           2,
           3,
           2,
           1,
           3,
           3,
           2,
           1,
           2,
           2,
           2,
           2,
           1,
           1,
           2,
           1,
           3,
           3,
           1,
           1,
           3,
           2,
           1,
           1,
           1,
           2,
           3,
           1,
           1,
           3,
           2,
           1,
           1,
           2,
           3,
           1,
           3,
           2,
           3,
           3,
           1,
           2,
           1,
           1,
           0,
           1,
           1,
           3,
           1,
           1,
           2,
           1,
           3,
           3,
           3,
           1,
           2,
           1,
           1,
           1,
           2,
           1,
           2,
           3,
           3,
           3,
           2,
           3,
           1,
           2,
           2,
           1,
           3,
           1,
           0,
           0,
           2,
           1,
           2,
           2,
           2,
           1,
           2,
           3,
           1,
           2,
           3,
           1,
           1,
           3,
           3,
           0,
           3,
           3,
           2,
           1,
           3,
           3,
           3,
           2,
           1,
           3,
           0,
           1,
           2,
           0,
           3,
           1,
           2,
           1,
           1,
           2,
           3,
           1,
           1,
           3,
           1,
           2,
           1,
           3,
           1,
           3,
           1,
           3,
           3,
           3,
           2,
           2,
           3,
           1,
           2,
           3,
           2,
           1,
           3,
           2,
           2,
           1,
           3,
           1,
           2,
           2,
           0,
           1,
           2,
           3,
           3,
           1,
           3,
           3,
           2,
           3,
           3,
           1,
           2,
           3,
           2,
           1,
           3,
           2,
           2,
           2,
           3,
           3,
           2,
           0,
           2,
           1,
           3,
           1,
           2,
           0,
           1,
           3,
           3,
           0,
           2,
           3,
           3,
           2,
           1,
           1,
           2,
           2,
           3,
           0,
           3,
           3,
           3,
           2,
           1,
           1,
           3,
           1,
           3,
           2,
           1,
           3,
           3,
           1,
           3,
           2,
           2,
           3,
           3,
           2,
           3,
           0,
           1,
           2,
           3,
           3,
           1,
           1,
           1,
           1,
           1,
           2,
           2,
           3,
           1,
           2,
           1,
           2,
           2,
           2,
           3,
           2,
           2,
           1,
           3,
           3,
           3,
           0,
           1,
           2,
           1,
           3,
           3,
           2,
           0,
           3,
           0,
           2,
           1,
           1,
           3,
           3,
           2,
           3,
           3,
           1,
           3,
           0,
           1,
           1,
           3,
           0,
           3,
           1,
           1,
           2,
           1,
           2,
           2,
           2,
           2,
           3,
           2,
           1,
           1,
           3,
           2,
           0,
           1,
           0,
           3,
           1,
           1,
           1,
           2,
           3,
           2,
           3,
           1,
           2,
           0,
           3,
           1,
           1,
           1,
           1,
           1,
           1,
           2,
           3,
           1,
           3,
           0,
           1,
           1,
           2,
           2,
           3,
           2,
           3,
           2,
           2,
           3,
           2,
           3,
           2,
           3,
           1,
           3,
           1,
           0,
           1,
           3,
           2,
           1,
           3,
           1,
           1,
           2,
           3,
           2,
           2,
           2,
           2,
           3,
           3,
           1,
           2,
           1,
           2,
           1,
           3,
           1,
           1,
           1,
           0,
           3,
           1,
           2,
           1,
           2,
           0,
           2,
           1,
           1,
           1,
           1,
           1,
           0,
           3,
           1,
           2,
           1,
           3,
           1,
           1,
           0,
           3,
           2,
           1,
           1,
           0,
           3,
           2,
           0,
           2,
           2,
           3,
           1,
           1,
           1,
           2,
           2,
           2,
           1,
           2,
           1,
           2,
           0,
           1,
           2,
           2,
           0,
           1,
           1,
           2,
           1,
           2,
           2,
           3,
           3,
           2,
           1,
           2,
           3,
           2,
           2,
           1,
           2,
           2,
           0,
           3,
           1,
           1,
           3,
           2,
           2,
           3,
           1,
           2,
           1,
           3,
           1,
           2,
           2,
           1,
           3,
           2,
           1,
           1,
           2,
           1,
           1,
           1,
           1,
           0,
           2,
           1,
           0,
           1,
           1,
           1,
           2,
           3,
           2,
           2,
           1,
           1,
           3,
           1,
           3,
           1,
           1,
           2,
           0,
           3,
           1,
           1,
           3,
           1,
           3,
           1,
           0,
           3,
           1,
           2,
           2,
           1,
           2,
           1,
           1,
           1,
           2,
           2,
           2,
           2,
           2,
           2,
           3,
           3,
           0,
           1,
           2,
           2,
           2,
           1,
           0,
           2,
           1,
           2,
           2,
           1,
           3,
           2,
           1,
           2,
           3,
           3,
           2,
           1,
           1,
           2,
           2,
           3,
           1,
           1,
           2,
           3,
           3,
           3,
           1,
           1,
           2,
           2,
           3,
           2,
           3,
           3,
           1,
           2,
           2,
           2,
           3,
           1,
           1,
           2,
           2,
           1,
           2,
           1,
           1,
           1,
           1,
           2,
           2,
           2,
           0,
           2,
           3,
           2,
           0,
           2,
           3,
           2,
           3,
           3,
           2,
           0,
           1,
           1,
           0,
           3,
           1,
           1,
           1,
           0,
           3,
           3,
           1,
           2,
           2,
           2,
           3,
           0,
           2,
           1,
           1,
           2,
           1,
           1,
           2,
           1,
           0,
           1,
           3,
           2,
           2,
           1,
           2,
           1,
           2,
           1,
           1,
           2,
           2,
           2,
           2,
           3,
           1,
           3,
           2,
           3,
           1,
           1,
           1,
           0,
           1,
           2,
           0,
           3,
           3,
           1,
           3,
           1,
           2,
           3,
           2,
           3,
           3,
           3,
           1,
           1,
           2,
           2,
           2,
           1,
           2,
           3,
           2,
           3,
           2,
           1,
           2,
           2,
           1,
           2,
           2,
           2,
           3,
           2,
           1,
           2,
           3,
           2,
           2,
           1,
           3,
           3,
           3,
           2,
           1,
           3,
           1,
           2,
           1,
           1,
           2,
           2,
           1,
           1,
           2,
           3,
           1,
           2,
           2,
           3,
           1,
           3,
           0,
           3,
           1,
           2,
           0,
           2,
           2,
           3,
           2,
           2,
           2,
           2,
           1,
           3,
           3,
           2,
           1,
           3,
           1,
           2,
           2,
           2,
           1,
           3,
           2,
           0,
           1,
           1,
           2,
           3,
           1,
           0,
           3,
           2,
           3,
           1,
           2,
           3,
           1,
           3,
           2,
           3,
           2,
           3,
           3,
           2,
           2,
           2,
           2,
           0,
           2,
           1,
           2,
           1,
           2,
           2,
           3,
           2,
           2,
           1,
           1,
           3,
           3,
           2,
           2,
           0,
           1,
           2,
           1,
           0,
           0,
           2,
           2,
           1,
           1,
           2,
           3,
           1,
           2,
           2,
           2,
           3,
           2,
           2,
           3,
           2,
           2,
           1,
           2,
           2,
           3,
           3,
           2,
           3,
           3,
           1,
           2,
           1,
           2,
           1,
           1,
           2,
           2,
           2,
           2,
           1,
           3,
           1,
           2,
           2,
           1,
           2,
           2,
           2,
           1,
           1,
           1,
           1,
           2,
           1,
           2,
           2,
           2,
           0,
           2,
           1,
           0,
           1,
           3,
           1,
           1,
           2,
           2,
           2,
           2,
           2,
           1,
           2,
           1,
           1,
           3,
           2,
           3,
           2,
           1,
           2,
           2,
           2,
           1,
           2,
           2,
           2,
           2,
           2,
           3,
           2,
           2,
           2,
           2,
           2,
           2,
           2,
           1,
           2,
           2,
           2,
           3,
           1,
           2,
           2,
           2,
           1,
           1,
           1,
           0,
           2,
           3,
           2,
           3,
           2,
           3,
           3,
           2,
           1,
           2,
           1,
           2,
           2,
           3,
           1,
           2,
           3,
           1,
           3,
           2,
           2,
           2,
           1,
           2,
           1,
           1,
           3,
           2,
           0,
           3,
           3,
           3,
           1,
           2,
           2,
           2,
           2,
           1,
           2,
           2,
           1,
           3,
           2,
           2,
           3,
           1,
           1,
           0,
           1,
           2,
           2,
           2,
           2,
           1,
           1,
           2,
           1,
           3,
           2,
           2,
           2,
           1,
           2,
           1,
           3,
           3,
           1,
           1,
           2,
           1,
           2,
           2,
           1,
           3,
           2,
           1,
           2,
           2,
           2,
           3,
           3,
           2,
           1,
           2,
           2,
           2,
           2,
           3,
           3,
           2,
           2,
           2,
           1,
           0,
           2,
           3,
           1,
           2,
           2,
           1,
           2,
           2,
           2,
           2,
           2,
           1,
           2,
           1,
           1,
           0,
           1,
           2,
           2,
           2,
           1,
           3,
           2,
           3,
           3,
           2,
           3,
           3,
           1,
           2,
           3,
           3,
           3,
           2,
           2,
           1,
           3,
           2,
           2,
           2,
           3,
           2,
           3,
           2,
           3,
           1,
           3,
           2,
           0,
           3,
           2,
           2,
           2,
           2,
           2,
           2,
           3,
           1,
           1,
           1,
           2,
           2,
           3,
           2,
           2,
           1,
           2,
           3,
           2,
           2,
           0,
           1,
           2,
           1,
           0,
           3,
           1,
           1,
           1,
           1,
           2,
           3,
           2,
           3,
           2,
           1,
           2,
           2,
           3,
           3,
           2,
           3,
           3,
           2,
           2,
           2,
           1,
           1,
           3,
           2,
           1,
           1,
           2,
           3,
           3,
           2,
           2,
           1,
           3,
           3,
           2,
           3,
           3,
           2,
           1,
           0,
           1,
           1,
           1,
           2,
           0,
           0,
           3,
           1,
           0,
           1,
           1,
           3,
           1,
           3,
           3,
           2,
           1,
           1,
           1,
           0,
           2,
           2,
           1,
           3,
           1,
           0,
           1,
           1,
           1,
           3,
           0,
           3,
           1,
           2,
           3,
           0,
           2,
           3,
           1,
           3,
           3,
           1,
           3,
           1,
           2,
           3,
           2,
           1,
           1,
           1,
           2,
           2,
           2,
           2,
           2,
           3,
           3,
           2,
           3,
           1,
           2,
           2,
           2,
           2,
           1,
           3,
           0,
           1,
           3,
           2,
           1,
           2,
           2,
           3,
           3,
           3,
           3,
           3,
           3,
           3,
           3,
           3,
           3,
           2,
           3,
           3,
           2,
           1,
           3,
           3,
           2,
           0,
           2,
           2,
           3,
           2,
           3,
           2,
           2,
           2,
           3,
           3,
           2,
           2,
           3,
           3,
           2,
           2,
           0,
           2,
           2,
           2,
           3,
           3,
           3,
           2,
           3,
           2,
           3,
           2,
           1,
           2,
           2,
           3,
           0,
           3,
           3,
           2,
           3,
           2,
           2,
           0,
           2,
           1,
           3,
           2,
           3,
           1,
           2,
           2,
           2,
           3,
           1,
           3,
           3,
           1,
           0,
           2,
           1,
           3,
           2,
           0,
           3,
           1,
           0,
           3,
           2,
           2,
           3,
           3,
           2,
           1,
           2,
           3,
           2,
           3,
           3,
           3,
           3,
           1,
           2,
           1,
           1,
           1,
           1,
           1,
           3,
           3,
           2,
           2,
           0,
           3,
           1,
           2,
           1,
           1,
           2,
           1,
           3,
           3,
           2,
           2,
           3,
           2,
           1,
           2,
           1,
           2,
           3,
           1,
           3,
           1,
           3,
           1,
           3,
           2,
           2,
           3,
           1,
           2,
           1,
           2,
           2,
           1,
           3,
           1,
           1,
           2,
           1,
           2,
           2,
           3,
           3,
           1,
           3,
           2,
           1,
           3,
           0,
           1,
           1,
           3,
           1,
           3,
           3,
           3,
           0,
           3,
           2,
           3
          ],
          "coloraxis": "coloraxis",
          "opacity": 0.7,
          "size": 10,
          "symbol": "circle"
         },
         "mode": "markers",
         "name": "",
         "showlegend": false,
         "type": "scattergl",
         "x": [
          "Norah Jones",
          "Deep Purple",
          "Gorillaz",
          "Foo Fighters",
          "Bruce Springsteen",
          "City To City",
          "Maroon 5",
          "Muse",
          "The Killers",
          "Eminem",
          "Elvis Presley",
          "The White Stripes",
          "De Dijk",
          "Ten Years After",
          "Arctic Monkeys",
          "Paul de Leeuw",
          "Coldplay",
          "Alanis Morissette",
          "John Miles",
          "Justin Timberlake",
          "Coldplay",
          "Mumford & Sons",
          "Jan Smit",
          "The Killers",
          "BLØF",
          "Ilse DeLange",
          "Editors",
          "Eminem",
          "Herbert Grönemeyer",
          "Youssou N'Dour",
          "Coldplay",
          "Robert Plant",
          "Adele",
          "Norah Jones",
          "Amy Winehouse",
          "Sandy Coast",
          "The Goo Goo Dolls",
          "U2",
          "Foo Fighters",
          "Guus Meeuwis",
          "Santa Esmeralda",
          "Tiësto",
          "Franz Ferdinand",
          "Green Day",
          "Linkin Park",
          "Robbie Williams",
          "Lou Reed",
          "Snow Patrol",
          "Barry White",
          "Saybia",
          "Pearl Jam",
          "BLØF",
          "James Blunt",
          "Metallica",
          "Christina Aguilera",
          "Elbow",
          "U2",
          "Beyoncé",
          "Backstreet Boys",
          "Golden Earring",
          "Rowwen Hèze",
          "Johnny Cash",
          "Doe Maar",
          "Manu Chao",
          "3 Doors Down",
          "Seal",
          "P!nk",
          "Status Quo",
          "Saybia",
          "Stereophonics",
          "Adele",
          "Queens of the Stone Age",
          "Peter Sarstedt",
          "The Dubliners",
          "Mumford & Sons",
          "Michael Jackson",
          "Jacques Brel",
          "Volbeat",
          "Marco Borsato",
          "Elbow",
          "Spinvis",
          "Twarres",
          "Enya",
          "Blue",
          "The Offspring",
          "BLØF",
          "Anouk",
          "Claw Boys Claw",
          "David Bowie",
          "Foo Fighters",
          "Boudewijn de Groot",
          "The Proclaimers",
          "Marco Borsato",
          "BLØF",
          "Rowwen Hèze",
          "Green Day",
          "Mark Ronson",
          "Gé Reinders",
          "Marco Borsato",
          "Manic Street Preachers",
          "Linkin Park",
          "Herbert Grönemeyer",
          "Anouk",
          "Bruce Springsteen",
          "Veldhuis & Kemper",
          "Alicia Keys",
          "JAY-Z",
          "Armand",
          "Kid Rock",
          "Jeff Wayne",
          "John Mayer",
          "Keane",
          "The Fray",
          "Andre Hazes",
          "Eminem",
          "Santana",
          "Muse",
          "Daft Punk",
          "Kings of Leon",
          "The Temper Trap",
          "Beyoncé",
          "John Farnham",
          "IOS",
          "The Bangles",
          "The Temptations",
          "Beyoncé",
          "Foo Fighters",
          "John Mayer",
          "Bram Vermeulen",
          "Editors",
          "Enigma",
          "Maarten Van Roozendaal",
          "Amy Winehouse",
          "Marco Borsato",
          "Tenacious D",
          "Amy Winehouse",
          "Coldplay",
          "Pat Benatar",
          "Michael Bublé",
          "Rammstein",
          "The Black Eyed Peas",
          "The Cult",
          "Normaal",
          "UB40",
          "Elvis Presley",
          "Racoon",
          "Neil Young",
          "De Poema's",
          "The Beatles",
          "Santana",
          "Snow Patrol",
          "Nightwish",
          "Rufus Wainwright",
          "Doe Maar",
          "Fish",
          "Coldplay",
          "John Mayer",
          "Mark Knopfler",
          "Counting Crows",
          "The Weather Girls",
          "Anouk",
          "Billy Joel",
          "Mike Oldfield",
          "Ramses Shaffy",
          "Muse",
          "Evanescence",
          "Racoon",
          "Michael Bublé",
          "Plain White T's",
          "Marco Borsato",
          "Yann Tiersen",
          "Krezip",
          "The Script",
          "John Mayer",
          "Beyoncé",
          "De Jeugd Van Tegenwoordig",
          "BLØF",
          "Within Temptation",
          "Golden Earring",
          "Neil Young",
          "Alain Clark",
          "Bill Medley",
          "Damien Rice",
          "U2",
          "Jamiroquai",
          "Doe Maar",
          "Queens of the Stone Age",
          "Golden Earrings",
          "Muse",
          "Gossip",
          "Doe Maar",
          "Blondie",
          "Eminem",
          "U2",
          "JOHAN",
          "Michel Sardou",
          "Daniël Lohues",
          "Muse",
          "Stereophonics",
          "Sarah Brightman",
          "Coldplay",
          "Delerium",
          "Acda en de Munnik",
          "Muse",
          "Nick & Simon",
          "Doe Maar",
          "Golden Earring",
          "Tom Petty and the Heartbreakers",
          "Normaal",
          "Eddie Vedder",
          "Dido",
          "Tavares",
          "Green Day",
          "Red Hot Chili Peppers",
          "Chris Rea",
          "Rammstein",
          "Doe Maar",
          "The Scene",
          "Bee Gees",
          "Eminem",
          "Christina Aguilera",
          "John Mayer",
          "Beth Hart",
          "Kayak",
          "Foo Fighters",
          "3 Doors Down",
          "Mary J. Blige",
          "De Poema's",
          "Gary Jules",
          "Doe Maar",
          "Michael Bublé",
          "10cc",
          "Blur",
          "Krezip",
          "Billy Joel",
          "Owl City",
          "Anouk",
          "Wolfmother",
          "The Black Eyed Peas",
          "Coldplay",
          "Amy Macdonald",
          "Chris Isaak",
          "The Script",
          "K's Choice",
          "Ilse DeLange",
          "Amy Macdonald",
          "Michael Jackson",
          "Rowwen Hèze",
          "Kim Wilde",
          "Amy Winehouse",
          "Marco Borsato",
          "Focus",
          "Herbert Grönemeyer",
          "Coldplay",
          "Muse",
          "Kane",
          "Blondie",
          "Adele",
          "Paul McCartney",
          "Ilse DeLange",
          "Acda en de Munnik",
          "Coldplay",
          "Linkin Park",
          "John Mayer",
          "JAY-Z",
          "Train",
          "BLØF",
          "Sam Cooke",
          "Womack & Womack",
          "Bruce Springsteen",
          "Red Hot Chili Peppers",
          "Anouk",
          "John Legend",
          "The Scene",
          "Spandau Ballet",
          "Lionel Richie",
          "Phil Collins",
          "U2",
          "Editors",
          "OutKast",
          "Eurythmics",
          "Alderliefste met Ramses Shaffy en Liesbeth List",
          "De Jeugd Van Tegenwoordig",
          "Robbie Williams",
          "The Rolling Stones",
          "Madonna",
          "Chi Coltrane",
          "System Of A Down",
          "Kyteman",
          "Michael Jackson",
          "Snow Patrol",
          "Alanis Morissette",
          "Arctic Monkeys",
          "Johnny Cash",
          "Madonna",
          "Beyoncé",
          "Mud",
          "Alderliefste",
          "Darude",
          "Robert Cray",
          "Neet Oét Lottum",
          "Madonna",
          "Status Quo",
          "Chris Isaak",
          "P!nk",
          "Toontje Lager",
          "The Killers",
          "The Beatles",
          "Joni Mitchell",
          "Faithless",
          "Coldplay",
          "MGMT",
          "Keane",
          "The Beatles",
          "Muse",
          "Stevie Wonder",
          "U2",
          "Red Hot Chili Peppers",
          "The Beatles",
          "Rowwen Hèze",
          "Guus Meeuwis",
          "Stealers Wheel",
          "Acda en de Munnik",
          "Coldplay",
          "Florence + The Machine",
          "U2",
          "Peter Schilling",
          "Editors",
          "Coldplay",
          "Mark Knopfler",
          "New Order",
          "Limp Bizkit",
          "Amy Winehouse",
          "Snowy White",
          "Jason Mraz",
          "Abel",
          "Sammy Davis Jr.",
          "Natasha Bedingfield",
          "Muse",
          "Keane",
          "Gorki",
          "Alanis Morissette",
          "Live",
          "Within Temptation",
          "Snow Patrol",
          "Red Hot Chili Peppers",
          "Massive Attack",
          "Katie Melua",
          "James Blunt",
          "Bon Jovi",
          "Coldplay",
          "BLØF",
          "De Kast",
          "Kings of Leon",
          "Lisa Lois",
          "Keane",
          "Simply Red",
          "Nickelback",
          "Ronan Keating",
          "Eddie Vedder",
          "Simple Minds",
          "Gorillaz",
          "BLØF",
          "Anouk",
          "Robbie Williams",
          "Guus Meeuwis",
          "Arctic Monkeys",
          "Madonna",
          "Editors",
          "Lady Gaga",
          "Coldplay",
          "Johnny Cash",
          "Kaiser Chiefs",
          "Lange Frans",
          "Lady Gaga",
          "U2",
          "Coldplay",
          "Rowwen Hèze",
          "Ram Jam",
          "Novastar",
          "Herman Brood & His Wild Romance",
          "Muse",
          "Rowwen Hèze",
          "Van Dik Hout",
          "Guus Meeuwis",
          "Within Temptation",
          "Daft Punk",
          "Elvis Presley",
          "Spandau Ballet",
          "Queens of the Stone Age",
          "Evanescence",
          "Coldplay",
          "White Lies",
          "Muse",
          "Nick & Simon",
          "Damien Rice",
          "Bruce Springsteen",
          "Ike & Tina Turner",
          "Band Aid",
          "2Pac",
          "Claudia De Breij",
          "De Jeugd Van Tegenwoordig",
          "Joy Division",
          "De Dijk",
          "Anita Meyer",
          "Charly Lownoise",
          "Guus Meeuwis",
          "Racoon",
          "Triggerfinger",
          "Racoon",
          "Racoon",
          "Emerson, Lake & Palmer",
          "Stromae",
          "Jeff Wayne",
          "Caro Emerald",
          "P!nk",
          "Matthias Reim",
          "Coldplay",
          "Cock Robin",
          "Golden Earring",
          "DI-RECT",
          "Guus Meeuwis",
          "Bruno Mars",
          "Lady Antebellum",
          "Rihanna",
          "Kings of Leon",
          "Roy Orbison",
          "Joy Division",
          "Bruno Mars",
          "Party Animals",
          "Kings of Leon",
          "Agnes Obel",
          "Solomon Burke",
          "Adele",
          "Adele",
          "DJ Paul Elstak",
          "Avicii",
          "Gotye",
          "Coldplay",
          "Marco Borsato",
          "Johnny Cash",
          "Scorpions",
          "The Black Keys",
          "Foo Fighters",
          "Ed Sheeran",
          "Spinvis",
          "Daniël Lohues",
          "Elbow",
          "David Guetta",
          "Within Temptation",
          "The Black Keys",
          "Adele",
          "DJ Paul",
          "De Dijk",
          "Sniff 'n' The Tears",
          "Lange Frans",
          "Coldplay",
          "Marco Borsato",
          "Jacques Brel",
          "Adele",
          "Ben Howard",
          "Foster The People",
          "Jonathan Jeremiah",
          "Ed Sheeran",
          "The Black Keys",
          "JAY-Z",
          "Beyoncé",
          "Road Band",
          "Beyoncé",
          "Ed Sheeran",
          "Birdy",
          "Joe Bonamassa",
          "Kane",
          "Foo Fighters",
          "INXS",
          "Maggie MacNeal",
          "Ray Charles",
          "Coldplay",
          "Golden Earring",
          "Adele",
          "BLØF",
          "Counting Crows",
          "Imagine Dragons",
          "Lana Del Rey",
          "Imagine Dragons",
          "Elvis Costello",
          "P!nk",
          "P!nk",
          "Mumford & Sons",
          "Kensington",
          "Mike Oldfield",
          "Tori Amos",
          "Andre Hazes",
          "BLØF",
          "Muse",
          "Keane",
          "Macklemore & Ryan Lewis",
          "Mumford & Sons",
          "Johnny Cash",
          "Imagine Dragons",
          "Youp van 't Hek",
          "Michael Kiwanuka",
          "The Script",
          "The Script",
          "Drs. P",
          "Bruno Mars",
          "Jason Mraz",
          "The Opposites",
          "Whitney Houston",
          "BLØF",
          "Mumford & Sons",
          "Mumford & Sons",
          "Xavier Rudd",
          "BLØF",
          "Emeli Sandé",
          "Rihanna",
          "Rihanna",
          "Imagine Dragons",
          "Of Monsters and Men",
          "Loreen",
          "Racoon",
          "Volbeat",
          "Avicii",
          "Stromae",
          "Arctic Monkeys",
          "Tom Odell",
          "Avicii",
          "Ed Sheeran",
          "Armin van Buuren",
          "John Legend",
          "De Dijk",
          "De Staat",
          "The Boxer Rebellion",
          "Passenger",
          "Stromae",
          "London Grammar",
          "Derek & The Dominos",
          "Bastille",
          "Mr. Probz",
          "Daft Punk",
          "Kodaline",
          "Avicii",
          "Martin Garrix",
          "Snow Patrol",
          "3JS",
          "Paul Kalkbrenner",
          "Eminem",
          "Justin Timberlake",
          "One Direction",
          "Lorde",
          "Stromae",
          "De Dijk",
          "Herman Brood & His Wild Romance",
          "Queens of the Stone Age",
          "Backstreet Boys",
          "Editors",
          "Jewel",
          "Tom Odell",
          "Bastille",
          "Robin Thicke",
          "Robbie Williams",
          "Paolo Nutini",
          "Coldplay",
          "Adele",
          "Kensington",
          "Ed Sheeran",
          "Hozier",
          "Michel Fugain",
          "Chef'Special",
          "Underworld",
          "Kensington",
          "Daniël Lohues",
          "Pharrell Williams",
          "The Common Linnets",
          "Kensington",
          "The War On Drugs",
          "Coldplay",
          "Ed Sheeran",
          "Kensington",
          "First Aid Kit",
          "Typhoon",
          "Dotan",
          "The War On Drugs",
          "Gigi D'Agostino",
          "The Who",
          "Typhoon",
          "Bush",
          "Jeroen van Koningsbrugge",
          "The Beatles",
          "2Pac",
          "The Script",
          "Sam Smith",
          "Taylor Swift",
          "Fink",
          "The Script",
          "OneRepublic",
          "Cyndi Lauper",
          "Nielson",
          "Kensington",
          "Michael Jackson",
          "WALK THE MOON",
          "Mr. Probz",
          "Blaudzun",
          "James Bay",
          "Disturbed",
          "Wim Sonneveld",
          "Muse",
          "Nightwish",
          "Maaike Ouboter",
          "Armin van Buuren",
          "Andre Hazes",
          "Sia",
          "Mark Ronson",
          "Anouk",
          "Anouk",
          "Tame Impala",
          "Coldplay",
          "Tame Impala",
          "U2",
          "Twenty One Pilots",
          "Anouk",
          "Air",
          "Coldplay",
          "Coldplay",
          "Anouk",
          "Van Morrison",
          "Anouk",
          "Frank Sinatra",
          "Douwe Bob",
          "George Ezra",
          "Racoon",
          "Muse",
          "Chris Stapleton",
          "Jean-Michel Jarre",
          "Coldplay",
          "Faithless",
          "Eric Clapton",
          "Brainbox",
          "Gregory Porter",
          "Cliff Richard & The Drifters",
          "Editors",
          "Dua Lipa",
          "Coldplay",
          "Florence + The Machine",
          "Justin Bieber",
          "John Lennon",
          "Kensington",
          "Michael Kiwanuka",
          "Freddie Mercury",
          "André Hazes Jr.",
          "Adele",
          "Phil Collins",
          "Diggy Dex",
          "Adele",
          "Kensington",
          "Justin Timberlake",
          "Status Quo",
          "David Bowie",
          "Adele",
          "Red Hot Chili Peppers",
          "Leonard Cohen",
          "Kensington",
          "Ennio Morricone",
          "Marco Borsato",
          "Elvis Presley",
          "Michael Kiwanuka",
          "Simple Minds",
          "The Trammps",
          "Simple Minds",
          "Bruno Mars",
          "David Bowie",
          "Adele",
          "Adele",
          "Q'65",
          "Paul McCartney",
          "Twenty One Pilots",
          "Douwe Bob",
          "KALEO",
          "Lukas Graham",
          "Ryuichi Sakamoto",
          "Gavin James",
          "BLØF",
          "Jason Paige",
          "Ed Sheeran",
          "Michael Jackson",
          "Green Day",
          "P!nk",
          "Ed Sheeran",
          "Imagine Dragons",
          "Rag'n'Bone Man",
          "Ede Staal",
          "Ed Sheeran",
          "Harry Styles",
          "John Mayer",
          "Lex Uiting",
          "Status Quo",
          "Imagine Dragons",
          "Chef'Special",
          "Bökkers",
          "Arcade Fire",
          "Nothing But Thieves",
          "Linkin Park",
          "Spandau Ballet",
          "George Michael",
          "Nothing But Thieves",
          "The Chainsmokers",
          "Imagine Dragons",
          "The War On Drugs",
          "Ed Sheeran",
          "Ed Sheeran",
          "Armin van Buuren",
          "Ed Sheeran",
          "Green Day",
          "Paolo Conte",
          "The Sugarhill Gang",
          "The War On Drugs",
          "Neil Diamond",
          "The Moody Blues",
          "Elbow",
          "Chef'Special",
          "Dua Lipa",
          "P!nk",
          "Bastille",
          "Tom Walker",
          "Rag'n'Bone Man",
          "LP",
          "Lady Gaga",
          "Andre Hazes",
          "Davina Michelle",
          "Queen",
          "Earth, Wind & Fire",
          "Frans Halsema",
          "Boudewijn de Groot",
          "Helene Fischer",
          "Andre Hazes",
          "Boudewijn de Groot",
          "Suzan & Freek",
          "Andre Hazes",
          "Andre Hazes",
          "Imagine Dragons",
          "Nielson",
          "Boudewijn de Groot",
          "Boudewijn de Groot",
          "Imagine Dragons",
          "Ramses Shaffy",
          "Panic! At The Disco",
          "Boudewijn de Groot",
          "George Ezra",
          "John Mayer",
          "Lauren Daigle",
          "Andre Hazes",
          "Lewis Capaldi",
          "Rob De Nijs",
          "Rob De Nijs",
          "Frans Halsema",
          "Alan Walker",
          "Martin Garrix",
          "Andre Hazes",
          "Andre Hazes",
          "Lady Gaga",
          "Boudewijn de Groot",
          "Beth Hart",
          "Diggy Dex",
          "5 Seconds of Summer",
          "Boudewijn de Groot",
          "Waylon",
          "Boudewijn de Groot",
          "Spider Murphy Gang",
          "The Teskey Brothers",
          "Douwe Bob",
          "Andre Hazes",
          "Mumford & Sons",
          "Camila Cabello",
          "BLØF",
          "Calvin Harris",
          "Mark Ronson",
          "Ilse DeLange",
          "Shawn Mendes",
          "Danny Vera",
          "Duncan Laurence",
          "Procol Harum",
          "Simple Minds",
          "Jackson Browne",
          "Jackson Browne",
          "Wham!",
          "White Lies",
          "Billie Eilish",
          "Maroon 5",
          "Killing Joke",
          "Snelle",
          "Nirvana",
          "Rammstein",
          "Floor Jansen",
          "Tones and I",
          "Suzan & Freek",
          "Procol Harum",
          "Kensington",
          "Luis Fonsi",
          "Calum Scott",
          "Deep Purple",
          "The Beatles",
          "Simon & Garfunkel",
          "Black Sabbath",
          "Creedence Clearwater Revival",
          "Elton John",
          "Simon & Garfunkel",
          "Peter Maffay",
          "Johnny Cash",
          "Santana",
          "Led Zeppelin",
          "Creedence Clearwater Revival",
          "Crosby, Stills, Nash & Young",
          "Crosby, Stills, Nash & Young",
          "The Beatles",
          "Yusuf / Cat Stevens",
          "Crosby, Stills, Nash & Young",
          "Simon & Garfunkel",
          "The Moody Blues",
          "Creedence Clearwater Revival",
          "Led Zeppelin",
          "The Beatles",
          "David Bowie",
          "Creedence Clearwater Revival",
          "The Doors",
          "George Harrison",
          "Earth & Fire",
          "Simon & Garfunkel",
          "James Taylor",
          "Creedence Clearwater Revival",
          "Chicago",
          "John Lennon",
          "Emerson, Lake & Palmer",
          "Van Morrison",
          "Crosby, Stills, Nash & Young",
          "Carpenters",
          "Curtis Mayfield",
          "The Beach Boys",
          "Creedence Clearwater Revival",
          "Neil Young",
          "Led Zeppelin",
          "John Lennon",
          "The Doors",
          "Pink Floyd",
          "Don McLean",
          "Janis Joplin",
          "The Who",
          "David Bowie",
          "Neil Diamond",
          "Bill Withers",
          "The Rolling Stones",
          "The Doors",
          "Marvin Gaye",
          "Alice Cooper",
          "Don McLean",
          "Elton John",
          "Yusuf / Cat Stevens",
          "The Cats",
          "Pink Floyd",
          "Gilbert O'Sullivan",
          "The Rolling Stones",
          "Carole King",
          "Jethro Tull",
          "Golden Earring",
          "David Bowie",
          "Janis Joplin",
          "The Rolling Stones",
          "James Taylor",
          "Janis Joplin",
          "Earth & Fire",
          "Yes",
          "Rod Stewart",
          "The Who",
          "J.J. Cale",
          "The Buoys",
          "The Doors",
          "Led Zeppelin",
          "Led Zeppelin",
          "J.J. Cale",
          "Leonard Cohen",
          "The Who",
          "Yes",
          "Pink Floyd",
          "Deep Purple",
          "Lou Reed",
          "Elton John",
          "Neil Young",
          "David Bowie",
          "Eagles",
          "America",
          "Jim Croce",
          "The Kinks",
          "Uriah Heep",
          "Michael Jackson",
          "Lou Reed",
          "The Rolling Stones",
          "Carly Simon",
          "David Bowie",
          "Thin Lizzy",
          "The Doobie Brothers",
          "Carpenters",
          "Alice Cooper",
          "Johnny Cash",
          "Neil Young",
          "Dr. Hook",
          "Yes",
          "America",
          "Eagles",
          "Neil Diamond",
          "Focus",
          "Eagles",
          "Steely Dan",
          "Golden Earring",
          "The Rolling Stones",
          "Eagles",
          "Aerosmith",
          "Pink Floyd",
          "Lynyrd Skynyrd",
          "Pink Floyd",
          "Elvis Presley",
          "Pink Floyd",
          "ZZ Top",
          "John Denver",
          "Pink Floyd",
          "Genesis",
          "Paul McCartney",
          "Steve Harley & Cockney Rebel",
          "Eagles",
          "Bob Dylan",
          "Elvis Presley",
          "Elton John",
          "Gladys Knight & The Pips",
          "Elton John",
          "Steve Miller Band",
          "The Doobie Brothers",
          "Jim Croce",
          "David Bowie",
          "Slade",
          "Deep Purple",
          "The Beatles",
          "Marvin Gaye",
          "Supertramp",
          "Dolly Parton",
          "Queen",
          "Lynyrd Skynyrd",
          "ABBA",
          "John Denver",
          "Supertramp",
          "Joe Cocker",
          "Elvis Presley",
          "David Bowie",
          "Supertramp",
          "Kraftwerk",
          "Dolly Parton",
          "John Denver",
          "The Hollies",
          "Roger Glover",
          "Supertramp",
          "Reinhard Mey",
          "Sweet",
          "Bachman-Turner Overdrive",
          "Barry Manilow",
          "Electric Light Orchestra",
          "Barbra Streisand",
          "Queen",
          "Queen",
          "Pink Floyd",
          "Bruce Springsteen",
          "Led Zeppelin",
          "Bob Marley & The Wailers",
          "Eagles",
          "ABBA",
          "Fleetwood Mac",
          "Bruce Springsteen",
          "10cc",
          "Fleetwood Mac",
          "Eagles",
          "Queen",
          "Bruce Springsteen",
          "Nazareth",
          "Status Quo",
          "Rod Stewart",
          "Queen",
          "John Denver",
          "Paul Simon",
          "Little River Band",
          "Heart",
          "Ramses Shaffy",
          "Steve Harley",
          "Lucifer",
          "ABBA",
          "Bee Gees",
          "Janis Ian",
          "Eagles",
          "David Bowie",
          "James Brown",
          "Peter Frampton",
          "Bruce Springsteen",
          "Roxy Music",
          "Paul Simon",
          "Eagles",
          "Queen",
          "ABBA",
          "Eagles",
          "Bob Dylan",
          "Boston",
          "Blue Öyster Cult",
          "Eagles",
          "Chicago",
          "David Bowie",
          "Queen",
          "ABBA",
          "ABBA",
          "The Rolling Stones",
          "Kansas",
          "Billy Joel",
          "David Bowie",
          "Stevie Wonder",
          "Stevie Wonder",
          "Tom Waits",
          "Thin Lizzy",
          "Electric Light Orchestra",
          "Stevie Wonder",
          "Ramones",
          "Steve Miller Band",
          "Manfred Mann's Earth Band",
          "J.J. Cale",
          "Sweet",
          "ABBA",
          "Eagles",
          "Diana Ross",
          "David Bowie",
          "Meat Loaf",
          "Fleetwood Mac",
          "Electric Light Orchestra",
          "Supertramp",
          "AC/DC",
          "Queen",
          "Fleetwood Mac",
          "Bob Marley & The Wailers",
          "Queen",
          "Billy Joel",
          "The Mark & Clark Band",
          "Kansas",
          "Meat Loaf",
          "Peter Gabriel",
          "ABBA",
          "Eric Clapton",
          "Iggy Pop",
          "Santana",
          "Bee Gees",
          "Talking Heads",
          "Earth, Wind & Fire",
          "Fleetwood Mac",
          "AC/DC",
          "Fleetwood Mac",
          "Donna Summer",
          "Iggy Pop",
          "Rob De Nijs",
          "ABBA",
          "Supertramp",
          "David Bowie",
          "Queen",
          "Meat Loaf",
          "Meat Loaf",
          "Eric Clapton",
          "Heart",
          "Bob Marley & The Wailers",
          "Foreigner",
          "ABBA",
          "Muddy Waters",
          "Cheap Trick",
          "Billy Joel",
          "Sex Pistols",
          "Grace Jones",
          "Mink DeVille",
          "CHIC",
          "Bill Withers",
          "The Babys",
          "Billy Joel",
          "Sex Pistols",
          "Fleetwood Mac",
          "Dire Straits",
          "Queen",
          "Ramses Shaffy",
          "Kate Bush",
          "Herman Brood & His Wild Romance",
          "The Police",
          "TOTO",
          "Kate Bush",
          "Bruce Springsteen",
          "Gerry Rafferty",
          "10cc",
          "Queen",
          "Van Halen",
          "Queen",
          "Genesis",
          "The Police",
          "Alice Cooper",
          "The Rolling Stones",
          "Bob Marley & The Wailers",
          "Bob Marley & The Wailers",
          "Patti Smith",
          "The Doobie Brothers",
          "Herman Brood & His Wild Romance",
          "Boney M.",
          "Boston",
          "The Rolling Stones",
          "Billy Joel",
          "Patrick Hernandez",
          "The Pointer Sisters",
          "Neil Diamond",
          "Dire Straits",
          "Pink Floyd",
          "AC/DC",
          "Pink Floyd",
          "Bette Midler",
          "Supertramp",
          "KISS",
          "ABBA",
          "The Police",
          "Pink Floyd",
          "Madness",
          "ABBA",
          "ABBA",
          "Bee Gees",
          "Art Garfunkel",
          "Supertramp",
          "Supertramp",
          "ABBA",
          "Earth, Wind & Fire",
          "The Cure",
          "ABBA",
          "Neil Diamond",
          "Donna Summer",
          "Michael Jackson",
          "The Clash",
          "Madness",
          "Supertramp",
          "The Police",
          "Electric Light Orchestra",
          "Bee Gees",
          "Michael Jackson",
          "Fischer-Z",
          "KISS",
          "Dan Hartman",
          "Golden Earring",
          "Bee Gees",
          "Michael Jackson",
          "Earth & Fire",
          "Frank Zappa",
          "Ellen Foley",
          "Diesel",
          "Bruce Springsteen",
          "The Cure",
          "ABBA",
          "Motörhead",
          "Queen",
          "AC/DC",
          "Dire Straits",
          "Bob Marley & The Wailers",
          "AC/DC",
          "Queen",
          "ABBA",
          "Golden Earring",
          "The Blues Brothers",
          "Talking Heads",
          "The Alan Parsons Project",
          "Fischer-Z",
          "Dire Straits",
          "ABBA",
          "David Bowie",
          "Rob De Nijs",
          "Bob Marley & The Wailers",
          "Dolly Parton",
          "The Blues Brothers",
          "ABBA",
          "Queen",
          "REO Speedwagon",
          "Barbra Streisand",
          "Rush",
          "Madness",
          "Bruce Springsteen",
          "Barbra Streisand",
          "Peter Gabriel",
          "UB40",
          "Paul Simon",
          "Orchestral Manoeuvres In The Dark",
          "Stevie Wonder",
          "The Police",
          "Pink Floyd",
          "Phil Collins",
          "Journey",
          "ABBA",
          "The Stranglers",
          "The Police",
          "The Rolling Stones",
          "ABBA",
          "The Rolling Stones",
          "Soft Cell",
          "Barbra Streisand",
          "The Babys",
          "The Human League",
          "Jon & Vangelis",
          "Drukwerk",
          "TOTO",
          "Dire Straits",
          "Queen",
          "The Alan Parsons Project",
          "Dire Straits",
          "Michael Jackson",
          "Iron Maiden",
          "Golden Earring",
          "The Alan Parsons Project",
          "TOTO",
          "Joe Jackson",
          "De Dijk",
          "Het Goede Doel",
          "Prince",
          "Dolly Parton",
          "Joe Jackson",
          "Dexys Midnight Runners",
          "BAP",
          "Donna Summer",
          "Phil Collins",
          "Vandenberg",
          "Willie Nelson",
          "Marvin Gaye",
          "Het Goede Doel",
          "Michael Jackson",
          "Duran Duran",
          "The Clash",
          "Michael Jackson",
          "Michael Jackson",
          "Supertramp",
          "Joe Jackson",
          "Joe Jackson",
          "U2",
          "The Police",
          "Genesis",
          "Nena",
          "Eurythmics",
          "Elton John",
          "David Bowie",
          "David Bowie",
          "Yes",
          "Simple Minds",
          "Madness",
          "Depeche Mode",
          "Split Enz",
          "Lionel Richie",
          "Stevie Ray Vaughan",
          "Billy Joel",
          "Marvin Gaye",
          "Nits",
          "The The",
          "Genesis",
          "Clannad",
          "Nena",
          "U2",
          "Eurythmics",
          "Cyndi Lauper",
          "Wham!",
          "Barbra Streisand",
          "Culture Club",
          "Bob Marley & The Wailers",
          "Bette Midler",
          "Prince",
          "Golden Earring",
          "Leonard Cohen",
          "Bryan Adams",
          "Queen",
          "U2",
          "U2",
          "Bruce Springsteen",
          "U2",
          "Metallica",
          "Bruce Springsteen",
          "Alphaville",
          "Prince",
          "Foreigner",
          "Bruce Springsteen",
          "Ultravox",
          "Bruce Springsteen",
          "Talking Heads",
          "Frankie Goes To Hollywood",
          "Don Henley",
          "Tina Turner",
          "Philip Bailey",
          "Joe Jackson",
          "The Blue Nile",
          "Bruce Springsteen",
          "Talk Talk",
          "Bryan Adams",
          "Bronski Beat",
          "Prince",
          "Queen",
          "Prince",
          "Wham!",
          "Lee Towers",
          "Bryan Adams",
          "John Denver",
          "The Alan Parsons Project",
          "Japan",
          "Alphaville",
          "Frankie Goes To Hollywood",
          "Frankie Goes To Hollywood",
          "Ultravox",
          "Foreigner",
          "The Smiths",
          "Bruce Springsteen",
          "Dire Straits",
          "Falco",
          "Dire Straits",
          "Frank Boeijen Groep",
          "Dire Straits",
          "a-ha",
          "De Dijk",
          "Simple Minds",
          "Simply Red",
          "Kate Bush",
          "Kate Bush",
          "De Dijk",
          "Elton John",
          "Tears For Fears",
          "Survivor",
          "Sting",
          "David Bowie",
          "Prince",
          "Dire Straits",
          "Talking Heads",
          "Dire Straits",
          "The Cure",
          "Dire Straits",
          "Mr. Mister",
          "Tears For Fears",
          "Chris Rea",
          "Whitney Houston",
          "The Cure",
          "UB40",
          "Sting",
          "U.S.A. For Africa",
          "Gary Moore",
          "a-ha",
          "Phil Collins",
          "Metallica",
          "Slayer",
          "Bon Jovi",
          "Paul Simon",
          "Peter Gabriel",
          "Prince",
          "Queen",
          "Europe",
          "Frank Boeijen Groep",
          "Elvis Costello & The Attractions",
          "Paul Simon",
          "Crowded House",
          "Genesis",
          "Talk Talk",
          "The Smiths",
          "Bon Jovi",
          "Chris de Burgh",
          "Queen",
          "Paul Simon",
          "David Bowie",
          "Queen",
          "Prince",
          "Clannad",
          "Bon Jovi",
          "Cyndi Lauper",
          "The Smiths",
          "Herman van Veen",
          "Joe Cocker",
          "Talk Talk",
          "Bruce Springsteen",
          "Peter Gabriel",
          "The Communards",
          "Bruce Hornsby",
          "Run–D.M.C.",
          "TOTO",
          "Van Halen",
          "Peter Gabriel",
          "Beastie Boys",
          "Paul Simon",
          "Madonna",
          "Pet Shop Boys",
          "Genesis",
          "Klein Orkest",
          "Guns N' Roses",
          "U2",
          "U2",
          "U2",
          "Guns N' Roses",
          "Sting",
          "Sting",
          "Sinéad O'Connor",
          "Guns N' Roses",
          "Bruce Springsteen",
          "Michael Jackson",
          "Guns N' Roses",
          "Fleetwood Mac",
          "U2",
          "Heart",
          "Prince",
          "Nits",
          "INXS",
          "Whitesnake",
          "Herman van Veen",
          "Joe Cocker",
          "Édith Piaf",
          "Rick Astley",
          "U2",
          "Whitney Houston",
          "John Hiatt",
          "Herman van Veen",
          "Michael Jackson",
          "R.E.M.",
          "Michael Jackson",
          "The Shadows",
          "Prince",
          "Suzanne Vega",
          "Fleetwood Mac",
          "Level 42",
          "Bruce Springsteen",
          "Pet Shop Boys",
          "U2",
          "Black",
          "R.E.M.",
          "Whitesnake",
          "Klein Orkest",
          "Bee Gees",
          "Michael Jackson",
          "Frank Boeijen Groep",
          "Metallica",
          "Tracy Chapman",
          "Fleetwood Mac",
          "Fleetwood Mac",
          "TOTO",
          "Iron Maiden",
          "Tina Turner",
          "Fleetwood Mac",
          "Orchestral Manoeuvres In The Dark",
          "Melissa Etheridge",
          "Fleetwood Mac",
          "Frank Boeijen Groep",
          "U2",
          "Leonard Cohen",
          "Eros Ramazzotti",
          "U2",
          "Marianne Rosenberg",
          "TOTO",
          "Enya",
          "Roxette",
          "The Pogues",
          "Mike & The Mechanics",
          "TOTO",
          "Tracy Chapman",
          "Fleetwood Mac",
          "U2",
          "Traveling Wilburys",
          "Labi Siffre",
          "Crowded House",
          "Tanita Tikaram",
          "The Rolling Stones",
          "Phil Collins",
          "De Dijk",
          "Neil Young",
          "Alice Cooper",
          "Queen",
          "De Dijk",
          "Billy Joel",
          "Van Morrison",
          "The Cure",
          "Tina Turner",
          "Queen",
          "Fleetwood Mac",
          "Clouseau",
          "Depeche Mode",
          "UB40",
          "Tears For Fears",
          "De Dijk",
          "Phil Collins",
          "Simply Red",
          "Tom Petty",
          "Lenny Kravitz",
          "Faith No More",
          "Alannah Myles",
          "Billy Joel",
          "Tears For Fears",
          "Don Henley",
          "Phil Collins",
          "The Cure",
          "Pixies",
          "Queen",
          "Queen",
          "Cher",
          "The B-52's",
          "AC/DC",
          "Stef Bos",
          "Depeche Mode",
          "Gary Moore",
          "Scorpions",
          "Sinéad O'Connor",
          "Queensrÿche",
          "Talk Talk",
          "Temple Of The Dog",
          "Iggy Pop",
          "Scorpions",
          "Elton John",
          "Bee Gees",
          "Extreme",
          "Roxette",
          "Clouseau",
          "Tröckener Kecks",
          "Living Colour",
          "The Black Crowes",
          "Pearl Jam",
          "Normaal",
          "Guns N' Roses",
          "Metallica",
          "Nirvana",
          "Queen",
          "Pearl Jam",
          "Metallica",
          "Queen",
          "Red Hot Chili Peppers",
          "Normaal",
          "Queen",
          "R.E.M.",
          "Nirvana",
          "Pearl Jam",
          "U2",
          "Guns N' Roses",
          "Metallica",
          "Queen",
          "Nirvana",
          "Mannenkoor Karrespoor",
          "Guns N' Roses",
          "Pearl Jam",
          "Queen",
          "Metallica",
          "Al Stewart",
          "Guns N' Roses",
          "Bryan Adams",
          "Ozzy Osbourne",
          "Ten Sharp",
          "Michael Jackson",
          "Rowwen Hèze",
          "Dire Straits",
          "Red Hot Chili Peppers",
          "Crowded House",
          "Marc Cohn",
          "Tom Petty and the Heartbreakers",
          "Guns N' Roses",
          "Nirvana",
          "Crowded House",
          "R.E.M.",
          "Simply Red",
          "Queen",
          "Al Stewart",
          "Prince",
          "Genesis",
          "Genesis",
          "Bonnie Raitt",
          "Paul Young",
          "U2",
          "Tina Turner",
          "Dire Straits",
          "Rage Against The Machine",
          "Iron Maiden",
          "Bon Jovi",
          "R.E.M.",
          "Marillion",
          "Eric Clapton",
          "Whitney Houston",
          "R.E.M.",
          "Vangelis",
          "Alice In Chains",
          "The Cure",
          "ZZ Top",
          "R.E.M.",
          "ZZ Top",
          "4 Non Blondes",
          "Marillion",
          "Stone Temple Pilots",
          "Barry Ryan",
          "Neil Young",
          "R.E.M.",
          "The Black Crowes",
          "Otis Redding",
          "House Of Pain",
          "Bruce Springsteen",
          "Paul de Leeuw",
          "Bon Jovi",
          "The Prodigy",
          "R.E.M.",
          "Whitney Houston",
          "Vitesse",
          "Alice In Chains",
          "Annie Lennox",
          "SNAP!",
          "Bon Jovi",
          "Blind Melon",
          "Radiohead",
          "Tina Turner",
          "Sting",
          "ABBA",
          "The Cranberries",
          "Het Goede Doel",
          "Meat Loaf",
          "Sting",
          "Gloria Gaynor",
          "Duran Duran",
          "The Smashing Pumpkins",
          "Counting Crows",
          "Nirvana",
          "Pearl Jam",
          "Iron Butterfly",
          "Valensia",
          "Wings",
          "Eros Ramazzotti",
          "Lenny Kravitz",
          "Tina Turner",
          "Pearl Jam",
          "Laura Pausini",
          "Joe Cocker",
          "Nirvana",
          "Counting Crows",
          "The Jackson 5",
          "The Fatal Flowers",
          "Nirvana",
          "The Cranberries",
          "Jeff Buckley",
          "The Amazing Stroopwafels",
          "Live",
          "Soundgarden",
          "Nirvana",
          "Green Day",
          "Nirvana",
          "Pink Floyd",
          "Seal",
          "Bon Jovi",
          "Mariah Carey",
          "Live",
          "Beastie Boys",
          "Sade",
          "Portishead",
          "Marco Borsato",
          "The Cranberries",
          "The Prodigy",
          "Green Day",
          "Oasis",
          "Crash Test Dummies",
          "Hans De Booij",
          "Nirvana",
          "Jeff Buckley",
          "Van Dik Hout",
          "Oasis",
          "Oasis",
          "Bruce Springsteen",
          "Michael Jackson",
          "Radiohead",
          "Michael Jackson",
          "BLØF",
          "Michael Jackson",
          "Marco Borsato",
          "Andrea Bocelli",
          "Elton John",
          "Michael Jackson",
          "Oasis",
          "Paul Weller",
          "Fools Garden",
          "Skunk Anansie",
          "Marco Borsato",
          "Coolio",
          "Andrea Bocelli",
          "No Doubt",
          "Queen",
          "Radiohead",
          "Queen",
          "The Smashing Pumpkins",
          "Roxy Music",
          "Queen",
          "Elton John",
          "2Pac",
          "Therapy?",
          "Michael Jackson",
          "Elvis Presley",
          "Bruce Springsteen",
          "The Smashing Pumpkins",
          "The Smashing Pumpkins",
          "Queen",
          "Prince",
          "Radiohead",
          "Simply Red",
          "Boudewijn de Groot",
          "Charles Aznavour",
          "Faithless",
          "George Michael",
          "Men At Work",
          "Van Halen",
          "Guus Meeuwis",
          "Nick Cave & The Bad Seeds",
          "Neil Diamond",
          "Charles Aznavour",
          "Marco Borsato",
          "Marco Borsato",
          "Spice Girls",
          "Skunk Anansie",
          "Fugees",
          "George Michael",
          "Robert Miles",
          "Blackstreet",
          "Patrick Bruel",
          "Amanda Marshall",
          "Chaka Khan",
          "Counting Crows",
          "Eels",
          "Guus Meeuwis",
          "The Verve",
          "Frank Boeijen",
          "Rammstein",
          "John Denver",
          "Radiohead",
          "Foo Fighters",
          "Skik",
          "Radiohead",
          "Acda en de Munnik",
          "Nick Cave & The Bad Seeds",
          "Rammstein",
          "Paul de Leeuw",
          "Buena Vista Social Club",
          "The Prodigy",
          "Metallica",
          "The Prodigy",
          "Gerry & The Pacemakers",
          "Green Day",
          "Elton John",
          "Radiohead",
          "Acda en de Munnik",
          "George Baker Selection",
          "Midnight Oil",
          "Céline Dion",
          "Guus Meeuwis",
          "The Prodigy",
          "Metallica",
          "Joe Cocker",
          "Barbra Streisand",
          "Acda en de Munnik",
          "The Police",
          "Eva Cassidy",
          "Frank Boeijen Groep",
          "The Verve",
          "Daft Punk",
          "George Michael",
          "Anouk",
          "De Dijk",
          "George Michael",
          "Metallica",
          "George Michael",
          "The Waterboys",
          "BLØF",
          "Liquido",
          "U2",
          "George Michael",
          "Henk Westbroek",
          "Hero",
          "Aerosmith",
          "Eva Cassidy",
          "George Michael",
          "Massive Attack",
          "George Michael",
          "George Michael",
          "Acda en de Munnik",
          "Stef Bos",
          "Marco Borsato",
          "Korn",
          "De Dijk",
          "Les Poppys",
          "Ilse DeLange",
          "George Michael",
          "George Michael",
          "Manic Street Preachers",
          "George Michael",
          "Herman van Veen",
          "Duran Duran",
          "Ilse DeLange",
          "George Michael",
          "Placebo",
          "Robbie Williams",
          "Stef Bos",
          "The Offspring",
          "George Michael",
          "Fatboy Slim",
          "Anouk",
          "Herman van Veen",
          "George Michael",
          "Mecano",
          "Acda en de Munnik",
          "Robbie Williams",
          "Eric Clapton",
          "Red Hot Chili Peppers",
          "BLØF",
          "Foo Fighters",
          "Bonnie Tyler",
          "Red Hot Chili Peppers",
          "Red Hot Chili Peppers",
          "Phil Collins",
          "Robbie Williams",
          "Red Hot Chili Peppers",
          "Genesis",
          "Venice",
          "Moby",
          "Muse",
          "Beth Hart",
          "Live",
          "Smash Mouth",
          "Moby",
          "Zucchero",
          "Dr. Dre",
          "Karin Bloemen",
          "blink-182",
          "Live",
          "De Kast",
          "Santana",
          "Eminem",
          "Sting",
          "The Chemical Brothers",
          "Etta James",
          "Elvis Presley",
          "Frank Sinatra",
          "Ben E. King",
          "Roy Orbison",
          "Johnny Cash",
          "Bob Dylan",
          "Roy Orbison",
          "The Beatles",
          "Elvis Presley",
          "The Beatles",
          "Bob Dylan",
          "Simon & Garfunkel",
          "The Animals",
          "Johnny Cash",
          "Bob Dylan",
          "Sam Cooke",
          "The Beatles",
          "Gilbert Bécaud",
          "The Beatles",
          "The Rolling Stones",
          "The Beatles",
          "The Rolling Stones",
          "Bob Dylan",
          "The Beatles",
          "The Beatles",
          "The Righteous Brothers",
          "The Beatles",
          "Nina Simone",
          "The Who",
          "The Beatles",
          "The Rolling Stones",
          "Frank Sinatra",
          "The Rolling Stones",
          "The Rolling Stones",
          "The Byrds",
          "The Rolling Stones",
          "The Beach Boys",
          "The Mamas & The Papas",
          "The Beatles",
          "Ike & Tina Turner",
          "Frank Sinatra",
          "The Rolling Stones",
          "Simon & Garfunkel",
          "The Beach Boys",
          "Simon & Garfunkel",
          "The Rolling Stones",
          "Bob Dylan",
          "Percy Sledge",
          "The Kinks",
          "Tim Hardin",
          "The Mamas & The Papas",
          "The Beatles",
          "James Brown & The Famous Flames",
          "Otis Redding",
          "The Beach Boys",
          "The Moody Blues",
          "The Doors",
          "The Beatles",
          "Van Morrison",
          "Aretha Franklin",
          "Jefferson Airplane",
          "The Beatles",
          "Leonard Cohen",
          "Jimi Hendrix",
          "The Beach Boys",
          "The Doors",
          "The Beatles",
          "Leonard Cohen",
          "Jimi Hendrix",
          "The Beatles",
          "The Doors",
          "Jimi Hendrix",
          "The Beatles",
          "The Beatles",
          "Jimi Hendrix",
          "The Rolling Stones",
          "The Beatles",
          "The Hollies",
          "The Beatles",
          "Cuby & The Blizzards",
          "The Beatles",
          "Elvis Presley",
          "Marvin Gaye",
          "Scott McKenzie",
          "The Beatles",
          "The Monkees",
          "The Kinks",
          "Cream",
          "The Doors",
          "Jefferson Airplane",
          "Tom Jones",
          "Bee Gees",
          "Liesbeth List",
          "Otis Redding",
          "The Beatles",
          "Creedence Clearwater Revival",
          "The Beatles",
          "Jimi Hendrix",
          "Cuby & The Blizzards",
          "Aretha Franklin",
          "Aretha Franklin",
          "Cream",
          "Simon & Garfunkel",
          "Louis Armstrong",
          "The Cats",
          "The Band",
          "Nina Simone",
          "Jimi Hendrix",
          "Creedence Clearwater Revival",
          "Steppenwolf",
          "Bee Gees",
          "Bee Gees",
          "The Cats",
          "Bee Gees",
          "Richard Harris",
          "Etta James",
          "The Monkees",
          "The Beatles",
          "Neil Diamond",
          "The Beatles",
          "David Bowie",
          "The Rolling Stones",
          "Elvis Presley",
          "Led Zeppelin",
          "Neil Diamond",
          "Creedence Clearwater Revival",
          "Elvis Presley",
          "Creedence Clearwater Revival",
          "The Rolling Stones",
          "Joe Cocker",
          "Frank Sinatra",
          "The Beatles",
          "The Beatles",
          "Fleetwood Mac",
          "Golden Earring",
          "Shocking Blue",
          "Dusty Springfield",
          "The Who",
          "The Cats",
          "Creedence Clearwater Revival",
          "Melanie",
          "Fleetwood Mac",
          "Creedence Clearwater Revival",
          "The Cats",
          "B.B. King",
          "Led Zeppelin",
          "The Who",
          "Ralph McTell",
          "Creedence Clearwater Revival",
          "Cuby & The Blizzards",
          "Roberta Flack",
          "The Doors",
          "Brainbox",
          "The Rolling Stones",
          "Rare Earth",
          "Fleetwood Mac",
          "Crosby, Stills & Nash",
          "Elvis Presley",
          "Elvis Presley",
          "Nina Simone",
          "Louis Armstrong",
          "Elvis Presley",
          "Elvis Presley",
          "Chuck Berry",
          "The Dave Brubeck Quartet",
          "Fats Domino"
         ],
         "xaxis": "x",
         "y": [
          71,
          39,
          69,
          76,
          59,
          45,
          74,
          69,
          77,
          82,
          49,
          74,
          34,
          26,
          66,
          48,
          69,
          57,
          46,
          74,
          81,
          67,
          55,
          69,
          16,
          50,
          56,
          71,
          48,
          59,
          84,
          57,
          63,
          74,
          72,
          44,
          75,
          40,
          72,
          42,
          59,
          53,
          74,
          78,
          65,
          56,
          43,
          65,
          67,
          51,
          69,
          52,
          69,
          52,
          67,
          43,
          57,
          44,
          77,
          38,
          32,
          47,
          48,
          70,
          77,
          63,
          56,
          59,
          55,
          64,
          73,
          65,
          58,
          46,
          67,
          55,
          58,
          57,
          30,
          45,
          45,
          48,
          70,
          58,
          72,
          42,
          42,
          43,
          43,
          65,
          19,
          74,
          49,
          41,
          32,
          75,
          62,
          38,
          30,
          39,
          83,
          44,
          56,
          40,
          58,
          75,
          75,
          47,
          72,
          41,
          74,
          54,
          80,
          59,
          77,
          59,
          51,
          71,
          76,
          64,
          70,
          62,
          39,
          70,
          44,
          75,
          75,
          68,
          42,
          56,
          58,
          36,
          67,
          52,
          59,
          74,
          63,
          54,
          64,
          60,
          69,
          63,
          42,
          74,
          64,
          43,
          44,
          54,
          75,
          62,
          49,
          38,
          38,
          44,
          44,
          64,
          66,
          39,
          59,
          58,
          52,
          46,
          64,
          41,
          76,
          74,
          41,
          73,
          80,
          50,
          56,
          56,
          64,
          75,
          78,
          46,
          40,
          47,
          50,
          49,
          35,
          70,
          56,
          44,
          69,
          49,
          58,
          26,
          53,
          59,
          39,
          52,
          80,
          52,
          36,
          59,
          39,
          73,
          68,
          59,
          63,
          58,
          51,
          73,
          59,
          49,
          34,
          72,
          52,
          67,
          54,
          49,
          77,
          80,
          80,
          51,
          41,
          47,
          47,
          75,
          71,
          75,
          32,
          32,
          69,
          75,
          61,
          45,
          70,
          53,
          64,
          46,
          64,
          55,
          70,
          79,
          51,
          62,
          66,
          82,
          41,
          70,
          74,
          43,
          54,
          30,
          53,
          33,
          51,
          77,
          57,
          53,
          47,
          57,
          69,
          47,
          42,
          59,
          60,
          30,
          43,
          70,
          81,
          76,
          77,
          77,
          46,
          71,
          61,
          53,
          80,
          46,
          69,
          50,
          66,
          64,
          62,
          60,
          61,
          79,
          40,
          43,
          55,
          72,
          34,
          66,
          40,
          80,
          47,
          64,
          42,
          62,
          58,
          75,
          66,
          68,
          40,
          38,
          61,
          52,
          39,
          71,
          47,
          42,
          43,
          53,
          73,
          63,
          65,
          57,
          78,
          76,
          43,
          63,
          57,
          77,
          65,
          74,
          63,
          35,
          54,
          72,
          57,
          61,
          69,
          63,
          48,
          53,
          53,
          43,
          73,
          72,
          74,
          52,
          82,
          59,
          56,
          76,
          63,
          41,
          52,
          52,
          49,
          56,
          78,
          76,
          53,
          61,
          76,
          77,
          62,
          40,
          38,
          79,
          49,
          67,
          55,
          78,
          74,
          66,
          43,
          80,
          36,
          40,
          58,
          50,
          57,
          55,
          43,
          69,
          47,
          47,
          62,
          49,
          79,
          49,
          71,
          33,
          61,
          48,
          41,
          65,
          34,
          34,
          61,
          45,
          75,
          65,
          72,
          59,
          78,
          76,
          54,
          46,
          48,
          57,
          48,
          56,
          84,
          72,
          53,
          48,
          64,
          43,
          54,
          37,
          57,
          27,
          42,
          26,
          36,
          14,
          61,
          28,
          40,
          76,
          38,
          84,
          48,
          37,
          47,
          49,
          80,
          53,
          59,
          66,
          44,
          51,
          75,
          47,
          58,
          48,
          38,
          79,
          75,
          60,
          58,
          76,
          78,
          53,
          18,
          72,
          65,
          69,
          76,
          47,
          42,
          29,
          67,
          53,
          73,
          66,
          51,
          30,
          54,
          52,
          68,
          40,
          33,
          65,
          66,
          84,
          49,
          73,
          69,
          77,
          75,
          33,
          76,
          71,
          75,
          44,
          39,
          64,
          42,
          39,
          49,
          67,
          27,
          74,
          54,
          56,
          73,
          55,
          73,
          64,
          81,
          73,
          69,
          44,
          31,
          19,
          42,
          51,
          70,
          51,
          83,
          57,
          27,
          66,
          52,
          51,
          51,
          70,
          34,
          82,
          72,
          57,
          54,
          41,
          57,
          58,
          67,
          48,
          46,
          66,
          67,
          66,
          75,
          56,
          63,
          57,
          85,
          49,
          82,
          58,
          78,
          64,
          65,
          86,
          40,
          47,
          35,
          76,
          55,
          49,
          32,
          70,
          59,
          77,
          72,
          69,
          65,
          48,
          36,
          67,
          75,
          77,
          80,
          79,
          53,
          33,
          28,
          66,
          62,
          26,
          41,
          49,
          48,
          76,
          30,
          49,
          78,
          61,
          57,
          84,
          77,
          40,
          60,
          65,
          59,
          27,
          80,
          52,
          52,
          60,
          73,
          84,
          47,
          64,
          47,
          42,
          65,
          70,
          39,
          43,
          65,
          43,
          58,
          41,
          75,
          84,
          66,
          63,
          59,
          74,
          72,
          49,
          49,
          70,
          82,
          61,
          43,
          74,
          75,
          15,
          69,
          58,
          29,
          53,
          26,
          71,
          82,
          33,
          20,
          76,
          69,
          85,
          45,
          83,
          21,
          41,
          78,
          74,
          13,
          42,
          16,
          68,
          26,
          68,
          32,
          60,
          78,
          57,
          68,
          54,
          46,
          35,
          63,
          33,
          58,
          73,
          70,
          54,
          83,
          47,
          63,
          67,
          40,
          62,
          73,
          74,
          60,
          73,
          53,
          75,
          36,
          61,
          62,
          74,
          63,
          49,
          54,
          59,
          44,
          66,
          44,
          54,
          41,
          78,
          55,
          67,
          70,
          27,
          24,
          81,
          40,
          76,
          80,
          28,
          34,
          41,
          41,
          87,
          69,
          74,
          76,
          87,
          88,
          78,
          28,
          79,
          80,
          66,
          41,
          32,
          82,
          33,
          41,
          66,
          62,
          75,
          60,
          69,
          63,
          84,
          86,
          59,
          83,
          80,
          54,
          78,
          67,
          25,
          48,
          62,
          40,
          50,
          31,
          36,
          71,
          68,
          64,
          75,
          69,
          78,
          88,
          30,
          68,
          59,
          82,
          30,
          28,
          38,
          30,
          29,
          65,
          27,
          30,
          84,
          65,
          23,
          32,
          83,
          23,
          87,
          23,
          82,
          81,
          80,
          32,
          85,
          16,
          15,
          17,
          80,
          78,
          30,
          31,
          81,
          20,
          44,
          52,
          84,
          17,
          39,
          19,
          26,
          50,
          52,
          33,
          60,
          85,
          12,
          86,
          79,
          21,
          82,
          70,
          73,
          67,
          73,
          37,
          36,
          85,
          50,
          95,
          98,
          37,
          71,
          50,
          72,
          56,
          100,
          68,
          32,
          65,
          80,
          28,
          45,
          79,
          71,
          68,
          71,
          77,
          72,
          53,
          71,
          63,
          77,
          66,
          68,
          63,
          64,
          74,
          62,
          62,
          50,
          47,
          63,
          65,
          63,
          60,
          73,
          76,
          29,
          73,
          73,
          67,
          64,
          57,
          60,
          72,
          58,
          60,
          67,
          38,
          69,
          53,
          79,
          78,
          74,
          58,
          69,
          71,
          77,
          71,
          60,
          76,
          72,
          67,
          69,
          44,
          74,
          79,
          68,
          54,
          55,
          35,
          71,
          68,
          60,
          37,
          66,
          58,
          67,
          68,
          66,
          24,
          66,
          72,
          65,
          62,
          39,
          67,
          67,
          73,
          58,
          63,
          71,
          43,
          50,
          64,
          69,
          82,
          71,
          74,
          75,
          77,
          58,
          29,
          56,
          53,
          75,
          55,
          75,
          64,
          63,
          75,
          65,
          66,
          54,
          51,
          58,
          47,
          69,
          56,
          54,
          47,
          65,
          69,
          57,
          72,
          66,
          78,
          70,
          71,
          73,
          61,
          66,
          74,
          64,
          65,
          41,
          71,
          46,
          62,
          74,
          68,
          68,
          67,
          65,
          75,
          71,
          53,
          64,
          76,
          37,
          68,
          69,
          63,
          74,
          67,
          82,
          58,
          69,
          59,
          57,
          42,
          74,
          43,
          48,
          61,
          64,
          66,
          48,
          43,
          46,
          55,
          69,
          69,
          51,
          59,
          77,
          62,
          66,
          73,
          69,
          70,
          69,
          63,
          77,
          66,
          70,
          68,
          65,
          61,
          51,
          58,
          53,
          68,
          52,
          54,
          69,
          49,
          65,
          37,
          63,
          37,
          49,
          53,
          48,
          63,
          60,
          27,
          66,
          43,
          60,
          61,
          82,
          70,
          72,
          52,
          69,
          78,
          75,
          64,
          74,
          53,
          50,
          56,
          52,
          55,
          75,
          61,
          60,
          67,
          64,
          52,
          74,
          70,
          72,
          71,
          68,
          61,
          59,
          54,
          44,
          54,
          49,
          75,
          67,
          73,
          80,
          56,
          65,
          70,
          78,
          78,
          66,
          72,
          32,
          77,
          60,
          60,
          48,
          73,
          68,
          52,
          60,
          73,
          48,
          56,
          62,
          67,
          46,
          72,
          49,
          63,
          74,
          62,
          50,
          57,
          60,
          68,
          74,
          74,
          68,
          46,
          63,
          70,
          60,
          51,
          58,
          47,
          69,
          72,
          49,
          68,
          54,
          58,
          66,
          76,
          50,
          68,
          48,
          78,
          75,
          53,
          58,
          69,
          67,
          51,
          70,
          55,
          51,
          66,
          49,
          67,
          40,
          76,
          66,
          69,
          38,
          65,
          55,
          74,
          59,
          66,
          56,
          56,
          41,
          75,
          83,
          77,
          67,
          72,
          78,
          64,
          74,
          68,
          42,
          56,
          45,
          77,
          57,
          64,
          70,
          49,
          73,
          63,
          53,
          59,
          52,
          74,
          73,
          34,
          66,
          64,
          70,
          64,
          62,
          44,
          52,
          52,
          44,
          70,
          73,
          49,
          40,
          40,
          39,
          66,
          53,
          59,
          74,
          74,
          83,
          54,
          71,
          78,
          66,
          48,
          39,
          56,
          69,
          32,
          49,
          43,
          50,
          62,
          31,
          77,
          76,
          63,
          60,
          51,
          71,
          68,
          63,
          33,
          69,
          67,
          36,
          50,
          58,
          65,
          61,
          67,
          47,
          77,
          80,
          51,
          67,
          73,
          76,
          59,
          58,
          53,
          56,
          35,
          74,
          43,
          46,
          84,
          41,
          72,
          58,
          38,
          81,
          60,
          47,
          67,
          70,
          35,
          24,
          52,
          68,
          65,
          31,
          68,
          47,
          42,
          76,
          43,
          63,
          71,
          46,
          65,
          62,
          79,
          71,
          64,
          60,
          48,
          22,
          72,
          84,
          45,
          73,
          81,
          79,
          71,
          57,
          70,
          54,
          58,
          45,
          33,
          59,
          65,
          77,
          71,
          40,
          48,
          43,
          38,
          56,
          39,
          62,
          76,
          66,
          46,
          72,
          73,
          53,
          75,
          53,
          67,
          81,
          66,
          46,
          41,
          74,
          59,
          62,
          77,
          74,
          70,
          77,
          75,
          53,
          58,
          54,
          72,
          76,
          59,
          64,
          52,
          55,
          67,
          69,
          76,
          71,
          60,
          72,
          62,
          79,
          44,
          65,
          59,
          57,
          41,
          66,
          61,
          54,
          59,
          54,
          70,
          52,
          52,
          58,
          62,
          53,
          61,
          83,
          26,
          64,
          68,
          67,
          60,
          26,
          68,
          80,
          76,
          50,
          57,
          69,
          46,
          55,
          44,
          60,
          50,
          60,
          71,
          57,
          66,
          54,
          65,
          51,
          70,
          52,
          37,
          56,
          67,
          57,
          83,
          65,
          45,
          53,
          54,
          75,
          47,
          51,
          75,
          72,
          56,
          59,
          73,
          80,
          74,
          49,
          63,
          46,
          50,
          74,
          32,
          73,
          69,
          67,
          42,
          58,
          53,
          41,
          57,
          64,
          66,
          68,
          68,
          65,
          54,
          68,
          49,
          56,
          68,
          60,
          55,
          73,
          80,
          66,
          76,
          71,
          62,
          71,
          51,
          72,
          62,
          76,
          66,
          78,
          42,
          73,
          54,
          44,
          60,
          65,
          41,
          62,
          64,
          66,
          55,
          81,
          51,
          43,
          72,
          63,
          68,
          53,
          42,
          45,
          63,
          62,
          57,
          66,
          55,
          64,
          67,
          58,
          40,
          63,
          59,
          37,
          67,
          77,
          59,
          56,
          63,
          42,
          44,
          54,
          34,
          57,
          59,
          46,
          63,
          40,
          38,
          50,
          45,
          53,
          57,
          76,
          83,
          55,
          45,
          72,
          49,
          59,
          63,
          50,
          49,
          46,
          56,
          74,
          41,
          65,
          70,
          55,
          52,
          49,
          68,
          53,
          64,
          48,
          49,
          39,
          61,
          49,
          66,
          47,
          61,
          72,
          76,
          51,
          68,
          71,
          73,
          62,
          55,
          57,
          60,
          61,
          33,
          47,
          72,
          69,
          81,
          57,
          65,
          65,
          77,
          71,
          61,
          57,
          59,
          60,
          69,
          69,
          54,
          67,
          73,
          31,
          38,
          50,
          68,
          75,
          51,
          80,
          69,
          74,
          49,
          75,
          74,
          51,
          81,
          49,
          58,
          81,
          72,
          73,
          77,
          77,
          65,
          49,
          68,
          39,
          63,
          75,
          55,
          63,
          61,
          74,
          64,
          66,
          61,
          68,
          48,
          56,
          73,
          51,
          69,
          71,
          68,
          64,
          69,
          70,
          49,
          48,
          49,
          47,
          54,
          39,
          66,
          55,
          63,
          61,
          54,
          78,
          55,
          73,
          74,
          58,
          70,
          77,
          62,
          61,
          71,
          67,
          53,
          67,
          44,
          78,
          51,
          61,
          45,
          71,
          62,
          56,
          49,
          74,
          58,
          40,
          59,
          48,
          58,
          73,
          39,
          68,
          64,
          57,
          58,
          73,
          82,
          66,
          69,
          41,
          75,
          38,
          59,
          72,
          60,
          72,
          62,
          76,
          74,
          68,
          57,
          39,
          56,
          48,
          72,
          69,
          58,
          57,
          54,
          64,
          61,
          65,
          42,
          67,
          80,
          73,
          45,
          64,
          76,
          73,
          79,
          68,
          59,
          72,
          76,
          95,
          62,
          71,
          66,
          67,
          56,
          69,
          56,
          75,
          55,
          57,
          45,
          57,
          59,
          58,
          71,
          63,
          70,
          63,
          62,
          64,
          47,
          60,
          52,
          64,
          54,
          69,
          63,
          58,
          73,
          24,
          60,
          80,
          66,
          67,
          49,
          70,
          49,
          74,
          46,
          45,
          58,
          72,
          44,
          58,
          31,
          61,
          68,
          71,
          29,
          46,
          72,
          56,
          40,
          60,
          55,
          62,
          74,
          57,
          58,
          59,
          57,
          53,
          50,
          55,
          80,
          32,
          74,
          53,
          67,
          76,
          35,
          37,
          70,
          63,
          54,
          49,
          78,
          48,
          67,
          77,
          74,
          77,
          46,
          67,
          49,
          65,
          60,
          54,
          68,
          64,
          55,
          65,
          55,
          75,
          53,
          71,
          42,
          44,
          63,
          75,
          50,
          66,
          51,
          35,
          47,
          42,
          45,
          61,
          31,
          64,
          70,
          57,
          33,
          50,
          76,
          61,
          66,
          59,
          51,
          42,
          58,
          43,
          49,
          47,
          76,
          62,
          58,
          69,
          46,
          51,
          54,
          39,
          50,
          73,
          35,
          50,
          40,
          51,
          63,
          37,
          45,
          39,
          50,
          40,
          61,
          60,
          68,
          44,
          72,
          53,
          44,
          11,
          44,
          56,
          62,
          37,
          50,
          61,
          81,
          57,
          74,
          75,
          77,
          78,
          62,
          44,
          62,
          18,
          41,
          54,
          61,
          41,
          56,
          80,
          45,
          24,
          70,
          38,
          79,
          48,
          44,
          70,
          72,
          52,
          65,
          74,
          78,
          77,
          77,
          73,
          71,
          69,
          57,
          74,
          59,
          71,
          65,
          75,
          69,
          58,
          69,
          66,
          69,
          53,
          66,
          46,
          78,
          77,
          71,
          69,
          73,
          70,
          67,
          74,
          71,
          74,
          53,
          62,
          53,
          47,
          62,
          78,
          72,
          76,
          71,
          57,
          75,
          65,
          63,
          61,
          65,
          64,
          58,
          66,
          67,
          48,
          62,
          63,
          63,
          64,
          72,
          68,
          61,
          67,
          79,
          73,
          69,
          45,
          66,
          71,
          71,
          72,
          70,
          62,
          69,
          58,
          70,
          63,
          65,
          69,
          72,
          63,
          68,
          50,
          65,
          37,
          65,
          41,
          80,
          53,
          63,
          73,
          66,
          74,
          72,
          69,
          62,
          66,
          45,
          73,
          74,
          60,
          70,
          77,
          43,
          75,
          69,
          74,
          76,
          68,
          48,
          72,
          48,
          67,
          56,
          67,
          59,
          57,
          43,
          66,
          36,
          67,
          69,
          66,
          59,
          82,
          73,
          76,
          72,
          76,
          78,
          80,
          63,
          77,
          67,
          69,
          73,
          79,
          72,
          50,
          42,
          59,
          61,
          69,
          46,
          60,
          44,
          41,
          59,
          44,
          60,
          63,
          43,
          57,
          73,
          34,
          64,
          68,
          36,
          50,
          45,
          48,
          67,
          62,
          73,
          68,
          66,
          63,
          69,
          74,
          65,
          56
         ],
         "yaxis": "y"
        }
       ],
       "layout": {
        "coloraxis": {
         "colorbar": {
          "title": {
           "text": "Cluster"
          }
         },
         "colorscale": [
          [
           0,
           "#0d0887"
          ],
          [
           0.1111111111111111,
           "#46039f"
          ],
          [
           0.2222222222222222,
           "#7201a8"
          ],
          [
           0.3333333333333333,
           "#9c179e"
          ],
          [
           0.4444444444444444,
           "#bd3786"
          ],
          [
           0.5555555555555556,
           "#d8576b"
          ],
          [
           0.6666666666666666,
           "#ed7953"
          ],
          [
           0.7777777777777778,
           "#fb9f3a"
          ],
          [
           0.8888888888888888,
           "#fdca26"
          ],
          [
           1,
           "#f0f921"
          ]
         ]
        },
        "legend": {
         "tracegroupgap": 0
        },
        "template": {
         "data": {
          "bar": [
           {
            "error_x": {
             "color": "#2a3f5f"
            },
            "error_y": {
             "color": "#2a3f5f"
            },
            "marker": {
             "line": {
              "color": "#E5ECF6",
              "width": 0.5
             },
             "pattern": {
              "fillmode": "overlay",
              "size": 10,
              "solidity": 0.2
             }
            },
            "type": "bar"
           }
          ],
          "barpolar": [
           {
            "marker": {
             "line": {
              "color": "#E5ECF6",
              "width": 0.5
             },
             "pattern": {
              "fillmode": "overlay",
              "size": 10,
              "solidity": 0.2
             }
            },
            "type": "barpolar"
           }
          ],
          "carpet": [
           {
            "aaxis": {
             "endlinecolor": "#2a3f5f",
             "gridcolor": "white",
             "linecolor": "white",
             "minorgridcolor": "white",
             "startlinecolor": "#2a3f5f"
            },
            "baxis": {
             "endlinecolor": "#2a3f5f",
             "gridcolor": "white",
             "linecolor": "white",
             "minorgridcolor": "white",
             "startlinecolor": "#2a3f5f"
            },
            "type": "carpet"
           }
          ],
          "choropleth": [
           {
            "colorbar": {
             "outlinewidth": 0,
             "ticks": ""
            },
            "type": "choropleth"
           }
          ],
          "contour": [
           {
            "colorbar": {
             "outlinewidth": 0,
             "ticks": ""
            },
            "colorscale": [
             [
              0,
              "#0d0887"
             ],
             [
              0.1111111111111111,
              "#46039f"
             ],
             [
              0.2222222222222222,
              "#7201a8"
             ],
             [
              0.3333333333333333,
              "#9c179e"
             ],
             [
              0.4444444444444444,
              "#bd3786"
             ],
             [
              0.5555555555555556,
              "#d8576b"
             ],
             [
              0.6666666666666666,
              "#ed7953"
             ],
             [
              0.7777777777777778,
              "#fb9f3a"
             ],
             [
              0.8888888888888888,
              "#fdca26"
             ],
             [
              1,
              "#f0f921"
             ]
            ],
            "type": "contour"
           }
          ],
          "contourcarpet": [
           {
            "colorbar": {
             "outlinewidth": 0,
             "ticks": ""
            },
            "type": "contourcarpet"
           }
          ],
          "heatmap": [
           {
            "colorbar": {
             "outlinewidth": 0,
             "ticks": ""
            },
            "colorscale": [
             [
              0,
              "#0d0887"
             ],
             [
              0.1111111111111111,
              "#46039f"
             ],
             [
              0.2222222222222222,
              "#7201a8"
             ],
             [
              0.3333333333333333,
              "#9c179e"
             ],
             [
              0.4444444444444444,
              "#bd3786"
             ],
             [
              0.5555555555555556,
              "#d8576b"
             ],
             [
              0.6666666666666666,
              "#ed7953"
             ],
             [
              0.7777777777777778,
              "#fb9f3a"
             ],
             [
              0.8888888888888888,
              "#fdca26"
             ],
             [
              1,
              "#f0f921"
             ]
            ],
            "type": "heatmap"
           }
          ],
          "heatmapgl": [
           {
            "colorbar": {
             "outlinewidth": 0,
             "ticks": ""
            },
            "colorscale": [
             [
              0,
              "#0d0887"
             ],
             [
              0.1111111111111111,
              "#46039f"
             ],
             [
              0.2222222222222222,
              "#7201a8"
             ],
             [
              0.3333333333333333,
              "#9c179e"
             ],
             [
              0.4444444444444444,
              "#bd3786"
             ],
             [
              0.5555555555555556,
              "#d8576b"
             ],
             [
              0.6666666666666666,
              "#ed7953"
             ],
             [
              0.7777777777777778,
              "#fb9f3a"
             ],
             [
              0.8888888888888888,
              "#fdca26"
             ],
             [
              1,
              "#f0f921"
             ]
            ],
            "type": "heatmapgl"
           }
          ],
          "histogram": [
           {
            "marker": {
             "pattern": {
              "fillmode": "overlay",
              "size": 10,
              "solidity": 0.2
             }
            },
            "type": "histogram"
           }
          ],
          "histogram2d": [
           {
            "colorbar": {
             "outlinewidth": 0,
             "ticks": ""
            },
            "colorscale": [
             [
              0,
              "#0d0887"
             ],
             [
              0.1111111111111111,
              "#46039f"
             ],
             [
              0.2222222222222222,
              "#7201a8"
             ],
             [
              0.3333333333333333,
              "#9c179e"
             ],
             [
              0.4444444444444444,
              "#bd3786"
             ],
             [
              0.5555555555555556,
              "#d8576b"
             ],
             [
              0.6666666666666666,
              "#ed7953"
             ],
             [
              0.7777777777777778,
              "#fb9f3a"
             ],
             [
              0.8888888888888888,
              "#fdca26"
             ],
             [
              1,
              "#f0f921"
             ]
            ],
            "type": "histogram2d"
           }
          ],
          "histogram2dcontour": [
           {
            "colorbar": {
             "outlinewidth": 0,
             "ticks": ""
            },
            "colorscale": [
             [
              0,
              "#0d0887"
             ],
             [
              0.1111111111111111,
              "#46039f"
             ],
             [
              0.2222222222222222,
              "#7201a8"
             ],
             [
              0.3333333333333333,
              "#9c179e"
             ],
             [
              0.4444444444444444,
              "#bd3786"
             ],
             [
              0.5555555555555556,
              "#d8576b"
             ],
             [
              0.6666666666666666,
              "#ed7953"
             ],
             [
              0.7777777777777778,
              "#fb9f3a"
             ],
             [
              0.8888888888888888,
              "#fdca26"
             ],
             [
              1,
              "#f0f921"
             ]
            ],
            "type": "histogram2dcontour"
           }
          ],
          "mesh3d": [
           {
            "colorbar": {
             "outlinewidth": 0,
             "ticks": ""
            },
            "type": "mesh3d"
           }
          ],
          "parcoords": [
           {
            "line": {
             "colorbar": {
              "outlinewidth": 0,
              "ticks": ""
             }
            },
            "type": "parcoords"
           }
          ],
          "pie": [
           {
            "automargin": true,
            "type": "pie"
           }
          ],
          "scatter": [
           {
            "fillpattern": {
             "fillmode": "overlay",
             "size": 10,
             "solidity": 0.2
            },
            "type": "scatter"
           }
          ],
          "scatter3d": [
           {
            "line": {
             "colorbar": {
              "outlinewidth": 0,
              "ticks": ""
             }
            },
            "marker": {
             "colorbar": {
              "outlinewidth": 0,
              "ticks": ""
             }
            },
            "type": "scatter3d"
           }
          ],
          "scattercarpet": [
           {
            "marker": {
             "colorbar": {
              "outlinewidth": 0,
              "ticks": ""
             }
            },
            "type": "scattercarpet"
           }
          ],
          "scattergeo": [
           {
            "marker": {
             "colorbar": {
              "outlinewidth": 0,
              "ticks": ""
             }
            },
            "type": "scattergeo"
           }
          ],
          "scattergl": [
           {
            "marker": {
             "colorbar": {
              "outlinewidth": 0,
              "ticks": ""
             }
            },
            "type": "scattergl"
           }
          ],
          "scattermapbox": [
           {
            "marker": {
             "colorbar": {
              "outlinewidth": 0,
              "ticks": ""
             }
            },
            "type": "scattermapbox"
           }
          ],
          "scatterpolar": [
           {
            "marker": {
             "colorbar": {
              "outlinewidth": 0,
              "ticks": ""
             }
            },
            "type": "scatterpolar"
           }
          ],
          "scatterpolargl": [
           {
            "marker": {
             "colorbar": {
              "outlinewidth": 0,
              "ticks": ""
             }
            },
            "type": "scatterpolargl"
           }
          ],
          "scatterternary": [
           {
            "marker": {
             "colorbar": {
              "outlinewidth": 0,
              "ticks": ""
             }
            },
            "type": "scatterternary"
           }
          ],
          "surface": [
           {
            "colorbar": {
             "outlinewidth": 0,
             "ticks": ""
            },
            "colorscale": [
             [
              0,
              "#0d0887"
             ],
             [
              0.1111111111111111,
              "#46039f"
             ],
             [
              0.2222222222222222,
              "#7201a8"
             ],
             [
              0.3333333333333333,
              "#9c179e"
             ],
             [
              0.4444444444444444,
              "#bd3786"
             ],
             [
              0.5555555555555556,
              "#d8576b"
             ],
             [
              0.6666666666666666,
              "#ed7953"
             ],
             [
              0.7777777777777778,
              "#fb9f3a"
             ],
             [
              0.8888888888888888,
              "#fdca26"
             ],
             [
              1,
              "#f0f921"
             ]
            ],
            "type": "surface"
           }
          ],
          "table": [
           {
            "cells": {
             "fill": {
              "color": "#EBF0F8"
             },
             "line": {
              "color": "white"
             }
            },
            "header": {
             "fill": {
              "color": "#C8D4E3"
             },
             "line": {
              "color": "white"
             }
            },
            "type": "table"
           }
          ]
         },
         "layout": {
          "annotationdefaults": {
           "arrowcolor": "#2a3f5f",
           "arrowhead": 0,
           "arrowwidth": 1
          },
          "autotypenumbers": "strict",
          "coloraxis": {
           "colorbar": {
            "outlinewidth": 0,
            "ticks": ""
           }
          },
          "colorscale": {
           "diverging": [
            [
             0,
             "#8e0152"
            ],
            [
             0.1,
             "#c51b7d"
            ],
            [
             0.2,
             "#de77ae"
            ],
            [
             0.3,
             "#f1b6da"
            ],
            [
             0.4,
             "#fde0ef"
            ],
            [
             0.5,
             "#f7f7f7"
            ],
            [
             0.6,
             "#e6f5d0"
            ],
            [
             0.7,
             "#b8e186"
            ],
            [
             0.8,
             "#7fbc41"
            ],
            [
             0.9,
             "#4d9221"
            ],
            [
             1,
             "#276419"
            ]
           ],
           "sequential": [
            [
             0,
             "#0d0887"
            ],
            [
             0.1111111111111111,
             "#46039f"
            ],
            [
             0.2222222222222222,
             "#7201a8"
            ],
            [
             0.3333333333333333,
             "#9c179e"
            ],
            [
             0.4444444444444444,
             "#bd3786"
            ],
            [
             0.5555555555555556,
             "#d8576b"
            ],
            [
             0.6666666666666666,
             "#ed7953"
            ],
            [
             0.7777777777777778,
             "#fb9f3a"
            ],
            [
             0.8888888888888888,
             "#fdca26"
            ],
            [
             1,
             "#f0f921"
            ]
           ],
           "sequentialminus": [
            [
             0,
             "#0d0887"
            ],
            [
             0.1111111111111111,
             "#46039f"
            ],
            [
             0.2222222222222222,
             "#7201a8"
            ],
            [
             0.3333333333333333,
             "#9c179e"
            ],
            [
             0.4444444444444444,
             "#bd3786"
            ],
            [
             0.5555555555555556,
             "#d8576b"
            ],
            [
             0.6666666666666666,
             "#ed7953"
            ],
            [
             0.7777777777777778,
             "#fb9f3a"
            ],
            [
             0.8888888888888888,
             "#fdca26"
            ],
            [
             1,
             "#f0f921"
            ]
           ]
          },
          "colorway": [
           "#636efa",
           "#EF553B",
           "#00cc96",
           "#ab63fa",
           "#FFA15A",
           "#19d3f3",
           "#FF6692",
           "#B6E880",
           "#FF97FF",
           "#FECB52"
          ],
          "font": {
           "color": "#2a3f5f"
          },
          "geo": {
           "bgcolor": "white",
           "lakecolor": "white",
           "landcolor": "#E5ECF6",
           "showlakes": true,
           "showland": true,
           "subunitcolor": "white"
          },
          "hoverlabel": {
           "align": "left"
          },
          "hovermode": "closest",
          "mapbox": {
           "style": "light"
          },
          "paper_bgcolor": "white",
          "plot_bgcolor": "#E5ECF6",
          "polar": {
           "angularaxis": {
            "gridcolor": "white",
            "linecolor": "white",
            "ticks": ""
           },
           "bgcolor": "#E5ECF6",
           "radialaxis": {
            "gridcolor": "white",
            "linecolor": "white",
            "ticks": ""
           }
          },
          "scene": {
           "xaxis": {
            "backgroundcolor": "#E5ECF6",
            "gridcolor": "white",
            "gridwidth": 2,
            "linecolor": "white",
            "showbackground": true,
            "ticks": "",
            "zerolinecolor": "white"
           },
           "yaxis": {
            "backgroundcolor": "#E5ECF6",
            "gridcolor": "white",
            "gridwidth": 2,
            "linecolor": "white",
            "showbackground": true,
            "ticks": "",
            "zerolinecolor": "white"
           },
           "zaxis": {
            "backgroundcolor": "#E5ECF6",
            "gridcolor": "white",
            "gridwidth": 2,
            "linecolor": "white",
            "showbackground": true,
            "ticks": "",
            "zerolinecolor": "white"
           }
          },
          "shapedefaults": {
           "line": {
            "color": "#2a3f5f"
           }
          },
          "ternary": {
           "aaxis": {
            "gridcolor": "white",
            "linecolor": "white",
            "ticks": ""
           },
           "baxis": {
            "gridcolor": "white",
            "linecolor": "white",
            "ticks": ""
           },
           "bgcolor": "#E5ECF6",
           "caxis": {
            "gridcolor": "white",
            "linecolor": "white",
            "ticks": ""
           }
          },
          "title": {
           "x": 0.05
          },
          "xaxis": {
           "automargin": true,
           "gridcolor": "white",
           "linecolor": "white",
           "ticks": "",
           "title": {
            "standoff": 15
           },
           "zerolinecolor": "white",
           "zerolinewidth": 2
          },
          "yaxis": {
           "automargin": true,
           "gridcolor": "white",
           "linecolor": "white",
           "ticks": "",
           "title": {
            "standoff": 15
           },
           "zerolinecolor": "white",
           "zerolinewidth": 2
          }
         }
        },
        "title": {
         "text": "KMeans Clustering of Songs"
        },
        "xaxis": {
         "anchor": "y",
         "domain": [
          0,
          1
         ],
         "title": {
          "text": "Artist"
         }
        },
        "yaxis": {
         "anchor": "x",
         "domain": [
          0,
          1
         ],
         "title": {
          "text": "Popularity"
         }
        }
       }
      }
     },
     "metadata": {},
     "output_type": "display_data"
    },
    {
     "name": "stdout",
     "output_type": "stream",
     "text": [
      "\n",
      "Cluster Centers:\n",
      "   Artist_encoded  Acousticness   Liveness  Popularity  Cluster\n",
      "0      376.284722     26.958333  67.784722   54.298611        0\n",
      "1      152.613707     13.205607  15.686916   58.705607        1\n",
      "2      545.051429     13.764286  15.281429   63.312857        2\n",
      "3      316.228346     69.976378  14.529528   56.828740        3\n"
     ]
    }
   ],
   "source": [
    "# Adding cluster labels to the original DataFrame\n",
    "df['Cluster'] = kmeans.labels_\n",
    "# Visualizing the clusters\n",
    "\n",
    "fig = px.scatter(df, x='Artist', y='Popularity', color='Cluster',\n",
    "                 title='KMeans Clustering of Songs',\n",
    "                 labels={'Acousticness': 'Acousticness', 'Liveness':'Liveness'},\n",
    "                 hover_data=['Title', 'Artist', 'Popularity'])\n",
    "fig.update_traces(marker=dict(size=10, opacity=0.7),\n",
    "                  selector=dict(mode='markers'))\n",
    "fig.show()\n",
    "# Displaying cluster centers\n",
    "centers = scaler.inverse_transform(kmeans.cluster_centers_)\n",
    "\n",
    "centers_df = pd.DataFrame(centers, columns=features)\n",
    "centers_df['Cluster'] = range(optimal_k)\n",
    "print(\"\\nCluster Centers:\")\n",
    "print(centers_df)\n",
    "\n"
   ]
  },
  {
   "cell_type": "code",
   "execution_count": 33,
   "metadata": {},
   "outputs": [
    {
     "data": {
      "image/png": "[encoded data removed]",
      "text/plain": [
       "<Figure size 1000x600 with 1 Axes>"
      ]
     },
     "metadata": {},
     "output_type": "display_data"
    }
   ],
   "source": [
    "\n",
    "# Displaying the cluster centers in a bar plot\n",
    "centers_df.set_index('Cluster').plot(kind='bar', figsize=(10, 6))\n",
    "plt.title('Cluster Centers for KMeans Clustering')\n",
    "plt.xlabel('Cluster')\n",
    "plt.ylabel('Feature Value')\n",
    "plt.xticks(rotation=0)\n",
    "plt.grid(True)\n",
    "\n",
    "plt.tight_layout()\n",
    "plt.show()"
   ]
  },
  {
   "cell_type": "markdown",
   "metadata": {},
   "source": [
    "## "
   ]
  },
  {
   "cell_type": "markdown",
   "metadata": {},
   "source": [
    "Feature Explanations\n",
    "- Artist_encoded: This is a numerical representation of artist names (encoded using LabelEncoder). Since it's a categorical variable, its numeric average within clusters doesn’t hold deep meaning.\n",
    "- Acousticness: Higher values indicate songs that are more acoustic in nature.\n",
    "- Liveness: Measures the likelihood of the song being performed live; higher values suggest a stronger presence of live performance characteristics.\n",
    "- Popularity: Represents how popular songs in this cluster are, typically on a scale of 0-100.\n",
    "\n",
    "\n",
    "Cluster 0: Songs that are moderately acoustic, highly live, and somewhat popular. Possibly concert recordings or energetic acoustic performances.\n",
    "Cluster 1: Low acousticness and liveness, moderate popularity. Likely studio-produced songs with a polished sound.\n",
    "Cluster 2: Similar to Cluster 1 but with higher popularity, indicating commercially successful polished tracks.\n",
    "Cluster 3: Highly acoustic but low live presence, suggesting soft or unplugged tracks with moderate popularity."
   ]
  }
 ],
 "metadata": {
  "kernelspec": {
   "display_name": "base",
   "language": "python",
   "name": "python3"
  },
  "language_info": {
   "codemirror_mode": {
    "name": "ipython",
    "version": 3
   },
   "file_extension": ".py",
   "mimetype": "text/x-python",
   "name": "python",
   "nbconvert_exporter": "python",
   "pygments_lexer": "ipython3",
   "version": "3.12.4"
  }
 },
 "nbformat": 4,
 "nbformat_minor": 2
}
